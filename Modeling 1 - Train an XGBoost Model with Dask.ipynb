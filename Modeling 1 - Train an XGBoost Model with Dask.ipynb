{
 "cells": [
  {
   "cell_type": "markdown",
   "id": "0652f264-b2c3-43b2-9310-7c00e50e7cdc",
   "metadata": {},
   "source": [
    "# HPO of XGBoost with Optuna and Dask"
   ]
  },
  {
   "cell_type": "code",
   "execution_count": null,
   "id": "3b929987-5089-4c13-be35-c1812d65fbec",
   "metadata": {},
   "outputs": [],
   "source": [
    "from datetime import datetime\n",
    "import uuid\n",
    "\n",
    "from distributed import Client\n",
    "import dask.dataframe as dd\n",
    "import coiled\n",
    "\n",
    "import dask\n",
    "import numpy as np\n",
    "import pandas as pd\n",
    "from dask_ml.metrics import mean_squared_error\n",
    "import xgboost as xgb\n",
    "from xgboost.dask import DaskDMatrix\n",
    "\n",
    "import dask.dataframe as dd"
   ]
  },
  {
   "cell_type": "code",
   "execution_count": null,
   "id": "7179b003-e075-4be5-bde1-4ce90b7d726d",
   "metadata": {},
   "outputs": [],
   "source": [
    "# Coiled account\n",
    "ACCOUNT = \"dask-engineering\"\n",
    "# Location of the feature table\n",
    "FILEPATH = \"s3://coiled-datasets/prefect-dask/nyc-uber-lyft/feature_table.parquet\""
   ]
  },
  {
   "cell_type": "code",
   "execution_count": null,
   "id": "e349a0e8-842c-4c27-a9dd-1a4686e6a339",
   "metadata": {
    "tags": []
   },
   "outputs": [],
   "source": [
    "cluster = coiled.Cluster(\n",
    "    worker_vm_types=[\"m6i.xlarge\"],  # EC2 instance types\n",
    "    scheduler_vm_types=[\"m6i.2xlarge\"],\n",
    "    package_sync=True,  # copy local packages\n",
    "    show_widget=False,\n",
    "    n_workers=20,  # 20 dask workers\n",
    "    account=ACCOUNT,  # Add your account\n",
    "    backend_options={\"region\": \"us-east-2\", \"spot\": True},  # Prefer spot instances\n",
    "    scheduler_options={\"idle_timeout\": \"5 minutes\"},  # Shutdown if idle to save cost\n",
    ")\n",
    "client = Client(cluster)\n",
    "client"
   ]
  },
  {
   "cell_type": "markdown",
   "id": "1dd461c3-e551-420a-a3e1-1ca2515bb613",
   "metadata": {},
   "source": [
    "### Train Model"
   ]
  },
  {
   "cell_type": "code",
   "execution_count": null,
   "id": "ccf70461-6ab3-429b-a0a1-29f6b162894e",
   "metadata": {},
   "outputs": [],
   "source": [
    "# Make KFolds for cross-validation\n",
    "\n",
    "\n",
    "def make_cv_splits(df, num_folds):\n",
    "    frac = [1 / num_folds] * num_folds\n",
    "    splits = df.random_split(frac, shuffle=True)\n",
    "    for i in range(num_folds):\n",
    "        train = [splits[j] for j in range(num_folds) if j != i]\n",
    "        test = splits[i]\n",
    "        yield train, test"
   ]
  },
  {
   "cell_type": "code",
   "execution_count": null,
   "id": "132568f4-ac1b-43ff-85fd-e5a5324a38a0",
   "metadata": {
    "scrolled": true,
    "tags": []
   },
   "outputs": [],
   "source": [
    "# Load and pre-process the DataFrame\n",
    "\n",
    "ddf = dd.read_parquet(FILEPATH)\n",
    "categorical_vars = ddf.select_dtypes(include=\"category\").columns.tolist()\n",
    "ddf = ddf.categorize(columns=categorical_vars)  # We need to categories to be `known`\n",
    "float_cols = ddf.select_dtypes(include=\"float\").columns.tolist()\n",
    "ddf[float_cols] = (\n",
    "    ddf[float_cols].astype(np.float32).persist()\n",
    ")  # XGBoost converts float64 to float32\n",
    "\n",
    "val_scores = []\n",
    "\n",
    "start = datetime.now()\n",
    "for train, test in make_cv_splits(ddf, 5):\n",
    "    train = dd.concat(train)\n",
    "    y_train = train[\"trip_time\"].to_frame().persist()\n",
    "    X_train = train.drop(columns=[\"trip_time\"]).persist()\n",
    "\n",
    "    # Make the test data\n",
    "    y_test = test[\"trip_time\"].to_frame().persist()\n",
    "    X_test = test.drop(columns=\"trip_time\").persist()\n",
    "\n",
    "    dtrain = DaskDMatrix(client, X_train, y_train, enable_categorical=True)\n",
    "\n",
    "    model = xgb.dask.train(\n",
    "        client,\n",
    "        {\"tree_method\": \"hist\"},\n",
    "        dtrain,\n",
    "        num_boost_round=4,\n",
    "        evals=[(dtrain, \"train\")],\n",
    "    )\n",
    "\n",
    "    predictions = xgb.dask.predict(client, model, X_test)\n",
    "\n",
    "    score = mean_squared_error(\n",
    "        y_test.to_dask_array(lengths=True).reshape(\n",
    "            -1,\n",
    "        ),\n",
    "        predictions.to_dask_array(lengths=True),\n",
    "        squared=False,\n",
    "    )\n",
    "    val_scores.append(score)\n",
    "print(f\"Total time:  {datetime.now() - start} seconds\")\n",
    "print(np.mean(val_scores))"
   ]
  },
  {
   "cell_type": "code",
   "execution_count": null,
   "id": "af1248ad-7147-473c-801a-ca0a2f2ed282",
   "metadata": {},
   "outputs": [],
   "source": [
    "client.shutdown()"
   ]
  },
  {
   "cell_type": "code",
   "execution_count": null,
   "id": "6debe738-0e8d-4919-9efe-7e11cb6e9264",
   "metadata": {},
   "outputs": [],
   "source": [
    "model"
   ]
  },
  {
   "cell_type": "code",
   "execution_count": null,
   "id": "66bf4890-b1a8-47c0-aeda-b24e55b5e7e8",
   "metadata": {},
   "outputs": [],
   "source": []
  }
 ],
 "metadata": {
  "kernelspec": {
   "display_name": "Python 3 (ipykernel)",
   "language": "python",
   "name": "python3"
  },
  "language_info": {
   "codemirror_mode": {
    "name": "ipython",
    "version": 3
   },
   "file_extension": ".py",
   "mimetype": "text/x-python",
   "name": "python",
   "nbconvert_exporter": "python",
   "pygments_lexer": "ipython3",
   "version": "3.10.8"
  }
 },
 "nbformat": 4,
 "nbformat_minor": 5
}

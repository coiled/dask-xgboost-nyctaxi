{
 "cells": [
  {
   "cell_type": "markdown",
   "id": "0652f264-b2c3-43b2-9310-7c00e50e7cdc",
   "metadata": {},
   "source": [
    "# HPO of XGBoost with Optuna and Dask"
   ]
  },
  {
   "cell_type": "code",
   "execution_count": 1,
   "id": "3b929987-5089-4c13-be35-c1812d65fbec",
   "metadata": {},
   "outputs": [],
   "source": [
    "from datetime import datetime\n",
    "import joblib\n",
    "import uuid\n",
    "\n",
    "from distributed import Client\n",
    "import dask.dataframe as dd\n",
    "import coiled\n",
    "\n",
    "import dask\n",
    "import numpy as np\n",
    "import pandas as pd\n",
    "import optuna\n",
    "from dask_ml.metrics import mean_squared_error\n",
    "import xgboost as xgb\n",
    "from xgboost.dask import DaskDMatrix\n",
    "\n",
    "import dask.dataframe as dd\n",
    "import matplotlib.pyplot as plt"
   ]
  },
  {
   "cell_type": "code",
   "execution_count": 2,
   "id": "7179b003-e075-4be5-bde1-4ce90b7d726d",
   "metadata": {},
   "outputs": [],
   "source": [
    "ACCOUNT=\"dask-engineering\"                                                        # <-- This is your account\n",
    "FILEPATH=\"s3://coiled-datasets/prefect-dask/nyc-uber-lyft/feature_table.parquet\"  # <-- Location of the feature table\n",
    "WORKER_INSTANCE_TYPE = \"m6i.xlarge\"                                               # <-- EC2 instance size\n",
    "CLUSTERS = {}    # Dict for collecting clusters for shutting down when done\n",
    "N_WORKERS=20"
   ]
  },
  {
   "cell_type": "code",
   "execution_count": 3,
   "id": "a5686386-60ea-4277-9116-daabd3ca5138",
   "metadata": {},
   "outputs": [],
   "source": [
    "cluster = coiled.Cluster(\n",
    "    worker_vm_types=[WORKER_INSTANCE_TYPE],\n",
    "    scheduler_vm_types=[\"m6i.2xlarge\"],\n",
    "    package_sync=True, # copy local packages\n",
    "    shutdown_on_close=True,\n",
    "    show_widget=False,\n",
    "    n_workers=N_WORKERS,\n",
    "    use_best_zone=True,\n",
    "    account=ACCOUNT,\n",
    "    backend_options={\"region\": \"us-east-2\", \"spot\": True},\n",
    "    scheduler_options={\"idle_timeout\": \"5 minutes\"},\n",
    "    )"
   ]
  },
  {
   "cell_type": "markdown",
   "id": "1dd461c3-e551-420a-a3e1-1ca2515bb613",
   "metadata": {},
   "source": [
    "### Train Model"
   ]
  },
  {
   "cell_type": "code",
   "execution_count": 4,
   "id": "ccf70461-6ab3-429b-a0a1-29f6b162894e",
   "metadata": {},
   "outputs": [],
   "source": [
    "# Here we subset data for cross-validation\n",
    "def make_cv_splits(df, num_folds):\n",
    "    frac = [1 / num_folds]*num_folds\n",
    "    splits = df.random_split(frac, shuffle=True)\n",
    "    for i in range(num_folds):\n",
    "        train = [splits[j] for j in range(num_folds) if j != i]\n",
    "        test = splits[i]\n",
    "        yield train, test"
   ]
  },
  {
   "cell_type": "code",
   "execution_count": 5,
   "id": "132568f4-ac1b-43ff-85fd-e5a5324a38a0",
   "metadata": {
    "scrolled": true,
    "tags": []
   },
   "outputs": [],
   "source": [
    "def train_model(cluster, trial_number, study_params, n_splits=5):\n",
    "\n",
    "    with Client(cluster) as client:\n",
    "        # Load and pre-process the DataFrame\n",
    "        ddf = dd.read_parquet(FILEPATH)\n",
    "        categorical_vars = ddf.select_dtypes(include=\"category\").columns.tolist()\n",
    "        ddf = ddf.categorize(columns=categorical_vars)                    # We need to categories to be `known`\n",
    "        float_cols = ddf.select_dtypes(include=\"float\").columns.tolist()\n",
    "        ddf[float_cols] = ddf[float_cols].astype(np.float32).persist()    # Under the hood, XGBoost converts floats to `float32`\n",
    "        \n",
    "        val_scores = []\n",
    "\n",
    "        for train, test in make_cv_splits(ddf, n_splits):\n",
    "            train = dd.concat(train)\n",
    "\n",
    "            y_train = train['trip_time'].to_frame().persist()\n",
    "            X_train = train.drop(columns=['trip_time']).persist()\n",
    "            \n",
    "            # Make the test data\n",
    "            y_test = test['trip_time'].to_frame().persist()\n",
    "            X_test = test.drop(columns='trip_time').persist()\n",
    "\n",
    "            dtrain = DaskDMatrix(client, X_train, y_train, enable_categorical=True)\n",
    "\n",
    "            model = xgb.dask.train(\n",
    "                client,\n",
    "                {'tree_method': 'hist', **study_params},\n",
    "                dtrain,\n",
    "                num_boost_round=4,\n",
    "                evals=[(dtrain, \"train\")],\n",
    "            )\n",
    "\n",
    "            predictions = xgb.dask.predict(client, model, X_test)\n",
    "\n",
    "            score = mean_squared_error(y_test.to_dask_array(lengths=True).reshape(-1,), \n",
    "                                       predictions.to_dask_array(lengths=True), squared=False\n",
    "                                      )\n",
    "            val_scores.append(score)\n",
    "        return np.mean(val_scores)"
   ]
  },
  {
   "cell_type": "code",
   "execution_count": 6,
   "id": "0250d23a-4d6c-4758-9200-f47a0a614bc1",
   "metadata": {},
   "outputs": [],
   "source": [
    "def objective(trial):\n",
    "    params = {\n",
    "        'n_estimators': trial.suggest_int('n_estimators', 75, 125),\n",
    "        'learning_rate': trial.suggest_float('learning_rate', 0.5, 0.7),\n",
    "        'colsample_bytree': trial.suggest_float('colsample_bytree', 0.5, 1),\n",
    "        'colsample_bynode': trial.suggest_float('colsample_bynode', 0.5, 1),\n",
    "        'colsample_bylevel': trial.suggest_float('colsample_bylevel', 0.5, 1),\n",
    "        'reg_lambda': trial.suggest_float('reg_lambda', 0, 1),\n",
    "        'max_depth': trial.suggest_int('max_depth', 1, 6),\n",
    "        'max_leaves': trial.suggest_int('max_leaves', 0, 2),\n",
    "        'max_cat_to_onehot': trial.suggest_int('max_cat_to_onehot', 1, 10),\n",
    "    }\n",
    "    rmse = train_model(\n",
    "        cluster = cluster,\n",
    "        trial_number=trial.number,\n",
    "        study_params=params, \n",
    "    )\n",
    "    return rmse"
   ]
  },
  {
   "cell_type": "code",
   "execution_count": 7,
   "id": "f8f3b355-7e76-423f-8b4c-8e35eb1eb022",
   "metadata": {
    "scrolled": true,
    "tags": []
   },
   "outputs": [
    {
     "name": "stderr",
     "output_type": "stream",
     "text": [
      "\u001b[32m[I 2023-01-15 20:04:51,617]\u001b[0m A new study created in memory with name: nyc-travel-time-model\u001b[0m\n",
      "\u001b[32m[I 2023-01-15 20:10:08,579]\u001b[0m Trial 0 finished with value: 437.55207938999774 and parameters: {'n_estimators': 96, 'learning_rate': 0.5639522213767011, 'colsample_bytree': 0.752328631700409, 'colsample_bynode': 0.9163757984451448, 'colsample_bylevel': 0.927004139602301, 'reg_lambda': 0.4694532093025502, 'max_depth': 2, 'max_leaves': 0, 'max_cat_to_onehot': 5}. Best is trial 0 with value: 437.55207938999774.\u001b[0m\n",
      "\u001b[32m[I 2023-01-15 20:15:17,567]\u001b[0m Trial 1 finished with value: 673.4884437141166 and parameters: {'n_estimators': 97, 'learning_rate': 0.5877532503176811, 'colsample_bytree': 0.8991330873775201, 'colsample_bynode': 0.5745533506310005, 'colsample_bylevel': 0.6186691720204036, 'reg_lambda': 0.9813511600924338, 'max_depth': 3, 'max_leaves': 1, 'max_cat_to_onehot': 10}. Best is trial 0 with value: 437.55207938999774.\u001b[0m\n",
      "\u001b[32m[I 2023-01-15 20:20:37,999]\u001b[0m Trial 2 finished with value: 673.1336985266744 and parameters: {'n_estimators': 104, 'learning_rate': 0.6202556986088976, 'colsample_bytree': 0.9090175418340476, 'colsample_bynode': 0.5151137178737619, 'colsample_bylevel': 0.669112287907528, 'reg_lambda': 0.6319802445225807, 'max_depth': 2, 'max_leaves': 1, 'max_cat_to_onehot': 8}. Best is trial 0 with value: 437.55207938999774.\u001b[0m\n",
      "\u001b[32m[I 2023-01-15 20:25:48,530]\u001b[0m Trial 3 finished with value: 672.998757675985 and parameters: {'n_estimators': 80, 'learning_rate': 0.6403882774679668, 'colsample_bytree': 0.7818244391219904, 'colsample_bynode': 0.804919965335649, 'colsample_bylevel': 0.9351441898092818, 'reg_lambda': 0.49192339839675403, 'max_depth': 2, 'max_leaves': 1, 'max_cat_to_onehot': 9}. Best is trial 0 with value: 437.55207938999774.\u001b[0m\n",
      "\u001b[32m[I 2023-01-15 20:32:05,457]\u001b[0m Trial 4 finished with value: 408.9321111954783 and parameters: {'n_estimators': 102, 'learning_rate': 0.5666914595972646, 'colsample_bytree': 0.5282026274475145, 'colsample_bynode': 0.6365873712722809, 'colsample_bylevel': 0.8377164965815664, 'reg_lambda': 0.06954852981351578, 'max_depth': 6, 'max_leaves': 0, 'max_cat_to_onehot': 5}. Best is trial 4 with value: 408.9321111954783.\u001b[0m\n"
     ]
    },
    {
     "name": "stdout",
     "output_type": "stream",
     "text": [
      "Total time:  0:27:13.840619\n"
     ]
    }
   ],
   "source": [
    "# Create a single study and run some trials\n",
    "start = datetime.now()\n",
    "study = optuna.create_study(study_name=\"nyc-travel-time-model\")    \n",
    "study.optimize(objective, n_trials=5)\n",
    "\n",
    "print(f\"Total time:  {datetime.now() - start}\")"
   ]
  },
  {
   "cell_type": "code",
   "execution_count": 8,
   "id": "2f913de4-9988-49d9-9b23-f5a90ecb9973",
   "metadata": {
    "scrolled": true,
    "tags": []
   },
   "outputs": [
    {
     "data": {
      "text/plain": [
       "5"
      ]
     },
     "execution_count": 8,
     "metadata": {},
     "output_type": "execute_result"
    }
   ],
   "source": [
    "len(study.trials)"
   ]
  },
  {
   "cell_type": "code",
   "execution_count": 9,
   "id": "0ebf98b6-9f2b-432e-8caa-9c7e1970d1c5",
   "metadata": {},
   "outputs": [],
   "source": [
    "cluster.shutdown()"
   ]
  },
  {
   "cell_type": "code",
   "execution_count": 10,
   "id": "ede5a2bf-c88c-4266-9738-73cb6fcb9d8f",
   "metadata": {},
   "outputs": [
    {
     "data": {
      "text/plain": [
       "{'n_estimators': 102,\n",
       " 'learning_rate': 0.5666914595972646,\n",
       " 'colsample_bytree': 0.5282026274475145,\n",
       " 'colsample_bynode': 0.6365873712722809,\n",
       " 'colsample_bylevel': 0.8377164965815664,\n",
       " 'reg_lambda': 0.06954852981351578,\n",
       " 'max_depth': 6,\n",
       " 'max_leaves': 0,\n",
       " 'max_cat_to_onehot': 5}"
      ]
     },
     "execution_count": 10,
     "metadata": {},
     "output_type": "execute_result"
    }
   ],
   "source": [
    "study.best_params"
   ]
  },
  {
   "cell_type": "code",
   "execution_count": 11,
   "id": "22a6da34-582c-4e2d-9b58-89a5369d7536",
   "metadata": {},
   "outputs": [
    {
     "data": {
      "text/plain": [
       "408.9321111954783"
      ]
     },
     "execution_count": 11,
     "metadata": {},
     "output_type": "execute_result"
    }
   ],
   "source": [
    "study.best_value"
   ]
  },
  {
   "cell_type": "code",
   "execution_count": 12,
   "id": "e4928342-4749-4e29-bb65-ccabd8190a78",
   "metadata": {},
   "outputs": [
    {
     "data": {
      "text/plain": [
       "FrozenTrial(number=4, state=TrialState.COMPLETE, values=[408.9321111954783], datetime_start=datetime.datetime(2023, 1, 15, 20, 25, 48, 531253), datetime_complete=datetime.datetime(2023, 1, 15, 20, 32, 5, 457139), params={'n_estimators': 102, 'learning_rate': 0.5666914595972646, 'colsample_bytree': 0.5282026274475145, 'colsample_bynode': 0.6365873712722809, 'colsample_bylevel': 0.8377164965815664, 'reg_lambda': 0.06954852981351578, 'max_depth': 6, 'max_leaves': 0, 'max_cat_to_onehot': 5}, user_attrs={}, system_attrs={}, intermediate_values={}, distributions={'n_estimators': IntDistribution(high=125, log=False, low=75, step=1), 'learning_rate': FloatDistribution(high=0.7, log=False, low=0.5, step=None), 'colsample_bytree': FloatDistribution(high=1.0, log=False, low=0.5, step=None), 'colsample_bynode': FloatDistribution(high=1.0, log=False, low=0.5, step=None), 'colsample_bylevel': FloatDistribution(high=1.0, log=False, low=0.5, step=None), 'reg_lambda': FloatDistribution(high=1.0, log=False, low=0.0, step=None), 'max_depth': IntDistribution(high=6, log=False, low=1, step=1), 'max_leaves': IntDistribution(high=2, log=False, low=0, step=1), 'max_cat_to_onehot': IntDistribution(high=10, log=False, low=1, step=1)}, trial_id=4, value=None)"
      ]
     },
     "execution_count": 12,
     "metadata": {},
     "output_type": "execute_result"
    }
   ],
   "source": [
    "study.best_trial"
   ]
  },
  {
   "cell_type": "code",
   "execution_count": 13,
   "id": "3c4c41f7-afa1-44a7-ab36-d1ed15a4bd48",
   "metadata": {
    "scrolled": true,
    "tags": []
   },
   "outputs": [
    {
     "data": {
      "text/plain": [
       "['data/study_single_cluster.pkl']"
      ]
     },
     "execution_count": 13,
     "metadata": {},
     "output_type": "execute_result"
    }
   ],
   "source": [
    "# Uncomment this if you want to save the results of your study to examine later.\n",
    "joblib.dump(study, \"data/study_single_cluster.pkl\")"
   ]
  },
  {
   "cell_type": "code",
   "execution_count": 14,
   "id": "c71bc6ef-a34a-45b8-bb04-ce583ac29623",
   "metadata": {},
   "outputs": [
    {
     "name": "stderr",
     "output_type": "stream",
     "text": [
      "/var/folders/b5/f_y899x168j7cs2m7szjld5c0000gn/T/ipykernel_3710/2760270799.py:1: ExperimentalWarning: plot_optimization_history is experimental (supported from v2.2.0). The interface can change in the future.\n",
      "  fig = optuna.visualization.matplotlib.plot_optimization_history(study)\n"
     ]
    },
    {
     "data": {
      "image/png": "[encoded data removed]",
      "text/plain": [
       "<Figure size 640x480 with 1 Axes>"
      ]
     },
     "metadata": {},
     "output_type": "display_data"
    }
   ],
   "source": [
    "fig = optuna.visualization.matplotlib.plot_optimization_history(study)\n",
    "fig.legend(loc=\"upper right\")\n",
    "plt.savefig(\"data/optimization_history_study_1.png\")"
   ]
  },
  {
   "cell_type": "code",
   "execution_count": null,
   "id": "a821c6a0-25c6-45aa-989c-e791a82a02cc",
   "metadata": {},
   "outputs": [],
   "source": []
  }
 ],
 "metadata": {
  "kernelspec": {
   "display_name": "Python 3 (ipykernel)",
   "language": "python",
   "name": "python3"
  },
  "language_info": {
   "codemirror_mode": {
    "name": "ipython",
    "version": 3
   },
   "file_extension": ".py",
   "mimetype": "text/x-python",
   "name": "python",
   "nbconvert_exporter": "python",
   "pygments_lexer": "ipython3",
   "version": "3.10.8"
  }
 },
 "nbformat": 4,
 "nbformat_minor": 5
}

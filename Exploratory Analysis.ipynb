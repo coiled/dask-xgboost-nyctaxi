{
 "cells": [
  {
   "cell_type": "code",
   "execution_count": 79,
   "id": "3ff78b3e-2c5d-4363-a281-ee6e1ff5f24e",
   "metadata": {},
   "outputs": [],
   "source": [
    "import os\n",
    "import pandas as pd\n",
    "import dask.dataframe as dd\n",
    "from s3fs import S3FileSystem\n",
    "import numpy as np\n",
    "import coiled\n",
    "from distributed import Client\n",
    "import matplotlib.pyplot as plt"
   ]
  },
  {
   "cell_type": "code",
   "execution_count": null,
   "id": "08a34a48-a29c-4c48-a34b-ca6b0445dd1e",
   "metadata": {
    "scrolled": true,
    "tags": []
   },
   "outputs": [],
   "source": [
    "cluster = coiled.Cluster(\n",
    "    # worker_vm_types=[\"m6i.4xlarge\"],\n",
    "    worker_vm_types=[\"m6i.xlarge\"],\n",
    "    scheduler_vm_types=[\"m6i.2xlarge\"],\n",
    "    name=\"dask-engineering-20d6aa4e-3\",\n",
    "    package_sync=True, # copy local packages,\n",
    "    shutdown_on_close=False,  # reuse cluster across runs\n",
    "    show_widget=False,\n",
    "    n_workers=20,\n",
    "    use_best_zone=True,\n",
    "    account=\"dask-engineering\",\n",
    "    backend_options={\"region\": \"us-east-2\", \"spot\": True, \"spot_on_demand_fallback\": True}\n",
    "    )"
   ]
  },
  {
   "cell_type": "code",
   "execution_count": null,
   "id": "a0d04b0e-d44d-4845-8a6c-d80b7269d36e",
   "metadata": {},
   "outputs": [],
   "source": [
    "client = Client(cluster)\n",
    "client"
   ]
  },
  {
   "cell_type": "code",
   "execution_count": null,
   "id": "75579349-b419-42a7-8a9a-47fd2b9a30b8",
   "metadata": {},
   "outputs": [],
   "source": [
    "def subset_data():\n",
    "    print(\"loading data\")\n",
    "    to_exclude=[\"string\", \"category\", \"object\"]\n",
    "    ddf= dd.read_parquet(\"s3://prefect-dask-examples/nyc-uber-lyft/processed_files.parquet\")\n",
    "    # ddf = ddf.drop(columns=[\"base_passenger_fare\", \"sales_tax\", \"bcf\", \"congestion_surcharge\", \"tips\", \"driver_pay\", \"dropoff_datetime\"])\n",
    "    ddf = ddf.assign(accessible_vehicle = 1)\n",
    "    print(\"Make accessible feature\")\n",
    "    ddf.accessible_vehicle = ddf.accessible_vehicle.where(ddf.on_scene_datetime.isnull(),0)  # Only applies if the vehicle is wheelchair accessible\n",
    "    ddf = ddf.assign(pickup_month = ddf.pickup_datetime.dt.month)\n",
    "    ddf = ddf.assign(pickup_dow = ddf.pickup_datetime.dt.dayofweek)\n",
    "    ddf = ddf.assign(pickup_hour = ddf.pickup_datetime.dt.hour)\n",
    "    \n",
    "    ddf = ddf.drop(columns=['on_scene_datetime', 'request_datetime',\n",
    "                            'pickup_datetime', 'dispatching_base_num',\n",
    "                            'originating_base_num', 'shared_request_flag',\n",
    "                           'shared_match_flag' 'dropoff_datetime',\n",
    "                           ]\n",
    "                  )\n",
    "\n",
    "    ddf = ddf.dropna(how=\"any\")\n",
    "    ddf = ddf.repartition(partition_size=\"128MB\")\n",
    "    ddf = ddf.reset_index(drop=True)\n",
    "\n",
    "    categories = [\"pickup_month\", \"pickup_dow\", \"pickup_hour\",\n",
    "                 \"dropoff_month\", \"dropoff_dow\", \"dropoff_hour\",\n",
    "                 \"hvfhs_license_num\",]\n",
    "    for cat in categories:\n",
    "        ddf[cat] = ddf[cat].astype('category')\n",
    "    ddf = ddf.categorize(columns=categories)\n",
    "\n",
    "    df = ddf.sample(frac=0.0025).compute()\n",
    "    df.to_parquet(\"data/rides.parquet\")"
   ]
  },
  {
   "cell_type": "code",
   "execution_count": null,
   "id": "ed469646-3cf5-4ea4-88e1-b97b069c387a",
   "metadata": {
    "tags": []
   },
   "outputs": [],
   "source": [
    "subset_data()"
   ]
  },
  {
   "cell_type": "code",
   "execution_count": null,
   "id": "ebabc941-022e-46db-ba21-1f67a5f23f8e",
   "metadata": {},
   "outputs": [],
   "source": [
    "client.close()\n",
    "cluster.shutdown()"
   ]
  },
  {
   "cell_type": "markdown",
   "id": "683bf991-af34-41a4-93d7-d5b5e711a51c",
   "metadata": {},
   "source": [
    "### Let's grab some information about taxi shapefiles and boroughs"
   ]
  },
  {
   "cell_type": "code",
   "execution_count": 80,
   "id": "8c2687e2-5d55-4647-9234-979939f29ee2",
   "metadata": {},
   "outputs": [
    {
     "data": {
      "text/html": [
       "<div>\n",
       "<style scoped>\n",
       "    .dataframe tbody tr th:only-of-type {\n",
       "        vertical-align: middle;\n",
       "    }\n",
       "\n",
       "    .dataframe tbody tr th {\n",
       "        vertical-align: top;\n",
       "    }\n",
       "\n",
       "    .dataframe thead th {\n",
       "        text-align: right;\n",
       "    }\n",
       "</style>\n",
       "<table border=\"1\" class=\"dataframe\">\n",
       "  <thead>\n",
       "    <tr style=\"text-align: right;\">\n",
       "      <th></th>\n",
       "      <th>LocationID</th>\n",
       "      <th>Borough</th>\n",
       "    </tr>\n",
       "  </thead>\n",
       "  <tbody>\n",
       "    <tr>\n",
       "      <th>0</th>\n",
       "      <td>1</td>\n",
       "      <td>EWR</td>\n",
       "    </tr>\n",
       "    <tr>\n",
       "      <th>1</th>\n",
       "      <td>2</td>\n",
       "      <td>Queens</td>\n",
       "    </tr>\n",
       "    <tr>\n",
       "      <th>2</th>\n",
       "      <td>3</td>\n",
       "      <td>Bronx</td>\n",
       "    </tr>\n",
       "    <tr>\n",
       "      <th>3</th>\n",
       "      <td>4</td>\n",
       "      <td>Manhattan</td>\n",
       "    </tr>\n",
       "    <tr>\n",
       "      <th>4</th>\n",
       "      <td>5</td>\n",
       "      <td>Staten Island</td>\n",
       "    </tr>\n",
       "  </tbody>\n",
       "</table>\n",
       "</div>"
      ],
      "text/plain": [
       "   LocationID        Borough\n",
       "0           1            EWR\n",
       "1           2         Queens\n",
       "2           3          Bronx\n",
       "3           4      Manhattan\n",
       "4           5  Staten Island"
      ]
     },
     "execution_count": 80,
     "metadata": {},
     "output_type": "execute_result"
    }
   ],
   "source": [
    "taxi_df = pd.read_csv(\"data/taxi+_zone_lookup.csv\", usecols=[\"LocationID\", \"Borough\"])\n",
    "taxi_df.head()"
   ]
  },
  {
   "cell_type": "code",
   "execution_count": 81,
   "id": "2c6d27ea-095c-4375-8be8-748fd2a40ab2",
   "metadata": {},
   "outputs": [
    {
     "data": {
      "text/plain": [
       "['EWR', 'Queens', 'Bronx', 'Manhattan', 'Staten Island', 'Brooklyn', 'Unknown']"
      ]
     },
     "execution_count": 81,
     "metadata": {},
     "output_type": "execute_result"
    }
   ],
   "source": [
    "# These are the unique Boroughs in the taxi zone lookup table\n",
    "taxi_df.Borough.unique().tolist()"
   ]
  },
  {
   "cell_type": "markdown",
   "id": "e9ebbde5-67a2-4702-be88-cde48c35ad47",
   "metadata": {},
   "source": [
    "The taxi_df includes two `LocationID` values that correspond to `Unknown` Boroughs.  \n",
    "We need to know if these exist in the dataset"
   ]
  },
  {
   "cell_type": "code",
   "execution_count": 82,
   "id": "0b3c34a9-773c-4132-9dfe-cd5e57761f29",
   "metadata": {},
   "outputs": [
    {
     "data": {
      "text/html": [
       "<div>\n",
       "<style scoped>\n",
       "    .dataframe tbody tr th:only-of-type {\n",
       "        vertical-align: middle;\n",
       "    }\n",
       "\n",
       "    .dataframe tbody tr th {\n",
       "        vertical-align: top;\n",
       "    }\n",
       "\n",
       "    .dataframe thead th {\n",
       "        text-align: right;\n",
       "    }\n",
       "</style>\n",
       "<table border=\"1\" class=\"dataframe\">\n",
       "  <thead>\n",
       "    <tr style=\"text-align: right;\">\n",
       "      <th></th>\n",
       "      <th>LocationID</th>\n",
       "      <th>Borough</th>\n",
       "    </tr>\n",
       "  </thead>\n",
       "  <tbody>\n",
       "    <tr>\n",
       "      <th>263</th>\n",
       "      <td>264</td>\n",
       "      <td>Unknown</td>\n",
       "    </tr>\n",
       "    <tr>\n",
       "      <th>264</th>\n",
       "      <td>265</td>\n",
       "      <td>Unknown</td>\n",
       "    </tr>\n",
       "  </tbody>\n",
       "</table>\n",
       "</div>"
      ],
      "text/plain": [
       "     LocationID  Borough\n",
       "263         264  Unknown\n",
       "264         265  Unknown"
      ]
     },
     "execution_count": 82,
     "metadata": {},
     "output_type": "execute_result"
    }
   ],
   "source": [
    "taxi_df.loc[taxi_df['Borough'] == \"Unknown\"]"
   ]
  },
  {
   "cell_type": "markdown",
   "id": "95795d0c-70e8-4666-8465-a8bc2babf753",
   "metadata": {},
   "source": [
    "## Let's take a look at the distribution of travel times and the presence of `Unknown` boroughs"
   ]
  },
  {
   "cell_type": "code",
   "execution_count": 89,
   "id": "66fc316e-e87c-4ab7-895a-44e31a8c8c27",
   "metadata": {},
   "outputs": [
    {
     "data": {
      "text/html": [
       "<div>\n",
       "<style scoped>\n",
       "    .dataframe tbody tr th:only-of-type {\n",
       "        vertical-align: middle;\n",
       "    }\n",
       "\n",
       "    .dataframe tbody tr th {\n",
       "        vertical-align: top;\n",
       "    }\n",
       "\n",
       "    .dataframe thead th {\n",
       "        text-align: right;\n",
       "    }\n",
       "</style>\n",
       "<table border=\"1\" class=\"dataframe\">\n",
       "  <thead>\n",
       "    <tr style=\"text-align: right;\">\n",
       "      <th></th>\n",
       "      <th>hvfhs_license_num</th>\n",
       "      <th>dropoff_datetime</th>\n",
       "      <th>PULocationID</th>\n",
       "      <th>DOLocationID</th>\n",
       "      <th>trip_miles</th>\n",
       "      <th>trip_time</th>\n",
       "      <th>base_passenger_fare</th>\n",
       "      <th>tolls</th>\n",
       "      <th>bcf</th>\n",
       "      <th>sales_tax</th>\n",
       "      <th>...</th>\n",
       "      <th>access_a_ride_flag</th>\n",
       "      <th>wav_request_flag</th>\n",
       "      <th>wav_match_flag</th>\n",
       "      <th>accessible_vehicle</th>\n",
       "      <th>pickup_month</th>\n",
       "      <th>pickup_dow</th>\n",
       "      <th>pickup_hour</th>\n",
       "      <th>dropoff_month</th>\n",
       "      <th>dropoff_dow</th>\n",
       "      <th>dropoff_hour</th>\n",
       "    </tr>\n",
       "  </thead>\n",
       "  <tbody>\n",
       "    <tr>\n",
       "      <th>0</th>\n",
       "      <td>HV0003</td>\n",
       "      <td>2019-04-02 22:36:00</td>\n",
       "      <td>235</td>\n",
       "      <td>136</td>\n",
       "      <td>1.55</td>\n",
       "      <td>467</td>\n",
       "      <td>6.48</td>\n",
       "      <td>0.0</td>\n",
       "      <td>0.16</td>\n",
       "      <td>0.58</td>\n",
       "      <td>...</td>\n",
       "      <td></td>\n",
       "      <td>N</td>\n",
       "      <td></td>\n",
       "      <td>0</td>\n",
       "      <td>4</td>\n",
       "      <td>1</td>\n",
       "      <td>22</td>\n",
       "      <td>4</td>\n",
       "      <td>1</td>\n",
       "      <td>22</td>\n",
       "    </tr>\n",
       "    <tr>\n",
       "      <th>1</th>\n",
       "      <td>HV0003</td>\n",
       "      <td>2019-04-07 21:17:15</td>\n",
       "      <td>164</td>\n",
       "      <td>233</td>\n",
       "      <td>1.13</td>\n",
       "      <td>573</td>\n",
       "      <td>8.54</td>\n",
       "      <td>0.0</td>\n",
       "      <td>0.21</td>\n",
       "      <td>0.76</td>\n",
       "      <td>...</td>\n",
       "      <td></td>\n",
       "      <td>N</td>\n",
       "      <td></td>\n",
       "      <td>0</td>\n",
       "      <td>4</td>\n",
       "      <td>6</td>\n",
       "      <td>21</td>\n",
       "      <td>4</td>\n",
       "      <td>6</td>\n",
       "      <td>21</td>\n",
       "    </tr>\n",
       "    <tr>\n",
       "      <th>2</th>\n",
       "      <td>HV0003</td>\n",
       "      <td>2019-04-08 00:15:56</td>\n",
       "      <td>40</td>\n",
       "      <td>257</td>\n",
       "      <td>3.60</td>\n",
       "      <td>546</td>\n",
       "      <td>4.75</td>\n",
       "      <td>0.0</td>\n",
       "      <td>0.12</td>\n",
       "      <td>0.42</td>\n",
       "      <td>...</td>\n",
       "      <td></td>\n",
       "      <td>N</td>\n",
       "      <td></td>\n",
       "      <td>0</td>\n",
       "      <td>4</td>\n",
       "      <td>0</td>\n",
       "      <td>0</td>\n",
       "      <td>4</td>\n",
       "      <td>0</td>\n",
       "      <td>0</td>\n",
       "    </tr>\n",
       "    <tr>\n",
       "      <th>3</th>\n",
       "      <td>HV0003</td>\n",
       "      <td>2019-04-02 21:24:42</td>\n",
       "      <td>168</td>\n",
       "      <td>69</td>\n",
       "      <td>2.12</td>\n",
       "      <td>699</td>\n",
       "      <td>9.01</td>\n",
       "      <td>0.0</td>\n",
       "      <td>0.23</td>\n",
       "      <td>0.80</td>\n",
       "      <td>...</td>\n",
       "      <td></td>\n",
       "      <td>N</td>\n",
       "      <td></td>\n",
       "      <td>0</td>\n",
       "      <td>4</td>\n",
       "      <td>1</td>\n",
       "      <td>21</td>\n",
       "      <td>4</td>\n",
       "      <td>1</td>\n",
       "      <td>21</td>\n",
       "    </tr>\n",
       "    <tr>\n",
       "      <th>4</th>\n",
       "      <td>HV0003</td>\n",
       "      <td>2019-04-03 06:41:02</td>\n",
       "      <td>141</td>\n",
       "      <td>161</td>\n",
       "      <td>1.74</td>\n",
       "      <td>514</td>\n",
       "      <td>6.00</td>\n",
       "      <td>0.0</td>\n",
       "      <td>0.16</td>\n",
       "      <td>0.58</td>\n",
       "      <td>...</td>\n",
       "      <td></td>\n",
       "      <td>N</td>\n",
       "      <td></td>\n",
       "      <td>0</td>\n",
       "      <td>4</td>\n",
       "      <td>2</td>\n",
       "      <td>6</td>\n",
       "      <td>4</td>\n",
       "      <td>2</td>\n",
       "      <td>6</td>\n",
       "    </tr>\n",
       "  </tbody>\n",
       "</table>\n",
       "<p>5 rows × 24 columns</p>\n",
       "</div>"
      ],
      "text/plain": [
       "  hvfhs_license_num    dropoff_datetime  PULocationID  DOLocationID  \\\n",
       "0            HV0003 2019-04-02 22:36:00           235           136   \n",
       "1            HV0003 2019-04-07 21:17:15           164           233   \n",
       "2            HV0003 2019-04-08 00:15:56            40           257   \n",
       "3            HV0003 2019-04-02 21:24:42           168            69   \n",
       "4            HV0003 2019-04-03 06:41:02           141           161   \n",
       "\n",
       "   trip_miles  trip_time  base_passenger_fare  tolls   bcf  sales_tax  ...  \\\n",
       "0        1.55        467                 6.48    0.0  0.16       0.58  ...   \n",
       "1        1.13        573                 8.54    0.0  0.21       0.76  ...   \n",
       "2        3.60        546                 4.75    0.0  0.12       0.42  ...   \n",
       "3        2.12        699                 9.01    0.0  0.23       0.80  ...   \n",
       "4        1.74        514                 6.00    0.0  0.16       0.58  ...   \n",
       "\n",
       "   access_a_ride_flag wav_request_flag  wav_match_flag  accessible_vehicle  \\\n",
       "0                                    N                                   0   \n",
       "1                                    N                                   0   \n",
       "2                                    N                                   0   \n",
       "3                                    N                                   0   \n",
       "4                                    N                                   0   \n",
       "\n",
       "  pickup_month pickup_dow pickup_hour  dropoff_month  dropoff_dow  \\\n",
       "0            4          1          22              4            1   \n",
       "1            4          6          21              4            6   \n",
       "2            4          0           0              4            0   \n",
       "3            4          1          21              4            1   \n",
       "4            4          2           6              4            2   \n",
       "\n",
       "   dropoff_hour  \n",
       "0            22  \n",
       "1            21  \n",
       "2             0  \n",
       "3            21  \n",
       "4             6  \n",
       "\n",
       "[5 rows x 24 columns]"
      ]
     },
     "execution_count": 89,
     "metadata": {},
     "output_type": "execute_result"
    }
   ],
   "source": [
    "df = pd.read_parquet(\"data/rides.parquet\").reset_index(drop=True)\n",
    "df.head()"
   ]
  },
  {
   "cell_type": "code",
   "execution_count": 90,
   "id": "7d6ce917-a029-4125-94ce-a2a53c1894d9",
   "metadata": {},
   "outputs": [
    {
     "data": {
      "text/plain": [
       "1622870"
      ]
     },
     "execution_count": 90,
     "metadata": {},
     "output_type": "execute_result"
    }
   ],
   "source": [
    "len(df.index)"
   ]
  },
  {
   "cell_type": "code",
   "execution_count": 91,
   "id": "4388155d-f1ad-46cc-8d73-da146f2092c7",
   "metadata": {},
   "outputs": [
    {
     "data": {
      "text/plain": [
       "599.0724143981934"
      ]
     },
     "execution_count": 91,
     "metadata": {},
     "output_type": "execute_result"
    }
   ],
   "source": [
    "df.memory_usage(deep=True).sum() / 2**20"
   ]
  },
  {
   "cell_type": "markdown",
   "id": "f5a03fc5-6762-41dc-ba4e-3c4ed7839f5c",
   "metadata": {},
   "source": [
    "We can see from below that over 9000 entries exist where travel occurs in or out of a borough that \n",
    "is an `Unknown` zone."
   ]
  },
  {
   "cell_type": "code",
   "execution_count": 92,
   "id": "577572e6-4c59-42af-bdfa-5a3faa71f372",
   "metadata": {},
   "outputs": [
    {
     "data": {
      "text/html": [
       "<div>\n",
       "<style scoped>\n",
       "    .dataframe tbody tr th:only-of-type {\n",
       "        vertical-align: middle;\n",
       "    }\n",
       "\n",
       "    .dataframe tbody tr th {\n",
       "        vertical-align: top;\n",
       "    }\n",
       "\n",
       "    .dataframe thead th {\n",
       "        text-align: right;\n",
       "    }\n",
       "</style>\n",
       "<table border=\"1\" class=\"dataframe\">\n",
       "  <thead>\n",
       "    <tr style=\"text-align: right;\">\n",
       "      <th></th>\n",
       "      <th>hvfhs_license_num</th>\n",
       "      <th>dropoff_datetime</th>\n",
       "      <th>PULocationID</th>\n",
       "      <th>DOLocationID</th>\n",
       "      <th>trip_miles</th>\n",
       "      <th>trip_time</th>\n",
       "      <th>base_passenger_fare</th>\n",
       "      <th>tolls</th>\n",
       "      <th>bcf</th>\n",
       "      <th>sales_tax</th>\n",
       "      <th>...</th>\n",
       "      <th>access_a_ride_flag</th>\n",
       "      <th>wav_request_flag</th>\n",
       "      <th>wav_match_flag</th>\n",
       "      <th>accessible_vehicle</th>\n",
       "      <th>pickup_month</th>\n",
       "      <th>pickup_dow</th>\n",
       "      <th>pickup_hour</th>\n",
       "      <th>dropoff_month</th>\n",
       "      <th>dropoff_dow</th>\n",
       "      <th>dropoff_hour</th>\n",
       "    </tr>\n",
       "  </thead>\n",
       "  <tbody>\n",
       "    <tr>\n",
       "      <th>147</th>\n",
       "      <td>HV0003</td>\n",
       "      <td>2019-04-03 07:55:07</td>\n",
       "      <td>263</td>\n",
       "      <td>236</td>\n",
       "      <td>0.590</td>\n",
       "      <td>495</td>\n",
       "      <td>4.53</td>\n",
       "      <td>0.0</td>\n",
       "      <td>0.12</td>\n",
       "      <td>0.44</td>\n",
       "      <td>...</td>\n",
       "      <td></td>\n",
       "      <td>N</td>\n",
       "      <td></td>\n",
       "      <td>0</td>\n",
       "      <td>4</td>\n",
       "      <td>2</td>\n",
       "      <td>7</td>\n",
       "      <td>4</td>\n",
       "      <td>2</td>\n",
       "      <td>7</td>\n",
       "    </tr>\n",
       "    <tr>\n",
       "      <th>511</th>\n",
       "      <td>HV0005</td>\n",
       "      <td>2021-04-10 18:16:44</td>\n",
       "      <td>263</td>\n",
       "      <td>140</td>\n",
       "      <td>0.665</td>\n",
       "      <td>301</td>\n",
       "      <td>9.16</td>\n",
       "      <td>0.0</td>\n",
       "      <td>0.27</td>\n",
       "      <td>0.81</td>\n",
       "      <td>...</td>\n",
       "      <td>N</td>\n",
       "      <td>N</td>\n",
       "      <td>N</td>\n",
       "      <td>1</td>\n",
       "      <td>4</td>\n",
       "      <td>5</td>\n",
       "      <td>18</td>\n",
       "      <td>4</td>\n",
       "      <td>5</td>\n",
       "      <td>18</td>\n",
       "    </tr>\n",
       "    <tr>\n",
       "      <th>650</th>\n",
       "      <td>HV0003</td>\n",
       "      <td>2021-04-10 16:48:36</td>\n",
       "      <td>263</td>\n",
       "      <td>265</td>\n",
       "      <td>8.510</td>\n",
       "      <td>2968</td>\n",
       "      <td>48.13</td>\n",
       "      <td>20.0</td>\n",
       "      <td>2.04</td>\n",
       "      <td>0.00</td>\n",
       "      <td>...</td>\n",
       "      <td></td>\n",
       "      <td>N</td>\n",
       "      <td>N</td>\n",
       "      <td>0</td>\n",
       "      <td>4</td>\n",
       "      <td>5</td>\n",
       "      <td>15</td>\n",
       "      <td>4</td>\n",
       "      <td>5</td>\n",
       "      <td>16</td>\n",
       "    </tr>\n",
       "    <tr>\n",
       "      <th>802</th>\n",
       "      <td>HV0003</td>\n",
       "      <td>2021-04-10 19:50:42</td>\n",
       "      <td>263</td>\n",
       "      <td>144</td>\n",
       "      <td>6.590</td>\n",
       "      <td>1221</td>\n",
       "      <td>28.11</td>\n",
       "      <td>0.0</td>\n",
       "      <td>0.84</td>\n",
       "      <td>2.49</td>\n",
       "      <td>...</td>\n",
       "      <td></td>\n",
       "      <td>N</td>\n",
       "      <td>N</td>\n",
       "      <td>0</td>\n",
       "      <td>4</td>\n",
       "      <td>5</td>\n",
       "      <td>19</td>\n",
       "      <td>4</td>\n",
       "      <td>5</td>\n",
       "      <td>19</td>\n",
       "    </tr>\n",
       "    <tr>\n",
       "      <th>877</th>\n",
       "      <td>HV0005</td>\n",
       "      <td>2021-04-10 18:21:10</td>\n",
       "      <td>263</td>\n",
       "      <td>230</td>\n",
       "      <td>3.853</td>\n",
       "      <td>1005</td>\n",
       "      <td>21.81</td>\n",
       "      <td>0.0</td>\n",
       "      <td>0.65</td>\n",
       "      <td>1.94</td>\n",
       "      <td>...</td>\n",
       "      <td>N</td>\n",
       "      <td>N</td>\n",
       "      <td>N</td>\n",
       "      <td>1</td>\n",
       "      <td>4</td>\n",
       "      <td>5</td>\n",
       "      <td>18</td>\n",
       "      <td>4</td>\n",
       "      <td>5</td>\n",
       "      <td>18</td>\n",
       "    </tr>\n",
       "    <tr>\n",
       "      <th>...</th>\n",
       "      <td>...</td>\n",
       "      <td>...</td>\n",
       "      <td>...</td>\n",
       "      <td>...</td>\n",
       "      <td>...</td>\n",
       "      <td>...</td>\n",
       "      <td>...</td>\n",
       "      <td>...</td>\n",
       "      <td>...</td>\n",
       "      <td>...</td>\n",
       "      <td>...</td>\n",
       "      <td>...</td>\n",
       "      <td>...</td>\n",
       "      <td>...</td>\n",
       "      <td>...</td>\n",
       "      <td>...</td>\n",
       "      <td>...</td>\n",
       "      <td>...</td>\n",
       "      <td>...</td>\n",
       "      <td>...</td>\n",
       "      <td>...</td>\n",
       "    </tr>\n",
       "    <tr>\n",
       "      <th>1621703</th>\n",
       "      <td>HV0005</td>\n",
       "      <td>2021-02-05 09:09:02</td>\n",
       "      <td>263</td>\n",
       "      <td>100</td>\n",
       "      <td>3.232</td>\n",
       "      <td>1608</td>\n",
       "      <td>18.53</td>\n",
       "      <td>0.0</td>\n",
       "      <td>0.56</td>\n",
       "      <td>1.65</td>\n",
       "      <td>...</td>\n",
       "      <td>N</td>\n",
       "      <td>N</td>\n",
       "      <td>N</td>\n",
       "      <td>1</td>\n",
       "      <td>2</td>\n",
       "      <td>4</td>\n",
       "      <td>8</td>\n",
       "      <td>2</td>\n",
       "      <td>4</td>\n",
       "      <td>9</td>\n",
       "    </tr>\n",
       "    <tr>\n",
       "      <th>1622246</th>\n",
       "      <td>HV0003</td>\n",
       "      <td>2019-04-01 14:09:47</td>\n",
       "      <td>263</td>\n",
       "      <td>140</td>\n",
       "      <td>2.450</td>\n",
       "      <td>976</td>\n",
       "      <td>16.01</td>\n",
       "      <td>0.0</td>\n",
       "      <td>0.40</td>\n",
       "      <td>1.42</td>\n",
       "      <td>...</td>\n",
       "      <td></td>\n",
       "      <td>N</td>\n",
       "      <td></td>\n",
       "      <td>0</td>\n",
       "      <td>4</td>\n",
       "      <td>0</td>\n",
       "      <td>13</td>\n",
       "      <td>4</td>\n",
       "      <td>0</td>\n",
       "      <td>14</td>\n",
       "    </tr>\n",
       "    <tr>\n",
       "      <th>1622279</th>\n",
       "      <td>HV0003</td>\n",
       "      <td>2019-04-03 17:13:58</td>\n",
       "      <td>263</td>\n",
       "      <td>265</td>\n",
       "      <td>12.890</td>\n",
       "      <td>3453</td>\n",
       "      <td>65.42</td>\n",
       "      <td>20.0</td>\n",
       "      <td>2.14</td>\n",
       "      <td>0.00</td>\n",
       "      <td>...</td>\n",
       "      <td></td>\n",
       "      <td>N</td>\n",
       "      <td></td>\n",
       "      <td>0</td>\n",
       "      <td>4</td>\n",
       "      <td>2</td>\n",
       "      <td>16</td>\n",
       "      <td>4</td>\n",
       "      <td>2</td>\n",
       "      <td>17</td>\n",
       "    </tr>\n",
       "    <tr>\n",
       "      <th>1622656</th>\n",
       "      <td>HV0003</td>\n",
       "      <td>2019-04-03 07:32:45</td>\n",
       "      <td>263</td>\n",
       "      <td>140</td>\n",
       "      <td>1.410</td>\n",
       "      <td>466</td>\n",
       "      <td>8.61</td>\n",
       "      <td>0.0</td>\n",
       "      <td>0.22</td>\n",
       "      <td>0.76</td>\n",
       "      <td>...</td>\n",
       "      <td></td>\n",
       "      <td>N</td>\n",
       "      <td></td>\n",
       "      <td>0</td>\n",
       "      <td>4</td>\n",
       "      <td>2</td>\n",
       "      <td>7</td>\n",
       "      <td>4</td>\n",
       "      <td>2</td>\n",
       "      <td>7</td>\n",
       "    </tr>\n",
       "    <tr>\n",
       "      <th>1622717</th>\n",
       "      <td>HV0003</td>\n",
       "      <td>2019-04-03 09:31:02</td>\n",
       "      <td>263</td>\n",
       "      <td>236</td>\n",
       "      <td>0.720</td>\n",
       "      <td>337</td>\n",
       "      <td>7.18</td>\n",
       "      <td>0.0</td>\n",
       "      <td>0.18</td>\n",
       "      <td>0.64</td>\n",
       "      <td>...</td>\n",
       "      <td></td>\n",
       "      <td>N</td>\n",
       "      <td></td>\n",
       "      <td>0</td>\n",
       "      <td>4</td>\n",
       "      <td>2</td>\n",
       "      <td>9</td>\n",
       "      <td>4</td>\n",
       "      <td>2</td>\n",
       "      <td>9</td>\n",
       "    </tr>\n",
       "  </tbody>\n",
       "</table>\n",
       "<p>9111 rows × 24 columns</p>\n",
       "</div>"
      ],
      "text/plain": [
       "        hvfhs_license_num    dropoff_datetime  PULocationID  DOLocationID  \\\n",
       "147                HV0003 2019-04-03 07:55:07           263           236   \n",
       "511                HV0005 2021-04-10 18:16:44           263           140   \n",
       "650                HV0003 2021-04-10 16:48:36           263           265   \n",
       "802                HV0003 2021-04-10 19:50:42           263           144   \n",
       "877                HV0005 2021-04-10 18:21:10           263           230   \n",
       "...                   ...                 ...           ...           ...   \n",
       "1621703            HV0005 2021-02-05 09:09:02           263           100   \n",
       "1622246            HV0003 2019-04-01 14:09:47           263           140   \n",
       "1622279            HV0003 2019-04-03 17:13:58           263           265   \n",
       "1622656            HV0003 2019-04-03 07:32:45           263           140   \n",
       "1622717            HV0003 2019-04-03 09:31:02           263           236   \n",
       "\n",
       "         trip_miles  trip_time  base_passenger_fare  tolls   bcf  sales_tax  \\\n",
       "147           0.590        495                 4.53    0.0  0.12       0.44   \n",
       "511           0.665        301                 9.16    0.0  0.27       0.81   \n",
       "650           8.510       2968                48.13   20.0  2.04       0.00   \n",
       "802           6.590       1221                28.11    0.0  0.84       2.49   \n",
       "877           3.853       1005                21.81    0.0  0.65       1.94   \n",
       "...             ...        ...                  ...    ...   ...        ...   \n",
       "1621703       3.232       1608                18.53    0.0  0.56       1.65   \n",
       "1622246       2.450        976                16.01    0.0  0.40       1.42   \n",
       "1622279      12.890       3453                65.42   20.0  2.14       0.00   \n",
       "1622656       1.410        466                 8.61    0.0  0.22       0.76   \n",
       "1622717       0.720        337                 7.18    0.0  0.18       0.64   \n",
       "\n",
       "         ...  access_a_ride_flag wav_request_flag  wav_match_flag  \\\n",
       "147      ...                                    N                   \n",
       "511      ...                   N                N               N   \n",
       "650      ...                                    N               N   \n",
       "802      ...                                    N               N   \n",
       "877      ...                   N                N               N   \n",
       "...      ...                 ...              ...             ...   \n",
       "1621703  ...                   N                N               N   \n",
       "1622246  ...                                    N                   \n",
       "1622279  ...                                    N                   \n",
       "1622656  ...                                    N                   \n",
       "1622717  ...                                    N                   \n",
       "\n",
       "         accessible_vehicle pickup_month pickup_dow pickup_hour  \\\n",
       "147                       0            4          2           7   \n",
       "511                       1            4          5          18   \n",
       "650                       0            4          5          15   \n",
       "802                       0            4          5          19   \n",
       "877                       1            4          5          18   \n",
       "...                     ...          ...        ...         ...   \n",
       "1621703                   1            2          4           8   \n",
       "1622246                   0            4          0          13   \n",
       "1622279                   0            4          2          16   \n",
       "1622656                   0            4          2           7   \n",
       "1622717                   0            4          2           9   \n",
       "\n",
       "         dropoff_month  dropoff_dow  dropoff_hour  \n",
       "147                  4            2             7  \n",
       "511                  4            5            18  \n",
       "650                  4            5            16  \n",
       "802                  4            5            19  \n",
       "877                  4            5            18  \n",
       "...                ...          ...           ...  \n",
       "1621703              2            4             9  \n",
       "1622246              4            0            14  \n",
       "1622279              4            2            17  \n",
       "1622656              4            2             7  \n",
       "1622717              4            2             9  \n",
       "\n",
       "[9111 rows x 24 columns]"
      ]
     },
     "execution_count": 92,
     "metadata": {},
     "output_type": "execute_result"
    }
   ],
   "source": [
    "df.loc[df.PULocationID.isin([263, 264])]"
   ]
  },
  {
   "cell_type": "markdown",
   "id": "f9495249-94fa-4f9e-925e-db5f999a9a4a",
   "metadata": {},
   "source": [
    "## We can see from the below that, as expected, our travel times are not normally distributed"
   ]
  },
  {
   "cell_type": "code",
   "execution_count": 93,
   "id": "78164ffb-c24e-489d-be0a-831e052c52a8",
   "metadata": {},
   "outputs": [
    {
     "data": {
      "text/plain": [
       "<AxesSubplot: >"
      ]
     },
     "execution_count": 93,
     "metadata": {},
     "output_type": "execute_result"
    },
    {
     "data": {
      "image/png": "[encoded data removed]",
      "text/plain": [
       "<Figure size 640x480 with 1 Axes>"
      ]
     },
     "metadata": {},
     "output_type": "display_data"
    }
   ],
   "source": [
    "df['trip_time'].hist(bins=100)"
   ]
  },
  {
   "cell_type": "code",
   "execution_count": 94,
   "id": "2e119e09-3270-4779-ab70-29e3373c51de",
   "metadata": {},
   "outputs": [
    {
     "data": {
      "text/plain": [
       "0"
      ]
     },
     "execution_count": 94,
     "metadata": {},
     "output_type": "execute_result"
    }
   ],
   "source": [
    "df['trip_time'].min()"
   ]
  },
  {
   "cell_type": "code",
   "execution_count": 95,
   "id": "38b4848f-5924-4a17-909f-d6dde48591b1",
   "metadata": {},
   "outputs": [
    {
     "data": {
      "text/plain": [
       "80807"
      ]
     },
     "execution_count": 95,
     "metadata": {},
     "output_type": "execute_result"
    }
   ],
   "source": [
    "df['trip_time'].max()"
   ]
  },
  {
   "cell_type": "markdown",
   "id": "b66bd770-6c32-42b4-a518-e725c4956239",
   "metadata": {},
   "source": [
    "We need to filter outliers from our data.  For this exercise, we will use `1.5 * Interquartile Range`\n",
    "We can find the bounds using `df.quartile(method=\"median_unbiased\")`."
   ]
  },
  {
   "cell_type": "code",
   "execution_count": 96,
   "id": "e3d6d5fa-48d3-410f-b437-5bce3c16c37a",
   "metadata": {},
   "outputs": [
    {
     "name": "stdout",
     "output_type": "stream",
     "text": [
      "Q1:  576.0, Q3:  1415.0\n"
     ]
    }
   ],
   "source": [
    "Q1 = df['trip_time'].quantile(0.25, interpolation=\"median_unbiased\")\n",
    "Q3 = df['trip_time'].quantile(0.75, interpolation=\"median_unbiased\")\n",
    "print(f\"Q1:  {Q1}, Q3:  {Q3}\")"
   ]
  },
  {
   "cell_type": "markdown",
   "id": "682d18ac-88a6-438b-93b2-58f6da9eb5be",
   "metadata": {},
   "source": [
    "As a check -- when porting code from Pandas to Dask, it was discovered that the Dask quantiles method does not\n",
    "exactly replicate the Pandas / Numpy method.  See [here](https://docs.dask.org/en/stable/generated/dask.dataframe.DataFrame.quantile.html) and \n",
    "[here](https://github.com/dask/dask/issues/6566) for details.  Let's compare the results of the Dask and Pandas implementations "
   ]
  },
  {
   "cell_type": "code",
   "execution_count": 97,
   "id": "a2834f69-655f-49f7-8f51-e37a524f26ec",
   "metadata": {},
   "outputs": [
    {
     "name": "stdout",
     "output_type": "stream",
     "text": [
      "Using the `dask` method:  1442.0\n"
     ]
    }
   ],
   "source": [
    "print(f\"Using the `dask` method:  {dd.from_pandas(df['trip_time'], npartitions=4).quantile(0.75).compute()}\")\n",
    "# print(f\"Using the `tdigest` method:  {dd.from_pandas(df['trip_time'], npartitions=1).quantile(0.75, method='tdigest').compute()}\")"
   ]
  },
  {
   "cell_type": "markdown",
   "id": "3d357b58-3150-4a0a-b23b-4bade2ebe6f8",
   "metadata": {},
   "source": [
    "Let's plot the upper and lower bounds, then filter the data."
   ]
  },
  {
   "cell_type": "code",
   "execution_count": 98,
   "id": "3e559d34-7e83-4902-ae3a-3d1251e43cc4",
   "metadata": {},
   "outputs": [
    {
     "name": "stdout",
     "output_type": "stream",
     "text": [
      "Lower bound is:  0\n",
      "Upper bound is:  2673.5\n"
     ]
    }
   ],
   "source": [
    "lower_bound = Q1 - (1.5*(Q3 - Q1))\n",
    "lower_bound = lower_bound if lower_bound > 0 else 0\n",
    "\n",
    "upper_bound = Q3 + (1.5*(Q3 - Q1))\n",
    "print(f\"Lower bound is:  {lower_bound}\")\n",
    "print(f\"Upper bound is:  {upper_bound}\")"
   ]
  },
  {
   "cell_type": "code",
   "execution_count": 99,
   "id": "061326d5-ff1c-4676-b8a8-da4d3ed07d3c",
   "metadata": {},
   "outputs": [
    {
     "data": {
      "image/png": "[encoded data removed]",
      "text/plain": [
       "<Figure size 640x480 with 1 Axes>"
      ]
     },
     "metadata": {},
     "output_type": "display_data"
    }
   ],
   "source": [
    "df['trip_time'].hist(bins=100)\n",
    "plt.axvline(lower_bound, color=\"r\")\n",
    "plt.axvline(upper_bound, color=\"r\")\n",
    "plt.title(\"Histogram of Trip Durations\")\n",
    "plt.xlabel(\"Trip Duration\")\n",
    "plt.savefig(\"data/trip_histogram.png\")"
   ]
  },
  {
   "cell_type": "code",
   "execution_count": 100,
   "id": "09d4dce8-6d50-4422-9c78-bb2e9bcbd664",
   "metadata": {},
   "outputs": [
    {
     "name": "stdout",
     "output_type": "stream",
     "text": [
      "Fraction of data lost after filtering outliers:  0.04576090506325214\n"
     ]
    }
   ],
   "source": [
    "print(f\"Fraction of data lost after filtering outliers:  {len(df.loc[df.trip_time > upper_bound].index) / len(df.index)}\")"
   ]
  },
  {
   "cell_type": "code",
   "execution_count": 101,
   "id": "85bf0bcc-ab0a-4e88-b938-92cc93a101ca",
   "metadata": {},
   "outputs": [],
   "source": [
    "size_raw_data = len(df.index)"
   ]
  },
  {
   "cell_type": "code",
   "execution_count": 102,
   "id": "388c7f9a-a615-420d-8748-f307bf86c32b",
   "metadata": {},
   "outputs": [],
   "source": [
    "df = df.loc[(df.trip_time >= lower_bound) & (df.trip_time <= upper_bound)]"
   ]
  },
  {
   "cell_type": "code",
   "execution_count": 103,
   "id": "b81c31dd-8b7f-4413-8b63-bbffc46b8e21",
   "metadata": {},
   "outputs": [
    {
     "name": "stdout",
     "output_type": "stream",
     "text": [
      "Fraction of data remaining after removing outliers:  0.9542390949367479\n"
     ]
    }
   ],
   "source": [
    "print(f\"Fraction of data remaining after removing outliers:  {len(df.index) / size_raw_data}\")"
   ]
  },
  {
   "cell_type": "code",
   "execution_count": 104,
   "id": "b532df35-6c72-4c69-b3c0-0b2b9e56fbfc",
   "metadata": {},
   "outputs": [
    {
     "data": {
      "text/html": [
       "<div>\n",
       "<style scoped>\n",
       "    .dataframe tbody tr th:only-of-type {\n",
       "        vertical-align: middle;\n",
       "    }\n",
       "\n",
       "    .dataframe tbody tr th {\n",
       "        vertical-align: top;\n",
       "    }\n",
       "\n",
       "    .dataframe thead th {\n",
       "        text-align: right;\n",
       "    }\n",
       "</style>\n",
       "<table border=\"1\" class=\"dataframe\">\n",
       "  <thead>\n",
       "    <tr style=\"text-align: right;\">\n",
       "      <th></th>\n",
       "      <th>hvfhs_license_num</th>\n",
       "      <th>dropoff_datetime</th>\n",
       "      <th>PULocationID</th>\n",
       "      <th>DOLocationID</th>\n",
       "      <th>trip_miles</th>\n",
       "      <th>trip_time</th>\n",
       "      <th>base_passenger_fare</th>\n",
       "      <th>tolls</th>\n",
       "      <th>bcf</th>\n",
       "      <th>sales_tax</th>\n",
       "      <th>...</th>\n",
       "      <th>access_a_ride_flag</th>\n",
       "      <th>wav_request_flag</th>\n",
       "      <th>wav_match_flag</th>\n",
       "      <th>accessible_vehicle</th>\n",
       "      <th>pickup_month</th>\n",
       "      <th>pickup_dow</th>\n",
       "      <th>pickup_hour</th>\n",
       "      <th>dropoff_month</th>\n",
       "      <th>dropoff_dow</th>\n",
       "      <th>dropoff_hour</th>\n",
       "    </tr>\n",
       "  </thead>\n",
       "  <tbody>\n",
       "    <tr>\n",
       "      <th>0</th>\n",
       "      <td>HV0003</td>\n",
       "      <td>2019-04-02 22:36:00</td>\n",
       "      <td>235</td>\n",
       "      <td>136</td>\n",
       "      <td>1.55</td>\n",
       "      <td>467</td>\n",
       "      <td>6.48</td>\n",
       "      <td>0.0</td>\n",
       "      <td>0.16</td>\n",
       "      <td>0.58</td>\n",
       "      <td>...</td>\n",
       "      <td></td>\n",
       "      <td>N</td>\n",
       "      <td></td>\n",
       "      <td>0</td>\n",
       "      <td>4</td>\n",
       "      <td>1</td>\n",
       "      <td>22</td>\n",
       "      <td>4</td>\n",
       "      <td>1</td>\n",
       "      <td>22</td>\n",
       "    </tr>\n",
       "    <tr>\n",
       "      <th>1</th>\n",
       "      <td>HV0003</td>\n",
       "      <td>2019-04-07 21:17:15</td>\n",
       "      <td>164</td>\n",
       "      <td>233</td>\n",
       "      <td>1.13</td>\n",
       "      <td>573</td>\n",
       "      <td>8.54</td>\n",
       "      <td>0.0</td>\n",
       "      <td>0.21</td>\n",
       "      <td>0.76</td>\n",
       "      <td>...</td>\n",
       "      <td></td>\n",
       "      <td>N</td>\n",
       "      <td></td>\n",
       "      <td>0</td>\n",
       "      <td>4</td>\n",
       "      <td>6</td>\n",
       "      <td>21</td>\n",
       "      <td>4</td>\n",
       "      <td>6</td>\n",
       "      <td>21</td>\n",
       "    </tr>\n",
       "    <tr>\n",
       "      <th>2</th>\n",
       "      <td>HV0003</td>\n",
       "      <td>2019-04-08 00:15:56</td>\n",
       "      <td>40</td>\n",
       "      <td>257</td>\n",
       "      <td>3.60</td>\n",
       "      <td>546</td>\n",
       "      <td>4.75</td>\n",
       "      <td>0.0</td>\n",
       "      <td>0.12</td>\n",
       "      <td>0.42</td>\n",
       "      <td>...</td>\n",
       "      <td></td>\n",
       "      <td>N</td>\n",
       "      <td></td>\n",
       "      <td>0</td>\n",
       "      <td>4</td>\n",
       "      <td>0</td>\n",
       "      <td>0</td>\n",
       "      <td>4</td>\n",
       "      <td>0</td>\n",
       "      <td>0</td>\n",
       "    </tr>\n",
       "    <tr>\n",
       "      <th>3</th>\n",
       "      <td>HV0003</td>\n",
       "      <td>2019-04-02 21:24:42</td>\n",
       "      <td>168</td>\n",
       "      <td>69</td>\n",
       "      <td>2.12</td>\n",
       "      <td>699</td>\n",
       "      <td>9.01</td>\n",
       "      <td>0.0</td>\n",
       "      <td>0.23</td>\n",
       "      <td>0.80</td>\n",
       "      <td>...</td>\n",
       "      <td></td>\n",
       "      <td>N</td>\n",
       "      <td></td>\n",
       "      <td>0</td>\n",
       "      <td>4</td>\n",
       "      <td>1</td>\n",
       "      <td>21</td>\n",
       "      <td>4</td>\n",
       "      <td>1</td>\n",
       "      <td>21</td>\n",
       "    </tr>\n",
       "    <tr>\n",
       "      <th>4</th>\n",
       "      <td>HV0003</td>\n",
       "      <td>2019-04-03 06:41:02</td>\n",
       "      <td>141</td>\n",
       "      <td>161</td>\n",
       "      <td>1.74</td>\n",
       "      <td>514</td>\n",
       "      <td>6.00</td>\n",
       "      <td>0.0</td>\n",
       "      <td>0.16</td>\n",
       "      <td>0.58</td>\n",
       "      <td>...</td>\n",
       "      <td></td>\n",
       "      <td>N</td>\n",
       "      <td></td>\n",
       "      <td>0</td>\n",
       "      <td>4</td>\n",
       "      <td>2</td>\n",
       "      <td>6</td>\n",
       "      <td>4</td>\n",
       "      <td>2</td>\n",
       "      <td>6</td>\n",
       "    </tr>\n",
       "  </tbody>\n",
       "</table>\n",
       "<p>5 rows × 24 columns</p>\n",
       "</div>"
      ],
      "text/plain": [
       "  hvfhs_license_num    dropoff_datetime  PULocationID  DOLocationID  \\\n",
       "0            HV0003 2019-04-02 22:36:00           235           136   \n",
       "1            HV0003 2019-04-07 21:17:15           164           233   \n",
       "2            HV0003 2019-04-08 00:15:56            40           257   \n",
       "3            HV0003 2019-04-02 21:24:42           168            69   \n",
       "4            HV0003 2019-04-03 06:41:02           141           161   \n",
       "\n",
       "   trip_miles  trip_time  base_passenger_fare  tolls   bcf  sales_tax  ...  \\\n",
       "0        1.55        467                 6.48    0.0  0.16       0.58  ...   \n",
       "1        1.13        573                 8.54    0.0  0.21       0.76  ...   \n",
       "2        3.60        546                 4.75    0.0  0.12       0.42  ...   \n",
       "3        2.12        699                 9.01    0.0  0.23       0.80  ...   \n",
       "4        1.74        514                 6.00    0.0  0.16       0.58  ...   \n",
       "\n",
       "   access_a_ride_flag wav_request_flag  wav_match_flag  accessible_vehicle  \\\n",
       "0                                    N                                   0   \n",
       "1                                    N                                   0   \n",
       "2                                    N                                   0   \n",
       "3                                    N                                   0   \n",
       "4                                    N                                   0   \n",
       "\n",
       "  pickup_month pickup_dow pickup_hour  dropoff_month  dropoff_dow  \\\n",
       "0            4          1          22              4            1   \n",
       "1            4          6          21              4            6   \n",
       "2            4          0           0              4            0   \n",
       "3            4          1          21              4            1   \n",
       "4            4          2           6              4            2   \n",
       "\n",
       "   dropoff_hour  \n",
       "0            22  \n",
       "1            21  \n",
       "2             0  \n",
       "3            21  \n",
       "4             6  \n",
       "\n",
       "[5 rows x 24 columns]"
      ]
     },
     "execution_count": 104,
     "metadata": {},
     "output_type": "execute_result"
    }
   ],
   "source": [
    "df.head()"
   ]
  },
  {
   "cell_type": "markdown",
   "id": "3635068e-a1bc-44fe-9a89-2284a0768d81",
   "metadata": {
    "tags": []
   },
   "source": [
    "## Taking inspiration from [this paper on using geospatial characteristics to predict trip durations](https://amr4i.github.io/pdfs/nyc_taxi_times.pdf),   \n",
    "\n",
    "We can assign each pickup and dropoff location to a `Superborough`, as defined by the following table.  To do this, we will  \n",
    "add the PU and DO borough to each trip, then assign a Superborough.  We do this to determine if a trip occurs between \n",
    "Superboroughs\n",
    "\n",
    "| Superborough    | Boroughs                 |\n",
    "|-----------------| -------------------------|\n",
    "| Superborough 1  | Manhattan, Bronx, & EWR  |\n",
    "| Superborough 2  | Brooklyn & Queens        |\n",
    "| Superborough 3  | Staten Island            |\n",
    "| Unknown         | Unknown"
   ]
  },
  {
   "cell_type": "code",
   "execution_count": 105,
   "id": "d8b885f6-ea66-4f8f-9ff4-58855dc0b3e7",
   "metadata": {},
   "outputs": [
    {
     "data": {
      "text/html": [
       "<div>\n",
       "<style scoped>\n",
       "    .dataframe tbody tr th:only-of-type {\n",
       "        vertical-align: middle;\n",
       "    }\n",
       "\n",
       "    .dataframe tbody tr th {\n",
       "        vertical-align: top;\n",
       "    }\n",
       "\n",
       "    .dataframe thead th {\n",
       "        text-align: right;\n",
       "    }\n",
       "</style>\n",
       "<table border=\"1\" class=\"dataframe\">\n",
       "  <thead>\n",
       "    <tr style=\"text-align: right;\">\n",
       "      <th></th>\n",
       "      <th>hvfhs_license_num</th>\n",
       "      <th>dropoff_datetime</th>\n",
       "      <th>PULocationID</th>\n",
       "      <th>DOLocationID</th>\n",
       "      <th>trip_miles</th>\n",
       "      <th>trip_time</th>\n",
       "      <th>base_passenger_fare</th>\n",
       "      <th>tolls</th>\n",
       "      <th>bcf</th>\n",
       "      <th>sales_tax</th>\n",
       "      <th>...</th>\n",
       "      <th>wav_request_flag</th>\n",
       "      <th>wav_match_flag</th>\n",
       "      <th>accessible_vehicle</th>\n",
       "      <th>pickup_month</th>\n",
       "      <th>pickup_dow</th>\n",
       "      <th>pickup_hour</th>\n",
       "      <th>dropoff_month</th>\n",
       "      <th>dropoff_dow</th>\n",
       "      <th>dropoff_hour</th>\n",
       "      <th>PUBorough</th>\n",
       "    </tr>\n",
       "  </thead>\n",
       "  <tbody>\n",
       "    <tr>\n",
       "      <th>0</th>\n",
       "      <td>HV0003</td>\n",
       "      <td>2019-04-02 22:36:00</td>\n",
       "      <td>235</td>\n",
       "      <td>136</td>\n",
       "      <td>1.55</td>\n",
       "      <td>467</td>\n",
       "      <td>6.48</td>\n",
       "      <td>0.0</td>\n",
       "      <td>0.16</td>\n",
       "      <td>0.58</td>\n",
       "      <td>...</td>\n",
       "      <td>N</td>\n",
       "      <td></td>\n",
       "      <td>0</td>\n",
       "      <td>4</td>\n",
       "      <td>1</td>\n",
       "      <td>22</td>\n",
       "      <td>4</td>\n",
       "      <td>1</td>\n",
       "      <td>22</td>\n",
       "      <td>Bronx</td>\n",
       "    </tr>\n",
       "    <tr>\n",
       "      <th>1</th>\n",
       "      <td>HV0003</td>\n",
       "      <td>2019-04-02 23:00:39</td>\n",
       "      <td>235</td>\n",
       "      <td>174</td>\n",
       "      <td>4.57</td>\n",
       "      <td>857</td>\n",
       "      <td>8.85</td>\n",
       "      <td>0.0</td>\n",
       "      <td>0.22</td>\n",
       "      <td>0.78</td>\n",
       "      <td>...</td>\n",
       "      <td>N</td>\n",
       "      <td></td>\n",
       "      <td>0</td>\n",
       "      <td>4</td>\n",
       "      <td>1</td>\n",
       "      <td>22</td>\n",
       "      <td>4</td>\n",
       "      <td>1</td>\n",
       "      <td>23</td>\n",
       "      <td>Bronx</td>\n",
       "    </tr>\n",
       "    <tr>\n",
       "      <th>2</th>\n",
       "      <td>HV0003</td>\n",
       "      <td>2019-04-07 20:46:16</td>\n",
       "      <td>235</td>\n",
       "      <td>168</td>\n",
       "      <td>3.77</td>\n",
       "      <td>1213</td>\n",
       "      <td>6.60</td>\n",
       "      <td>0.0</td>\n",
       "      <td>0.16</td>\n",
       "      <td>0.59</td>\n",
       "      <td>...</td>\n",
       "      <td>N</td>\n",
       "      <td></td>\n",
       "      <td>0</td>\n",
       "      <td>4</td>\n",
       "      <td>6</td>\n",
       "      <td>20</td>\n",
       "      <td>4</td>\n",
       "      <td>6</td>\n",
       "      <td>20</td>\n",
       "      <td>Bronx</td>\n",
       "    </tr>\n",
       "    <tr>\n",
       "      <th>3</th>\n",
       "      <td>HV0003</td>\n",
       "      <td>2021-04-10 21:07:29</td>\n",
       "      <td>235</td>\n",
       "      <td>169</td>\n",
       "      <td>1.26</td>\n",
       "      <td>605</td>\n",
       "      <td>9.84</td>\n",
       "      <td>0.0</td>\n",
       "      <td>0.30</td>\n",
       "      <td>0.87</td>\n",
       "      <td>...</td>\n",
       "      <td>N</td>\n",
       "      <td>N</td>\n",
       "      <td>0</td>\n",
       "      <td>4</td>\n",
       "      <td>5</td>\n",
       "      <td>20</td>\n",
       "      <td>4</td>\n",
       "      <td>5</td>\n",
       "      <td>21</td>\n",
       "      <td>Bronx</td>\n",
       "    </tr>\n",
       "    <tr>\n",
       "      <th>4</th>\n",
       "      <td>HV0003</td>\n",
       "      <td>2021-04-10 20:46:57</td>\n",
       "      <td>235</td>\n",
       "      <td>119</td>\n",
       "      <td>1.09</td>\n",
       "      <td>374</td>\n",
       "      <td>12.39</td>\n",
       "      <td>0.0</td>\n",
       "      <td>0.37</td>\n",
       "      <td>1.10</td>\n",
       "      <td>...</td>\n",
       "      <td>N</td>\n",
       "      <td>N</td>\n",
       "      <td>0</td>\n",
       "      <td>4</td>\n",
       "      <td>5</td>\n",
       "      <td>20</td>\n",
       "      <td>4</td>\n",
       "      <td>5</td>\n",
       "      <td>20</td>\n",
       "      <td>Bronx</td>\n",
       "    </tr>\n",
       "  </tbody>\n",
       "</table>\n",
       "<p>5 rows × 25 columns</p>\n",
       "</div>"
      ],
      "text/plain": [
       "  hvfhs_license_num    dropoff_datetime  PULocationID  DOLocationID  \\\n",
       "0            HV0003 2019-04-02 22:36:00           235           136   \n",
       "1            HV0003 2019-04-02 23:00:39           235           174   \n",
       "2            HV0003 2019-04-07 20:46:16           235           168   \n",
       "3            HV0003 2021-04-10 21:07:29           235           169   \n",
       "4            HV0003 2021-04-10 20:46:57           235           119   \n",
       "\n",
       "   trip_miles  trip_time  base_passenger_fare  tolls   bcf  sales_tax  ...  \\\n",
       "0        1.55        467                 6.48    0.0  0.16       0.58  ...   \n",
       "1        4.57        857                 8.85    0.0  0.22       0.78  ...   \n",
       "2        3.77       1213                 6.60    0.0  0.16       0.59  ...   \n",
       "3        1.26        605                 9.84    0.0  0.30       0.87  ...   \n",
       "4        1.09        374                12.39    0.0  0.37       1.10  ...   \n",
       "\n",
       "   wav_request_flag wav_match_flag  accessible_vehicle  pickup_month  \\\n",
       "0                 N                                  0             4   \n",
       "1                 N                                  0             4   \n",
       "2                 N                                  0             4   \n",
       "3                 N              N                   0             4   \n",
       "4                 N              N                   0             4   \n",
       "\n",
       "  pickup_dow pickup_hour dropoff_month  dropoff_dow  dropoff_hour  PUBorough  \n",
       "0          1          22             4            1            22      Bronx  \n",
       "1          1          22             4            1            23      Bronx  \n",
       "2          6          20             4            6            20      Bronx  \n",
       "3          5          20             4            5            21      Bronx  \n",
       "4          5          20             4            5            20      Bronx  \n",
       "\n",
       "[5 rows x 25 columns]"
      ]
     },
     "execution_count": 105,
     "metadata": {},
     "output_type": "execute_result"
    }
   ],
   "source": [
    "df = pd.merge(df, taxi_df, left_on=\"PULocationID\", right_on=\"LocationID\", how=\"inner\")\n",
    "df = df.rename(columns={\"Borough\": \"PUBorough\"})\n",
    "df = df.drop(columns=\"LocationID\")\n",
    "df.head()"
   ]
  },
  {
   "cell_type": "code",
   "execution_count": 106,
   "id": "9b024329-9c84-4910-bc48-7f4ed1efa5ee",
   "metadata": {
    "tags": []
   },
   "outputs": [
    {
     "data": {
      "text/html": [
       "<div>\n",
       "<style scoped>\n",
       "    .dataframe tbody tr th:only-of-type {\n",
       "        vertical-align: middle;\n",
       "    }\n",
       "\n",
       "    .dataframe tbody tr th {\n",
       "        vertical-align: top;\n",
       "    }\n",
       "\n",
       "    .dataframe thead th {\n",
       "        text-align: right;\n",
       "    }\n",
       "</style>\n",
       "<table border=\"1\" class=\"dataframe\">\n",
       "  <thead>\n",
       "    <tr style=\"text-align: right;\">\n",
       "      <th></th>\n",
       "      <th>hvfhs_license_num</th>\n",
       "      <th>dropoff_datetime</th>\n",
       "      <th>PULocationID</th>\n",
       "      <th>DOLocationID</th>\n",
       "      <th>trip_miles</th>\n",
       "      <th>trip_time</th>\n",
       "      <th>base_passenger_fare</th>\n",
       "      <th>tolls</th>\n",
       "      <th>bcf</th>\n",
       "      <th>sales_tax</th>\n",
       "      <th>...</th>\n",
       "      <th>wav_match_flag</th>\n",
       "      <th>accessible_vehicle</th>\n",
       "      <th>pickup_month</th>\n",
       "      <th>pickup_dow</th>\n",
       "      <th>pickup_hour</th>\n",
       "      <th>dropoff_month</th>\n",
       "      <th>dropoff_dow</th>\n",
       "      <th>dropoff_hour</th>\n",
       "      <th>PUBorough</th>\n",
       "      <th>DOBorough</th>\n",
       "    </tr>\n",
       "  </thead>\n",
       "  <tbody>\n",
       "    <tr>\n",
       "      <th>0</th>\n",
       "      <td>HV0003</td>\n",
       "      <td>2019-04-02 22:36:00</td>\n",
       "      <td>235</td>\n",
       "      <td>136</td>\n",
       "      <td>1.55</td>\n",
       "      <td>467</td>\n",
       "      <td>6.48</td>\n",
       "      <td>0.0</td>\n",
       "      <td>0.16</td>\n",
       "      <td>0.58</td>\n",
       "      <td>...</td>\n",
       "      <td></td>\n",
       "      <td>0</td>\n",
       "      <td>4</td>\n",
       "      <td>1</td>\n",
       "      <td>22</td>\n",
       "      <td>4</td>\n",
       "      <td>1</td>\n",
       "      <td>22</td>\n",
       "      <td>Bronx</td>\n",
       "      <td>Bronx</td>\n",
       "    </tr>\n",
       "    <tr>\n",
       "      <th>1</th>\n",
       "      <td>HV0003</td>\n",
       "      <td>2021-11-05 20:33:10</td>\n",
       "      <td>235</td>\n",
       "      <td>136</td>\n",
       "      <td>0.75</td>\n",
       "      <td>288</td>\n",
       "      <td>8.17</td>\n",
       "      <td>0.0</td>\n",
       "      <td>0.25</td>\n",
       "      <td>0.73</td>\n",
       "      <td>...</td>\n",
       "      <td>N</td>\n",
       "      <td>0</td>\n",
       "      <td>11</td>\n",
       "      <td>4</td>\n",
       "      <td>20</td>\n",
       "      <td>11</td>\n",
       "      <td>4</td>\n",
       "      <td>20</td>\n",
       "      <td>Bronx</td>\n",
       "      <td>Bronx</td>\n",
       "    </tr>\n",
       "    <tr>\n",
       "      <th>2</th>\n",
       "      <td>HV0003</td>\n",
       "      <td>2021-11-04 20:30:11</td>\n",
       "      <td>235</td>\n",
       "      <td>136</td>\n",
       "      <td>1.69</td>\n",
       "      <td>545</td>\n",
       "      <td>10.52</td>\n",
       "      <td>0.0</td>\n",
       "      <td>0.32</td>\n",
       "      <td>0.93</td>\n",
       "      <td>...</td>\n",
       "      <td>N</td>\n",
       "      <td>0</td>\n",
       "      <td>11</td>\n",
       "      <td>3</td>\n",
       "      <td>20</td>\n",
       "      <td>11</td>\n",
       "      <td>3</td>\n",
       "      <td>20</td>\n",
       "      <td>Bronx</td>\n",
       "      <td>Bronx</td>\n",
       "    </tr>\n",
       "    <tr>\n",
       "      <th>3</th>\n",
       "      <td>HV0003</td>\n",
       "      <td>2021-04-12 19:04:06</td>\n",
       "      <td>235</td>\n",
       "      <td>136</td>\n",
       "      <td>0.84</td>\n",
       "      <td>271</td>\n",
       "      <td>7.91</td>\n",
       "      <td>0.0</td>\n",
       "      <td>0.24</td>\n",
       "      <td>0.70</td>\n",
       "      <td>...</td>\n",
       "      <td>N</td>\n",
       "      <td>0</td>\n",
       "      <td>4</td>\n",
       "      <td>0</td>\n",
       "      <td>18</td>\n",
       "      <td>4</td>\n",
       "      <td>0</td>\n",
       "      <td>19</td>\n",
       "      <td>Bronx</td>\n",
       "      <td>Bronx</td>\n",
       "    </tr>\n",
       "    <tr>\n",
       "      <th>4</th>\n",
       "      <td>HV0003</td>\n",
       "      <td>2021-03-28 09:08:36</td>\n",
       "      <td>235</td>\n",
       "      <td>136</td>\n",
       "      <td>1.25</td>\n",
       "      <td>334</td>\n",
       "      <td>10.35</td>\n",
       "      <td>0.0</td>\n",
       "      <td>0.31</td>\n",
       "      <td>0.92</td>\n",
       "      <td>...</td>\n",
       "      <td>N</td>\n",
       "      <td>0</td>\n",
       "      <td>3</td>\n",
       "      <td>6</td>\n",
       "      <td>9</td>\n",
       "      <td>3</td>\n",
       "      <td>6</td>\n",
       "      <td>9</td>\n",
       "      <td>Bronx</td>\n",
       "      <td>Bronx</td>\n",
       "    </tr>\n",
       "  </tbody>\n",
       "</table>\n",
       "<p>5 rows × 26 columns</p>\n",
       "</div>"
      ],
      "text/plain": [
       "  hvfhs_license_num    dropoff_datetime  PULocationID  DOLocationID  \\\n",
       "0            HV0003 2019-04-02 22:36:00           235           136   \n",
       "1            HV0003 2021-11-05 20:33:10           235           136   \n",
       "2            HV0003 2021-11-04 20:30:11           235           136   \n",
       "3            HV0003 2021-04-12 19:04:06           235           136   \n",
       "4            HV0003 2021-03-28 09:08:36           235           136   \n",
       "\n",
       "   trip_miles  trip_time  base_passenger_fare  tolls   bcf  sales_tax  ...  \\\n",
       "0        1.55        467                 6.48    0.0  0.16       0.58  ...   \n",
       "1        0.75        288                 8.17    0.0  0.25       0.73  ...   \n",
       "2        1.69        545                10.52    0.0  0.32       0.93  ...   \n",
       "3        0.84        271                 7.91    0.0  0.24       0.70  ...   \n",
       "4        1.25        334                10.35    0.0  0.31       0.92  ...   \n",
       "\n",
       "   wav_match_flag accessible_vehicle  pickup_month  pickup_dow pickup_hour  \\\n",
       "0                                  0             4           1          22   \n",
       "1               N                  0            11           4          20   \n",
       "2               N                  0            11           3          20   \n",
       "3               N                  0             4           0          18   \n",
       "4               N                  0             3           6           9   \n",
       "\n",
       "  dropoff_month dropoff_dow  dropoff_hour  PUBorough  DOBorough  \n",
       "0             4           1            22      Bronx      Bronx  \n",
       "1            11           4            20      Bronx      Bronx  \n",
       "2            11           3            20      Bronx      Bronx  \n",
       "3             4           0            19      Bronx      Bronx  \n",
       "4             3           6             9      Bronx      Bronx  \n",
       "\n",
       "[5 rows x 26 columns]"
      ]
     },
     "execution_count": 106,
     "metadata": {},
     "output_type": "execute_result"
    }
   ],
   "source": [
    "df = pd.merge(df, taxi_df, left_on=\"DOLocationID\", right_on=\"LocationID\", how=\"inner\")\n",
    "df = df.rename(columns={\"Borough\": \"DOBorough\"})\n",
    "df = df.drop(columns=\"LocationID\")\n",
    "df.head()"
   ]
  },
  {
   "cell_type": "code",
   "execution_count": 107,
   "id": "923a52db-cdc0-4509-bd58-7a21697dfbec",
   "metadata": {},
   "outputs": [
    {
     "data": {
      "text/plain": [
       "(1548606, 26)"
      ]
     },
     "execution_count": 107,
     "metadata": {},
     "output_type": "execute_result"
    }
   ],
   "source": [
    "df.shape"
   ]
  },
  {
   "cell_type": "code",
   "execution_count": 108,
   "id": "aa441ad3-d882-4416-8ed8-47e50a9da855",
   "metadata": {},
   "outputs": [],
   "source": [
    "borough_mapping = {\n",
    "    \"Manhattan\": \"Superborough 1\",\n",
    "    \"Bronx\": \"Superborough 1\",\n",
    "    \"EWR\": \"Superborough 1\",\n",
    "    \"Brooklyn\": \"Superborough 2\",\n",
    "    \"Queens\": \"Superborough 2\",\n",
    "    \"Staten Island\": \"Superborough 3\",\n",
    "    \"Unknown\": \"Unknown\",\n",
    "}"
   ]
  },
  {
   "cell_type": "code",
   "execution_count": 109,
   "id": "7e0c6f86-eb36-49b6-9d06-dda17de665fb",
   "metadata": {},
   "outputs": [],
   "source": [
    "PUSuperborough = [borough_mapping.get(x) for x in df.PUBorough.tolist()]\n",
    "DOSuperborough = [borough_mapping.get(x) for x in df.DOBorough.tolist()]\n",
    "cross_superborough = [\"N\" if i==j else \"Y\" for (i,j) in zip(PUSuperborough, DOSuperborough)]"
   ]
  },
  {
   "cell_type": "code",
   "execution_count": 110,
   "id": "6c706225-aaa2-47f6-832b-9b314317ccc1",
   "metadata": {},
   "outputs": [],
   "source": [
    "df = df.assign(CrossSuperborough = cross_superborough)"
   ]
  },
  {
   "cell_type": "code",
   "execution_count": 111,
   "id": "fd32496e-007c-47b0-a4ce-fb5eb1fade8e",
   "metadata": {},
   "outputs": [
    {
     "data": {
      "text/html": [
       "<div>\n",
       "<style scoped>\n",
       "    .dataframe tbody tr th:only-of-type {\n",
       "        vertical-align: middle;\n",
       "    }\n",
       "\n",
       "    .dataframe tbody tr th {\n",
       "        vertical-align: top;\n",
       "    }\n",
       "\n",
       "    .dataframe thead th {\n",
       "        text-align: right;\n",
       "    }\n",
       "</style>\n",
       "<table border=\"1\" class=\"dataframe\">\n",
       "  <thead>\n",
       "    <tr style=\"text-align: right;\">\n",
       "      <th></th>\n",
       "      <th>hvfhs_license_num</th>\n",
       "      <th>dropoff_datetime</th>\n",
       "      <th>PULocationID</th>\n",
       "      <th>DOLocationID</th>\n",
       "      <th>trip_miles</th>\n",
       "      <th>trip_time</th>\n",
       "      <th>base_passenger_fare</th>\n",
       "      <th>tolls</th>\n",
       "      <th>bcf</th>\n",
       "      <th>sales_tax</th>\n",
       "      <th>...</th>\n",
       "      <th>accessible_vehicle</th>\n",
       "      <th>pickup_month</th>\n",
       "      <th>pickup_dow</th>\n",
       "      <th>pickup_hour</th>\n",
       "      <th>dropoff_month</th>\n",
       "      <th>dropoff_dow</th>\n",
       "      <th>dropoff_hour</th>\n",
       "      <th>PUBorough</th>\n",
       "      <th>DOBorough</th>\n",
       "      <th>CrossSuperborough</th>\n",
       "    </tr>\n",
       "  </thead>\n",
       "  <tbody>\n",
       "    <tr>\n",
       "      <th>0</th>\n",
       "      <td>HV0003</td>\n",
       "      <td>2019-04-02 22:36:00</td>\n",
       "      <td>235</td>\n",
       "      <td>136</td>\n",
       "      <td>1.55</td>\n",
       "      <td>467</td>\n",
       "      <td>6.48</td>\n",
       "      <td>0.0</td>\n",
       "      <td>0.16</td>\n",
       "      <td>0.58</td>\n",
       "      <td>...</td>\n",
       "      <td>0</td>\n",
       "      <td>4</td>\n",
       "      <td>1</td>\n",
       "      <td>22</td>\n",
       "      <td>4</td>\n",
       "      <td>1</td>\n",
       "      <td>22</td>\n",
       "      <td>Bronx</td>\n",
       "      <td>Bronx</td>\n",
       "      <td>N</td>\n",
       "    </tr>\n",
       "    <tr>\n",
       "      <th>1</th>\n",
       "      <td>HV0003</td>\n",
       "      <td>2021-11-05 20:33:10</td>\n",
       "      <td>235</td>\n",
       "      <td>136</td>\n",
       "      <td>0.75</td>\n",
       "      <td>288</td>\n",
       "      <td>8.17</td>\n",
       "      <td>0.0</td>\n",
       "      <td>0.25</td>\n",
       "      <td>0.73</td>\n",
       "      <td>...</td>\n",
       "      <td>0</td>\n",
       "      <td>11</td>\n",
       "      <td>4</td>\n",
       "      <td>20</td>\n",
       "      <td>11</td>\n",
       "      <td>4</td>\n",
       "      <td>20</td>\n",
       "      <td>Bronx</td>\n",
       "      <td>Bronx</td>\n",
       "      <td>N</td>\n",
       "    </tr>\n",
       "    <tr>\n",
       "      <th>2</th>\n",
       "      <td>HV0003</td>\n",
       "      <td>2021-11-04 20:30:11</td>\n",
       "      <td>235</td>\n",
       "      <td>136</td>\n",
       "      <td>1.69</td>\n",
       "      <td>545</td>\n",
       "      <td>10.52</td>\n",
       "      <td>0.0</td>\n",
       "      <td>0.32</td>\n",
       "      <td>0.93</td>\n",
       "      <td>...</td>\n",
       "      <td>0</td>\n",
       "      <td>11</td>\n",
       "      <td>3</td>\n",
       "      <td>20</td>\n",
       "      <td>11</td>\n",
       "      <td>3</td>\n",
       "      <td>20</td>\n",
       "      <td>Bronx</td>\n",
       "      <td>Bronx</td>\n",
       "      <td>N</td>\n",
       "    </tr>\n",
       "    <tr>\n",
       "      <th>3</th>\n",
       "      <td>HV0003</td>\n",
       "      <td>2021-04-12 19:04:06</td>\n",
       "      <td>235</td>\n",
       "      <td>136</td>\n",
       "      <td>0.84</td>\n",
       "      <td>271</td>\n",
       "      <td>7.91</td>\n",
       "      <td>0.0</td>\n",
       "      <td>0.24</td>\n",
       "      <td>0.70</td>\n",
       "      <td>...</td>\n",
       "      <td>0</td>\n",
       "      <td>4</td>\n",
       "      <td>0</td>\n",
       "      <td>18</td>\n",
       "      <td>4</td>\n",
       "      <td>0</td>\n",
       "      <td>19</td>\n",
       "      <td>Bronx</td>\n",
       "      <td>Bronx</td>\n",
       "      <td>N</td>\n",
       "    </tr>\n",
       "    <tr>\n",
       "      <th>4</th>\n",
       "      <td>HV0003</td>\n",
       "      <td>2021-03-28 09:08:36</td>\n",
       "      <td>235</td>\n",
       "      <td>136</td>\n",
       "      <td>1.25</td>\n",
       "      <td>334</td>\n",
       "      <td>10.35</td>\n",
       "      <td>0.0</td>\n",
       "      <td>0.31</td>\n",
       "      <td>0.92</td>\n",
       "      <td>...</td>\n",
       "      <td>0</td>\n",
       "      <td>3</td>\n",
       "      <td>6</td>\n",
       "      <td>9</td>\n",
       "      <td>3</td>\n",
       "      <td>6</td>\n",
       "      <td>9</td>\n",
       "      <td>Bronx</td>\n",
       "      <td>Bronx</td>\n",
       "      <td>N</td>\n",
       "    </tr>\n",
       "  </tbody>\n",
       "</table>\n",
       "<p>5 rows × 27 columns</p>\n",
       "</div>"
      ],
      "text/plain": [
       "  hvfhs_license_num    dropoff_datetime  PULocationID  DOLocationID  \\\n",
       "0            HV0003 2019-04-02 22:36:00           235           136   \n",
       "1            HV0003 2021-11-05 20:33:10           235           136   \n",
       "2            HV0003 2021-11-04 20:30:11           235           136   \n",
       "3            HV0003 2021-04-12 19:04:06           235           136   \n",
       "4            HV0003 2021-03-28 09:08:36           235           136   \n",
       "\n",
       "   trip_miles  trip_time  base_passenger_fare  tolls   bcf  sales_tax  ...  \\\n",
       "0        1.55        467                 6.48    0.0  0.16       0.58  ...   \n",
       "1        0.75        288                 8.17    0.0  0.25       0.73  ...   \n",
       "2        1.69        545                10.52    0.0  0.32       0.93  ...   \n",
       "3        0.84        271                 7.91    0.0  0.24       0.70  ...   \n",
       "4        1.25        334                10.35    0.0  0.31       0.92  ...   \n",
       "\n",
       "   accessible_vehicle pickup_month  pickup_dow  pickup_hour dropoff_month  \\\n",
       "0                   0            4           1           22             4   \n",
       "1                   0           11           4           20            11   \n",
       "2                   0           11           3           20            11   \n",
       "3                   0            4           0           18             4   \n",
       "4                   0            3           6            9             3   \n",
       "\n",
       "  dropoff_dow dropoff_hour  PUBorough  DOBorough  CrossSuperborough  \n",
       "0           1           22      Bronx      Bronx                  N  \n",
       "1           4           20      Bronx      Bronx                  N  \n",
       "2           3           20      Bronx      Bronx                  N  \n",
       "3           0           19      Bronx      Bronx                  N  \n",
       "4           6            9      Bronx      Bronx                  N  \n",
       "\n",
       "[5 rows x 27 columns]"
      ]
     },
     "execution_count": 111,
     "metadata": {},
     "output_type": "execute_result"
    }
   ],
   "source": [
    "df.head()"
   ]
  },
  {
   "cell_type": "code",
   "execution_count": 112,
   "id": "45ffe9ab-e611-4e5c-8b10-312fe9da1b02",
   "metadata": {},
   "outputs": [
    {
     "data": {
      "text/plain": [
       "['hvfhs_license_num',\n",
       " 'dropoff_datetime',\n",
       " 'PULocationID',\n",
       " 'DOLocationID',\n",
       " 'trip_miles',\n",
       " 'trip_time',\n",
       " 'base_passenger_fare',\n",
       " 'tolls',\n",
       " 'bcf',\n",
       " 'sales_tax',\n",
       " 'congestion_surcharge',\n",
       " 'airport_fee',\n",
       " 'tips',\n",
       " 'driver_pay',\n",
       " 'access_a_ride_flag',\n",
       " 'wav_request_flag',\n",
       " 'wav_match_flag',\n",
       " 'accessible_vehicle',\n",
       " 'pickup_month',\n",
       " 'pickup_dow',\n",
       " 'pickup_hour',\n",
       " 'dropoff_month',\n",
       " 'dropoff_dow',\n",
       " 'dropoff_hour',\n",
       " 'PUBorough',\n",
       " 'DOBorough',\n",
       " 'CrossSuperborough']"
      ]
     },
     "execution_count": 112,
     "metadata": {},
     "output_type": "execute_result"
    }
   ],
   "source": [
    "c = df.columns.tolist()\n",
    "c"
   ]
  },
  {
   "cell_type": "code",
   "execution_count": 113,
   "id": "58fdf339-cf6b-4764-a469-d2ec3e10b94b",
   "metadata": {},
   "outputs": [
    {
     "data": {
      "text/plain": [
       "<AxesSubplot: >"
      ]
     },
     "execution_count": 113,
     "metadata": {},
     "output_type": "execute_result"
    },
    {
     "data": {
      "image/png": "[encoded data removed]",
      "text/plain": [
       "<Figure size 640x480 with 1 Axes>"
      ]
     },
     "metadata": {},
     "output_type": "display_data"
    }
   ],
   "source": [
    "df['congestion_surcharge'].hist(bins=100)"
   ]
  },
  {
   "cell_type": "code",
   "execution_count": 114,
   "id": "88d9f390-df5a-400b-bd7a-81ca1d0a55d0",
   "metadata": {},
   "outputs": [
    {
     "data": {
      "text/plain": [
       "<AxesSubplot: >"
      ]
     },
     "execution_count": 114,
     "metadata": {},
     "output_type": "execute_result"
    },
    {
     "data": {
      "image/png": "[encoded data removed]",
      "text/plain": [
       "<Figure size 640x480 with 1 Axes>"
      ]
     },
     "metadata": {},
     "output_type": "display_data"
    }
   ],
   "source": [
    "df['airport_fee'].hist(bins=100)"
   ]
  },
  {
   "cell_type": "code",
   "execution_count": 115,
   "id": "4cc169a2-a199-4c4f-afc5-a02c40aa16ee",
   "metadata": {},
   "outputs": [
    {
     "data": {
      "text/plain": [
       "0.00     1395823\n",
       "6.55       33586\n",
       "6.12       31220\n",
       "20.00      12627\n",
       "21.00       2154\n",
       "          ...   \n",
       "33.14          1\n",
       "32.33          1\n",
       "25.73          1\n",
       "25.92          1\n",
       "10.40          1\n",
       "Name: tolls, Length: 2001, dtype: int64"
      ]
     },
     "execution_count": 115,
     "metadata": {},
     "output_type": "execute_result"
    }
   ],
   "source": [
    "df['tolls'].value_counts()"
   ]
  },
  {
   "cell_type": "code",
   "execution_count": 116,
   "id": "8963f314-b265-47f4-87e9-9376e32a9bc5",
   "metadata": {},
   "outputs": [
    {
     "data": {
      "text/plain": [
       "<AxesSubplot: >"
      ]
     },
     "execution_count": 116,
     "metadata": {},
     "output_type": "execute_result"
    },
    {
     "data": {
      "image/png": "[encoded data removed]",
      "text/plain": [
       "<Figure size 640x480 with 1 Axes>"
      ]
     },
     "metadata": {},
     "output_type": "display_data"
    }
   ],
   "source": [
    "df['congestion_surcharge'].hist(bins=100)"
   ]
  },
  {
   "cell_type": "code",
   "execution_count": 117,
   "id": "126810a0-c5fe-4776-ad82-502cdbefd426",
   "metadata": {},
   "outputs": [
    {
     "data": {
      "text/plain": [
       "N    1312639\n",
       "Y     235967\n",
       "Name: CrossSuperborough, dtype: int64"
      ]
     },
     "execution_count": 117,
     "metadata": {},
     "output_type": "execute_result"
    }
   ],
   "source": [
    "df['CrossSuperborough'].value_counts()"
   ]
  },
  {
   "cell_type": "code",
   "execution_count": 118,
   "id": "211ae252-90db-4cc7-ad39-15667e940687",
   "metadata": {},
   "outputs": [
    {
     "data": {
      "text/plain": [
       "hvfhs_license_num             category\n",
       "dropoff_datetime        datetime64[ns]\n",
       "PULocationID                     int64\n",
       "DOLocationID                     int64\n",
       "trip_miles                     float64\n",
       "trip_time                        int64\n",
       "base_passenger_fare            float64\n",
       "tolls                          float64\n",
       "bcf                            float64\n",
       "sales_tax                      float64\n",
       "congestion_surcharge           float64\n",
       "airport_fee                     object\n",
       "tips                           float64\n",
       "driver_pay                     float64\n",
       "access_a_ride_flag              object\n",
       "wav_request_flag                object\n",
       "wav_match_flag                  object\n",
       "accessible_vehicle               int64\n",
       "pickup_month                     int64\n",
       "pickup_dow                       int64\n",
       "pickup_hour                      int64\n",
       "dropoff_month                    int64\n",
       "dropoff_dow                      int64\n",
       "dropoff_hour                     int64\n",
       "PUBorough                       object\n",
       "DOBorough                       object\n",
       "CrossSuperborough               object\n",
       "dtype: object"
      ]
     },
     "execution_count": 118,
     "metadata": {},
     "output_type": "execute_result"
    }
   ],
   "source": [
    "df.dtypes"
   ]
  },
  {
   "cell_type": "markdown",
   "id": "d6169997-225f-4546-9916-be161e40580f",
   "metadata": {},
   "source": [
    "## Final Cleanup"
   ]
  },
  {
   "cell_type": "code",
   "execution_count": 119,
   "id": "65726e7f-e253-48db-8404-240ad7b86aad",
   "metadata": {},
   "outputs": [],
   "source": [
    "df['airport_fee'] = df['airport_fee'].replace(\"None\", 0)\n",
    "df['airport_fee'] = df['airport_fee'].replace('nan', 0)\n",
    "df['airport_fee'] = df['airport_fee'].astype(float)"
   ]
  },
  {
   "cell_type": "code",
   "execution_count": 120,
   "id": "c16b7d8e-dd2b-49d3-903a-9a4ea42bc0c6",
   "metadata": {},
   "outputs": [],
   "source": [
    "df['airport_fee'] = df['airport_fee'].fillna(0)"
   ]
  },
  {
   "cell_type": "code",
   "execution_count": 121,
   "id": "e2173f3e-f6bd-4271-baa8-cf33b85547a2",
   "metadata": {},
   "outputs": [
    {
     "data": {
      "text/plain": [
       "HV0003    1115004\n",
       "HV0005     402035\n",
       "HV0004      23619\n",
       "HV0002       7948\n",
       "Name: hvfhs_license_num, dtype: int64"
      ]
     },
     "execution_count": 121,
     "metadata": {},
     "output_type": "execute_result"
    }
   ],
   "source": [
    "df.hvfhs_license_num.value_counts()"
   ]
  },
  {
   "cell_type": "code",
   "execution_count": 122,
   "id": "24b266d1-03e3-4843-965b-bbd32ecf36a3",
   "metadata": {},
   "outputs": [
    {
     "data": {
      "text/plain": [
       "N    1546960\n",
       "Y       1646\n",
       "Name: wav_request_flag, dtype: int64"
      ]
     },
     "execution_count": 122,
     "metadata": {},
     "output_type": "execute_result"
    }
   ],
   "source": [
    "df.wav_request_flag.value_counts()"
   ]
  },
  {
   "cell_type": "code",
   "execution_count": 123,
   "id": "6b9118a2-5d7c-4e9b-8b45-e38a2f4a5290",
   "metadata": {},
   "outputs": [
    {
     "data": {
      "text/plain": [
       "N    1409335\n",
       "       77281\n",
       "Y      61990\n",
       "Name: wav_match_flag, dtype: int64"
      ]
     },
     "execution_count": 123,
     "metadata": {},
     "output_type": "execute_result"
    }
   ],
   "source": [
    "df.wav_match_flag.value_counts()"
   ]
  },
  {
   "cell_type": "code",
   "execution_count": 124,
   "id": "ac35f6af-d3a3-40eb-b6f0-a1b641fecd84",
   "metadata": {},
   "outputs": [
    {
     "data": {
      "text/plain": [
       "N    1312639\n",
       "Y     235967\n",
       "Name: CrossSuperborough, dtype: int64"
      ]
     },
     "execution_count": 124,
     "metadata": {},
     "output_type": "execute_result"
    }
   ],
   "source": [
    "df.CrossSuperborough.value_counts()"
   ]
  },
  {
   "cell_type": "code",
   "execution_count": 125,
   "id": "5d86a2d0-4a60-449f-bd83-f43104088518",
   "metadata": {},
   "outputs": [
    {
     "data": {
      "text/plain": [
       "     1114838\n",
       "N     433768\n",
       "Name: access_a_ride_flag, dtype: int64"
      ]
     },
     "execution_count": 125,
     "metadata": {},
     "output_type": "execute_result"
    }
   ],
   "source": [
    "df.access_a_ride_flag.value_counts()"
   ]
  },
  {
   "cell_type": "code",
   "execution_count": 126,
   "id": "dce7c9d5-1b74-4bdc-849d-5541a9b2daac",
   "metadata": {},
   "outputs": [
    {
     "data": {
      "text/plain": [
       "<AxesSubplot: >"
      ]
     },
     "execution_count": 126,
     "metadata": {},
     "output_type": "execute_result"
    },
    {
     "data": {
      "image/png": "[encoded data removed]",
      "text/plain": [
       "<Figure size 640x480 with 1 Axes>"
      ]
     },
     "metadata": {},
     "output_type": "display_data"
    }
   ],
   "source": [
    "df.PUBorough.value_counts().plot(kind='bar')"
   ]
  },
  {
   "cell_type": "code",
   "execution_count": 127,
   "id": "f111c3c6-3cd5-42a2-867d-0d28217d4e8d",
   "metadata": {},
   "outputs": [
    {
     "data": {
      "text/plain": [
       "<AxesSubplot: >"
      ]
     },
     "execution_count": 127,
     "metadata": {},
     "output_type": "execute_result"
    },
    {
     "data": {
      "image/png": "[encoded data removed]",
      "text/plain": [
       "<Figure size 640x480 with 1 Axes>"
      ]
     },
     "metadata": {},
     "output_type": "display_data"
    }
   ],
   "source": [
    "df.DOBorough.value_counts().plot(kind='bar')"
   ]
  },
  {
   "cell_type": "code",
   "execution_count": 128,
   "id": "5093131a-6038-4a3a-b88f-bffe9d55aebe",
   "metadata": {},
   "outputs": [],
   "source": [
    "to_drop = ['base_passenger_fare', 'dropoff_month', 'dropoff_dow', 'dropoff_hour',\n",
    "           'bcf', 'sales_tax', 'tips', 'driver_pay', 'dropoff_datetime', 'access_a_ride_flag', 'wav_match_flag'\n",
    "          ]"
   ]
  },
  {
   "cell_type": "code",
   "execution_count": 129,
   "id": "92961f4e-5168-4059-a597-af0294e09332",
   "metadata": {},
   "outputs": [],
   "source": [
    "df2 = df.drop(columns=to_drop)"
   ]
  },
  {
   "cell_type": "code",
   "execution_count": 130,
   "id": "7f9532cd-3ea5-4ab6-8f62-5b3c35036157",
   "metadata": {},
   "outputs": [
    {
     "data": {
      "text/html": [
       "<div>\n",
       "<style scoped>\n",
       "    .dataframe tbody tr th:only-of-type {\n",
       "        vertical-align: middle;\n",
       "    }\n",
       "\n",
       "    .dataframe tbody tr th {\n",
       "        vertical-align: top;\n",
       "    }\n",
       "\n",
       "    .dataframe thead th {\n",
       "        text-align: right;\n",
       "    }\n",
       "</style>\n",
       "<table border=\"1\" class=\"dataframe\">\n",
       "  <thead>\n",
       "    <tr style=\"text-align: right;\">\n",
       "      <th></th>\n",
       "      <th>hvfhs_license_num</th>\n",
       "      <th>PULocationID</th>\n",
       "      <th>DOLocationID</th>\n",
       "      <th>trip_miles</th>\n",
       "      <th>trip_time</th>\n",
       "      <th>tolls</th>\n",
       "      <th>congestion_surcharge</th>\n",
       "      <th>airport_fee</th>\n",
       "      <th>wav_request_flag</th>\n",
       "      <th>accessible_vehicle</th>\n",
       "      <th>pickup_month</th>\n",
       "      <th>pickup_dow</th>\n",
       "      <th>pickup_hour</th>\n",
       "      <th>PUBorough</th>\n",
       "      <th>DOBorough</th>\n",
       "      <th>CrossSuperborough</th>\n",
       "    </tr>\n",
       "  </thead>\n",
       "  <tbody>\n",
       "    <tr>\n",
       "      <th>0</th>\n",
       "      <td>HV0003</td>\n",
       "      <td>235</td>\n",
       "      <td>136</td>\n",
       "      <td>1.55</td>\n",
       "      <td>467</td>\n",
       "      <td>0.0</td>\n",
       "      <td>0.0</td>\n",
       "      <td>0.0</td>\n",
       "      <td>N</td>\n",
       "      <td>0</td>\n",
       "      <td>4</td>\n",
       "      <td>1</td>\n",
       "      <td>22</td>\n",
       "      <td>Bronx</td>\n",
       "      <td>Bronx</td>\n",
       "      <td>N</td>\n",
       "    </tr>\n",
       "    <tr>\n",
       "      <th>1</th>\n",
       "      <td>HV0003</td>\n",
       "      <td>235</td>\n",
       "      <td>136</td>\n",
       "      <td>0.75</td>\n",
       "      <td>288</td>\n",
       "      <td>0.0</td>\n",
       "      <td>0.0</td>\n",
       "      <td>0.0</td>\n",
       "      <td>N</td>\n",
       "      <td>0</td>\n",
       "      <td>11</td>\n",
       "      <td>4</td>\n",
       "      <td>20</td>\n",
       "      <td>Bronx</td>\n",
       "      <td>Bronx</td>\n",
       "      <td>N</td>\n",
       "    </tr>\n",
       "    <tr>\n",
       "      <th>2</th>\n",
       "      <td>HV0003</td>\n",
       "      <td>235</td>\n",
       "      <td>136</td>\n",
       "      <td>1.69</td>\n",
       "      <td>545</td>\n",
       "      <td>0.0</td>\n",
       "      <td>0.0</td>\n",
       "      <td>0.0</td>\n",
       "      <td>N</td>\n",
       "      <td>0</td>\n",
       "      <td>11</td>\n",
       "      <td>3</td>\n",
       "      <td>20</td>\n",
       "      <td>Bronx</td>\n",
       "      <td>Bronx</td>\n",
       "      <td>N</td>\n",
       "    </tr>\n",
       "    <tr>\n",
       "      <th>3</th>\n",
       "      <td>HV0003</td>\n",
       "      <td>235</td>\n",
       "      <td>136</td>\n",
       "      <td>0.84</td>\n",
       "      <td>271</td>\n",
       "      <td>0.0</td>\n",
       "      <td>0.0</td>\n",
       "      <td>0.0</td>\n",
       "      <td>N</td>\n",
       "      <td>0</td>\n",
       "      <td>4</td>\n",
       "      <td>0</td>\n",
       "      <td>18</td>\n",
       "      <td>Bronx</td>\n",
       "      <td>Bronx</td>\n",
       "      <td>N</td>\n",
       "    </tr>\n",
       "    <tr>\n",
       "      <th>4</th>\n",
       "      <td>HV0003</td>\n",
       "      <td>235</td>\n",
       "      <td>136</td>\n",
       "      <td>1.25</td>\n",
       "      <td>334</td>\n",
       "      <td>0.0</td>\n",
       "      <td>0.0</td>\n",
       "      <td>0.0</td>\n",
       "      <td>N</td>\n",
       "      <td>0</td>\n",
       "      <td>3</td>\n",
       "      <td>6</td>\n",
       "      <td>9</td>\n",
       "      <td>Bronx</td>\n",
       "      <td>Bronx</td>\n",
       "      <td>N</td>\n",
       "    </tr>\n",
       "  </tbody>\n",
       "</table>\n",
       "</div>"
      ],
      "text/plain": [
       "  hvfhs_license_num  PULocationID  DOLocationID  trip_miles  trip_time  tolls  \\\n",
       "0            HV0003           235           136        1.55        467    0.0   \n",
       "1            HV0003           235           136        0.75        288    0.0   \n",
       "2            HV0003           235           136        1.69        545    0.0   \n",
       "3            HV0003           235           136        0.84        271    0.0   \n",
       "4            HV0003           235           136        1.25        334    0.0   \n",
       "\n",
       "   congestion_surcharge  airport_fee wav_request_flag  accessible_vehicle  \\\n",
       "0                   0.0          0.0                N                   0   \n",
       "1                   0.0          0.0                N                   0   \n",
       "2                   0.0          0.0                N                   0   \n",
       "3                   0.0          0.0                N                   0   \n",
       "4                   0.0          0.0                N                   0   \n",
       "\n",
       "   pickup_month  pickup_dow  pickup_hour PUBorough DOBorough CrossSuperborough  \n",
       "0             4           1           22     Bronx     Bronx                 N  \n",
       "1            11           4           20     Bronx     Bronx                 N  \n",
       "2            11           3           20     Bronx     Bronx                 N  \n",
       "3             4           0           18     Bronx     Bronx                 N  \n",
       "4             3           6            9     Bronx     Bronx                 N  "
      ]
     },
     "execution_count": 130,
     "metadata": {},
     "output_type": "execute_result"
    }
   ],
   "source": [
    "df2.head()"
   ]
  },
  {
   "cell_type": "code",
   "execution_count": 131,
   "id": "27155bda-d7cd-48e9-9531-df806d95263e",
   "metadata": {},
   "outputs": [],
   "source": [
    "categories = ['hvfhs_license_num', 'PULocationID', \"DOLocationID\", 'wav_request_flag', 'accessible_vehicle', 'pickup_month',\n",
    "              'pickup_dow', 'pickup_hour', 'PUBorough', 'DOBorough', 'CrossSuperborough']"
   ]
  },
  {
   "cell_type": "code",
   "execution_count": 132,
   "id": "0b879b99-6815-4fc3-9634-d0c9fabb0c46",
   "metadata": {},
   "outputs": [],
   "source": [
    "df2[categories] = df2[categories].astype('category')"
   ]
  },
  {
   "cell_type": "code",
   "execution_count": 197,
   "id": "5a5c11ed-4785-494a-a684-7cb93405b97d",
   "metadata": {},
   "outputs": [
    {
     "data": {
      "text/plain": [
       "float64     4\n",
       "category    2\n",
       "category    2\n",
       "category    1\n",
       "category    1\n",
       "category    1\n",
       "int64       1\n",
       "category    1\n",
       "category    1\n",
       "category    1\n",
       "category    1\n",
       "dtype: int64"
      ]
     },
     "execution_count": 197,
     "metadata": {},
     "output_type": "execute_result"
    }
   ],
   "source": [
    "df2.dtypes.value_counts()"
   ]
  },
  {
   "cell_type": "markdown",
   "id": "206bc5c4-8579-412f-ab76-a70c5343173c",
   "metadata": {},
   "source": [
    "## Train a Scikit Learn Dummy Regressor and evaluate model performance"
   ]
  },
  {
   "cell_type": "code",
   "execution_count": 52,
   "id": "cb6ec9bb-9785-44be-8b02-1bb35544a340",
   "metadata": {},
   "outputs": [],
   "source": [
    "from sklearn.dummy import DummyRegressor\n",
    "from sklearn.model_selection import train_test_split\n",
    "from sklearn.metrics import mean_squared_error"
   ]
  },
  {
   "cell_type": "code",
   "execution_count": 53,
   "id": "21c5884e-6136-4131-b42f-9e3c3ec6881e",
   "metadata": {},
   "outputs": [
    {
     "data": {
      "text/plain": [
       "hvfhs_license_num       category\n",
       "PULocationID            category\n",
       "DOLocationID            category\n",
       "trip_miles               float64\n",
       "trip_time                  int64\n",
       "tolls                    float64\n",
       "congestion_surcharge     float64\n",
       "airport_fee              float64\n",
       "wav_request_flag        category\n",
       "accessible_vehicle      category\n",
       "pickup_month            category\n",
       "pickup_dow              category\n",
       "pickup_hour             category\n",
       "PUBorough               category\n",
       "DOBorough               category\n",
       "CrossSuperborough       category\n",
       "dtype: object"
      ]
     },
     "execution_count": 53,
     "metadata": {},
     "output_type": "execute_result"
    }
   ],
   "source": [
    "df2.dtypes"
   ]
  },
  {
   "cell_type": "code",
   "execution_count": 54,
   "id": "da2f65f7-6b4d-4be8-9be6-0eb515dc788e",
   "metadata": {},
   "outputs": [],
   "source": [
    "df_valid = df2.sample(frac=0.1)"
   ]
  },
  {
   "cell_type": "code",
   "execution_count": 55,
   "id": "7b313778-9864-472e-872e-a925ce6d7bb8",
   "metadata": {},
   "outputs": [
    {
     "data": {
      "text/html": [
       "<div>\n",
       "<style scoped>\n",
       "    .dataframe tbody tr th:only-of-type {\n",
       "        vertical-align: middle;\n",
       "    }\n",
       "\n",
       "    .dataframe tbody tr th {\n",
       "        vertical-align: top;\n",
       "    }\n",
       "\n",
       "    .dataframe thead th {\n",
       "        text-align: right;\n",
       "    }\n",
       "</style>\n",
       "<table border=\"1\" class=\"dataframe\">\n",
       "  <thead>\n",
       "    <tr style=\"text-align: right;\">\n",
       "      <th></th>\n",
       "      <th>hvfhs_license_num</th>\n",
       "      <th>PULocationID</th>\n",
       "      <th>DOLocationID</th>\n",
       "      <th>trip_miles</th>\n",
       "      <th>trip_time</th>\n",
       "      <th>tolls</th>\n",
       "      <th>congestion_surcharge</th>\n",
       "      <th>airport_fee</th>\n",
       "      <th>wav_request_flag</th>\n",
       "      <th>accessible_vehicle</th>\n",
       "      <th>pickup_month</th>\n",
       "      <th>pickup_dow</th>\n",
       "      <th>pickup_hour</th>\n",
       "      <th>PUBorough</th>\n",
       "      <th>DOBorough</th>\n",
       "      <th>CrossSuperborough</th>\n",
       "    </tr>\n",
       "  </thead>\n",
       "  <tbody>\n",
       "    <tr>\n",
       "      <th>0</th>\n",
       "      <td>HV0003</td>\n",
       "      <td>235</td>\n",
       "      <td>136</td>\n",
       "      <td>1.55</td>\n",
       "      <td>467</td>\n",
       "      <td>0.0</td>\n",
       "      <td>0.0</td>\n",
       "      <td>0.0</td>\n",
       "      <td>N</td>\n",
       "      <td>0</td>\n",
       "      <td>4</td>\n",
       "      <td>1</td>\n",
       "      <td>22</td>\n",
       "      <td>Bronx</td>\n",
       "      <td>Bronx</td>\n",
       "      <td>N</td>\n",
       "    </tr>\n",
       "    <tr>\n",
       "      <th>1</th>\n",
       "      <td>HV0003</td>\n",
       "      <td>235</td>\n",
       "      <td>136</td>\n",
       "      <td>0.75</td>\n",
       "      <td>288</td>\n",
       "      <td>0.0</td>\n",
       "      <td>0.0</td>\n",
       "      <td>0.0</td>\n",
       "      <td>N</td>\n",
       "      <td>0</td>\n",
       "      <td>11</td>\n",
       "      <td>4</td>\n",
       "      <td>20</td>\n",
       "      <td>Bronx</td>\n",
       "      <td>Bronx</td>\n",
       "      <td>N</td>\n",
       "    </tr>\n",
       "    <tr>\n",
       "      <th>2</th>\n",
       "      <td>HV0003</td>\n",
       "      <td>235</td>\n",
       "      <td>136</td>\n",
       "      <td>1.69</td>\n",
       "      <td>545</td>\n",
       "      <td>0.0</td>\n",
       "      <td>0.0</td>\n",
       "      <td>0.0</td>\n",
       "      <td>N</td>\n",
       "      <td>0</td>\n",
       "      <td>11</td>\n",
       "      <td>3</td>\n",
       "      <td>20</td>\n",
       "      <td>Bronx</td>\n",
       "      <td>Bronx</td>\n",
       "      <td>N</td>\n",
       "    </tr>\n",
       "    <tr>\n",
       "      <th>3</th>\n",
       "      <td>HV0003</td>\n",
       "      <td>235</td>\n",
       "      <td>136</td>\n",
       "      <td>0.84</td>\n",
       "      <td>271</td>\n",
       "      <td>0.0</td>\n",
       "      <td>0.0</td>\n",
       "      <td>0.0</td>\n",
       "      <td>N</td>\n",
       "      <td>0</td>\n",
       "      <td>4</td>\n",
       "      <td>0</td>\n",
       "      <td>18</td>\n",
       "      <td>Bronx</td>\n",
       "      <td>Bronx</td>\n",
       "      <td>N</td>\n",
       "    </tr>\n",
       "    <tr>\n",
       "      <th>4</th>\n",
       "      <td>HV0003</td>\n",
       "      <td>235</td>\n",
       "      <td>136</td>\n",
       "      <td>1.25</td>\n",
       "      <td>334</td>\n",
       "      <td>0.0</td>\n",
       "      <td>0.0</td>\n",
       "      <td>0.0</td>\n",
       "      <td>N</td>\n",
       "      <td>0</td>\n",
       "      <td>3</td>\n",
       "      <td>6</td>\n",
       "      <td>9</td>\n",
       "      <td>Bronx</td>\n",
       "      <td>Bronx</td>\n",
       "      <td>N</td>\n",
       "    </tr>\n",
       "  </tbody>\n",
       "</table>\n",
       "</div>"
      ],
      "text/plain": [
       "  hvfhs_license_num PULocationID DOLocationID  trip_miles  trip_time  tolls  \\\n",
       "0            HV0003          235          136        1.55        467    0.0   \n",
       "1            HV0003          235          136        0.75        288    0.0   \n",
       "2            HV0003          235          136        1.69        545    0.0   \n",
       "3            HV0003          235          136        0.84        271    0.0   \n",
       "4            HV0003          235          136        1.25        334    0.0   \n",
       "\n",
       "   congestion_surcharge  airport_fee wav_request_flag accessible_vehicle  \\\n",
       "0                   0.0          0.0                N                  0   \n",
       "1                   0.0          0.0                N                  0   \n",
       "2                   0.0          0.0                N                  0   \n",
       "3                   0.0          0.0                N                  0   \n",
       "4                   0.0          0.0                N                  0   \n",
       "\n",
       "  pickup_month pickup_dow pickup_hour PUBorough DOBorough CrossSuperborough  \n",
       "0            4          1          22     Bronx     Bronx                 N  \n",
       "1           11          4          20     Bronx     Bronx                 N  \n",
       "2           11          3          20     Bronx     Bronx                 N  \n",
       "3            4          0          18     Bronx     Bronx                 N  \n",
       "4            3          6           9     Bronx     Bronx                 N  "
      ]
     },
     "execution_count": 55,
     "metadata": {},
     "output_type": "execute_result"
    }
   ],
   "source": [
    "df2.head()"
   ]
  },
  {
   "cell_type": "code",
   "execution_count": 56,
   "id": "42315d97-9f22-4eb7-9a46-585356bb6573",
   "metadata": {},
   "outputs": [
    {
     "data": {
      "text/plain": [
       "['hvfhs_license_num',\n",
       " 'PULocationID',\n",
       " 'DOLocationID',\n",
       " 'trip_miles',\n",
       " 'trip_time',\n",
       " 'tolls',\n",
       " 'congestion_surcharge',\n",
       " 'airport_fee',\n",
       " 'wav_request_flag',\n",
       " 'accessible_vehicle',\n",
       " 'pickup_month',\n",
       " 'pickup_dow',\n",
       " 'pickup_hour',\n",
       " 'PUBorough',\n",
       " 'DOBorough',\n",
       " 'CrossSuperborough']"
      ]
     },
     "execution_count": 56,
     "metadata": {},
     "output_type": "execute_result"
    }
   ],
   "source": [
    "df2.columns.tolist()"
   ]
  },
  {
   "cell_type": "code",
   "execution_count": 57,
   "id": "304942d9-595d-41a1-9b2e-ce967addede5",
   "metadata": {},
   "outputs": [],
   "source": [
    "y = df2['trip_time']\n",
    "X = df2.drop(columns='trip_time')"
   ]
  },
  {
   "cell_type": "code",
   "execution_count": 201,
   "id": "4c83a3d9-aba5-45d7-9856-c7c5a0c13861",
   "metadata": {},
   "outputs": [],
   "source": [
    "X_train, X_test, y_train, y_test = train_test_split(X, y, test_size=0.2)"
   ]
  },
  {
   "cell_type": "code",
   "execution_count": 229,
   "id": "5656aaf4-279b-464d-9c06-30189b66b61d",
   "metadata": {},
   "outputs": [],
   "source": [
    "mdl = DummyRegressor(strategy=\"mean\")"
   ]
  },
  {
   "cell_type": "code",
   "execution_count": 230,
   "id": "2e9e213b-6799-434b-a231-f68cb2cb6fe2",
   "metadata": {},
   "outputs": [
    {
     "data": {
      "text/html": [
       "<style>#sk-container-id-9 {color: black;background-color: white;}#sk-container-id-9 pre{padding: 0;}#sk-container-id-9 div.sk-toggleable {background-color: white;}#sk-container-id-9 label.sk-toggleable__label {cursor: pointer;display: block;width: 100%;margin-bottom: 0;padding: 0.3em;box-sizing: border-box;text-align: center;}#sk-container-id-9 label.sk-toggleable__label-arrow:before {content: \"▸\";float: left;margin-right: 0.25em;color: #696969;}#sk-container-id-9 label.sk-toggleable__label-arrow:hover:before {color: black;}#sk-container-id-9 div.sk-estimator:hover label.sk-toggleable__label-arrow:before {color: black;}#sk-container-id-9 div.sk-toggleable__content {max-height: 0;max-width: 0;overflow: hidden;text-align: left;background-color: #f0f8ff;}#sk-container-id-9 div.sk-toggleable__content pre {margin: 0.2em;color: black;border-radius: 0.25em;background-color: #f0f8ff;}#sk-container-id-9 input.sk-toggleable__control:checked~div.sk-toggleable__content {max-height: 200px;max-width: 100%;overflow: auto;}#sk-container-id-9 input.sk-toggleable__control:checked~label.sk-toggleable__label-arrow:before {content: \"▾\";}#sk-container-id-9 div.sk-estimator input.sk-toggleable__control:checked~label.sk-toggleable__label {background-color: #d4ebff;}#sk-container-id-9 div.sk-label input.sk-toggleable__control:checked~label.sk-toggleable__label {background-color: #d4ebff;}#sk-container-id-9 input.sk-hidden--visually {border: 0;clip: rect(1px 1px 1px 1px);clip: rect(1px, 1px, 1px, 1px);height: 1px;margin: -1px;overflow: hidden;padding: 0;position: absolute;width: 1px;}#sk-container-id-9 div.sk-estimator {font-family: monospace;background-color: #f0f8ff;border: 1px dotted black;border-radius: 0.25em;box-sizing: border-box;margin-bottom: 0.5em;}#sk-container-id-9 div.sk-estimator:hover {background-color: #d4ebff;}#sk-container-id-9 div.sk-parallel-item::after {content: \"\";width: 100%;border-bottom: 1px solid gray;flex-grow: 1;}#sk-container-id-9 div.sk-label:hover label.sk-toggleable__label {background-color: #d4ebff;}#sk-container-id-9 div.sk-serial::before {content: \"\";position: absolute;border-left: 1px solid gray;box-sizing: border-box;top: 0;bottom: 0;left: 50%;z-index: 0;}#sk-container-id-9 div.sk-serial {display: flex;flex-direction: column;align-items: center;background-color: white;padding-right: 0.2em;padding-left: 0.2em;position: relative;}#sk-container-id-9 div.sk-item {position: relative;z-index: 1;}#sk-container-id-9 div.sk-parallel {display: flex;align-items: stretch;justify-content: center;background-color: white;position: relative;}#sk-container-id-9 div.sk-item::before, #sk-container-id-9 div.sk-parallel-item::before {content: \"\";position: absolute;border-left: 1px solid gray;box-sizing: border-box;top: 0;bottom: 0;left: 50%;z-index: -1;}#sk-container-id-9 div.sk-parallel-item {display: flex;flex-direction: column;z-index: 1;position: relative;background-color: white;}#sk-container-id-9 div.sk-parallel-item:first-child::after {align-self: flex-end;width: 50%;}#sk-container-id-9 div.sk-parallel-item:last-child::after {align-self: flex-start;width: 50%;}#sk-container-id-9 div.sk-parallel-item:only-child::after {width: 0;}#sk-container-id-9 div.sk-dashed-wrapped {border: 1px dashed gray;margin: 0 0.4em 0.5em 0.4em;box-sizing: border-box;padding-bottom: 0.4em;background-color: white;}#sk-container-id-9 div.sk-label label {font-family: monospace;font-weight: bold;display: inline-block;line-height: 1.2em;}#sk-container-id-9 div.sk-label-container {text-align: center;}#sk-container-id-9 div.sk-container {/* jupyter's `normalize.less` sets `[hidden] { display: none; }` but bootstrap.min.css set `[hidden] { display: none !important; }` so we also need the `!important` here to be able to override the default hidden behavior on the sphinx rendered scikit-learn.org. See: https://github.com/scikit-learn/scikit-learn/issues/21755 */display: inline-block !important;position: relative;}#sk-container-id-9 div.sk-text-repr-fallback {display: none;}</style><div id=\"sk-container-id-9\" class=\"sk-top-container\"><div class=\"sk-text-repr-fallback\"><pre>DummyRegressor()</pre><b>In a Jupyter environment, please rerun this cell to show the HTML representation or trust the notebook. <br />On GitHub, the HTML representation is unable to render, please try loading this page with nbviewer.org.</b></div><div class=\"sk-container\" hidden><div class=\"sk-item\"><div class=\"sk-estimator sk-toggleable\"><input class=\"sk-toggleable__control sk-hidden--visually\" id=\"sk-estimator-id-21\" type=\"checkbox\" checked><label for=\"sk-estimator-id-21\" class=\"sk-toggleable__label sk-toggleable__label-arrow\">DummyRegressor</label><div class=\"sk-toggleable__content\"><pre>DummyRegressor()</pre></div></div></div></div></div>"
      ],
      "text/plain": [
       "DummyRegressor()"
      ]
     },
     "execution_count": 230,
     "metadata": {},
     "output_type": "execute_result"
    }
   ],
   "source": [
    "mdl.fit(X_train, y_train)"
   ]
  },
  {
   "cell_type": "code",
   "execution_count": 231,
   "id": "9fe7cb63-834c-4c5a-a719-f00d8cb814a4",
   "metadata": {},
   "outputs": [],
   "source": [
    "y_predict = mdl.predict(X_test)"
   ]
  },
  {
   "cell_type": "code",
   "execution_count": 232,
   "id": "48cf0306-a94a-40c8-ba2a-4f4824781f77",
   "metadata": {},
   "outputs": [],
   "source": [
    "mse = mean_squared_error(y_test, y_predict, squared=False)"
   ]
  },
  {
   "cell_type": "code",
   "execution_count": 233,
   "id": "55de522b-d9d4-462d-8dba-6b50bf49af09",
   "metadata": {},
   "outputs": [
    {
     "data": {
      "text/plain": [
       "556.7840241228449"
      ]
     },
     "execution_count": 233,
     "metadata": {},
     "output_type": "execute_result"
    }
   ],
   "source": [
    "mse"
   ]
  },
  {
   "cell_type": "markdown",
   "id": "8d7831cc-840f-4189-b578-e2dcc5d85e3d",
   "metadata": {},
   "source": [
    "## Linear Regression"
   ]
  },
  {
   "cell_type": "code",
   "execution_count": 207,
   "id": "37e812bc-20bc-4aa2-b321-15062d82bc66",
   "metadata": {},
   "outputs": [],
   "source": [
    "from sklearn.preprocessing import OneHotEncoder, StandardScaler\n",
    "from sklearn.pipeline import Pipeline\n",
    "from sklearn.compose import make_column_selector as selector\n",
    "from sklearn.compose import ColumnTransformer\n",
    "from sklearn.linear_model import LinearRegression"
   ]
  },
  {
   "cell_type": "code",
   "execution_count": 208,
   "id": "c8fd50c0-a022-48a5-bd4e-77d38676c290",
   "metadata": {},
   "outputs": [
    {
     "data": {
      "text/html": [
       "<style>#sk-container-id-5 {color: black;background-color: white;}#sk-container-id-5 pre{padding: 0;}#sk-container-id-5 div.sk-toggleable {background-color: white;}#sk-container-id-5 label.sk-toggleable__label {cursor: pointer;display: block;width: 100%;margin-bottom: 0;padding: 0.3em;box-sizing: border-box;text-align: center;}#sk-container-id-5 label.sk-toggleable__label-arrow:before {content: \"▸\";float: left;margin-right: 0.25em;color: #696969;}#sk-container-id-5 label.sk-toggleable__label-arrow:hover:before {color: black;}#sk-container-id-5 div.sk-estimator:hover label.sk-toggleable__label-arrow:before {color: black;}#sk-container-id-5 div.sk-toggleable__content {max-height: 0;max-width: 0;overflow: hidden;text-align: left;background-color: #f0f8ff;}#sk-container-id-5 div.sk-toggleable__content pre {margin: 0.2em;color: black;border-radius: 0.25em;background-color: #f0f8ff;}#sk-container-id-5 input.sk-toggleable__control:checked~div.sk-toggleable__content {max-height: 200px;max-width: 100%;overflow: auto;}#sk-container-id-5 input.sk-toggleable__control:checked~label.sk-toggleable__label-arrow:before {content: \"▾\";}#sk-container-id-5 div.sk-estimator input.sk-toggleable__control:checked~label.sk-toggleable__label {background-color: #d4ebff;}#sk-container-id-5 div.sk-label input.sk-toggleable__control:checked~label.sk-toggleable__label {background-color: #d4ebff;}#sk-container-id-5 input.sk-hidden--visually {border: 0;clip: rect(1px 1px 1px 1px);clip: rect(1px, 1px, 1px, 1px);height: 1px;margin: -1px;overflow: hidden;padding: 0;position: absolute;width: 1px;}#sk-container-id-5 div.sk-estimator {font-family: monospace;background-color: #f0f8ff;border: 1px dotted black;border-radius: 0.25em;box-sizing: border-box;margin-bottom: 0.5em;}#sk-container-id-5 div.sk-estimator:hover {background-color: #d4ebff;}#sk-container-id-5 div.sk-parallel-item::after {content: \"\";width: 100%;border-bottom: 1px solid gray;flex-grow: 1;}#sk-container-id-5 div.sk-label:hover label.sk-toggleable__label {background-color: #d4ebff;}#sk-container-id-5 div.sk-serial::before {content: \"\";position: absolute;border-left: 1px solid gray;box-sizing: border-box;top: 0;bottom: 0;left: 50%;z-index: 0;}#sk-container-id-5 div.sk-serial {display: flex;flex-direction: column;align-items: center;background-color: white;padding-right: 0.2em;padding-left: 0.2em;position: relative;}#sk-container-id-5 div.sk-item {position: relative;z-index: 1;}#sk-container-id-5 div.sk-parallel {display: flex;align-items: stretch;justify-content: center;background-color: white;position: relative;}#sk-container-id-5 div.sk-item::before, #sk-container-id-5 div.sk-parallel-item::before {content: \"\";position: absolute;border-left: 1px solid gray;box-sizing: border-box;top: 0;bottom: 0;left: 50%;z-index: -1;}#sk-container-id-5 div.sk-parallel-item {display: flex;flex-direction: column;z-index: 1;position: relative;background-color: white;}#sk-container-id-5 div.sk-parallel-item:first-child::after {align-self: flex-end;width: 50%;}#sk-container-id-5 div.sk-parallel-item:last-child::after {align-self: flex-start;width: 50%;}#sk-container-id-5 div.sk-parallel-item:only-child::after {width: 0;}#sk-container-id-5 div.sk-dashed-wrapped {border: 1px dashed gray;margin: 0 0.4em 0.5em 0.4em;box-sizing: border-box;padding-bottom: 0.4em;background-color: white;}#sk-container-id-5 div.sk-label label {font-family: monospace;font-weight: bold;display: inline-block;line-height: 1.2em;}#sk-container-id-5 div.sk-label-container {text-align: center;}#sk-container-id-5 div.sk-container {/* jupyter's `normalize.less` sets `[hidden] { display: none; }` but bootstrap.min.css set `[hidden] { display: none !important; }` so we also need the `!important` here to be able to override the default hidden behavior on the sphinx rendered scikit-learn.org. See: https://github.com/scikit-learn/scikit-learn/issues/21755 */display: inline-block !important;position: relative;}#sk-container-id-5 div.sk-text-repr-fallback {display: none;}</style><div id=\"sk-container-id-5\" class=\"sk-top-container\"><div class=\"sk-text-repr-fallback\"><pre>Pipeline(steps=[(&#x27;preprocessor&#x27;,\n",
       "                 ColumnTransformer(transformers=[(&#x27;num&#x27;, StandardScaler(),\n",
       "                                                  &lt;sklearn.compose._column_transformer.make_column_selector object at 0x2b0a94be0&gt;),\n",
       "                                                 (&#x27;cat&#x27;,\n",
       "                                                  OneHotEncoder(handle_unknown=&#x27;ignore&#x27;),\n",
       "                                                  &lt;sklearn.compose._column_transformer.make_column_selector object at 0x2b0a94af0&gt;)])),\n",
       "                (&#x27;regressor&#x27;, LinearRegression())])</pre><b>In a Jupyter environment, please rerun this cell to show the HTML representation or trust the notebook. <br />On GitHub, the HTML representation is unable to render, please try loading this page with nbviewer.org.</b></div><div class=\"sk-container\" hidden><div class=\"sk-item sk-dashed-wrapped\"><div class=\"sk-label-container\"><div class=\"sk-label sk-toggleable\"><input class=\"sk-toggleable__control sk-hidden--visually\" id=\"sk-estimator-id-11\" type=\"checkbox\" ><label for=\"sk-estimator-id-11\" class=\"sk-toggleable__label sk-toggleable__label-arrow\">Pipeline</label><div class=\"sk-toggleable__content\"><pre>Pipeline(steps=[(&#x27;preprocessor&#x27;,\n",
       "                 ColumnTransformer(transformers=[(&#x27;num&#x27;, StandardScaler(),\n",
       "                                                  &lt;sklearn.compose._column_transformer.make_column_selector object at 0x2b0a94be0&gt;),\n",
       "                                                 (&#x27;cat&#x27;,\n",
       "                                                  OneHotEncoder(handle_unknown=&#x27;ignore&#x27;),\n",
       "                                                  &lt;sklearn.compose._column_transformer.make_column_selector object at 0x2b0a94af0&gt;)])),\n",
       "                (&#x27;regressor&#x27;, LinearRegression())])</pre></div></div></div><div class=\"sk-serial\"><div class=\"sk-item sk-dashed-wrapped\"><div class=\"sk-label-container\"><div class=\"sk-label sk-toggleable\"><input class=\"sk-toggleable__control sk-hidden--visually\" id=\"sk-estimator-id-12\" type=\"checkbox\" ><label for=\"sk-estimator-id-12\" class=\"sk-toggleable__label sk-toggleable__label-arrow\">preprocessor: ColumnTransformer</label><div class=\"sk-toggleable__content\"><pre>ColumnTransformer(transformers=[(&#x27;num&#x27;, StandardScaler(),\n",
       "                                 &lt;sklearn.compose._column_transformer.make_column_selector object at 0x2b0a94be0&gt;),\n",
       "                                (&#x27;cat&#x27;, OneHotEncoder(handle_unknown=&#x27;ignore&#x27;),\n",
       "                                 &lt;sklearn.compose._column_transformer.make_column_selector object at 0x2b0a94af0&gt;)])</pre></div></div></div><div class=\"sk-parallel\"><div class=\"sk-parallel-item\"><div class=\"sk-item\"><div class=\"sk-label-container\"><div class=\"sk-label sk-toggleable\"><input class=\"sk-toggleable__control sk-hidden--visually\" id=\"sk-estimator-id-13\" type=\"checkbox\" ><label for=\"sk-estimator-id-13\" class=\"sk-toggleable__label sk-toggleable__label-arrow\">num</label><div class=\"sk-toggleable__content\"><pre>&lt;sklearn.compose._column_transformer.make_column_selector object at 0x2b0a94be0&gt;</pre></div></div></div><div class=\"sk-serial\"><div class=\"sk-item\"><div class=\"sk-estimator sk-toggleable\"><input class=\"sk-toggleable__control sk-hidden--visually\" id=\"sk-estimator-id-14\" type=\"checkbox\" ><label for=\"sk-estimator-id-14\" class=\"sk-toggleable__label sk-toggleable__label-arrow\">StandardScaler</label><div class=\"sk-toggleable__content\"><pre>StandardScaler()</pre></div></div></div></div></div></div><div class=\"sk-parallel-item\"><div class=\"sk-item\"><div class=\"sk-label-container\"><div class=\"sk-label sk-toggleable\"><input class=\"sk-toggleable__control sk-hidden--visually\" id=\"sk-estimator-id-15\" type=\"checkbox\" ><label for=\"sk-estimator-id-15\" class=\"sk-toggleable__label sk-toggleable__label-arrow\">cat</label><div class=\"sk-toggleable__content\"><pre>&lt;sklearn.compose._column_transformer.make_column_selector object at 0x2b0a94af0&gt;</pre></div></div></div><div class=\"sk-serial\"><div class=\"sk-item\"><div class=\"sk-estimator sk-toggleable\"><input class=\"sk-toggleable__control sk-hidden--visually\" id=\"sk-estimator-id-16\" type=\"checkbox\" ><label for=\"sk-estimator-id-16\" class=\"sk-toggleable__label sk-toggleable__label-arrow\">OneHotEncoder</label><div class=\"sk-toggleable__content\"><pre>OneHotEncoder(handle_unknown=&#x27;ignore&#x27;)</pre></div></div></div></div></div></div></div></div><div class=\"sk-item\"><div class=\"sk-estimator sk-toggleable\"><input class=\"sk-toggleable__control sk-hidden--visually\" id=\"sk-estimator-id-17\" type=\"checkbox\" ><label for=\"sk-estimator-id-17\" class=\"sk-toggleable__label sk-toggleable__label-arrow\">LinearRegression</label><div class=\"sk-toggleable__content\"><pre>LinearRegression()</pre></div></div></div></div></div></div></div>"
      ],
      "text/plain": [
       "Pipeline(steps=[('preprocessor',\n",
       "                 ColumnTransformer(transformers=[('num', StandardScaler(),\n",
       "                                                  <sklearn.compose._column_transformer.make_column_selector object at 0x2b0a94be0>),\n",
       "                                                 ('cat',\n",
       "                                                  OneHotEncoder(handle_unknown='ignore'),\n",
       "                                                  <sklearn.compose._column_transformer.make_column_selector object at 0x2b0a94af0>)])),\n",
       "                ('regressor', LinearRegression())])"
      ]
     },
     "execution_count": 208,
     "metadata": {},
     "output_type": "execute_result"
    }
   ],
   "source": [
    "categorical_transformer = OneHotEncoder(handle_unknown=\"ignore\")\n",
    "numeric_transformer = StandardScaler()\n",
    "\n",
    "preprocessor = ColumnTransformer(\n",
    "    transformers=[\n",
    "        (\"num\", numeric_transformer, selector(dtype_exclude=\"category\")),\n",
    "        (\"cat\", categorical_transformer, selector(dtype_include=\"category\")),\n",
    "    ]\n",
    ")\n",
    "mdl = Pipeline(\n",
    "    steps=[(\"preprocessor\", preprocessor),\n",
    "           (\"regressor\", LinearRegression()),\n",
    "          ]\n",
    ")\n",
    "mdl.fit(X_train, y_train)"
   ]
  },
  {
   "cell_type": "code",
   "execution_count": 209,
   "id": "ad60285f-b21e-4a61-83d1-325f183d6517",
   "metadata": {},
   "outputs": [],
   "source": [
    "mse = mean_squared_error(y_test, mdl.predict(X_test), squared=False)"
   ]
  },
  {
   "cell_type": "code",
   "execution_count": 210,
   "id": "2d10b2c8-80a7-4ce2-b36a-0f4093b12087",
   "metadata": {},
   "outputs": [
    {
     "data": {
      "text/plain": [
       "324.35026790059044"
      ]
     },
     "execution_count": 210,
     "metadata": {},
     "output_type": "execute_result"
    }
   ],
   "source": [
    "mse"
   ]
  },
  {
   "cell_type": "markdown",
   "id": "63e31e82-27ba-4f43-8619-46740a48be9f",
   "metadata": {},
   "source": [
    "## XGBoost"
   ]
  },
  {
   "cell_type": "code",
   "execution_count": 212,
   "id": "3d680760-6975-4aef-9112-b2ed5aeeaf70",
   "metadata": {},
   "outputs": [],
   "source": [
    "import xgboost as xgb"
   ]
  },
  {
   "cell_type": "code",
   "execution_count": 214,
   "id": "98cf4e87-aaa8-4591-9399-311782812656",
   "metadata": {
    "scrolled": true,
    "tags": []
   },
   "outputs": [
    {
     "name": "stdout",
     "output_type": "stream",
     "text": [
      "[0]\tvalidation_0-rmse:823.39364\tvalidation_1-rmse:824.64430\n",
      "[1]\tvalidation_0-rmse:609.79730\tvalidation_1-rmse:610.72016\n",
      "[2]\tvalidation_0-rmse:469.25362\tvalidation_1-rmse:469.82376\n",
      "[3]\tvalidation_0-rmse:380.23094\tvalidation_1-rmse:380.38365\n",
      "[4]\tvalidation_0-rmse:326.29128\tvalidation_1-rmse:326.09955\n",
      "[5]\tvalidation_0-rmse:294.56509\tvalidation_1-rmse:294.04286\n",
      "[6]\tvalidation_0-rmse:276.07038\tvalidation_1-rmse:275.36845\n",
      "[7]\tvalidation_0-rmse:265.76510\tvalidation_1-rmse:264.75134\n",
      "[8]\tvalidation_0-rmse:259.90262\tvalidation_1-rmse:258.58651\n",
      "[9]\tvalidation_0-rmse:255.59324\tvalidation_1-rmse:254.08985\n",
      "[10]\tvalidation_0-rmse:253.37135\tvalidation_1-rmse:251.62017\n",
      "[11]\tvalidation_0-rmse:251.49382\tvalidation_1-rmse:249.52554\n",
      "[12]\tvalidation_0-rmse:250.29931\tvalidation_1-rmse:248.07002\n",
      "[13]\tvalidation_0-rmse:249.40435\tvalidation_1-rmse:246.93151\n",
      "[14]\tvalidation_0-rmse:248.70109\tvalidation_1-rmse:246.00140\n",
      "[15]\tvalidation_0-rmse:248.13530\tvalidation_1-rmse:245.28138\n",
      "[16]\tvalidation_0-rmse:247.52847\tvalidation_1-rmse:244.50942\n",
      "[17]\tvalidation_0-rmse:246.89959\tvalidation_1-rmse:243.64139\n",
      "[18]\tvalidation_0-rmse:246.30028\tvalidation_1-rmse:242.96426\n",
      "[19]\tvalidation_0-rmse:245.76793\tvalidation_1-rmse:242.19545\n",
      "[20]\tvalidation_0-rmse:245.31303\tvalidation_1-rmse:241.58376\n",
      "[21]\tvalidation_0-rmse:244.57559\tvalidation_1-rmse:240.67728\n",
      "[22]\tvalidation_0-rmse:244.22496\tvalidation_1-rmse:240.21667\n",
      "[23]\tvalidation_0-rmse:243.87364\tvalidation_1-rmse:239.73818\n",
      "[24]\tvalidation_0-rmse:243.09442\tvalidation_1-rmse:238.77388\n",
      "[25]\tvalidation_0-rmse:242.70940\tvalidation_1-rmse:238.16892\n",
      "[26]\tvalidation_0-rmse:242.34838\tvalidation_1-rmse:237.64910\n",
      "[27]\tvalidation_0-rmse:242.21463\tvalidation_1-rmse:237.35174\n",
      "[28]\tvalidation_0-rmse:241.87628\tvalidation_1-rmse:236.90868\n",
      "[29]\tvalidation_0-rmse:241.65745\tvalidation_1-rmse:236.55051\n",
      "[30]\tvalidation_0-rmse:240.98008\tvalidation_1-rmse:235.78583\n",
      "[31]\tvalidation_0-rmse:240.58764\tvalidation_1-rmse:235.25257\n",
      "[32]\tvalidation_0-rmse:240.36139\tvalidation_1-rmse:234.94443\n",
      "[33]\tvalidation_0-rmse:240.07536\tvalidation_1-rmse:234.48653\n",
      "[34]\tvalidation_0-rmse:239.98483\tvalidation_1-rmse:234.27402\n",
      "[35]\tvalidation_0-rmse:239.86120\tvalidation_1-rmse:234.02232\n",
      "[36]\tvalidation_0-rmse:239.66454\tvalidation_1-rmse:233.69956\n",
      "[37]\tvalidation_0-rmse:239.61696\tvalidation_1-rmse:233.53989\n",
      "[38]\tvalidation_0-rmse:239.46057\tvalidation_1-rmse:233.24172\n",
      "[39]\tvalidation_0-rmse:239.27383\tvalidation_1-rmse:232.91773\n",
      "[40]\tvalidation_0-rmse:239.21121\tvalidation_1-rmse:232.77042\n",
      "[41]\tvalidation_0-rmse:238.81628\tvalidation_1-rmse:232.29625\n",
      "[42]\tvalidation_0-rmse:238.60446\tvalidation_1-rmse:231.93681\n",
      "[43]\tvalidation_0-rmse:238.41095\tvalidation_1-rmse:231.66117\n",
      "[44]\tvalidation_0-rmse:238.23800\tvalidation_1-rmse:231.36763\n",
      "[45]\tvalidation_0-rmse:237.96939\tvalidation_1-rmse:231.02373\n",
      "[46]\tvalidation_0-rmse:237.88850\tvalidation_1-rmse:230.77449\n",
      "[47]\tvalidation_0-rmse:237.65814\tvalidation_1-rmse:230.47969\n",
      "[48]\tvalidation_0-rmse:237.49961\tvalidation_1-rmse:230.25537\n",
      "[49]\tvalidation_0-rmse:237.31062\tvalidation_1-rmse:230.01269\n",
      "[50]\tvalidation_0-rmse:237.20598\tvalidation_1-rmse:229.71197\n",
      "[51]\tvalidation_0-rmse:237.11276\tvalidation_1-rmse:229.51099\n",
      "[52]\tvalidation_0-rmse:236.92749\tvalidation_1-rmse:229.24050\n",
      "[53]\tvalidation_0-rmse:236.85156\tvalidation_1-rmse:229.06560\n",
      "[54]\tvalidation_0-rmse:236.81220\tvalidation_1-rmse:228.98643\n",
      "[55]\tvalidation_0-rmse:236.74001\tvalidation_1-rmse:228.83193\n",
      "[56]\tvalidation_0-rmse:236.54271\tvalidation_1-rmse:228.49855\n",
      "[57]\tvalidation_0-rmse:236.36238\tvalidation_1-rmse:228.14117\n",
      "[58]\tvalidation_0-rmse:236.14840\tvalidation_1-rmse:227.77661\n",
      "[59]\tvalidation_0-rmse:235.96660\tvalidation_1-rmse:227.46143\n",
      "[60]\tvalidation_0-rmse:235.89756\tvalidation_1-rmse:227.30307\n",
      "[61]\tvalidation_0-rmse:235.78158\tvalidation_1-rmse:227.08847\n",
      "[62]\tvalidation_0-rmse:235.69086\tvalidation_1-rmse:226.90122\n",
      "[63]\tvalidation_0-rmse:235.58179\tvalidation_1-rmse:226.65139\n",
      "[64]\tvalidation_0-rmse:235.50780\tvalidation_1-rmse:226.52192\n",
      "[65]\tvalidation_0-rmse:235.44901\tvalidation_1-rmse:226.32893\n",
      "[66]\tvalidation_0-rmse:235.41850\tvalidation_1-rmse:226.24045\n",
      "[67]\tvalidation_0-rmse:235.36895\tvalidation_1-rmse:226.12371\n",
      "[68]\tvalidation_0-rmse:235.34814\tvalidation_1-rmse:226.01806\n",
      "[69]\tvalidation_0-rmse:235.25408\tvalidation_1-rmse:225.76511\n",
      "[70]\tvalidation_0-rmse:235.17790\tvalidation_1-rmse:225.63849\n",
      "[71]\tvalidation_0-rmse:235.13349\tvalidation_1-rmse:225.44866\n",
      "[72]\tvalidation_0-rmse:235.12339\tvalidation_1-rmse:225.31574\n",
      "[73]\tvalidation_0-rmse:235.08388\tvalidation_1-rmse:225.21232\n",
      "[74]\tvalidation_0-rmse:235.02743\tvalidation_1-rmse:224.97647\n",
      "[75]\tvalidation_0-rmse:234.96769\tvalidation_1-rmse:224.84972\n",
      "[76]\tvalidation_0-rmse:234.92817\tvalidation_1-rmse:224.74175\n",
      "[77]\tvalidation_0-rmse:234.89305\tvalidation_1-rmse:224.65193\n",
      "[78]\tvalidation_0-rmse:234.79645\tvalidation_1-rmse:224.44618\n",
      "[79]\tvalidation_0-rmse:234.69427\tvalidation_1-rmse:224.22238\n",
      "[80]\tvalidation_0-rmse:234.67838\tvalidation_1-rmse:224.10995\n",
      "[81]\tvalidation_0-rmse:234.63833\tvalidation_1-rmse:224.02388\n",
      "[82]\tvalidation_0-rmse:234.60647\tvalidation_1-rmse:223.93015\n",
      "[83]\tvalidation_0-rmse:234.55473\tvalidation_1-rmse:223.82367\n",
      "[84]\tvalidation_0-rmse:234.51661\tvalidation_1-rmse:223.70983\n",
      "[85]\tvalidation_0-rmse:234.46636\tvalidation_1-rmse:223.57100\n",
      "[86]\tvalidation_0-rmse:234.33042\tvalidation_1-rmse:223.33524\n",
      "[87]\tvalidation_0-rmse:234.31178\tvalidation_1-rmse:223.21865\n",
      "[88]\tvalidation_0-rmse:234.27308\tvalidation_1-rmse:223.13033\n",
      "[89]\tvalidation_0-rmse:234.24896\tvalidation_1-rmse:223.05276\n",
      "[90]\tvalidation_0-rmse:234.22021\tvalidation_1-rmse:222.80977\n",
      "[91]\tvalidation_0-rmse:234.19297\tvalidation_1-rmse:222.70632\n",
      "[92]\tvalidation_0-rmse:234.15088\tvalidation_1-rmse:222.60787\n",
      "[93]\tvalidation_0-rmse:234.13746\tvalidation_1-rmse:222.54662\n",
      "[94]\tvalidation_0-rmse:234.13930\tvalidation_1-rmse:222.37626\n",
      "[95]\tvalidation_0-rmse:234.10658\tvalidation_1-rmse:222.28648\n",
      "[96]\tvalidation_0-rmse:234.07199\tvalidation_1-rmse:222.09344\n",
      "[97]\tvalidation_0-rmse:234.04179\tvalidation_1-rmse:221.94637\n",
      "[98]\tvalidation_0-rmse:233.97535\tvalidation_1-rmse:221.80887\n",
      "[99]\tvalidation_0-rmse:233.95036\tvalidation_1-rmse:221.70514\n"
     ]
    },
    {
     "data": {
      "text/html": [
       "<style>#sk-container-id-6 {color: black;background-color: white;}#sk-container-id-6 pre{padding: 0;}#sk-container-id-6 div.sk-toggleable {background-color: white;}#sk-container-id-6 label.sk-toggleable__label {cursor: pointer;display: block;width: 100%;margin-bottom: 0;padding: 0.3em;box-sizing: border-box;text-align: center;}#sk-container-id-6 label.sk-toggleable__label-arrow:before {content: \"▸\";float: left;margin-right: 0.25em;color: #696969;}#sk-container-id-6 label.sk-toggleable__label-arrow:hover:before {color: black;}#sk-container-id-6 div.sk-estimator:hover label.sk-toggleable__label-arrow:before {color: black;}#sk-container-id-6 div.sk-toggleable__content {max-height: 0;max-width: 0;overflow: hidden;text-align: left;background-color: #f0f8ff;}#sk-container-id-6 div.sk-toggleable__content pre {margin: 0.2em;color: black;border-radius: 0.25em;background-color: #f0f8ff;}#sk-container-id-6 input.sk-toggleable__control:checked~div.sk-toggleable__content {max-height: 200px;max-width: 100%;overflow: auto;}#sk-container-id-6 input.sk-toggleable__control:checked~label.sk-toggleable__label-arrow:before {content: \"▾\";}#sk-container-id-6 div.sk-estimator input.sk-toggleable__control:checked~label.sk-toggleable__label {background-color: #d4ebff;}#sk-container-id-6 div.sk-label input.sk-toggleable__control:checked~label.sk-toggleable__label {background-color: #d4ebff;}#sk-container-id-6 input.sk-hidden--visually {border: 0;clip: rect(1px 1px 1px 1px);clip: rect(1px, 1px, 1px, 1px);height: 1px;margin: -1px;overflow: hidden;padding: 0;position: absolute;width: 1px;}#sk-container-id-6 div.sk-estimator {font-family: monospace;background-color: #f0f8ff;border: 1px dotted black;border-radius: 0.25em;box-sizing: border-box;margin-bottom: 0.5em;}#sk-container-id-6 div.sk-estimator:hover {background-color: #d4ebff;}#sk-container-id-6 div.sk-parallel-item::after {content: \"\";width: 100%;border-bottom: 1px solid gray;flex-grow: 1;}#sk-container-id-6 div.sk-label:hover label.sk-toggleable__label {background-color: #d4ebff;}#sk-container-id-6 div.sk-serial::before {content: \"\";position: absolute;border-left: 1px solid gray;box-sizing: border-box;top: 0;bottom: 0;left: 50%;z-index: 0;}#sk-container-id-6 div.sk-serial {display: flex;flex-direction: column;align-items: center;background-color: white;padding-right: 0.2em;padding-left: 0.2em;position: relative;}#sk-container-id-6 div.sk-item {position: relative;z-index: 1;}#sk-container-id-6 div.sk-parallel {display: flex;align-items: stretch;justify-content: center;background-color: white;position: relative;}#sk-container-id-6 div.sk-item::before, #sk-container-id-6 div.sk-parallel-item::before {content: \"\";position: absolute;border-left: 1px solid gray;box-sizing: border-box;top: 0;bottom: 0;left: 50%;z-index: -1;}#sk-container-id-6 div.sk-parallel-item {display: flex;flex-direction: column;z-index: 1;position: relative;background-color: white;}#sk-container-id-6 div.sk-parallel-item:first-child::after {align-self: flex-end;width: 50%;}#sk-container-id-6 div.sk-parallel-item:last-child::after {align-self: flex-start;width: 50%;}#sk-container-id-6 div.sk-parallel-item:only-child::after {width: 0;}#sk-container-id-6 div.sk-dashed-wrapped {border: 1px dashed gray;margin: 0 0.4em 0.5em 0.4em;box-sizing: border-box;padding-bottom: 0.4em;background-color: white;}#sk-container-id-6 div.sk-label label {font-family: monospace;font-weight: bold;display: inline-block;line-height: 1.2em;}#sk-container-id-6 div.sk-label-container {text-align: center;}#sk-container-id-6 div.sk-container {/* jupyter's `normalize.less` sets `[hidden] { display: none; }` but bootstrap.min.css set `[hidden] { display: none !important; }` so we also need the `!important` here to be able to override the default hidden behavior on the sphinx rendered scikit-learn.org. See: https://github.com/scikit-learn/scikit-learn/issues/21755 */display: inline-block !important;position: relative;}#sk-container-id-6 div.sk-text-repr-fallback {display: none;}</style><div id=\"sk-container-id-6\" class=\"sk-top-container\"><div class=\"sk-text-repr-fallback\"><pre>XGBRegressor(base_score=0.5, booster=&#x27;gbtree&#x27;, callbacks=None,\n",
       "             colsample_bylevel=1, colsample_bynode=1, colsample_bytree=1,\n",
       "             early_stopping_rounds=None, enable_categorical=True,\n",
       "             eval_metric=None, feature_types=None, gamma=0, gpu_id=-1,\n",
       "             grow_policy=&#x27;depthwise&#x27;, importance_type=None,\n",
       "             interaction_constraints=&#x27;&#x27;, learning_rate=0.300000012, max_bin=256,\n",
       "             max_cat_threshold=64, max_cat_to_onehot=4, max_delta_step=0,\n",
       "             max_depth=6, max_leaves=0, min_child_weight=1, missing=nan,\n",
       "             monotone_constraints=&#x27;()&#x27;, n_estimators=100, n_jobs=0,\n",
       "             num_parallel_tree=1, predictor=&#x27;auto&#x27;, random_state=0, ...)</pre><b>In a Jupyter environment, please rerun this cell to show the HTML representation or trust the notebook. <br />On GitHub, the HTML representation is unable to render, please try loading this page with nbviewer.org.</b></div><div class=\"sk-container\" hidden><div class=\"sk-item\"><div class=\"sk-estimator sk-toggleable\"><input class=\"sk-toggleable__control sk-hidden--visually\" id=\"sk-estimator-id-18\" type=\"checkbox\" checked><label for=\"sk-estimator-id-18\" class=\"sk-toggleable__label sk-toggleable__label-arrow\">XGBRegressor</label><div class=\"sk-toggleable__content\"><pre>XGBRegressor(base_score=0.5, booster=&#x27;gbtree&#x27;, callbacks=None,\n",
       "             colsample_bylevel=1, colsample_bynode=1, colsample_bytree=1,\n",
       "             early_stopping_rounds=None, enable_categorical=True,\n",
       "             eval_metric=None, feature_types=None, gamma=0, gpu_id=-1,\n",
       "             grow_policy=&#x27;depthwise&#x27;, importance_type=None,\n",
       "             interaction_constraints=&#x27;&#x27;, learning_rate=0.300000012, max_bin=256,\n",
       "             max_cat_threshold=64, max_cat_to_onehot=4, max_delta_step=0,\n",
       "             max_depth=6, max_leaves=0, min_child_weight=1, missing=nan,\n",
       "             monotone_constraints=&#x27;()&#x27;, n_estimators=100, n_jobs=0,\n",
       "             num_parallel_tree=1, predictor=&#x27;auto&#x27;, random_state=0, ...)</pre></div></div></div></div></div>"
      ],
      "text/plain": [
       "XGBRegressor(base_score=0.5, booster='gbtree', callbacks=None,\n",
       "             colsample_bylevel=1, colsample_bynode=1, colsample_bytree=1,\n",
       "             early_stopping_rounds=None, enable_categorical=True,\n",
       "             eval_metric=None, feature_types=None, gamma=0, gpu_id=-1,\n",
       "             grow_policy='depthwise', importance_type=None,\n",
       "             interaction_constraints='', learning_rate=0.300000012, max_bin=256,\n",
       "             max_cat_threshold=64, max_cat_to_onehot=4, max_delta_step=0,\n",
       "             max_depth=6, max_leaves=0, min_child_weight=1, missing=nan,\n",
       "             monotone_constraints='()', n_estimators=100, n_jobs=0,\n",
       "             num_parallel_tree=1, predictor='auto', random_state=0, ...)"
      ]
     },
     "execution_count": 214,
     "metadata": {},
     "output_type": "execute_result"
    }
   ],
   "source": [
    "mdl2 = xgb.XGBRegressor(enable_categorical=True, tree_method=\"hist\")\n",
    "mdl2.fit(X_train, y_train, eval_set=[(X_test, y_test), (X_train, y_train)])"
   ]
  },
  {
   "cell_type": "code",
   "execution_count": 215,
   "id": "f636a90d-8420-43fd-8a79-45d5c7146d35",
   "metadata": {},
   "outputs": [],
   "source": [
    "mse = mean_squared_error(y_test, mdl2.predict(X_test), squared=False)"
   ]
  },
  {
   "cell_type": "code",
   "execution_count": 216,
   "id": "44a33cb6-40f8-4ac0-9fb3-01082a326cf3",
   "metadata": {},
   "outputs": [
    {
     "data": {
      "text/plain": [
       "236.17246091561486"
      ]
     },
     "execution_count": 216,
     "metadata": {},
     "output_type": "execute_result"
    }
   ],
   "source": [
    "mse"
   ]
  },
  {
   "cell_type": "code",
   "execution_count": 218,
   "id": "7b837a62-e141-4ebc-9108-462e6e1b6375",
   "metadata": {},
   "outputs": [
    {
     "data": {
      "text/plain": [
       "{'objective': 'reg:squarederror',\n",
       " 'base_score': 0.5,\n",
       " 'booster': 'gbtree',\n",
       " 'colsample_bylevel': 1,\n",
       " 'colsample_bynode': 1,\n",
       " 'colsample_bytree': 1,\n",
       " 'eval_metric': None,\n",
       " 'gamma': 0,\n",
       " 'gpu_id': -1,\n",
       " 'grow_policy': 'depthwise',\n",
       " 'interaction_constraints': '',\n",
       " 'learning_rate': 0.300000012,\n",
       " 'max_bin': 256,\n",
       " 'max_cat_threshold': 64,\n",
       " 'max_cat_to_onehot': 4,\n",
       " 'max_delta_step': 0,\n",
       " 'max_depth': 6,\n",
       " 'max_leaves': 0,\n",
       " 'min_child_weight': 1,\n",
       " 'monotone_constraints': '()',\n",
       " 'n_jobs': 0,\n",
       " 'num_parallel_tree': 1,\n",
       " 'predictor': 'auto',\n",
       " 'random_state': 0,\n",
       " 'reg_alpha': 0,\n",
       " 'reg_lambda': 1,\n",
       " 'sampling_method': 'uniform',\n",
       " 'scale_pos_weight': 1,\n",
       " 'subsample': 1,\n",
       " 'tree_method': 'hist',\n",
       " 'validate_parameters': 1,\n",
       " 'verbosity': None}"
      ]
     },
     "execution_count": 218,
     "metadata": {},
     "output_type": "execute_result"
    }
   ],
   "source": [
    "mdl2.get_xgb_params()"
   ]
  },
  {
   "cell_type": "code",
   "execution_count": null,
   "id": "779117ad-33c1-47a6-9149-cc4ab6595ec6",
   "metadata": {},
   "outputs": [],
   "source": []
  }
 ],
 "metadata": {
  "kernelspec": {
   "display_name": "Python 3 (ipykernel)",
   "language": "python",
   "name": "python3"
  },
  "language_info": {
   "codemirror_mode": {
    "name": "ipython",
    "version": 3
   },
   "file_extension": ".py",
   "mimetype": "text/x-python",
   "name": "python",
   "nbconvert_exporter": "python",
   "pygments_lexer": "ipython3",
   "version": "3.9.13"
  }
 },
 "nbformat": 4,
 "nbformat_minor": 5
}

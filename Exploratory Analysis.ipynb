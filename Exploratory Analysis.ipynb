{
 "cells": [
  {
   "cell_type": "code",
   "execution_count": 1,
   "id": "3ff78b3e-2c5d-4363-a281-ee6e1ff5f24e",
   "metadata": {},
   "outputs": [],
   "source": [
    "import os\n",
    "import pandas as pd\n",
    "import dask.dataframe as dd\n",
    "from s3fs import S3FileSystem\n",
    "import numpy as np\n",
    "import coiled\n",
    "from distributed import Client\n",
    "import seaborn as sns\n",
    "import matplotlib.pyplot as plt"
   ]
  },
  {
   "cell_type": "code",
   "execution_count": 2,
   "id": "08a34a48-a29c-4c48-a34b-ca6b0445dd1e",
   "metadata": {
    "scrolled": true,
    "tags": []
   },
   "outputs": [],
   "source": [
    "# cluster = coiled.Cluster(\n",
    "#     # worker_vm_types=[\"m6i.4xlarge\"],\n",
    "#     worker_vm_types=[\"m6i.xlarge\"],\n",
    "#     scheduler_vm_types=[\"m6i.2xlarge\"],\n",
    "#     name=\"dask-engineering-20d6aa4e-3\",\n",
    "#     package_sync=True, # copy local packages,\n",
    "#     shutdown_on_close=False,  # reuse cluster across runs\n",
    "#     show_widget=False,\n",
    "#     n_workers=20,\n",
    "#     use_best_zone=True,\n",
    "#     account=\"dask-engineering\",\n",
    "#     backend_options={\"region\": \"us-east-2\", \"spot\": True, \"spot_on_demand_fallback\": True}\n",
    "#     )"
   ]
  },
  {
   "cell_type": "code",
   "execution_count": 3,
   "id": "a0d04b0e-d44d-4845-8a6c-d80b7269d36e",
   "metadata": {},
   "outputs": [],
   "source": [
    "# client = Client(cluster)\n",
    "# client"
   ]
  },
  {
   "cell_type": "code",
   "execution_count": null,
   "id": "75579349-b419-42a7-8a9a-47fd2b9a30b8",
   "metadata": {},
   "outputs": [],
   "source": [
    "def subset_data():\n",
    "    print(\"loading data\")\n",
    "    to_exclude=[\"string\", \"category\", \"object\"]\n",
    "    ddf= dd.read_parquet(\"s3://prefect-dask-examples/nyc-uber-lyft/processed_files.parquet\")\n",
    "    # ddf = ddf.drop(columns=[\"base_passenger_fare\", \"sales_tax\", \"bcf\", \"congestion_surcharge\", \"tips\", \"driver_pay\", \"dropoff_datetime\"])\n",
    "    ddf = ddf.assign(accessible_vehicle = 1)\n",
    "    print(\"Make accessible feature\")\n",
    "    ddf.accessible_vehicle = ddf.accessible_vehicle.where(ddf.on_scene_datetime.isnull(),0)  # Only applies if the vehicle is wheelchair accessible\n",
    "    ddf = ddf.assign(pickup_month = ddf.pickup_datetime.dt.month)\n",
    "    ddf = ddf.assign(pickup_dow = ddf.pickup_datetime.dt.dayofweek)\n",
    "    ddf = ddf.assign(pickup_hour = ddf.pickup_datetime.dt.hour)\n",
    "    \n",
    "    ddf = ddf.drop(columns=['on_scene_datetime', 'request_datetime',\n",
    "                            'pickup_datetime', 'dispatching_base_num',\n",
    "                            'originating_base_num', 'shared_request_flag',\n",
    "                           'shared_match_flag' 'dropoff_datetime',\n",
    "                           ]\n",
    "                  )\n",
    "\n",
    "    ddf = ddf.dropna(how=\"any\")\n",
    "    ddf = ddf.repartition(partition_size=\"128MB\")\n",
    "    ddf = ddf.reset_index(drop=True)\n",
    "\n",
    "    categories = [\"pickup_month\", \"pickup_dow\", \"pickup_hour\",\n",
    "                 \"dropoff_month\", \"dropoff_dow\", \"dropoff_hour\",\n",
    "                 \"hvfhs_license_num\",]\n",
    "    for cat in categories:\n",
    "        ddf[cat] = ddf[cat].astype('category')\n",
    "    ddf = ddf.categorize(columns=categories)\n",
    "\n",
    "    df = ddf.sample(frac=0.0025).compute()\n",
    "    df.to_parquet(\"data/rides.parquet\")"
   ]
  },
  {
   "cell_type": "code",
   "execution_count": null,
   "id": "ed469646-3cf5-4ea4-88e1-b97b069c387a",
   "metadata": {
    "tags": []
   },
   "outputs": [],
   "source": [
    "subset_data()"
   ]
  },
  {
   "cell_type": "code",
   "execution_count": null,
   "id": "ebabc941-022e-46db-ba21-1f67a5f23f8e",
   "metadata": {},
   "outputs": [],
   "source": [
    "client.close()\n",
    "cluster.shutdown()"
   ]
  },
  {
   "cell_type": "markdown",
   "id": "683bf991-af34-41a4-93d7-d5b5e711a51c",
   "metadata": {},
   "source": [
    "### Let's grab some information about taxi zones / boroughs"
   ]
  },
  {
   "cell_type": "code",
   "execution_count": 4,
   "id": "8c2687e2-5d55-4647-9234-979939f29ee2",
   "metadata": {},
   "outputs": [
    {
     "data": {
      "text/html": [
       "<div>\n",
       "<style scoped>\n",
       "    .dataframe tbody tr th:only-of-type {\n",
       "        vertical-align: middle;\n",
       "    }\n",
       "\n",
       "    .dataframe tbody tr th {\n",
       "        vertical-align: top;\n",
       "    }\n",
       "\n",
       "    .dataframe thead th {\n",
       "        text-align: right;\n",
       "    }\n",
       "</style>\n",
       "<table border=\"1\" class=\"dataframe\">\n",
       "  <thead>\n",
       "    <tr style=\"text-align: right;\">\n",
       "      <th></th>\n",
       "      <th>LocationID</th>\n",
       "      <th>Borough</th>\n",
       "    </tr>\n",
       "  </thead>\n",
       "  <tbody>\n",
       "    <tr>\n",
       "      <th>0</th>\n",
       "      <td>1</td>\n",
       "      <td>EWR</td>\n",
       "    </tr>\n",
       "    <tr>\n",
       "      <th>1</th>\n",
       "      <td>2</td>\n",
       "      <td>Queens</td>\n",
       "    </tr>\n",
       "    <tr>\n",
       "      <th>2</th>\n",
       "      <td>3</td>\n",
       "      <td>Bronx</td>\n",
       "    </tr>\n",
       "    <tr>\n",
       "      <th>3</th>\n",
       "      <td>4</td>\n",
       "      <td>Manhattan</td>\n",
       "    </tr>\n",
       "    <tr>\n",
       "      <th>4</th>\n",
       "      <td>5</td>\n",
       "      <td>Staten Island</td>\n",
       "    </tr>\n",
       "  </tbody>\n",
       "</table>\n",
       "</div>"
      ],
      "text/plain": [
       "   LocationID        Borough\n",
       "0           1            EWR\n",
       "1           2         Queens\n",
       "2           3          Bronx\n",
       "3           4      Manhattan\n",
       "4           5  Staten Island"
      ]
     },
     "execution_count": 4,
     "metadata": {},
     "output_type": "execute_result"
    }
   ],
   "source": [
    "taxi_df = pd.read_csv(\"data/taxi+_zone_lookup.csv\", usecols=[\"LocationID\", \"Borough\"])\n",
    "taxi_df.head()"
   ]
  },
  {
   "cell_type": "code",
   "execution_count": 5,
   "id": "2c6d27ea-095c-4375-8be8-748fd2a40ab2",
   "metadata": {},
   "outputs": [
    {
     "data": {
      "text/plain": [
       "['EWR', 'Queens', 'Bronx', 'Manhattan', 'Staten Island', 'Brooklyn', 'Unknown']"
      ]
     },
     "execution_count": 5,
     "metadata": {},
     "output_type": "execute_result"
    }
   ],
   "source": [
    "# These are the unique Boroughs in the taxi zone lookup table\n",
    "taxi_df.Borough.unique().tolist()"
   ]
  },
  {
   "cell_type": "markdown",
   "id": "e9ebbde5-67a2-4702-be88-cde48c35ad47",
   "metadata": {},
   "source": [
    "The taxi_df includes two `LocationID` values that correspond to `Unknown` Boroughs.  \n",
    "We need to know if these exist in the dataset"
   ]
  },
  {
   "cell_type": "code",
   "execution_count": 6,
   "id": "0b3c34a9-773c-4132-9dfe-cd5e57761f29",
   "metadata": {},
   "outputs": [
    {
     "data": {
      "text/html": [
       "<div>\n",
       "<style scoped>\n",
       "    .dataframe tbody tr th:only-of-type {\n",
       "        vertical-align: middle;\n",
       "    }\n",
       "\n",
       "    .dataframe tbody tr th {\n",
       "        vertical-align: top;\n",
       "    }\n",
       "\n",
       "    .dataframe thead th {\n",
       "        text-align: right;\n",
       "    }\n",
       "</style>\n",
       "<table border=\"1\" class=\"dataframe\">\n",
       "  <thead>\n",
       "    <tr style=\"text-align: right;\">\n",
       "      <th></th>\n",
       "      <th>LocationID</th>\n",
       "      <th>Borough</th>\n",
       "    </tr>\n",
       "  </thead>\n",
       "  <tbody>\n",
       "    <tr>\n",
       "      <th>263</th>\n",
       "      <td>264</td>\n",
       "      <td>Unknown</td>\n",
       "    </tr>\n",
       "    <tr>\n",
       "      <th>264</th>\n",
       "      <td>265</td>\n",
       "      <td>Unknown</td>\n",
       "    </tr>\n",
       "  </tbody>\n",
       "</table>\n",
       "</div>"
      ],
      "text/plain": [
       "     LocationID  Borough\n",
       "263         264  Unknown\n",
       "264         265  Unknown"
      ]
     },
     "execution_count": 6,
     "metadata": {},
     "output_type": "execute_result"
    }
   ],
   "source": [
    "taxi_df.loc[taxi_df['Borough'] == \"Unknown\"]"
   ]
  },
  {
   "cell_type": "markdown",
   "id": "95795d0c-70e8-4666-8465-a8bc2babf753",
   "metadata": {},
   "source": [
    "## And take a look at the distribution of travel times and the presence of `Unknown` boroughs"
   ]
  },
  {
   "cell_type": "code",
   "execution_count": 7,
   "id": "66fc316e-e87c-4ab7-895a-44e31a8c8c27",
   "metadata": {},
   "outputs": [
    {
     "data": {
      "text/html": [
       "<div>\n",
       "<style scoped>\n",
       "    .dataframe tbody tr th:only-of-type {\n",
       "        vertical-align: middle;\n",
       "    }\n",
       "\n",
       "    .dataframe tbody tr th {\n",
       "        vertical-align: top;\n",
       "    }\n",
       "\n",
       "    .dataframe thead th {\n",
       "        text-align: right;\n",
       "    }\n",
       "</style>\n",
       "<table border=\"1\" class=\"dataframe\">\n",
       "  <thead>\n",
       "    <tr style=\"text-align: right;\">\n",
       "      <th></th>\n",
       "      <th>hvfhs_license_num</th>\n",
       "      <th>dropoff_datetime</th>\n",
       "      <th>PULocationID</th>\n",
       "      <th>DOLocationID</th>\n",
       "      <th>trip_miles</th>\n",
       "      <th>trip_time</th>\n",
       "      <th>base_passenger_fare</th>\n",
       "      <th>tolls</th>\n",
       "      <th>bcf</th>\n",
       "      <th>sales_tax</th>\n",
       "      <th>...</th>\n",
       "      <th>access_a_ride_flag</th>\n",
       "      <th>wav_request_flag</th>\n",
       "      <th>wav_match_flag</th>\n",
       "      <th>accessible_vehicle</th>\n",
       "      <th>pickup_month</th>\n",
       "      <th>pickup_dow</th>\n",
       "      <th>pickup_hour</th>\n",
       "      <th>dropoff_month</th>\n",
       "      <th>dropoff_dow</th>\n",
       "      <th>dropoff_hour</th>\n",
       "    </tr>\n",
       "  </thead>\n",
       "  <tbody>\n",
       "    <tr>\n",
       "      <th>0</th>\n",
       "      <td>HV0003</td>\n",
       "      <td>2019-04-02 22:36:00</td>\n",
       "      <td>235</td>\n",
       "      <td>136</td>\n",
       "      <td>1.55</td>\n",
       "      <td>467</td>\n",
       "      <td>6.48</td>\n",
       "      <td>0.0</td>\n",
       "      <td>0.16</td>\n",
       "      <td>0.58</td>\n",
       "      <td>...</td>\n",
       "      <td></td>\n",
       "      <td>N</td>\n",
       "      <td></td>\n",
       "      <td>0</td>\n",
       "      <td>4</td>\n",
       "      <td>1</td>\n",
       "      <td>22</td>\n",
       "      <td>4</td>\n",
       "      <td>1</td>\n",
       "      <td>22</td>\n",
       "    </tr>\n",
       "    <tr>\n",
       "      <th>1</th>\n",
       "      <td>HV0003</td>\n",
       "      <td>2019-04-07 21:17:15</td>\n",
       "      <td>164</td>\n",
       "      <td>233</td>\n",
       "      <td>1.13</td>\n",
       "      <td>573</td>\n",
       "      <td>8.54</td>\n",
       "      <td>0.0</td>\n",
       "      <td>0.21</td>\n",
       "      <td>0.76</td>\n",
       "      <td>...</td>\n",
       "      <td></td>\n",
       "      <td>N</td>\n",
       "      <td></td>\n",
       "      <td>0</td>\n",
       "      <td>4</td>\n",
       "      <td>6</td>\n",
       "      <td>21</td>\n",
       "      <td>4</td>\n",
       "      <td>6</td>\n",
       "      <td>21</td>\n",
       "    </tr>\n",
       "    <tr>\n",
       "      <th>2</th>\n",
       "      <td>HV0003</td>\n",
       "      <td>2019-04-08 00:15:56</td>\n",
       "      <td>40</td>\n",
       "      <td>257</td>\n",
       "      <td>3.60</td>\n",
       "      <td>546</td>\n",
       "      <td>4.75</td>\n",
       "      <td>0.0</td>\n",
       "      <td>0.12</td>\n",
       "      <td>0.42</td>\n",
       "      <td>...</td>\n",
       "      <td></td>\n",
       "      <td>N</td>\n",
       "      <td></td>\n",
       "      <td>0</td>\n",
       "      <td>4</td>\n",
       "      <td>0</td>\n",
       "      <td>0</td>\n",
       "      <td>4</td>\n",
       "      <td>0</td>\n",
       "      <td>0</td>\n",
       "    </tr>\n",
       "    <tr>\n",
       "      <th>3</th>\n",
       "      <td>HV0003</td>\n",
       "      <td>2019-04-02 21:24:42</td>\n",
       "      <td>168</td>\n",
       "      <td>69</td>\n",
       "      <td>2.12</td>\n",
       "      <td>699</td>\n",
       "      <td>9.01</td>\n",
       "      <td>0.0</td>\n",
       "      <td>0.23</td>\n",
       "      <td>0.80</td>\n",
       "      <td>...</td>\n",
       "      <td></td>\n",
       "      <td>N</td>\n",
       "      <td></td>\n",
       "      <td>0</td>\n",
       "      <td>4</td>\n",
       "      <td>1</td>\n",
       "      <td>21</td>\n",
       "      <td>4</td>\n",
       "      <td>1</td>\n",
       "      <td>21</td>\n",
       "    </tr>\n",
       "    <tr>\n",
       "      <th>4</th>\n",
       "      <td>HV0003</td>\n",
       "      <td>2019-04-03 06:41:02</td>\n",
       "      <td>141</td>\n",
       "      <td>161</td>\n",
       "      <td>1.74</td>\n",
       "      <td>514</td>\n",
       "      <td>6.00</td>\n",
       "      <td>0.0</td>\n",
       "      <td>0.16</td>\n",
       "      <td>0.58</td>\n",
       "      <td>...</td>\n",
       "      <td></td>\n",
       "      <td>N</td>\n",
       "      <td></td>\n",
       "      <td>0</td>\n",
       "      <td>4</td>\n",
       "      <td>2</td>\n",
       "      <td>6</td>\n",
       "      <td>4</td>\n",
       "      <td>2</td>\n",
       "      <td>6</td>\n",
       "    </tr>\n",
       "  </tbody>\n",
       "</table>\n",
       "<p>5 rows × 24 columns</p>\n",
       "</div>"
      ],
      "text/plain": [
       "  hvfhs_license_num    dropoff_datetime  PULocationID  DOLocationID  \\\n",
       "0            HV0003 2019-04-02 22:36:00           235           136   \n",
       "1            HV0003 2019-04-07 21:17:15           164           233   \n",
       "2            HV0003 2019-04-08 00:15:56            40           257   \n",
       "3            HV0003 2019-04-02 21:24:42           168            69   \n",
       "4            HV0003 2019-04-03 06:41:02           141           161   \n",
       "\n",
       "   trip_miles  trip_time  base_passenger_fare  tolls   bcf  sales_tax  ...  \\\n",
       "0        1.55        467                 6.48    0.0  0.16       0.58  ...   \n",
       "1        1.13        573                 8.54    0.0  0.21       0.76  ...   \n",
       "2        3.60        546                 4.75    0.0  0.12       0.42  ...   \n",
       "3        2.12        699                 9.01    0.0  0.23       0.80  ...   \n",
       "4        1.74        514                 6.00    0.0  0.16       0.58  ...   \n",
       "\n",
       "   access_a_ride_flag wav_request_flag  wav_match_flag  accessible_vehicle  \\\n",
       "0                                    N                                   0   \n",
       "1                                    N                                   0   \n",
       "2                                    N                                   0   \n",
       "3                                    N                                   0   \n",
       "4                                    N                                   0   \n",
       "\n",
       "  pickup_month pickup_dow pickup_hour  dropoff_month  dropoff_dow  \\\n",
       "0            4          1          22              4            1   \n",
       "1            4          6          21              4            6   \n",
       "2            4          0           0              4            0   \n",
       "3            4          1          21              4            1   \n",
       "4            4          2           6              4            2   \n",
       "\n",
       "   dropoff_hour  \n",
       "0            22  \n",
       "1            21  \n",
       "2             0  \n",
       "3            21  \n",
       "4             6  \n",
       "\n",
       "[5 rows x 24 columns]"
      ]
     },
     "execution_count": 7,
     "metadata": {},
     "output_type": "execute_result"
    }
   ],
   "source": [
    "df = pd.read_parquet(\"data/rides.parquet\").reset_index(drop=True)\n",
    "df.head()"
   ]
  },
  {
   "cell_type": "code",
   "execution_count": 8,
   "id": "7d6ce917-a029-4125-94ce-a2a53c1894d9",
   "metadata": {},
   "outputs": [
    {
     "data": {
      "text/plain": [
       "1.0"
      ]
     },
     "execution_count": 8,
     "metadata": {},
     "output_type": "execute_result"
    }
   ],
   "source": [
    "len(df.index) // 1e6"
   ]
  },
  {
   "cell_type": "code",
   "execution_count": 9,
   "id": "4388155d-f1ad-46cc-8d73-da146f2092c7",
   "metadata": {},
   "outputs": [
    {
     "data": {
      "text/plain": [
       "599.0724143981934"
      ]
     },
     "execution_count": 9,
     "metadata": {},
     "output_type": "execute_result"
    }
   ],
   "source": [
    "df.memory_usage(deep=True).sum() / 2**20"
   ]
  },
  {
   "cell_type": "markdown",
   "id": "f5a03fc5-6762-41dc-ba4e-3c4ed7839f5c",
   "metadata": {},
   "source": [
    "We can see from below that over 9000 entries exist where travel occurs in or out of a borough that \n",
    "is an `Unknown` zone."
   ]
  },
  {
   "cell_type": "code",
   "execution_count": 10,
   "id": "577572e6-4c59-42af-bdfa-5a3faa71f372",
   "metadata": {},
   "outputs": [
    {
     "data": {
      "text/html": [
       "<div>\n",
       "<style scoped>\n",
       "    .dataframe tbody tr th:only-of-type {\n",
       "        vertical-align: middle;\n",
       "    }\n",
       "\n",
       "    .dataframe tbody tr th {\n",
       "        vertical-align: top;\n",
       "    }\n",
       "\n",
       "    .dataframe thead th {\n",
       "        text-align: right;\n",
       "    }\n",
       "</style>\n",
       "<table border=\"1\" class=\"dataframe\">\n",
       "  <thead>\n",
       "    <tr style=\"text-align: right;\">\n",
       "      <th></th>\n",
       "      <th>hvfhs_license_num</th>\n",
       "      <th>dropoff_datetime</th>\n",
       "      <th>PULocationID</th>\n",
       "      <th>DOLocationID</th>\n",
       "      <th>trip_miles</th>\n",
       "      <th>trip_time</th>\n",
       "      <th>base_passenger_fare</th>\n",
       "      <th>tolls</th>\n",
       "      <th>bcf</th>\n",
       "      <th>sales_tax</th>\n",
       "      <th>...</th>\n",
       "      <th>access_a_ride_flag</th>\n",
       "      <th>wav_request_flag</th>\n",
       "      <th>wav_match_flag</th>\n",
       "      <th>accessible_vehicle</th>\n",
       "      <th>pickup_month</th>\n",
       "      <th>pickup_dow</th>\n",
       "      <th>pickup_hour</th>\n",
       "      <th>dropoff_month</th>\n",
       "      <th>dropoff_dow</th>\n",
       "      <th>dropoff_hour</th>\n",
       "    </tr>\n",
       "  </thead>\n",
       "  <tbody>\n",
       "    <tr>\n",
       "      <th>147</th>\n",
       "      <td>HV0003</td>\n",
       "      <td>2019-04-03 07:55:07</td>\n",
       "      <td>263</td>\n",
       "      <td>236</td>\n",
       "      <td>0.590</td>\n",
       "      <td>495</td>\n",
       "      <td>4.53</td>\n",
       "      <td>0.0</td>\n",
       "      <td>0.12</td>\n",
       "      <td>0.44</td>\n",
       "      <td>...</td>\n",
       "      <td></td>\n",
       "      <td>N</td>\n",
       "      <td></td>\n",
       "      <td>0</td>\n",
       "      <td>4</td>\n",
       "      <td>2</td>\n",
       "      <td>7</td>\n",
       "      <td>4</td>\n",
       "      <td>2</td>\n",
       "      <td>7</td>\n",
       "    </tr>\n",
       "    <tr>\n",
       "      <th>511</th>\n",
       "      <td>HV0005</td>\n",
       "      <td>2021-04-10 18:16:44</td>\n",
       "      <td>263</td>\n",
       "      <td>140</td>\n",
       "      <td>0.665</td>\n",
       "      <td>301</td>\n",
       "      <td>9.16</td>\n",
       "      <td>0.0</td>\n",
       "      <td>0.27</td>\n",
       "      <td>0.81</td>\n",
       "      <td>...</td>\n",
       "      <td>N</td>\n",
       "      <td>N</td>\n",
       "      <td>N</td>\n",
       "      <td>1</td>\n",
       "      <td>4</td>\n",
       "      <td>5</td>\n",
       "      <td>18</td>\n",
       "      <td>4</td>\n",
       "      <td>5</td>\n",
       "      <td>18</td>\n",
       "    </tr>\n",
       "    <tr>\n",
       "      <th>650</th>\n",
       "      <td>HV0003</td>\n",
       "      <td>2021-04-10 16:48:36</td>\n",
       "      <td>263</td>\n",
       "      <td>265</td>\n",
       "      <td>8.510</td>\n",
       "      <td>2968</td>\n",
       "      <td>48.13</td>\n",
       "      <td>20.0</td>\n",
       "      <td>2.04</td>\n",
       "      <td>0.00</td>\n",
       "      <td>...</td>\n",
       "      <td></td>\n",
       "      <td>N</td>\n",
       "      <td>N</td>\n",
       "      <td>0</td>\n",
       "      <td>4</td>\n",
       "      <td>5</td>\n",
       "      <td>15</td>\n",
       "      <td>4</td>\n",
       "      <td>5</td>\n",
       "      <td>16</td>\n",
       "    </tr>\n",
       "    <tr>\n",
       "      <th>802</th>\n",
       "      <td>HV0003</td>\n",
       "      <td>2021-04-10 19:50:42</td>\n",
       "      <td>263</td>\n",
       "      <td>144</td>\n",
       "      <td>6.590</td>\n",
       "      <td>1221</td>\n",
       "      <td>28.11</td>\n",
       "      <td>0.0</td>\n",
       "      <td>0.84</td>\n",
       "      <td>2.49</td>\n",
       "      <td>...</td>\n",
       "      <td></td>\n",
       "      <td>N</td>\n",
       "      <td>N</td>\n",
       "      <td>0</td>\n",
       "      <td>4</td>\n",
       "      <td>5</td>\n",
       "      <td>19</td>\n",
       "      <td>4</td>\n",
       "      <td>5</td>\n",
       "      <td>19</td>\n",
       "    </tr>\n",
       "    <tr>\n",
       "      <th>877</th>\n",
       "      <td>HV0005</td>\n",
       "      <td>2021-04-10 18:21:10</td>\n",
       "      <td>263</td>\n",
       "      <td>230</td>\n",
       "      <td>3.853</td>\n",
       "      <td>1005</td>\n",
       "      <td>21.81</td>\n",
       "      <td>0.0</td>\n",
       "      <td>0.65</td>\n",
       "      <td>1.94</td>\n",
       "      <td>...</td>\n",
       "      <td>N</td>\n",
       "      <td>N</td>\n",
       "      <td>N</td>\n",
       "      <td>1</td>\n",
       "      <td>4</td>\n",
       "      <td>5</td>\n",
       "      <td>18</td>\n",
       "      <td>4</td>\n",
       "      <td>5</td>\n",
       "      <td>18</td>\n",
       "    </tr>\n",
       "    <tr>\n",
       "      <th>...</th>\n",
       "      <td>...</td>\n",
       "      <td>...</td>\n",
       "      <td>...</td>\n",
       "      <td>...</td>\n",
       "      <td>...</td>\n",
       "      <td>...</td>\n",
       "      <td>...</td>\n",
       "      <td>...</td>\n",
       "      <td>...</td>\n",
       "      <td>...</td>\n",
       "      <td>...</td>\n",
       "      <td>...</td>\n",
       "      <td>...</td>\n",
       "      <td>...</td>\n",
       "      <td>...</td>\n",
       "      <td>...</td>\n",
       "      <td>...</td>\n",
       "      <td>...</td>\n",
       "      <td>...</td>\n",
       "      <td>...</td>\n",
       "      <td>...</td>\n",
       "    </tr>\n",
       "    <tr>\n",
       "      <th>1621703</th>\n",
       "      <td>HV0005</td>\n",
       "      <td>2021-02-05 09:09:02</td>\n",
       "      <td>263</td>\n",
       "      <td>100</td>\n",
       "      <td>3.232</td>\n",
       "      <td>1608</td>\n",
       "      <td>18.53</td>\n",
       "      <td>0.0</td>\n",
       "      <td>0.56</td>\n",
       "      <td>1.65</td>\n",
       "      <td>...</td>\n",
       "      <td>N</td>\n",
       "      <td>N</td>\n",
       "      <td>N</td>\n",
       "      <td>1</td>\n",
       "      <td>2</td>\n",
       "      <td>4</td>\n",
       "      <td>8</td>\n",
       "      <td>2</td>\n",
       "      <td>4</td>\n",
       "      <td>9</td>\n",
       "    </tr>\n",
       "    <tr>\n",
       "      <th>1622246</th>\n",
       "      <td>HV0003</td>\n",
       "      <td>2019-04-01 14:09:47</td>\n",
       "      <td>263</td>\n",
       "      <td>140</td>\n",
       "      <td>2.450</td>\n",
       "      <td>976</td>\n",
       "      <td>16.01</td>\n",
       "      <td>0.0</td>\n",
       "      <td>0.40</td>\n",
       "      <td>1.42</td>\n",
       "      <td>...</td>\n",
       "      <td></td>\n",
       "      <td>N</td>\n",
       "      <td></td>\n",
       "      <td>0</td>\n",
       "      <td>4</td>\n",
       "      <td>0</td>\n",
       "      <td>13</td>\n",
       "      <td>4</td>\n",
       "      <td>0</td>\n",
       "      <td>14</td>\n",
       "    </tr>\n",
       "    <tr>\n",
       "      <th>1622279</th>\n",
       "      <td>HV0003</td>\n",
       "      <td>2019-04-03 17:13:58</td>\n",
       "      <td>263</td>\n",
       "      <td>265</td>\n",
       "      <td>12.890</td>\n",
       "      <td>3453</td>\n",
       "      <td>65.42</td>\n",
       "      <td>20.0</td>\n",
       "      <td>2.14</td>\n",
       "      <td>0.00</td>\n",
       "      <td>...</td>\n",
       "      <td></td>\n",
       "      <td>N</td>\n",
       "      <td></td>\n",
       "      <td>0</td>\n",
       "      <td>4</td>\n",
       "      <td>2</td>\n",
       "      <td>16</td>\n",
       "      <td>4</td>\n",
       "      <td>2</td>\n",
       "      <td>17</td>\n",
       "    </tr>\n",
       "    <tr>\n",
       "      <th>1622656</th>\n",
       "      <td>HV0003</td>\n",
       "      <td>2019-04-03 07:32:45</td>\n",
       "      <td>263</td>\n",
       "      <td>140</td>\n",
       "      <td>1.410</td>\n",
       "      <td>466</td>\n",
       "      <td>8.61</td>\n",
       "      <td>0.0</td>\n",
       "      <td>0.22</td>\n",
       "      <td>0.76</td>\n",
       "      <td>...</td>\n",
       "      <td></td>\n",
       "      <td>N</td>\n",
       "      <td></td>\n",
       "      <td>0</td>\n",
       "      <td>4</td>\n",
       "      <td>2</td>\n",
       "      <td>7</td>\n",
       "      <td>4</td>\n",
       "      <td>2</td>\n",
       "      <td>7</td>\n",
       "    </tr>\n",
       "    <tr>\n",
       "      <th>1622717</th>\n",
       "      <td>HV0003</td>\n",
       "      <td>2019-04-03 09:31:02</td>\n",
       "      <td>263</td>\n",
       "      <td>236</td>\n",
       "      <td>0.720</td>\n",
       "      <td>337</td>\n",
       "      <td>7.18</td>\n",
       "      <td>0.0</td>\n",
       "      <td>0.18</td>\n",
       "      <td>0.64</td>\n",
       "      <td>...</td>\n",
       "      <td></td>\n",
       "      <td>N</td>\n",
       "      <td></td>\n",
       "      <td>0</td>\n",
       "      <td>4</td>\n",
       "      <td>2</td>\n",
       "      <td>9</td>\n",
       "      <td>4</td>\n",
       "      <td>2</td>\n",
       "      <td>9</td>\n",
       "    </tr>\n",
       "  </tbody>\n",
       "</table>\n",
       "<p>9111 rows × 24 columns</p>\n",
       "</div>"
      ],
      "text/plain": [
       "        hvfhs_license_num    dropoff_datetime  PULocationID  DOLocationID  \\\n",
       "147                HV0003 2019-04-03 07:55:07           263           236   \n",
       "511                HV0005 2021-04-10 18:16:44           263           140   \n",
       "650                HV0003 2021-04-10 16:48:36           263           265   \n",
       "802                HV0003 2021-04-10 19:50:42           263           144   \n",
       "877                HV0005 2021-04-10 18:21:10           263           230   \n",
       "...                   ...                 ...           ...           ...   \n",
       "1621703            HV0005 2021-02-05 09:09:02           263           100   \n",
       "1622246            HV0003 2019-04-01 14:09:47           263           140   \n",
       "1622279            HV0003 2019-04-03 17:13:58           263           265   \n",
       "1622656            HV0003 2019-04-03 07:32:45           263           140   \n",
       "1622717            HV0003 2019-04-03 09:31:02           263           236   \n",
       "\n",
       "         trip_miles  trip_time  base_passenger_fare  tolls   bcf  sales_tax  \\\n",
       "147           0.590        495                 4.53    0.0  0.12       0.44   \n",
       "511           0.665        301                 9.16    0.0  0.27       0.81   \n",
       "650           8.510       2968                48.13   20.0  2.04       0.00   \n",
       "802           6.590       1221                28.11    0.0  0.84       2.49   \n",
       "877           3.853       1005                21.81    0.0  0.65       1.94   \n",
       "...             ...        ...                  ...    ...   ...        ...   \n",
       "1621703       3.232       1608                18.53    0.0  0.56       1.65   \n",
       "1622246       2.450        976                16.01    0.0  0.40       1.42   \n",
       "1622279      12.890       3453                65.42   20.0  2.14       0.00   \n",
       "1622656       1.410        466                 8.61    0.0  0.22       0.76   \n",
       "1622717       0.720        337                 7.18    0.0  0.18       0.64   \n",
       "\n",
       "         ...  access_a_ride_flag wav_request_flag  wav_match_flag  \\\n",
       "147      ...                                    N                   \n",
       "511      ...                   N                N               N   \n",
       "650      ...                                    N               N   \n",
       "802      ...                                    N               N   \n",
       "877      ...                   N                N               N   \n",
       "...      ...                 ...              ...             ...   \n",
       "1621703  ...                   N                N               N   \n",
       "1622246  ...                                    N                   \n",
       "1622279  ...                                    N                   \n",
       "1622656  ...                                    N                   \n",
       "1622717  ...                                    N                   \n",
       "\n",
       "         accessible_vehicle pickup_month pickup_dow pickup_hour  \\\n",
       "147                       0            4          2           7   \n",
       "511                       1            4          5          18   \n",
       "650                       0            4          5          15   \n",
       "802                       0            4          5          19   \n",
       "877                       1            4          5          18   \n",
       "...                     ...          ...        ...         ...   \n",
       "1621703                   1            2          4           8   \n",
       "1622246                   0            4          0          13   \n",
       "1622279                   0            4          2          16   \n",
       "1622656                   0            4          2           7   \n",
       "1622717                   0            4          2           9   \n",
       "\n",
       "         dropoff_month  dropoff_dow  dropoff_hour  \n",
       "147                  4            2             7  \n",
       "511                  4            5            18  \n",
       "650                  4            5            16  \n",
       "802                  4            5            19  \n",
       "877                  4            5            18  \n",
       "...                ...          ...           ...  \n",
       "1621703              2            4             9  \n",
       "1622246              4            0            14  \n",
       "1622279              4            2            17  \n",
       "1622656              4            2             7  \n",
       "1622717              4            2             9  \n",
       "\n",
       "[9111 rows x 24 columns]"
      ]
     },
     "execution_count": 10,
     "metadata": {},
     "output_type": "execute_result"
    }
   ],
   "source": [
    "df.loc[df.PULocationID.isin([263, 264])]"
   ]
  },
  {
   "cell_type": "markdown",
   "id": "f9495249-94fa-4f9e-925e-db5f999a9a4a",
   "metadata": {},
   "source": [
    "## We can see from the below that, as expected, our travel times are not normally distributed"
   ]
  },
  {
   "cell_type": "code",
   "execution_count": 11,
   "id": "78164ffb-c24e-489d-be0a-831e052c52a8",
   "metadata": {},
   "outputs": [
    {
     "data": {
      "text/plain": [
       "<AxesSubplot: >"
      ]
     },
     "execution_count": 11,
     "metadata": {},
     "output_type": "execute_result"
    },
    {
     "data": {
      "image/png": "[encoded data removed]",
      "text/plain": [
       "<Figure size 640x480 with 1 Axes>"
      ]
     },
     "metadata": {},
     "output_type": "display_data"
    }
   ],
   "source": [
    "df['trip_time'].hist(bins=100)"
   ]
  },
  {
   "cell_type": "code",
   "execution_count": 12,
   "id": "2e119e09-3270-4779-ab70-29e3373c51de",
   "metadata": {},
   "outputs": [
    {
     "data": {
      "text/plain": [
       "0"
      ]
     },
     "execution_count": 12,
     "metadata": {},
     "output_type": "execute_result"
    }
   ],
   "source": [
    "df['trip_time'].min()"
   ]
  },
  {
   "cell_type": "code",
   "execution_count": 13,
   "id": "38b4848f-5924-4a17-909f-d6dde48591b1",
   "metadata": {},
   "outputs": [
    {
     "data": {
      "text/plain": [
       "80807"
      ]
     },
     "execution_count": 13,
     "metadata": {},
     "output_type": "execute_result"
    }
   ],
   "source": [
    "df['trip_time'].max()"
   ]
  },
  {
   "cell_type": "markdown",
   "id": "b66bd770-6c32-42b4-a518-e725c4956239",
   "metadata": {},
   "source": [
    "We need to filter outliers from our data.  For this exercise, we will use `1.5 * Interquartile Range`\n",
    "We can find the bounds using `df.quartile(method=\"median_unbiased\")`."
   ]
  },
  {
   "cell_type": "code",
   "execution_count": 14,
   "id": "e3d6d5fa-48d3-410f-b437-5bce3c16c37a",
   "metadata": {},
   "outputs": [
    {
     "name": "stdout",
     "output_type": "stream",
     "text": [
      "Q1:  576.0, Q3:  1415.0\n"
     ]
    }
   ],
   "source": [
    "Q1 = df['trip_time'].quantile(0.25, interpolation=\"median_unbiased\")\n",
    "Q3 = df['trip_time'].quantile(0.75, interpolation=\"median_unbiased\")\n",
    "print(f\"Q1:  {Q1}, Q3:  {Q3}\")"
   ]
  },
  {
   "cell_type": "markdown",
   "id": "682d18ac-88a6-438b-93b2-58f6da9eb5be",
   "metadata": {},
   "source": [
    "As a check -- when porting code from Pandas to Dask, it was discovered that the Dask quantiles method does not\n",
    "exactly replicate the Pandas / Numpy method.  See [here](https://docs.dask.org/en/stable/generated/dask.dataframe.DataFrame.quantile.html) and \n",
    "[here](https://github.com/dask/dask/issues/6566) for details.  Let's compare the results of the Dask and Pandas implementations "
   ]
  },
  {
   "cell_type": "code",
   "execution_count": 15,
   "id": "a2834f69-655f-49f7-8f51-e37a524f26ec",
   "metadata": {},
   "outputs": [
    {
     "name": "stdout",
     "output_type": "stream",
     "text": [
      "Using the `dask` method:  1488.0\n"
     ]
    }
   ],
   "source": [
    "print(f\"Using the `dask` method:  {dd.from_pandas(df['trip_time'], npartitions=8).quantile(0.75).compute()}\")"
   ]
  },
  {
   "cell_type": "markdown",
   "id": "3d357b58-3150-4a0a-b23b-4bade2ebe6f8",
   "metadata": {},
   "source": [
    "Let's plot the upper and lower bounds, then filter the data."
   ]
  },
  {
   "cell_type": "code",
   "execution_count": 16,
   "id": "3e559d34-7e83-4902-ae3a-3d1251e43cc4",
   "metadata": {},
   "outputs": [
    {
     "name": "stdout",
     "output_type": "stream",
     "text": [
      "Lower bound is:  0\n",
      "Upper bound is:  2673.5\n"
     ]
    }
   ],
   "source": [
    "lower_bound = Q1 - (1.5*(Q3 - Q1))\n",
    "lower_bound = lower_bound if lower_bound > 0 else 0\n",
    "\n",
    "upper_bound = Q3 + (1.5*(Q3 - Q1))\n",
    "print(f\"Lower bound is:  {lower_bound}\")\n",
    "print(f\"Upper bound is:  {upper_bound}\")"
   ]
  },
  {
   "cell_type": "code",
   "execution_count": 17,
   "id": "061326d5-ff1c-4676-b8a8-da4d3ed07d3c",
   "metadata": {},
   "outputs": [
    {
     "data": {
      "image/png": "[encoded data removed]",
      "text/plain": [
       "<Figure size 640x480 with 1 Axes>"
      ]
     },
     "metadata": {},
     "output_type": "display_data"
    }
   ],
   "source": [
    "df['trip_time'].hist(bins=100)\n",
    "plt.axvline(lower_bound, color=\"r\")\n",
    "plt.axvline(upper_bound, color=\"r\")\n",
    "plt.title(\"Histogram of Trip Durations\")\n",
    "plt.xlabel(\"Trip Duration\")\n",
    "plt.savefig(\"data/trip_histogram.png\")"
   ]
  },
  {
   "cell_type": "code",
   "execution_count": 18,
   "id": "09d4dce8-6d50-4422-9c78-bb2e9bcbd664",
   "metadata": {},
   "outputs": [
    {
     "name": "stdout",
     "output_type": "stream",
     "text": [
      "Fraction of data lost after filtering outliers:  0.04576090506325214\n"
     ]
    }
   ],
   "source": [
    "print(f\"Fraction of data lost after filtering outliers:  {len(df.loc[df.trip_time > upper_bound].index) / len(df.index)}\")"
   ]
  },
  {
   "cell_type": "code",
   "execution_count": 19,
   "id": "85bf0bcc-ab0a-4e88-b938-92cc93a101ca",
   "metadata": {},
   "outputs": [],
   "source": [
    "size_raw_data = len(df.index)"
   ]
  },
  {
   "cell_type": "code",
   "execution_count": 20,
   "id": "388c7f9a-a615-420d-8748-f307bf86c32b",
   "metadata": {},
   "outputs": [],
   "source": [
    "df = df.loc[(df.trip_time >= lower_bound) & (df.trip_time <= upper_bound)]"
   ]
  },
  {
   "cell_type": "code",
   "execution_count": 21,
   "id": "b81c31dd-8b7f-4413-8b63-bbffc46b8e21",
   "metadata": {},
   "outputs": [
    {
     "name": "stdout",
     "output_type": "stream",
     "text": [
      "Fraction of data remaining after removing outliers:  0.9542390949367479\n"
     ]
    }
   ],
   "source": [
    "print(f\"Fraction of data remaining after removing outliers:  {len(df.index) / size_raw_data}\")"
   ]
  },
  {
   "cell_type": "code",
   "execution_count": 22,
   "id": "b532df35-6c72-4c69-b3c0-0b2b9e56fbfc",
   "metadata": {},
   "outputs": [
    {
     "data": {
      "text/html": [
       "<div>\n",
       "<style scoped>\n",
       "    .dataframe tbody tr th:only-of-type {\n",
       "        vertical-align: middle;\n",
       "    }\n",
       "\n",
       "    .dataframe tbody tr th {\n",
       "        vertical-align: top;\n",
       "    }\n",
       "\n",
       "    .dataframe thead th {\n",
       "        text-align: right;\n",
       "    }\n",
       "</style>\n",
       "<table border=\"1\" class=\"dataframe\">\n",
       "  <thead>\n",
       "    <tr style=\"text-align: right;\">\n",
       "      <th></th>\n",
       "      <th>hvfhs_license_num</th>\n",
       "      <th>dropoff_datetime</th>\n",
       "      <th>PULocationID</th>\n",
       "      <th>DOLocationID</th>\n",
       "      <th>trip_miles</th>\n",
       "      <th>trip_time</th>\n",
       "      <th>base_passenger_fare</th>\n",
       "      <th>tolls</th>\n",
       "      <th>bcf</th>\n",
       "      <th>sales_tax</th>\n",
       "      <th>...</th>\n",
       "      <th>access_a_ride_flag</th>\n",
       "      <th>wav_request_flag</th>\n",
       "      <th>wav_match_flag</th>\n",
       "      <th>accessible_vehicle</th>\n",
       "      <th>pickup_month</th>\n",
       "      <th>pickup_dow</th>\n",
       "      <th>pickup_hour</th>\n",
       "      <th>dropoff_month</th>\n",
       "      <th>dropoff_dow</th>\n",
       "      <th>dropoff_hour</th>\n",
       "    </tr>\n",
       "  </thead>\n",
       "  <tbody>\n",
       "    <tr>\n",
       "      <th>0</th>\n",
       "      <td>HV0003</td>\n",
       "      <td>2019-04-02 22:36:00</td>\n",
       "      <td>235</td>\n",
       "      <td>136</td>\n",
       "      <td>1.55</td>\n",
       "      <td>467</td>\n",
       "      <td>6.48</td>\n",
       "      <td>0.0</td>\n",
       "      <td>0.16</td>\n",
       "      <td>0.58</td>\n",
       "      <td>...</td>\n",
       "      <td></td>\n",
       "      <td>N</td>\n",
       "      <td></td>\n",
       "      <td>0</td>\n",
       "      <td>4</td>\n",
       "      <td>1</td>\n",
       "      <td>22</td>\n",
       "      <td>4</td>\n",
       "      <td>1</td>\n",
       "      <td>22</td>\n",
       "    </tr>\n",
       "    <tr>\n",
       "      <th>1</th>\n",
       "      <td>HV0003</td>\n",
       "      <td>2019-04-07 21:17:15</td>\n",
       "      <td>164</td>\n",
       "      <td>233</td>\n",
       "      <td>1.13</td>\n",
       "      <td>573</td>\n",
       "      <td>8.54</td>\n",
       "      <td>0.0</td>\n",
       "      <td>0.21</td>\n",
       "      <td>0.76</td>\n",
       "      <td>...</td>\n",
       "      <td></td>\n",
       "      <td>N</td>\n",
       "      <td></td>\n",
       "      <td>0</td>\n",
       "      <td>4</td>\n",
       "      <td>6</td>\n",
       "      <td>21</td>\n",
       "      <td>4</td>\n",
       "      <td>6</td>\n",
       "      <td>21</td>\n",
       "    </tr>\n",
       "    <tr>\n",
       "      <th>2</th>\n",
       "      <td>HV0003</td>\n",
       "      <td>2019-04-08 00:15:56</td>\n",
       "      <td>40</td>\n",
       "      <td>257</td>\n",
       "      <td>3.60</td>\n",
       "      <td>546</td>\n",
       "      <td>4.75</td>\n",
       "      <td>0.0</td>\n",
       "      <td>0.12</td>\n",
       "      <td>0.42</td>\n",
       "      <td>...</td>\n",
       "      <td></td>\n",
       "      <td>N</td>\n",
       "      <td></td>\n",
       "      <td>0</td>\n",
       "      <td>4</td>\n",
       "      <td>0</td>\n",
       "      <td>0</td>\n",
       "      <td>4</td>\n",
       "      <td>0</td>\n",
       "      <td>0</td>\n",
       "    </tr>\n",
       "    <tr>\n",
       "      <th>3</th>\n",
       "      <td>HV0003</td>\n",
       "      <td>2019-04-02 21:24:42</td>\n",
       "      <td>168</td>\n",
       "      <td>69</td>\n",
       "      <td>2.12</td>\n",
       "      <td>699</td>\n",
       "      <td>9.01</td>\n",
       "      <td>0.0</td>\n",
       "      <td>0.23</td>\n",
       "      <td>0.80</td>\n",
       "      <td>...</td>\n",
       "      <td></td>\n",
       "      <td>N</td>\n",
       "      <td></td>\n",
       "      <td>0</td>\n",
       "      <td>4</td>\n",
       "      <td>1</td>\n",
       "      <td>21</td>\n",
       "      <td>4</td>\n",
       "      <td>1</td>\n",
       "      <td>21</td>\n",
       "    </tr>\n",
       "    <tr>\n",
       "      <th>4</th>\n",
       "      <td>HV0003</td>\n",
       "      <td>2019-04-03 06:41:02</td>\n",
       "      <td>141</td>\n",
       "      <td>161</td>\n",
       "      <td>1.74</td>\n",
       "      <td>514</td>\n",
       "      <td>6.00</td>\n",
       "      <td>0.0</td>\n",
       "      <td>0.16</td>\n",
       "      <td>0.58</td>\n",
       "      <td>...</td>\n",
       "      <td></td>\n",
       "      <td>N</td>\n",
       "      <td></td>\n",
       "      <td>0</td>\n",
       "      <td>4</td>\n",
       "      <td>2</td>\n",
       "      <td>6</td>\n",
       "      <td>4</td>\n",
       "      <td>2</td>\n",
       "      <td>6</td>\n",
       "    </tr>\n",
       "  </tbody>\n",
       "</table>\n",
       "<p>5 rows × 24 columns</p>\n",
       "</div>"
      ],
      "text/plain": [
       "  hvfhs_license_num    dropoff_datetime  PULocationID  DOLocationID  \\\n",
       "0            HV0003 2019-04-02 22:36:00           235           136   \n",
       "1            HV0003 2019-04-07 21:17:15           164           233   \n",
       "2            HV0003 2019-04-08 00:15:56            40           257   \n",
       "3            HV0003 2019-04-02 21:24:42           168            69   \n",
       "4            HV0003 2019-04-03 06:41:02           141           161   \n",
       "\n",
       "   trip_miles  trip_time  base_passenger_fare  tolls   bcf  sales_tax  ...  \\\n",
       "0        1.55        467                 6.48    0.0  0.16       0.58  ...   \n",
       "1        1.13        573                 8.54    0.0  0.21       0.76  ...   \n",
       "2        3.60        546                 4.75    0.0  0.12       0.42  ...   \n",
       "3        2.12        699                 9.01    0.0  0.23       0.80  ...   \n",
       "4        1.74        514                 6.00    0.0  0.16       0.58  ...   \n",
       "\n",
       "   access_a_ride_flag wav_request_flag  wav_match_flag  accessible_vehicle  \\\n",
       "0                                    N                                   0   \n",
       "1                                    N                                   0   \n",
       "2                                    N                                   0   \n",
       "3                                    N                                   0   \n",
       "4                                    N                                   0   \n",
       "\n",
       "  pickup_month pickup_dow pickup_hour  dropoff_month  dropoff_dow  \\\n",
       "0            4          1          22              4            1   \n",
       "1            4          6          21              4            6   \n",
       "2            4          0           0              4            0   \n",
       "3            4          1          21              4            1   \n",
       "4            4          2           6              4            2   \n",
       "\n",
       "   dropoff_hour  \n",
       "0            22  \n",
       "1            21  \n",
       "2             0  \n",
       "3            21  \n",
       "4             6  \n",
       "\n",
       "[5 rows x 24 columns]"
      ]
     },
     "execution_count": 22,
     "metadata": {},
     "output_type": "execute_result"
    }
   ],
   "source": [
    "df.head()"
   ]
  },
  {
   "cell_type": "markdown",
   "id": "c2043f44-6027-4120-84dd-d624c841553f",
   "metadata": {},
   "source": [
    "## What are the mean trip times by DoW like?"
   ]
  },
  {
   "cell_type": "code",
   "execution_count": 23,
   "id": "8224e8ad-f6a7-4fcd-ab14-8fe22908212d",
   "metadata": {},
   "outputs": [
    {
     "data": {
      "text/html": [
       "<div>\n",
       "<style scoped>\n",
       "    .dataframe tbody tr th:only-of-type {\n",
       "        vertical-align: middle;\n",
       "    }\n",
       "\n",
       "    .dataframe tbody tr th {\n",
       "        vertical-align: top;\n",
       "    }\n",
       "\n",
       "    .dataframe thead th {\n",
       "        text-align: right;\n",
       "    }\n",
       "</style>\n",
       "<table border=\"1\" class=\"dataframe\">\n",
       "  <thead>\n",
       "    <tr style=\"text-align: right;\">\n",
       "      <th></th>\n",
       "      <th>mean</th>\n",
       "      <th>median</th>\n",
       "    </tr>\n",
       "    <tr>\n",
       "      <th>pickup_dow</th>\n",
       "      <th></th>\n",
       "      <th></th>\n",
       "    </tr>\n",
       "  </thead>\n",
       "  <tbody>\n",
       "    <tr>\n",
       "      <th>0</th>\n",
       "      <td>984.857826</td>\n",
       "      <td>859.0</td>\n",
       "    </tr>\n",
       "    <tr>\n",
       "      <th>1</th>\n",
       "      <td>995.785506</td>\n",
       "      <td>869.0</td>\n",
       "    </tr>\n",
       "    <tr>\n",
       "      <th>2</th>\n",
       "      <td>1004.139264</td>\n",
       "      <td>879.0</td>\n",
       "    </tr>\n",
       "    <tr>\n",
       "      <th>3</th>\n",
       "      <td>1014.458254</td>\n",
       "      <td>889.0</td>\n",
       "    </tr>\n",
       "    <tr>\n",
       "      <th>4</th>\n",
       "      <td>1016.010862</td>\n",
       "      <td>891.0</td>\n",
       "    </tr>\n",
       "    <tr>\n",
       "      <th>5</th>\n",
       "      <td>992.339190</td>\n",
       "      <td>881.0</td>\n",
       "    </tr>\n",
       "    <tr>\n",
       "      <th>6</th>\n",
       "      <td>961.924339</td>\n",
       "      <td>845.0</td>\n",
       "    </tr>\n",
       "  </tbody>\n",
       "</table>\n",
       "</div>"
      ],
      "text/plain": [
       "                   mean  median\n",
       "pickup_dow                     \n",
       "0            984.857826   859.0\n",
       "1            995.785506   869.0\n",
       "2           1004.139264   879.0\n",
       "3           1014.458254   889.0\n",
       "4           1016.010862   891.0\n",
       "5            992.339190   881.0\n",
       "6            961.924339   845.0"
      ]
     },
     "execution_count": 23,
     "metadata": {},
     "output_type": "execute_result"
    }
   ],
   "source": [
    "df.groupby('pickup_dow')['trip_time'].agg([\"mean\", \"median\"])"
   ]
  },
  {
   "cell_type": "code",
   "execution_count": 24,
   "id": "6ac90a06-14f9-4015-a7f4-ae148bff9411",
   "metadata": {},
   "outputs": [
    {
     "data": {
      "text/html": [
       "<div>\n",
       "<style scoped>\n",
       "    .dataframe tbody tr th:only-of-type {\n",
       "        vertical-align: middle;\n",
       "    }\n",
       "\n",
       "    .dataframe tbody tr th {\n",
       "        vertical-align: top;\n",
       "    }\n",
       "\n",
       "    .dataframe thead th {\n",
       "        text-align: right;\n",
       "    }\n",
       "</style>\n",
       "<table border=\"1\" class=\"dataframe\">\n",
       "  <thead>\n",
       "    <tr style=\"text-align: right;\">\n",
       "      <th>pickup_hour</th>\n",
       "      <th>0</th>\n",
       "      <th>1</th>\n",
       "      <th>2</th>\n",
       "      <th>3</th>\n",
       "      <th>4</th>\n",
       "      <th>5</th>\n",
       "      <th>6</th>\n",
       "      <th>7</th>\n",
       "      <th>8</th>\n",
       "      <th>9</th>\n",
       "      <th>...</th>\n",
       "      <th>14</th>\n",
       "      <th>15</th>\n",
       "      <th>16</th>\n",
       "      <th>17</th>\n",
       "      <th>18</th>\n",
       "      <th>19</th>\n",
       "      <th>20</th>\n",
       "      <th>21</th>\n",
       "      <th>22</th>\n",
       "      <th>23</th>\n",
       "    </tr>\n",
       "    <tr>\n",
       "      <th>pickup_dow</th>\n",
       "      <th></th>\n",
       "      <th></th>\n",
       "      <th></th>\n",
       "      <th></th>\n",
       "      <th></th>\n",
       "      <th></th>\n",
       "      <th></th>\n",
       "      <th></th>\n",
       "      <th></th>\n",
       "      <th></th>\n",
       "      <th></th>\n",
       "      <th></th>\n",
       "      <th></th>\n",
       "      <th></th>\n",
       "      <th></th>\n",
       "      <th></th>\n",
       "      <th></th>\n",
       "      <th></th>\n",
       "      <th></th>\n",
       "      <th></th>\n",
       "      <th></th>\n",
       "    </tr>\n",
       "  </thead>\n",
       "  <tbody>\n",
       "    <tr>\n",
       "      <th>0</th>\n",
       "      <td>895.284187</td>\n",
       "      <td>876.341266</td>\n",
       "      <td>838.244303</td>\n",
       "      <td>896.878405</td>\n",
       "      <td>995.267273</td>\n",
       "      <td>1038.495161</td>\n",
       "      <td>1036.975082</td>\n",
       "      <td>1021.270370</td>\n",
       "      <td>1019.927721</td>\n",
       "      <td>1008.890831</td>\n",
       "      <td>...</td>\n",
       "      <td>1028.816100</td>\n",
       "      <td>1040.711359</td>\n",
       "      <td>1034.209067</td>\n",
       "      <td>1028.851468</td>\n",
       "      <td>980.154087</td>\n",
       "      <td>927.734752</td>\n",
       "      <td>930.976102</td>\n",
       "      <td>923.012511</td>\n",
       "      <td>913.349848</td>\n",
       "      <td>905.403433</td>\n",
       "    </tr>\n",
       "    <tr>\n",
       "      <th>1</th>\n",
       "      <td>885.554908</td>\n",
       "      <td>848.106172</td>\n",
       "      <td>829.666025</td>\n",
       "      <td>886.938840</td>\n",
       "      <td>964.608392</td>\n",
       "      <td>989.817495</td>\n",
       "      <td>1014.871783</td>\n",
       "      <td>1013.048717</td>\n",
       "      <td>1010.390156</td>\n",
       "      <td>1021.596771</td>\n",
       "      <td>...</td>\n",
       "      <td>1051.341687</td>\n",
       "      <td>1064.788953</td>\n",
       "      <td>1057.328946</td>\n",
       "      <td>1045.220859</td>\n",
       "      <td>1006.075933</td>\n",
       "      <td>955.678644</td>\n",
       "      <td>945.951160</td>\n",
       "      <td>938.164292</td>\n",
       "      <td>933.619521</td>\n",
       "      <td>917.850351</td>\n",
       "    </tr>\n",
       "    <tr>\n",
       "      <th>2</th>\n",
       "      <td>894.092720</td>\n",
       "      <td>858.751670</td>\n",
       "      <td>865.296844</td>\n",
       "      <td>898.216658</td>\n",
       "      <td>959.355169</td>\n",
       "      <td>996.669527</td>\n",
       "      <td>1006.284979</td>\n",
       "      <td>1017.742423</td>\n",
       "      <td>1015.987919</td>\n",
       "      <td>1021.655833</td>\n",
       "      <td>...</td>\n",
       "      <td>1054.916625</td>\n",
       "      <td>1054.011188</td>\n",
       "      <td>1075.310875</td>\n",
       "      <td>1067.074854</td>\n",
       "      <td>1015.706370</td>\n",
       "      <td>966.433951</td>\n",
       "      <td>957.456302</td>\n",
       "      <td>955.738535</td>\n",
       "      <td>957.244305</td>\n",
       "      <td>935.038917</td>\n",
       "    </tr>\n",
       "    <tr>\n",
       "      <th>3</th>\n",
       "      <td>901.185463</td>\n",
       "      <td>874.399037</td>\n",
       "      <td>856.728423</td>\n",
       "      <td>892.158043</td>\n",
       "      <td>995.394522</td>\n",
       "      <td>1021.152290</td>\n",
       "      <td>1019.682931</td>\n",
       "      <td>1018.648474</td>\n",
       "      <td>1023.438566</td>\n",
       "      <td>1027.346625</td>\n",
       "      <td>...</td>\n",
       "      <td>1056.591243</td>\n",
       "      <td>1074.077300</td>\n",
       "      <td>1062.304526</td>\n",
       "      <td>1078.862804</td>\n",
       "      <td>1039.212931</td>\n",
       "      <td>996.174055</td>\n",
       "      <td>984.790453</td>\n",
       "      <td>975.527217</td>\n",
       "      <td>979.357534</td>\n",
       "      <td>948.536612</td>\n",
       "    </tr>\n",
       "    <tr>\n",
       "      <th>4</th>\n",
       "      <td>921.781688</td>\n",
       "      <td>882.535287</td>\n",
       "      <td>867.357083</td>\n",
       "      <td>906.885234</td>\n",
       "      <td>973.240985</td>\n",
       "      <td>1046.312452</td>\n",
       "      <td>1034.381268</td>\n",
       "      <td>1012.708928</td>\n",
       "      <td>1012.277432</td>\n",
       "      <td>1006.796205</td>\n",
       "      <td>...</td>\n",
       "      <td>1065.911635</td>\n",
       "      <td>1087.193944</td>\n",
       "      <td>1072.051851</td>\n",
       "      <td>1067.131861</td>\n",
       "      <td>1056.089141</td>\n",
       "      <td>1013.351819</td>\n",
       "      <td>993.843702</td>\n",
       "      <td>977.728932</td>\n",
       "      <td>988.678286</td>\n",
       "      <td>968.214426</td>\n",
       "    </tr>\n",
       "    <tr>\n",
       "      <th>5</th>\n",
       "      <td>946.010685</td>\n",
       "      <td>900.488913</td>\n",
       "      <td>889.072157</td>\n",
       "      <td>909.875108</td>\n",
       "      <td>960.010724</td>\n",
       "      <td>969.441930</td>\n",
       "      <td>984.164392</td>\n",
       "      <td>958.422861</td>\n",
       "      <td>931.533999</td>\n",
       "      <td>924.941047</td>\n",
       "      <td>...</td>\n",
       "      <td>1032.571940</td>\n",
       "      <td>1047.703210</td>\n",
       "      <td>1056.034058</td>\n",
       "      <td>1060.729177</td>\n",
       "      <td>1050.358788</td>\n",
       "      <td>1030.348028</td>\n",
       "      <td>1001.380278</td>\n",
       "      <td>995.077048</td>\n",
       "      <td>993.190545</td>\n",
       "      <td>973.721315</td>\n",
       "    </tr>\n",
       "    <tr>\n",
       "      <th>6</th>\n",
       "      <td>944.143461</td>\n",
       "      <td>916.652077</td>\n",
       "      <td>890.553073</td>\n",
       "      <td>916.060356</td>\n",
       "      <td>943.879300</td>\n",
       "      <td>965.249934</td>\n",
       "      <td>968.605610</td>\n",
       "      <td>923.664128</td>\n",
       "      <td>895.678762</td>\n",
       "      <td>905.491130</td>\n",
       "      <td>...</td>\n",
       "      <td>1020.401454</td>\n",
       "      <td>1023.254979</td>\n",
       "      <td>1023.484640</td>\n",
       "      <td>1023.770747</td>\n",
       "      <td>999.941110</td>\n",
       "      <td>983.767717</td>\n",
       "      <td>961.109520</td>\n",
       "      <td>945.103286</td>\n",
       "      <td>943.484356</td>\n",
       "      <td>923.404171</td>\n",
       "    </tr>\n",
       "  </tbody>\n",
       "</table>\n",
       "<p>7 rows × 24 columns</p>\n",
       "</div>"
      ],
      "text/plain": [
       "pickup_hour          0           1           2           3           4   \\\n",
       "pickup_dow                                                                \n",
       "0            895.284187  876.341266  838.244303  896.878405  995.267273   \n",
       "1            885.554908  848.106172  829.666025  886.938840  964.608392   \n",
       "2            894.092720  858.751670  865.296844  898.216658  959.355169   \n",
       "3            901.185463  874.399037  856.728423  892.158043  995.394522   \n",
       "4            921.781688  882.535287  867.357083  906.885234  973.240985   \n",
       "5            946.010685  900.488913  889.072157  909.875108  960.010724   \n",
       "6            944.143461  916.652077  890.553073  916.060356  943.879300   \n",
       "\n",
       "pickup_hour           5            6            7            8            9   \\\n",
       "pickup_dow                                                                     \n",
       "0            1038.495161  1036.975082  1021.270370  1019.927721  1008.890831   \n",
       "1             989.817495  1014.871783  1013.048717  1010.390156  1021.596771   \n",
       "2             996.669527  1006.284979  1017.742423  1015.987919  1021.655833   \n",
       "3            1021.152290  1019.682931  1018.648474  1023.438566  1027.346625   \n",
       "4            1046.312452  1034.381268  1012.708928  1012.277432  1006.796205   \n",
       "5             969.441930   984.164392   958.422861   931.533999   924.941047   \n",
       "6             965.249934   968.605610   923.664128   895.678762   905.491130   \n",
       "\n",
       "pickup_hour  ...           14           15           16           17  \\\n",
       "pickup_dow   ...                                                       \n",
       "0            ...  1028.816100  1040.711359  1034.209067  1028.851468   \n",
       "1            ...  1051.341687  1064.788953  1057.328946  1045.220859   \n",
       "2            ...  1054.916625  1054.011188  1075.310875  1067.074854   \n",
       "3            ...  1056.591243  1074.077300  1062.304526  1078.862804   \n",
       "4            ...  1065.911635  1087.193944  1072.051851  1067.131861   \n",
       "5            ...  1032.571940  1047.703210  1056.034058  1060.729177   \n",
       "6            ...  1020.401454  1023.254979  1023.484640  1023.770747   \n",
       "\n",
       "pickup_hour           18           19           20          21          22  \\\n",
       "pickup_dow                                                                   \n",
       "0             980.154087   927.734752   930.976102  923.012511  913.349848   \n",
       "1            1006.075933   955.678644   945.951160  938.164292  933.619521   \n",
       "2            1015.706370   966.433951   957.456302  955.738535  957.244305   \n",
       "3            1039.212931   996.174055   984.790453  975.527217  979.357534   \n",
       "4            1056.089141  1013.351819   993.843702  977.728932  988.678286   \n",
       "5            1050.358788  1030.348028  1001.380278  995.077048  993.190545   \n",
       "6             999.941110   983.767717   961.109520  945.103286  943.484356   \n",
       "\n",
       "pickup_hour          23  \n",
       "pickup_dow               \n",
       "0            905.403433  \n",
       "1            917.850351  \n",
       "2            935.038917  \n",
       "3            948.536612  \n",
       "4            968.214426  \n",
       "5            973.721315  \n",
       "6            923.404171  \n",
       "\n",
       "[7 rows x 24 columns]"
      ]
     },
     "execution_count": 24,
     "metadata": {},
     "output_type": "execute_result"
    }
   ],
   "source": [
    "pivoted = pd.pivot_table(df, values='trip_time', index=\"pickup_dow\", columns=\"pickup_hour\")\n",
    "pivoted"
   ]
  },
  {
   "cell_type": "markdown",
   "id": "7e87f0e3-f5ad-48b8-8350-a235e01dc160",
   "metadata": {
    "tags": []
   },
   "source": [
    "#### What does the data look like?  "
   ]
  },
  {
   "cell_type": "code",
   "execution_count": 25,
   "id": "6f19cd35-a14c-43e4-a0e5-c18a519c9071",
   "metadata": {},
   "outputs": [
    {
     "name": "stdout",
     "output_type": "stream",
     "text": [
      "Shorted and longest average trip times based on pickup hour and day of week are:  829.6660250240616 and 1087.1939442802113 respectively\n"
     ]
    }
   ],
   "source": [
    "print(f\"Shorted and longest average trip times based on pickup hour and day of week are:  {pivoted.min().min()} and {pivoted.max().max()} respectively\")"
   ]
  },
  {
   "cell_type": "code",
   "execution_count": 26,
   "id": "366d7b44-1ceb-4204-b5c7-bd63c742d316",
   "metadata": {},
   "outputs": [
    {
     "data": {
      "text/plain": [
       "<AxesSubplot: xlabel='pickup_hour', ylabel='pickup_dow'>"
      ]
     },
     "execution_count": 26,
     "metadata": {},
     "output_type": "execute_result"
    },
    {
     "data": {
      "image/png": "[encoded data removed]",
      "text/plain": [
       "<Figure size 640x480 with 2 Axes>"
      ]
     },
     "metadata": {},
     "output_type": "display_data"
    }
   ],
   "source": [
    "sns.heatmap(pivoted)"
   ]
  },
  {
   "cell_type": "markdown",
   "id": "2b8f5577-83fc-4b47-91e6-2e1f81c533b7",
   "metadata": {},
   "source": [
    "### Let's build two tables of mean travel times, based on pickup_dow and pickup_hour to create continuous features"
   ]
  },
  {
   "cell_type": "code",
   "execution_count": 27,
   "id": "7a95bbf8-4abc-459b-99e7-543b7ccd36d6",
   "metadata": {},
   "outputs": [
    {
     "data": {
      "text/html": [
       "<div>\n",
       "<style scoped>\n",
       "    .dataframe tbody tr th:only-of-type {\n",
       "        vertical-align: middle;\n",
       "    }\n",
       "\n",
       "    .dataframe tbody tr th {\n",
       "        vertical-align: top;\n",
       "    }\n",
       "\n",
       "    .dataframe thead th {\n",
       "        text-align: right;\n",
       "    }\n",
       "</style>\n",
       "<table border=\"1\" class=\"dataframe\">\n",
       "  <thead>\n",
       "    <tr style=\"text-align: right;\">\n",
       "      <th></th>\n",
       "      <th>pickup_hour</th>\n",
       "      <th>mean_trip_time_by_pickup_hour</th>\n",
       "    </tr>\n",
       "  </thead>\n",
       "  <tbody>\n",
       "    <tr>\n",
       "      <th>0</th>\n",
       "      <td>0</td>\n",
       "      <td>921.487231</td>\n",
       "    </tr>\n",
       "    <tr>\n",
       "      <th>1</th>\n",
       "      <td>1</td>\n",
       "      <td>890.666698</td>\n",
       "    </tr>\n",
       "    <tr>\n",
       "      <th>2</th>\n",
       "      <td>2</td>\n",
       "      <td>873.645028</td>\n",
       "    </tr>\n",
       "    <tr>\n",
       "      <th>3</th>\n",
       "      <td>3</td>\n",
       "      <td>906.072149</td>\n",
       "    </tr>\n",
       "    <tr>\n",
       "      <th>4</th>\n",
       "      <td>4</td>\n",
       "      <td>966.274158</td>\n",
       "    </tr>\n",
       "    <tr>\n",
       "      <th>5</th>\n",
       "      <td>5</td>\n",
       "      <td>1004.401534</td>\n",
       "    </tr>\n",
       "    <tr>\n",
       "      <th>6</th>\n",
       "      <td>6</td>\n",
       "      <td>1012.423189</td>\n",
       "    </tr>\n",
       "    <tr>\n",
       "      <th>7</th>\n",
       "      <td>7</td>\n",
       "      <td>1003.036197</td>\n",
       "    </tr>\n",
       "    <tr>\n",
       "      <th>8</th>\n",
       "      <td>8</td>\n",
       "      <td>998.228161</td>\n",
       "    </tr>\n",
       "    <tr>\n",
       "      <th>9</th>\n",
       "      <td>9</td>\n",
       "      <td>993.528953</td>\n",
       "    </tr>\n",
       "    <tr>\n",
       "      <th>10</th>\n",
       "      <td>10</td>\n",
       "      <td>999.680936</td>\n",
       "    </tr>\n",
       "    <tr>\n",
       "      <th>11</th>\n",
       "      <td>11</td>\n",
       "      <td>1017.063046</td>\n",
       "    </tr>\n",
       "    <tr>\n",
       "      <th>12</th>\n",
       "      <td>12</td>\n",
       "      <td>1024.950474</td>\n",
       "    </tr>\n",
       "    <tr>\n",
       "      <th>13</th>\n",
       "      <td>13</td>\n",
       "      <td>1031.284025</td>\n",
       "    </tr>\n",
       "    <tr>\n",
       "      <th>14</th>\n",
       "      <td>14</td>\n",
       "      <td>1043.859137</td>\n",
       "    </tr>\n",
       "    <tr>\n",
       "      <th>15</th>\n",
       "      <td>15</td>\n",
       "      <td>1055.641129</td>\n",
       "    </tr>\n",
       "    <tr>\n",
       "      <th>16</th>\n",
       "      <td>16</td>\n",
       "      <td>1054.463503</td>\n",
       "    </tr>\n",
       "    <tr>\n",
       "      <th>17</th>\n",
       "      <td>17</td>\n",
       "      <td>1053.859136</td>\n",
       "    </tr>\n",
       "    <tr>\n",
       "      <th>18</th>\n",
       "      <td>18</td>\n",
       "      <td>1023.399735</td>\n",
       "    </tr>\n",
       "    <tr>\n",
       "      <th>19</th>\n",
       "      <td>19</td>\n",
       "      <td>985.705122</td>\n",
       "    </tr>\n",
       "    <tr>\n",
       "      <th>20</th>\n",
       "      <td>20</td>\n",
       "      <td>971.419458</td>\n",
       "    </tr>\n",
       "    <tr>\n",
       "      <th>21</th>\n",
       "      <td>21</td>\n",
       "      <td>962.305229</td>\n",
       "    </tr>\n",
       "    <tr>\n",
       "      <th>22</th>\n",
       "      <td>22</td>\n",
       "      <td>963.756413</td>\n",
       "    </tr>\n",
       "    <tr>\n",
       "      <th>23</th>\n",
       "      <td>23</td>\n",
       "      <td>945.318522</td>\n",
       "    </tr>\n",
       "  </tbody>\n",
       "</table>\n",
       "</div>"
      ],
      "text/plain": [
       "    pickup_hour  mean_trip_time_by_pickup_hour\n",
       "0             0                     921.487231\n",
       "1             1                     890.666698\n",
       "2             2                     873.645028\n",
       "3             3                     906.072149\n",
       "4             4                     966.274158\n",
       "5             5                    1004.401534\n",
       "6             6                    1012.423189\n",
       "7             7                    1003.036197\n",
       "8             8                     998.228161\n",
       "9             9                     993.528953\n",
       "10           10                     999.680936\n",
       "11           11                    1017.063046\n",
       "12           12                    1024.950474\n",
       "13           13                    1031.284025\n",
       "14           14                    1043.859137\n",
       "15           15                    1055.641129\n",
       "16           16                    1054.463503\n",
       "17           17                    1053.859136\n",
       "18           18                    1023.399735\n",
       "19           19                     985.705122\n",
       "20           20                     971.419458\n",
       "21           21                     962.305229\n",
       "22           22                     963.756413\n",
       "23           23                     945.318522"
      ]
     },
     "execution_count": 27,
     "metadata": {},
     "output_type": "execute_result"
    }
   ],
   "source": [
    "pickup_hour_means = df.groupby(\"pickup_hour\")[\"trip_time\"].mean().to_frame().reset_index()\n",
    "pickup_hour_means = pickup_hour_means.rename(columns={\"trip_time\": \"mean_trip_time_by_pickup_hour\"})\n",
    "pickup_hour_means"
   ]
  },
  {
   "cell_type": "code",
   "execution_count": 28,
   "id": "3558b1ac-1dbc-46b4-b218-3e0b79992c3b",
   "metadata": {},
   "outputs": [
    {
     "data": {
      "text/html": [
       "<div>\n",
       "<style scoped>\n",
       "    .dataframe tbody tr th:only-of-type {\n",
       "        vertical-align: middle;\n",
       "    }\n",
       "\n",
       "    .dataframe tbody tr th {\n",
       "        vertical-align: top;\n",
       "    }\n",
       "\n",
       "    .dataframe thead th {\n",
       "        text-align: right;\n",
       "    }\n",
       "</style>\n",
       "<table border=\"1\" class=\"dataframe\">\n",
       "  <thead>\n",
       "    <tr style=\"text-align: right;\">\n",
       "      <th></th>\n",
       "      <th>pickup_dow</th>\n",
       "      <th>mean_trip_time_by_pickup_dow</th>\n",
       "    </tr>\n",
       "  </thead>\n",
       "  <tbody>\n",
       "    <tr>\n",
       "      <th>0</th>\n",
       "      <td>0</td>\n",
       "      <td>984.857826</td>\n",
       "    </tr>\n",
       "    <tr>\n",
       "      <th>1</th>\n",
       "      <td>1</td>\n",
       "      <td>995.785506</td>\n",
       "    </tr>\n",
       "    <tr>\n",
       "      <th>2</th>\n",
       "      <td>2</td>\n",
       "      <td>1004.139264</td>\n",
       "    </tr>\n",
       "    <tr>\n",
       "      <th>3</th>\n",
       "      <td>3</td>\n",
       "      <td>1014.458254</td>\n",
       "    </tr>\n",
       "    <tr>\n",
       "      <th>4</th>\n",
       "      <td>4</td>\n",
       "      <td>1016.010862</td>\n",
       "    </tr>\n",
       "    <tr>\n",
       "      <th>5</th>\n",
       "      <td>5</td>\n",
       "      <td>992.339190</td>\n",
       "    </tr>\n",
       "    <tr>\n",
       "      <th>6</th>\n",
       "      <td>6</td>\n",
       "      <td>961.924339</td>\n",
       "    </tr>\n",
       "  </tbody>\n",
       "</table>\n",
       "</div>"
      ],
      "text/plain": [
       "   pickup_dow  mean_trip_time_by_pickup_dow\n",
       "0           0                    984.857826\n",
       "1           1                    995.785506\n",
       "2           2                   1004.139264\n",
       "3           3                   1014.458254\n",
       "4           4                   1016.010862\n",
       "5           5                    992.339190\n",
       "6           6                    961.924339"
      ]
     },
     "execution_count": 28,
     "metadata": {},
     "output_type": "execute_result"
    }
   ],
   "source": [
    "pickup_dow_means = df.groupby(\"pickup_dow\")[\"trip_time\"].mean().to_frame().reset_index()\n",
    "pickup_dow_means = pickup_dow_means.rename(columns={\"trip_time\": \"mean_trip_time_by_pickup_dow\"})\n",
    "pickup_dow_means"
   ]
  },
  {
   "cell_type": "code",
   "execution_count": 29,
   "id": "40ab80dd-9e85-4ea0-bd0c-41028c8afa69",
   "metadata": {},
   "outputs": [
    {
     "name": "stdout",
     "output_type": "stream",
     "text": [
      "1548606\n",
      "24\n"
     ]
    }
   ],
   "source": [
    "print(len(df.index))\n",
    "print(len(df.columns))"
   ]
  },
  {
   "cell_type": "code",
   "execution_count": 30,
   "id": "7fadddfe-7378-4d2a-b0da-f1955c2b5869",
   "metadata": {},
   "outputs": [
    {
     "name": "stdout",
     "output_type": "stream",
     "text": [
      "1548606\n",
      "26\n"
     ]
    }
   ],
   "source": [
    "df = pd.merge(df, pickup_hour_means, left_on=\"pickup_hour\", right_on=\"pickup_hour\")\n",
    "df = pd.merge(df, pickup_dow_means, left_on=\"pickup_dow\", right_on=\"pickup_dow\")\n",
    "print(len(df.index))\n",
    "print(len(df.columns))"
   ]
  },
  {
   "cell_type": "code",
   "execution_count": 31,
   "id": "3483e111-bd91-4fb5-b143-51caf9f91846",
   "metadata": {},
   "outputs": [
    {
     "data": {
      "text/html": [
       "<div>\n",
       "<style scoped>\n",
       "    .dataframe tbody tr th:only-of-type {\n",
       "        vertical-align: middle;\n",
       "    }\n",
       "\n",
       "    .dataframe tbody tr th {\n",
       "        vertical-align: top;\n",
       "    }\n",
       "\n",
       "    .dataframe thead th {\n",
       "        text-align: right;\n",
       "    }\n",
       "</style>\n",
       "<table border=\"1\" class=\"dataframe\">\n",
       "  <thead>\n",
       "    <tr style=\"text-align: right;\">\n",
       "      <th></th>\n",
       "      <th>hvfhs_license_num</th>\n",
       "      <th>dropoff_datetime</th>\n",
       "      <th>PULocationID</th>\n",
       "      <th>DOLocationID</th>\n",
       "      <th>trip_miles</th>\n",
       "      <th>trip_time</th>\n",
       "      <th>base_passenger_fare</th>\n",
       "      <th>tolls</th>\n",
       "      <th>bcf</th>\n",
       "      <th>sales_tax</th>\n",
       "      <th>...</th>\n",
       "      <th>wav_match_flag</th>\n",
       "      <th>accessible_vehicle</th>\n",
       "      <th>pickup_month</th>\n",
       "      <th>pickup_dow</th>\n",
       "      <th>pickup_hour</th>\n",
       "      <th>dropoff_month</th>\n",
       "      <th>dropoff_dow</th>\n",
       "      <th>dropoff_hour</th>\n",
       "      <th>mean_trip_time_by_pickup_hour</th>\n",
       "      <th>mean_trip_time_by_pickup_dow</th>\n",
       "    </tr>\n",
       "  </thead>\n",
       "  <tbody>\n",
       "    <tr>\n",
       "      <th>0</th>\n",
       "      <td>HV0003</td>\n",
       "      <td>2019-04-02 22:36:00</td>\n",
       "      <td>235</td>\n",
       "      <td>136</td>\n",
       "      <td>1.55</td>\n",
       "      <td>467</td>\n",
       "      <td>6.48</td>\n",
       "      <td>0.0</td>\n",
       "      <td>0.16</td>\n",
       "      <td>0.58</td>\n",
       "      <td>...</td>\n",
       "      <td></td>\n",
       "      <td>0</td>\n",
       "      <td>4</td>\n",
       "      <td>1</td>\n",
       "      <td>22</td>\n",
       "      <td>4</td>\n",
       "      <td>1</td>\n",
       "      <td>22</td>\n",
       "      <td>963.756413</td>\n",
       "      <td>995.785506</td>\n",
       "    </tr>\n",
       "    <tr>\n",
       "      <th>1</th>\n",
       "      <td>HV0003</td>\n",
       "      <td>2019-04-02 22:42:11</td>\n",
       "      <td>158</td>\n",
       "      <td>186</td>\n",
       "      <td>1.63</td>\n",
       "      <td>502</td>\n",
       "      <td>13.20</td>\n",
       "      <td>0.0</td>\n",
       "      <td>0.33</td>\n",
       "      <td>1.17</td>\n",
       "      <td>...</td>\n",
       "      <td></td>\n",
       "      <td>0</td>\n",
       "      <td>4</td>\n",
       "      <td>1</td>\n",
       "      <td>22</td>\n",
       "      <td>4</td>\n",
       "      <td>1</td>\n",
       "      <td>22</td>\n",
       "      <td>963.756413</td>\n",
       "      <td>995.785506</td>\n",
       "    </tr>\n",
       "    <tr>\n",
       "      <th>2</th>\n",
       "      <td>HV0003</td>\n",
       "      <td>2019-04-02 22:11:04</td>\n",
       "      <td>92</td>\n",
       "      <td>92</td>\n",
       "      <td>1.14</td>\n",
       "      <td>409</td>\n",
       "      <td>7.80</td>\n",
       "      <td>0.0</td>\n",
       "      <td>0.19</td>\n",
       "      <td>0.69</td>\n",
       "      <td>...</td>\n",
       "      <td></td>\n",
       "      <td>0</td>\n",
       "      <td>4</td>\n",
       "      <td>1</td>\n",
       "      <td>22</td>\n",
       "      <td>4</td>\n",
       "      <td>1</td>\n",
       "      <td>22</td>\n",
       "      <td>963.756413</td>\n",
       "      <td>995.785506</td>\n",
       "    </tr>\n",
       "    <tr>\n",
       "      <th>3</th>\n",
       "      <td>HV0003</td>\n",
       "      <td>2019-04-02 22:49:54</td>\n",
       "      <td>260</td>\n",
       "      <td>82</td>\n",
       "      <td>1.46</td>\n",
       "      <td>631</td>\n",
       "      <td>5.73</td>\n",
       "      <td>0.0</td>\n",
       "      <td>0.14</td>\n",
       "      <td>0.51</td>\n",
       "      <td>...</td>\n",
       "      <td></td>\n",
       "      <td>0</td>\n",
       "      <td>4</td>\n",
       "      <td>1</td>\n",
       "      <td>22</td>\n",
       "      <td>4</td>\n",
       "      <td>1</td>\n",
       "      <td>22</td>\n",
       "      <td>963.756413</td>\n",
       "      <td>995.785506</td>\n",
       "    </tr>\n",
       "    <tr>\n",
       "      <th>4</th>\n",
       "      <td>HV0003</td>\n",
       "      <td>2019-04-02 23:25:34</td>\n",
       "      <td>138</td>\n",
       "      <td>249</td>\n",
       "      <td>13.04</td>\n",
       "      <td>1745</td>\n",
       "      <td>38.53</td>\n",
       "      <td>0.0</td>\n",
       "      <td>0.96</td>\n",
       "      <td>3.42</td>\n",
       "      <td>...</td>\n",
       "      <td></td>\n",
       "      <td>0</td>\n",
       "      <td>4</td>\n",
       "      <td>1</td>\n",
       "      <td>22</td>\n",
       "      <td>4</td>\n",
       "      <td>1</td>\n",
       "      <td>23</td>\n",
       "      <td>963.756413</td>\n",
       "      <td>995.785506</td>\n",
       "    </tr>\n",
       "  </tbody>\n",
       "</table>\n",
       "<p>5 rows × 26 columns</p>\n",
       "</div>"
      ],
      "text/plain": [
       "  hvfhs_license_num    dropoff_datetime  PULocationID  DOLocationID  \\\n",
       "0            HV0003 2019-04-02 22:36:00           235           136   \n",
       "1            HV0003 2019-04-02 22:42:11           158           186   \n",
       "2            HV0003 2019-04-02 22:11:04            92            92   \n",
       "3            HV0003 2019-04-02 22:49:54           260            82   \n",
       "4            HV0003 2019-04-02 23:25:34           138           249   \n",
       "\n",
       "   trip_miles  trip_time  base_passenger_fare  tolls   bcf  sales_tax  ...  \\\n",
       "0        1.55        467                 6.48    0.0  0.16       0.58  ...   \n",
       "1        1.63        502                13.20    0.0  0.33       1.17  ...   \n",
       "2        1.14        409                 7.80    0.0  0.19       0.69  ...   \n",
       "3        1.46        631                 5.73    0.0  0.14       0.51  ...   \n",
       "4       13.04       1745                38.53    0.0  0.96       3.42  ...   \n",
       "\n",
       "   wav_match_flag accessible_vehicle  pickup_month  pickup_dow pickup_hour  \\\n",
       "0                                  0             4           1          22   \n",
       "1                                  0             4           1          22   \n",
       "2                                  0             4           1          22   \n",
       "3                                  0             4           1          22   \n",
       "4                                  0             4           1          22   \n",
       "\n",
       "  dropoff_month dropoff_dow  dropoff_hour  mean_trip_time_by_pickup_hour  \\\n",
       "0             4           1            22                     963.756413   \n",
       "1             4           1            22                     963.756413   \n",
       "2             4           1            22                     963.756413   \n",
       "3             4           1            22                     963.756413   \n",
       "4             4           1            23                     963.756413   \n",
       "\n",
       "   mean_trip_time_by_pickup_dow  \n",
       "0                    995.785506  \n",
       "1                    995.785506  \n",
       "2                    995.785506  \n",
       "3                    995.785506  \n",
       "4                    995.785506  \n",
       "\n",
       "[5 rows x 26 columns]"
      ]
     },
     "execution_count": 31,
     "metadata": {},
     "output_type": "execute_result"
    }
   ],
   "source": [
    "df.head()"
   ]
  },
  {
   "cell_type": "markdown",
   "id": "3635068e-a1bc-44fe-9a89-2284a0768d81",
   "metadata": {
    "tags": []
   },
   "source": [
    "## Taking inspiration from [this paper on using geospatial characteristics to predict trip durations](https://amr4i.github.io/pdfs/nyc_taxi_times.pdf),   \n",
    "\n",
    "We can assign each pickup and dropoff location to a `Superborough`, as defined by the following table.  To do this, we will  \n",
    "add the PU and DO borough to each trip, then assign a Superborough.  We do this to determine if a trip occurs between \n",
    "Superboroughs\n",
    "\n",
    "| Superborough    | Boroughs                 |\n",
    "|-----------------| -------------------------|\n",
    "| Superborough 1  | Manhattan, Bronx, & EWR  |\n",
    "| Superborough 2  | Brooklyn & Queens        |\n",
    "| Superborough 3  | Staten Island            |\n",
    "| Unknown         | Unknown"
   ]
  },
  {
   "cell_type": "code",
   "execution_count": 32,
   "id": "d8b885f6-ea66-4f8f-9ff4-58855dc0b3e7",
   "metadata": {},
   "outputs": [
    {
     "data": {
      "text/html": [
       "<div>\n",
       "<style scoped>\n",
       "    .dataframe tbody tr th:only-of-type {\n",
       "        vertical-align: middle;\n",
       "    }\n",
       "\n",
       "    .dataframe tbody tr th {\n",
       "        vertical-align: top;\n",
       "    }\n",
       "\n",
       "    .dataframe thead th {\n",
       "        text-align: right;\n",
       "    }\n",
       "</style>\n",
       "<table border=\"1\" class=\"dataframe\">\n",
       "  <thead>\n",
       "    <tr style=\"text-align: right;\">\n",
       "      <th></th>\n",
       "      <th>hvfhs_license_num</th>\n",
       "      <th>dropoff_datetime</th>\n",
       "      <th>PULocationID</th>\n",
       "      <th>DOLocationID</th>\n",
       "      <th>trip_miles</th>\n",
       "      <th>trip_time</th>\n",
       "      <th>base_passenger_fare</th>\n",
       "      <th>tolls</th>\n",
       "      <th>bcf</th>\n",
       "      <th>sales_tax</th>\n",
       "      <th>...</th>\n",
       "      <th>accessible_vehicle</th>\n",
       "      <th>pickup_month</th>\n",
       "      <th>pickup_dow</th>\n",
       "      <th>pickup_hour</th>\n",
       "      <th>dropoff_month</th>\n",
       "      <th>dropoff_dow</th>\n",
       "      <th>dropoff_hour</th>\n",
       "      <th>mean_trip_time_by_pickup_hour</th>\n",
       "      <th>mean_trip_time_by_pickup_dow</th>\n",
       "      <th>PUBorough</th>\n",
       "    </tr>\n",
       "  </thead>\n",
       "  <tbody>\n",
       "    <tr>\n",
       "      <th>0</th>\n",
       "      <td>HV0003</td>\n",
       "      <td>2019-04-02 22:36:00</td>\n",
       "      <td>235</td>\n",
       "      <td>136</td>\n",
       "      <td>1.55</td>\n",
       "      <td>467</td>\n",
       "      <td>6.48</td>\n",
       "      <td>0.00</td>\n",
       "      <td>0.16</td>\n",
       "      <td>0.58</td>\n",
       "      <td>...</td>\n",
       "      <td>0</td>\n",
       "      <td>4</td>\n",
       "      <td>1</td>\n",
       "      <td>22</td>\n",
       "      <td>4</td>\n",
       "      <td>1</td>\n",
       "      <td>22</td>\n",
       "      <td>963.756413</td>\n",
       "      <td>995.785506</td>\n",
       "      <td>Bronx</td>\n",
       "    </tr>\n",
       "    <tr>\n",
       "      <th>1</th>\n",
       "      <td>HV0003</td>\n",
       "      <td>2019-04-02 23:00:39</td>\n",
       "      <td>235</td>\n",
       "      <td>174</td>\n",
       "      <td>4.57</td>\n",
       "      <td>857</td>\n",
       "      <td>8.85</td>\n",
       "      <td>0.00</td>\n",
       "      <td>0.22</td>\n",
       "      <td>0.78</td>\n",
       "      <td>...</td>\n",
       "      <td>0</td>\n",
       "      <td>4</td>\n",
       "      <td>1</td>\n",
       "      <td>22</td>\n",
       "      <td>4</td>\n",
       "      <td>1</td>\n",
       "      <td>23</td>\n",
       "      <td>963.756413</td>\n",
       "      <td>995.785506</td>\n",
       "      <td>Bronx</td>\n",
       "    </tr>\n",
       "    <tr>\n",
       "      <th>2</th>\n",
       "      <td>HV0005</td>\n",
       "      <td>2021-03-30 22:58:56</td>\n",
       "      <td>235</td>\n",
       "      <td>235</td>\n",
       "      <td>0.73</td>\n",
       "      <td>145</td>\n",
       "      <td>8.72</td>\n",
       "      <td>0.00</td>\n",
       "      <td>0.26</td>\n",
       "      <td>0.77</td>\n",
       "      <td>...</td>\n",
       "      <td>1</td>\n",
       "      <td>3</td>\n",
       "      <td>1</td>\n",
       "      <td>22</td>\n",
       "      <td>3</td>\n",
       "      <td>1</td>\n",
       "      <td>22</td>\n",
       "      <td>963.756413</td>\n",
       "      <td>995.785506</td>\n",
       "      <td>Bronx</td>\n",
       "    </tr>\n",
       "    <tr>\n",
       "      <th>3</th>\n",
       "      <td>HV0003</td>\n",
       "      <td>2022-01-04 23:04:13</td>\n",
       "      <td>235</td>\n",
       "      <td>119</td>\n",
       "      <td>1.38</td>\n",
       "      <td>397</td>\n",
       "      <td>8.71</td>\n",
       "      <td>0.00</td>\n",
       "      <td>0.26</td>\n",
       "      <td>0.77</td>\n",
       "      <td>...</td>\n",
       "      <td>0</td>\n",
       "      <td>1</td>\n",
       "      <td>1</td>\n",
       "      <td>22</td>\n",
       "      <td>1</td>\n",
       "      <td>1</td>\n",
       "      <td>23</td>\n",
       "      <td>963.756413</td>\n",
       "      <td>995.785506</td>\n",
       "      <td>Bronx</td>\n",
       "    </tr>\n",
       "    <tr>\n",
       "      <th>4</th>\n",
       "      <td>HV0003</td>\n",
       "      <td>2022-01-18 23:07:26</td>\n",
       "      <td>235</td>\n",
       "      <td>82</td>\n",
       "      <td>10.06</td>\n",
       "      <td>1221</td>\n",
       "      <td>22.02</td>\n",
       "      <td>6.55</td>\n",
       "      <td>0.86</td>\n",
       "      <td>2.54</td>\n",
       "      <td>...</td>\n",
       "      <td>0</td>\n",
       "      <td>1</td>\n",
       "      <td>1</td>\n",
       "      <td>22</td>\n",
       "      <td>1</td>\n",
       "      <td>1</td>\n",
       "      <td>23</td>\n",
       "      <td>963.756413</td>\n",
       "      <td>995.785506</td>\n",
       "      <td>Bronx</td>\n",
       "    </tr>\n",
       "  </tbody>\n",
       "</table>\n",
       "<p>5 rows × 27 columns</p>\n",
       "</div>"
      ],
      "text/plain": [
       "  hvfhs_license_num    dropoff_datetime  PULocationID  DOLocationID  \\\n",
       "0            HV0003 2019-04-02 22:36:00           235           136   \n",
       "1            HV0003 2019-04-02 23:00:39           235           174   \n",
       "2            HV0005 2021-03-30 22:58:56           235           235   \n",
       "3            HV0003 2022-01-04 23:04:13           235           119   \n",
       "4            HV0003 2022-01-18 23:07:26           235            82   \n",
       "\n",
       "   trip_miles  trip_time  base_passenger_fare  tolls   bcf  sales_tax  ...  \\\n",
       "0        1.55        467                 6.48   0.00  0.16       0.58  ...   \n",
       "1        4.57        857                 8.85   0.00  0.22       0.78  ...   \n",
       "2        0.73        145                 8.72   0.00  0.26       0.77  ...   \n",
       "3        1.38        397                 8.71   0.00  0.26       0.77  ...   \n",
       "4       10.06       1221                22.02   6.55  0.86       2.54  ...   \n",
       "\n",
       "   accessible_vehicle pickup_month  pickup_dow  pickup_hour dropoff_month  \\\n",
       "0                   0            4           1           22             4   \n",
       "1                   0            4           1           22             4   \n",
       "2                   1            3           1           22             3   \n",
       "3                   0            1           1           22             1   \n",
       "4                   0            1           1           22             1   \n",
       "\n",
       "  dropoff_dow dropoff_hour  mean_trip_time_by_pickup_hour  \\\n",
       "0           1           22                     963.756413   \n",
       "1           1           23                     963.756413   \n",
       "2           1           22                     963.756413   \n",
       "3           1           23                     963.756413   \n",
       "4           1           23                     963.756413   \n",
       "\n",
       "   mean_trip_time_by_pickup_dow  PUBorough  \n",
       "0                    995.785506      Bronx  \n",
       "1                    995.785506      Bronx  \n",
       "2                    995.785506      Bronx  \n",
       "3                    995.785506      Bronx  \n",
       "4                    995.785506      Bronx  \n",
       "\n",
       "[5 rows x 27 columns]"
      ]
     },
     "execution_count": 32,
     "metadata": {},
     "output_type": "execute_result"
    }
   ],
   "source": [
    "df = pd.merge(df, taxi_df, left_on=\"PULocationID\", right_on=\"LocationID\", how=\"inner\")\n",
    "df = df.rename(columns={\"Borough\": \"PUBorough\"})\n",
    "df = df.drop(columns=\"LocationID\")\n",
    "df.head()"
   ]
  },
  {
   "cell_type": "code",
   "execution_count": 33,
   "id": "9b024329-9c84-4910-bc48-7f4ed1efa5ee",
   "metadata": {
    "tags": []
   },
   "outputs": [
    {
     "data": {
      "text/html": [
       "<div>\n",
       "<style scoped>\n",
       "    .dataframe tbody tr th:only-of-type {\n",
       "        vertical-align: middle;\n",
       "    }\n",
       "\n",
       "    .dataframe tbody tr th {\n",
       "        vertical-align: top;\n",
       "    }\n",
       "\n",
       "    .dataframe thead th {\n",
       "        text-align: right;\n",
       "    }\n",
       "</style>\n",
       "<table border=\"1\" class=\"dataframe\">\n",
       "  <thead>\n",
       "    <tr style=\"text-align: right;\">\n",
       "      <th></th>\n",
       "      <th>hvfhs_license_num</th>\n",
       "      <th>dropoff_datetime</th>\n",
       "      <th>PULocationID</th>\n",
       "      <th>DOLocationID</th>\n",
       "      <th>trip_miles</th>\n",
       "      <th>trip_time</th>\n",
       "      <th>base_passenger_fare</th>\n",
       "      <th>tolls</th>\n",
       "      <th>bcf</th>\n",
       "      <th>sales_tax</th>\n",
       "      <th>...</th>\n",
       "      <th>pickup_month</th>\n",
       "      <th>pickup_dow</th>\n",
       "      <th>pickup_hour</th>\n",
       "      <th>dropoff_month</th>\n",
       "      <th>dropoff_dow</th>\n",
       "      <th>dropoff_hour</th>\n",
       "      <th>mean_trip_time_by_pickup_hour</th>\n",
       "      <th>mean_trip_time_by_pickup_dow</th>\n",
       "      <th>PUBorough</th>\n",
       "      <th>DOBorough</th>\n",
       "    </tr>\n",
       "  </thead>\n",
       "  <tbody>\n",
       "    <tr>\n",
       "      <th>0</th>\n",
       "      <td>HV0003</td>\n",
       "      <td>2019-04-02 22:36:00</td>\n",
       "      <td>235</td>\n",
       "      <td>136</td>\n",
       "      <td>1.550</td>\n",
       "      <td>467</td>\n",
       "      <td>6.48</td>\n",
       "      <td>0.0</td>\n",
       "      <td>0.16</td>\n",
       "      <td>0.58</td>\n",
       "      <td>...</td>\n",
       "      <td>4</td>\n",
       "      <td>1</td>\n",
       "      <td>22</td>\n",
       "      <td>4</td>\n",
       "      <td>1</td>\n",
       "      <td>22</td>\n",
       "      <td>963.756413</td>\n",
       "      <td>995.785506</td>\n",
       "      <td>Bronx</td>\n",
       "      <td>Bronx</td>\n",
       "    </tr>\n",
       "    <tr>\n",
       "      <th>1</th>\n",
       "      <td>HV0003</td>\n",
       "      <td>2022-06-07 22:39:01</td>\n",
       "      <td>235</td>\n",
       "      <td>136</td>\n",
       "      <td>0.480</td>\n",
       "      <td>213</td>\n",
       "      <td>7.19</td>\n",
       "      <td>0.0</td>\n",
       "      <td>0.22</td>\n",
       "      <td>0.64</td>\n",
       "      <td>...</td>\n",
       "      <td>6</td>\n",
       "      <td>1</td>\n",
       "      <td>22</td>\n",
       "      <td>6</td>\n",
       "      <td>1</td>\n",
       "      <td>22</td>\n",
       "      <td>963.756413</td>\n",
       "      <td>995.785506</td>\n",
       "      <td>Bronx</td>\n",
       "      <td>Bronx</td>\n",
       "    </tr>\n",
       "    <tr>\n",
       "      <th>2</th>\n",
       "      <td>HV0003</td>\n",
       "      <td>2021-08-24 22:33:16</td>\n",
       "      <td>235</td>\n",
       "      <td>136</td>\n",
       "      <td>0.680</td>\n",
       "      <td>226</td>\n",
       "      <td>7.91</td>\n",
       "      <td>0.0</td>\n",
       "      <td>0.24</td>\n",
       "      <td>0.70</td>\n",
       "      <td>...</td>\n",
       "      <td>8</td>\n",
       "      <td>1</td>\n",
       "      <td>22</td>\n",
       "      <td>8</td>\n",
       "      <td>1</td>\n",
       "      <td>22</td>\n",
       "      <td>963.756413</td>\n",
       "      <td>995.785506</td>\n",
       "      <td>Bronx</td>\n",
       "      <td>Bronx</td>\n",
       "    </tr>\n",
       "    <tr>\n",
       "      <th>3</th>\n",
       "      <td>HV0003</td>\n",
       "      <td>2021-02-09 22:14:43</td>\n",
       "      <td>235</td>\n",
       "      <td>136</td>\n",
       "      <td>0.980</td>\n",
       "      <td>312</td>\n",
       "      <td>7.91</td>\n",
       "      <td>0.0</td>\n",
       "      <td>0.24</td>\n",
       "      <td>0.70</td>\n",
       "      <td>...</td>\n",
       "      <td>2</td>\n",
       "      <td>1</td>\n",
       "      <td>22</td>\n",
       "      <td>2</td>\n",
       "      <td>1</td>\n",
       "      <td>22</td>\n",
       "      <td>963.756413</td>\n",
       "      <td>995.785506</td>\n",
       "      <td>Bronx</td>\n",
       "      <td>Bronx</td>\n",
       "    </tr>\n",
       "    <tr>\n",
       "      <th>4</th>\n",
       "      <td>HV0005</td>\n",
       "      <td>2020-10-06 22:31:22</td>\n",
       "      <td>235</td>\n",
       "      <td>136</td>\n",
       "      <td>0.769</td>\n",
       "      <td>370</td>\n",
       "      <td>7.22</td>\n",
       "      <td>0.0</td>\n",
       "      <td>0.18</td>\n",
       "      <td>0.64</td>\n",
       "      <td>...</td>\n",
       "      <td>10</td>\n",
       "      <td>1</td>\n",
       "      <td>22</td>\n",
       "      <td>10</td>\n",
       "      <td>1</td>\n",
       "      <td>22</td>\n",
       "      <td>963.756413</td>\n",
       "      <td>995.785506</td>\n",
       "      <td>Bronx</td>\n",
       "      <td>Bronx</td>\n",
       "    </tr>\n",
       "  </tbody>\n",
       "</table>\n",
       "<p>5 rows × 28 columns</p>\n",
       "</div>"
      ],
      "text/plain": [
       "  hvfhs_license_num    dropoff_datetime  PULocationID  DOLocationID  \\\n",
       "0            HV0003 2019-04-02 22:36:00           235           136   \n",
       "1            HV0003 2022-06-07 22:39:01           235           136   \n",
       "2            HV0003 2021-08-24 22:33:16           235           136   \n",
       "3            HV0003 2021-02-09 22:14:43           235           136   \n",
       "4            HV0005 2020-10-06 22:31:22           235           136   \n",
       "\n",
       "   trip_miles  trip_time  base_passenger_fare  tolls   bcf  sales_tax  ...  \\\n",
       "0       1.550        467                 6.48    0.0  0.16       0.58  ...   \n",
       "1       0.480        213                 7.19    0.0  0.22       0.64  ...   \n",
       "2       0.680        226                 7.91    0.0  0.24       0.70  ...   \n",
       "3       0.980        312                 7.91    0.0  0.24       0.70  ...   \n",
       "4       0.769        370                 7.22    0.0  0.18       0.64  ...   \n",
       "\n",
       "   pickup_month pickup_dow  pickup_hour  dropoff_month dropoff_dow  \\\n",
       "0             4          1           22              4           1   \n",
       "1             6          1           22              6           1   \n",
       "2             8          1           22              8           1   \n",
       "3             2          1           22              2           1   \n",
       "4            10          1           22             10           1   \n",
       "\n",
       "  dropoff_hour mean_trip_time_by_pickup_hour  mean_trip_time_by_pickup_dow  \\\n",
       "0           22                    963.756413                    995.785506   \n",
       "1           22                    963.756413                    995.785506   \n",
       "2           22                    963.756413                    995.785506   \n",
       "3           22                    963.756413                    995.785506   \n",
       "4           22                    963.756413                    995.785506   \n",
       "\n",
       "   PUBorough  DOBorough  \n",
       "0      Bronx      Bronx  \n",
       "1      Bronx      Bronx  \n",
       "2      Bronx      Bronx  \n",
       "3      Bronx      Bronx  \n",
       "4      Bronx      Bronx  \n",
       "\n",
       "[5 rows x 28 columns]"
      ]
     },
     "execution_count": 33,
     "metadata": {},
     "output_type": "execute_result"
    }
   ],
   "source": [
    "df = pd.merge(df, taxi_df, left_on=\"DOLocationID\", right_on=\"LocationID\", how=\"inner\")\n",
    "df = df.rename(columns={\"Borough\": \"DOBorough\"})\n",
    "df = df.drop(columns=\"LocationID\")\n",
    "df.head()"
   ]
  },
  {
   "cell_type": "code",
   "execution_count": 34,
   "id": "923a52db-cdc0-4509-bd58-7a21697dfbec",
   "metadata": {},
   "outputs": [
    {
     "data": {
      "text/plain": [
       "(1548606, 28)"
      ]
     },
     "execution_count": 34,
     "metadata": {},
     "output_type": "execute_result"
    }
   ],
   "source": [
    "df.shape"
   ]
  },
  {
   "cell_type": "code",
   "execution_count": 35,
   "id": "aa441ad3-d882-4416-8ed8-47e50a9da855",
   "metadata": {},
   "outputs": [],
   "source": [
    "borough_mapping = {\n",
    "    \"Manhattan\": \"Superborough 1\",\n",
    "    \"Bronx\": \"Superborough 1\",\n",
    "    \"EWR\": \"Superborough 1\",\n",
    "    \"Brooklyn\": \"Superborough 2\",\n",
    "    \"Queens\": \"Superborough 2\",\n",
    "    \"Staten Island\": \"Superborough 3\",\n",
    "    \"Unknown\": \"Unknown\",\n",
    "}"
   ]
  },
  {
   "cell_type": "code",
   "execution_count": 36,
   "id": "7e0c6f86-eb36-49b6-9d06-dda17de665fb",
   "metadata": {},
   "outputs": [],
   "source": [
    "PUSuperborough = [borough_mapping.get(x) for x in df.PUBorough.tolist()]\n",
    "DOSuperborough = [borough_mapping.get(x) for x in df.DOBorough.tolist()]\n",
    "cross_superborough = [\"N\" if i==j else \"Y\" for (i,j) in zip(PUSuperborough, DOSuperborough)]"
   ]
  },
  {
   "cell_type": "code",
   "execution_count": 37,
   "id": "5d1ef70f-3de7-43b8-9953-6da0a8568283",
   "metadata": {},
   "outputs": [],
   "source": [
    "PUSuperborough_DOSuperborough_Pair = [f\"{i}-{j}\" for i,j in zip(PUSuperborough, DOSuperborough)]"
   ]
  },
  {
   "cell_type": "code",
   "execution_count": 38,
   "id": "6c706225-aaa2-47f6-832b-9b314317ccc1",
   "metadata": {},
   "outputs": [],
   "source": [
    "df = df.assign(CrossSuperborough = cross_superborough)"
   ]
  },
  {
   "cell_type": "code",
   "execution_count": 39,
   "id": "30453bf6-6ff8-4767-aa88-1bd1be527fb7",
   "metadata": {},
   "outputs": [],
   "source": [
    "df = df.assign(PUSuperborough_DOSuperborough = PUSuperborough_DOSuperborough_Pair)"
   ]
  },
  {
   "cell_type": "code",
   "execution_count": 42,
   "id": "fd32496e-007c-47b0-a4ce-fb5eb1fade8e",
   "metadata": {},
   "outputs": [
    {
     "data": {
      "text/html": [
       "<div>\n",
       "<style scoped>\n",
       "    .dataframe tbody tr th:only-of-type {\n",
       "        vertical-align: middle;\n",
       "    }\n",
       "\n",
       "    .dataframe tbody tr th {\n",
       "        vertical-align: top;\n",
       "    }\n",
       "\n",
       "    .dataframe thead th {\n",
       "        text-align: right;\n",
       "    }\n",
       "</style>\n",
       "<table border=\"1\" class=\"dataframe\">\n",
       "  <thead>\n",
       "    <tr style=\"text-align: right;\">\n",
       "      <th></th>\n",
       "      <th>hvfhs_license_num</th>\n",
       "      <th>dropoff_datetime</th>\n",
       "      <th>PULocationID</th>\n",
       "      <th>DOLocationID</th>\n",
       "      <th>trip_miles</th>\n",
       "      <th>trip_time</th>\n",
       "      <th>base_passenger_fare</th>\n",
       "      <th>tolls</th>\n",
       "      <th>bcf</th>\n",
       "      <th>sales_tax</th>\n",
       "      <th>...</th>\n",
       "      <th>pickup_hour</th>\n",
       "      <th>dropoff_month</th>\n",
       "      <th>dropoff_dow</th>\n",
       "      <th>dropoff_hour</th>\n",
       "      <th>mean_trip_time_by_pickup_hour</th>\n",
       "      <th>mean_trip_time_by_pickup_dow</th>\n",
       "      <th>PUBorough</th>\n",
       "      <th>DOBorough</th>\n",
       "      <th>CrossSuperborough</th>\n",
       "      <th>PUSuperborough_DOSuperborough</th>\n",
       "    </tr>\n",
       "  </thead>\n",
       "  <tbody>\n",
       "    <tr>\n",
       "      <th>0</th>\n",
       "      <td>HV0003</td>\n",
       "      <td>2019-04-02 22:36:00</td>\n",
       "      <td>235</td>\n",
       "      <td>136</td>\n",
       "      <td>1.550</td>\n",
       "      <td>467</td>\n",
       "      <td>6.48</td>\n",
       "      <td>0.0</td>\n",
       "      <td>0.16</td>\n",
       "      <td>0.58</td>\n",
       "      <td>...</td>\n",
       "      <td>22</td>\n",
       "      <td>4</td>\n",
       "      <td>1</td>\n",
       "      <td>22</td>\n",
       "      <td>963.756413</td>\n",
       "      <td>995.785506</td>\n",
       "      <td>Bronx</td>\n",
       "      <td>Bronx</td>\n",
       "      <td>N</td>\n",
       "      <td>Superborough 1-Superborough 1</td>\n",
       "    </tr>\n",
       "    <tr>\n",
       "      <th>1</th>\n",
       "      <td>HV0003</td>\n",
       "      <td>2022-06-07 22:39:01</td>\n",
       "      <td>235</td>\n",
       "      <td>136</td>\n",
       "      <td>0.480</td>\n",
       "      <td>213</td>\n",
       "      <td>7.19</td>\n",
       "      <td>0.0</td>\n",
       "      <td>0.22</td>\n",
       "      <td>0.64</td>\n",
       "      <td>...</td>\n",
       "      <td>22</td>\n",
       "      <td>6</td>\n",
       "      <td>1</td>\n",
       "      <td>22</td>\n",
       "      <td>963.756413</td>\n",
       "      <td>995.785506</td>\n",
       "      <td>Bronx</td>\n",
       "      <td>Bronx</td>\n",
       "      <td>N</td>\n",
       "      <td>Superborough 1-Superborough 1</td>\n",
       "    </tr>\n",
       "    <tr>\n",
       "      <th>2</th>\n",
       "      <td>HV0003</td>\n",
       "      <td>2021-08-24 22:33:16</td>\n",
       "      <td>235</td>\n",
       "      <td>136</td>\n",
       "      <td>0.680</td>\n",
       "      <td>226</td>\n",
       "      <td>7.91</td>\n",
       "      <td>0.0</td>\n",
       "      <td>0.24</td>\n",
       "      <td>0.70</td>\n",
       "      <td>...</td>\n",
       "      <td>22</td>\n",
       "      <td>8</td>\n",
       "      <td>1</td>\n",
       "      <td>22</td>\n",
       "      <td>963.756413</td>\n",
       "      <td>995.785506</td>\n",
       "      <td>Bronx</td>\n",
       "      <td>Bronx</td>\n",
       "      <td>N</td>\n",
       "      <td>Superborough 1-Superborough 1</td>\n",
       "    </tr>\n",
       "    <tr>\n",
       "      <th>3</th>\n",
       "      <td>HV0003</td>\n",
       "      <td>2021-02-09 22:14:43</td>\n",
       "      <td>235</td>\n",
       "      <td>136</td>\n",
       "      <td>0.980</td>\n",
       "      <td>312</td>\n",
       "      <td>7.91</td>\n",
       "      <td>0.0</td>\n",
       "      <td>0.24</td>\n",
       "      <td>0.70</td>\n",
       "      <td>...</td>\n",
       "      <td>22</td>\n",
       "      <td>2</td>\n",
       "      <td>1</td>\n",
       "      <td>22</td>\n",
       "      <td>963.756413</td>\n",
       "      <td>995.785506</td>\n",
       "      <td>Bronx</td>\n",
       "      <td>Bronx</td>\n",
       "      <td>N</td>\n",
       "      <td>Superborough 1-Superborough 1</td>\n",
       "    </tr>\n",
       "    <tr>\n",
       "      <th>4</th>\n",
       "      <td>HV0005</td>\n",
       "      <td>2020-10-06 22:31:22</td>\n",
       "      <td>235</td>\n",
       "      <td>136</td>\n",
       "      <td>0.769</td>\n",
       "      <td>370</td>\n",
       "      <td>7.22</td>\n",
       "      <td>0.0</td>\n",
       "      <td>0.18</td>\n",
       "      <td>0.64</td>\n",
       "      <td>...</td>\n",
       "      <td>22</td>\n",
       "      <td>10</td>\n",
       "      <td>1</td>\n",
       "      <td>22</td>\n",
       "      <td>963.756413</td>\n",
       "      <td>995.785506</td>\n",
       "      <td>Bronx</td>\n",
       "      <td>Bronx</td>\n",
       "      <td>N</td>\n",
       "      <td>Superborough 1-Superborough 1</td>\n",
       "    </tr>\n",
       "  </tbody>\n",
       "</table>\n",
       "<p>5 rows × 30 columns</p>\n",
       "</div>"
      ],
      "text/plain": [
       "  hvfhs_license_num    dropoff_datetime  PULocationID  DOLocationID  \\\n",
       "0            HV0003 2019-04-02 22:36:00           235           136   \n",
       "1            HV0003 2022-06-07 22:39:01           235           136   \n",
       "2            HV0003 2021-08-24 22:33:16           235           136   \n",
       "3            HV0003 2021-02-09 22:14:43           235           136   \n",
       "4            HV0005 2020-10-06 22:31:22           235           136   \n",
       "\n",
       "   trip_miles  trip_time  base_passenger_fare  tolls   bcf  sales_tax  ...  \\\n",
       "0       1.550        467                 6.48    0.0  0.16       0.58  ...   \n",
       "1       0.480        213                 7.19    0.0  0.22       0.64  ...   \n",
       "2       0.680        226                 7.91    0.0  0.24       0.70  ...   \n",
       "3       0.980        312                 7.91    0.0  0.24       0.70  ...   \n",
       "4       0.769        370                 7.22    0.0  0.18       0.64  ...   \n",
       "\n",
       "   pickup_hour dropoff_month  dropoff_dow  dropoff_hour  \\\n",
       "0           22             4            1            22   \n",
       "1           22             6            1            22   \n",
       "2           22             8            1            22   \n",
       "3           22             2            1            22   \n",
       "4           22            10            1            22   \n",
       "\n",
       "  mean_trip_time_by_pickup_hour mean_trip_time_by_pickup_dow PUBorough  \\\n",
       "0                    963.756413                   995.785506     Bronx   \n",
       "1                    963.756413                   995.785506     Bronx   \n",
       "2                    963.756413                   995.785506     Bronx   \n",
       "3                    963.756413                   995.785506     Bronx   \n",
       "4                    963.756413                   995.785506     Bronx   \n",
       "\n",
       "   DOBorough  CrossSuperborough  PUSuperborough_DOSuperborough  \n",
       "0      Bronx                  N  Superborough 1-Superborough 1  \n",
       "1      Bronx                  N  Superborough 1-Superborough 1  \n",
       "2      Bronx                  N  Superborough 1-Superborough 1  \n",
       "3      Bronx                  N  Superborough 1-Superborough 1  \n",
       "4      Bronx                  N  Superborough 1-Superborough 1  \n",
       "\n",
       "[5 rows x 30 columns]"
      ]
     },
     "execution_count": 42,
     "metadata": {},
     "output_type": "execute_result"
    }
   ],
   "source": [
    "df.head()"
   ]
  },
  {
   "cell_type": "code",
   "execution_count": 43,
   "id": "45ffe9ab-e611-4e5c-8b10-312fe9da1b02",
   "metadata": {},
   "outputs": [
    {
     "data": {
      "text/plain": [
       "['hvfhs_license_num',\n",
       " 'dropoff_datetime',\n",
       " 'PULocationID',\n",
       " 'DOLocationID',\n",
       " 'trip_miles',\n",
       " 'trip_time',\n",
       " 'base_passenger_fare',\n",
       " 'tolls',\n",
       " 'bcf',\n",
       " 'sales_tax',\n",
       " 'congestion_surcharge',\n",
       " 'airport_fee',\n",
       " 'tips',\n",
       " 'driver_pay',\n",
       " 'access_a_ride_flag',\n",
       " 'wav_request_flag',\n",
       " 'wav_match_flag',\n",
       " 'accessible_vehicle',\n",
       " 'pickup_month',\n",
       " 'pickup_dow',\n",
       " 'pickup_hour',\n",
       " 'dropoff_month',\n",
       " 'dropoff_dow',\n",
       " 'dropoff_hour',\n",
       " 'mean_trip_time_by_pickup_hour',\n",
       " 'mean_trip_time_by_pickup_dow',\n",
       " 'PUBorough',\n",
       " 'DOBorough',\n",
       " 'CrossSuperborough',\n",
       " 'PUSuperborough_DOSuperborough']"
      ]
     },
     "execution_count": 43,
     "metadata": {},
     "output_type": "execute_result"
    }
   ],
   "source": [
    "c = df.columns.tolist()\n",
    "c"
   ]
  },
  {
   "cell_type": "code",
   "execution_count": 44,
   "id": "58fdf339-cf6b-4764-a469-d2ec3e10b94b",
   "metadata": {},
   "outputs": [
    {
     "data": {
      "text/plain": [
       "<AxesSubplot: >"
      ]
     },
     "execution_count": 44,
     "metadata": {},
     "output_type": "execute_result"
    },
    {
     "data": {
      "image/png": "[encoded data removed]",
      "text/plain": [
       "<Figure size 640x480 with 1 Axes>"
      ]
     },
     "metadata": {},
     "output_type": "display_data"
    }
   ],
   "source": [
    "df['congestion_surcharge'].hist(bins=100)"
   ]
  },
  {
   "cell_type": "code",
   "execution_count": 45,
   "id": "88d9f390-df5a-400b-bd7a-81ca1d0a55d0",
   "metadata": {},
   "outputs": [
    {
     "data": {
      "text/plain": [
       "<AxesSubplot: >"
      ]
     },
     "execution_count": 45,
     "metadata": {},
     "output_type": "execute_result"
    },
    {
     "data": {
      "image/png": "[encoded data removed]",
      "text/plain": [
       "<Figure size 640x480 with 1 Axes>"
      ]
     },
     "metadata": {},
     "output_type": "display_data"
    }
   ],
   "source": [
    "df['airport_fee'].hist(bins=100)"
   ]
  },
  {
   "cell_type": "code",
   "execution_count": 46,
   "id": "4cc169a2-a199-4c4f-afc5-a02c40aa16ee",
   "metadata": {},
   "outputs": [
    {
     "data": {
      "text/plain": [
       "0.00     1395823\n",
       "6.55       33586\n",
       "6.12       31220\n",
       "20.00      12627\n",
       "21.00       2154\n",
       "          ...   \n",
       "27.71          1\n",
       "25.91          1\n",
       "7.72           1\n",
       "9.41           1\n",
       "10.40          1\n",
       "Name: tolls, Length: 2001, dtype: int64"
      ]
     },
     "execution_count": 46,
     "metadata": {},
     "output_type": "execute_result"
    }
   ],
   "source": [
    "df['tolls'].value_counts()"
   ]
  },
  {
   "cell_type": "code",
   "execution_count": 47,
   "id": "8963f314-b265-47f4-87e9-9376e32a9bc5",
   "metadata": {},
   "outputs": [
    {
     "data": {
      "text/plain": [
       "<AxesSubplot: >"
      ]
     },
     "execution_count": 47,
     "metadata": {},
     "output_type": "execute_result"
    },
    {
     "data": {
      "image/png": "[encoded data removed]",
      "text/plain": [
       "<Figure size 640x480 with 1 Axes>"
      ]
     },
     "metadata": {},
     "output_type": "display_data"
    }
   ],
   "source": [
    "df['congestion_surcharge'].hist(bins=100)"
   ]
  },
  {
   "cell_type": "code",
   "execution_count": 48,
   "id": "126810a0-c5fe-4776-ad82-502cdbefd426",
   "metadata": {},
   "outputs": [
    {
     "data": {
      "text/plain": [
       "N    1312639\n",
       "Y     235967\n",
       "Name: CrossSuperborough, dtype: int64"
      ]
     },
     "execution_count": 48,
     "metadata": {},
     "output_type": "execute_result"
    }
   ],
   "source": [
    "df['CrossSuperborough'].value_counts()"
   ]
  },
  {
   "cell_type": "code",
   "execution_count": 49,
   "id": "211ae252-90db-4cc7-ad39-15667e940687",
   "metadata": {},
   "outputs": [
    {
     "data": {
      "text/plain": [
       "hvfhs_license_num                      category\n",
       "dropoff_datetime                 datetime64[ns]\n",
       "PULocationID                              int64\n",
       "DOLocationID                              int64\n",
       "trip_miles                              float64\n",
       "trip_time                                 int64\n",
       "base_passenger_fare                     float64\n",
       "tolls                                   float64\n",
       "bcf                                     float64\n",
       "sales_tax                               float64\n",
       "congestion_surcharge                    float64\n",
       "airport_fee                              object\n",
       "tips                                    float64\n",
       "driver_pay                              float64\n",
       "access_a_ride_flag                       object\n",
       "wav_request_flag                         object\n",
       "wav_match_flag                           object\n",
       "accessible_vehicle                        int64\n",
       "pickup_month                              int64\n",
       "pickup_dow                                int64\n",
       "pickup_hour                               int64\n",
       "dropoff_month                             int64\n",
       "dropoff_dow                               int64\n",
       "dropoff_hour                              int64\n",
       "mean_trip_time_by_pickup_hour           float64\n",
       "mean_trip_time_by_pickup_dow            float64\n",
       "PUBorough                                object\n",
       "DOBorough                                object\n",
       "CrossSuperborough                        object\n",
       "PUSuperborough_DOSuperborough            object\n",
       "dtype: object"
      ]
     },
     "execution_count": 49,
     "metadata": {},
     "output_type": "execute_result"
    }
   ],
   "source": [
    "df.dtypes"
   ]
  },
  {
   "cell_type": "markdown",
   "id": "d6169997-225f-4546-9916-be161e40580f",
   "metadata": {},
   "source": [
    "## Final Cleanup"
   ]
  },
  {
   "cell_type": "code",
   "execution_count": 50,
   "id": "65726e7f-e253-48db-8404-240ad7b86aad",
   "metadata": {},
   "outputs": [],
   "source": [
    "df['airport_fee'] = df['airport_fee'].replace(\"None\", 0)\n",
    "df['airport_fee'] = df['airport_fee'].replace('nan', 0)\n",
    "df['airport_fee'] = df['airport_fee'].astype(float)"
   ]
  },
  {
   "cell_type": "code",
   "execution_count": 51,
   "id": "c16b7d8e-dd2b-49d3-903a-9a4ea42bc0c6",
   "metadata": {},
   "outputs": [],
   "source": [
    "df['airport_fee'] = df['airport_fee'].fillna(0)"
   ]
  },
  {
   "cell_type": "code",
   "execution_count": 52,
   "id": "e2173f3e-f6bd-4271-baa8-cf33b85547a2",
   "metadata": {},
   "outputs": [
    {
     "data": {
      "text/plain": [
       "HV0003    1115004\n",
       "HV0005     402035\n",
       "HV0004      23619\n",
       "HV0002       7948\n",
       "Name: hvfhs_license_num, dtype: int64"
      ]
     },
     "execution_count": 52,
     "metadata": {},
     "output_type": "execute_result"
    }
   ],
   "source": [
    "df.hvfhs_license_num.value_counts()"
   ]
  },
  {
   "cell_type": "code",
   "execution_count": 53,
   "id": "24b266d1-03e3-4843-965b-bbd32ecf36a3",
   "metadata": {},
   "outputs": [
    {
     "data": {
      "text/plain": [
       "N    1546960\n",
       "Y       1646\n",
       "Name: wav_request_flag, dtype: int64"
      ]
     },
     "execution_count": 53,
     "metadata": {},
     "output_type": "execute_result"
    }
   ],
   "source": [
    "df.wav_request_flag.value_counts()"
   ]
  },
  {
   "cell_type": "code",
   "execution_count": 54,
   "id": "6b9118a2-5d7c-4e9b-8b45-e38a2f4a5290",
   "metadata": {},
   "outputs": [
    {
     "data": {
      "text/plain": [
       "N    1409335\n",
       "       77281\n",
       "Y      61990\n",
       "Name: wav_match_flag, dtype: int64"
      ]
     },
     "execution_count": 54,
     "metadata": {},
     "output_type": "execute_result"
    }
   ],
   "source": [
    "df.wav_match_flag.value_counts()"
   ]
  },
  {
   "cell_type": "code",
   "execution_count": 55,
   "id": "ac35f6af-d3a3-40eb-b6f0-a1b641fecd84",
   "metadata": {},
   "outputs": [
    {
     "data": {
      "text/plain": [
       "N    1312639\n",
       "Y     235967\n",
       "Name: CrossSuperborough, dtype: int64"
      ]
     },
     "execution_count": 55,
     "metadata": {},
     "output_type": "execute_result"
    }
   ],
   "source": [
    "df.CrossSuperborough.value_counts()"
   ]
  },
  {
   "cell_type": "code",
   "execution_count": 56,
   "id": "5d86a2d0-4a60-449f-bd83-f43104088518",
   "metadata": {},
   "outputs": [
    {
     "data": {
      "text/plain": [
       "     1114838\n",
       "N     433768\n",
       "Name: access_a_ride_flag, dtype: int64"
      ]
     },
     "execution_count": 56,
     "metadata": {},
     "output_type": "execute_result"
    }
   ],
   "source": [
    "df.access_a_ride_flag.value_counts()"
   ]
  },
  {
   "cell_type": "code",
   "execution_count": 57,
   "id": "dce7c9d5-1b74-4bdc-849d-5541a9b2daac",
   "metadata": {},
   "outputs": [
    {
     "data": {
      "text/plain": [
       "<AxesSubplot: >"
      ]
     },
     "execution_count": 57,
     "metadata": {},
     "output_type": "execute_result"
    },
    {
     "data": {
      "image/png": "[encoded data removed]",
      "text/plain": [
       "<Figure size 640x480 with 1 Axes>"
      ]
     },
     "metadata": {},
     "output_type": "display_data"
    }
   ],
   "source": [
    "df.PUBorough.value_counts().plot(kind='bar')"
   ]
  },
  {
   "cell_type": "code",
   "execution_count": 58,
   "id": "f111c3c6-3cd5-42a2-867d-0d28217d4e8d",
   "metadata": {},
   "outputs": [
    {
     "data": {
      "text/plain": [
       "<AxesSubplot: >"
      ]
     },
     "execution_count": 58,
     "metadata": {},
     "output_type": "execute_result"
    },
    {
     "data": {
      "image/png": "[encoded data removed]",
      "text/plain": [
       "<Figure size 640x480 with 1 Axes>"
      ]
     },
     "metadata": {},
     "output_type": "display_data"
    }
   ],
   "source": [
    "df.DOBorough.value_counts().plot(kind='bar')"
   ]
  },
  {
   "cell_type": "code",
   "execution_count": 59,
   "id": "5093131a-6038-4a3a-b88f-bffe9d55aebe",
   "metadata": {},
   "outputs": [],
   "source": [
    "to_drop = ['base_passenger_fare', 'dropoff_month', 'dropoff_dow', 'dropoff_hour',\n",
    "           'bcf', 'sales_tax', 'tips', 'driver_pay', 'dropoff_datetime', 'access_a_ride_flag', 'wav_match_flag'\n",
    "          ]"
   ]
  },
  {
   "cell_type": "code",
   "execution_count": 60,
   "id": "92961f4e-5168-4059-a597-af0294e09332",
   "metadata": {},
   "outputs": [],
   "source": [
    "df2 = df.drop(columns=to_drop)"
   ]
  },
  {
   "cell_type": "code",
   "execution_count": 61,
   "id": "7f9532cd-3ea5-4ab6-8f62-5b3c35036157",
   "metadata": {},
   "outputs": [
    {
     "data": {
      "text/html": [
       "<div>\n",
       "<style scoped>\n",
       "    .dataframe tbody tr th:only-of-type {\n",
       "        vertical-align: middle;\n",
       "    }\n",
       "\n",
       "    .dataframe tbody tr th {\n",
       "        vertical-align: top;\n",
       "    }\n",
       "\n",
       "    .dataframe thead th {\n",
       "        text-align: right;\n",
       "    }\n",
       "</style>\n",
       "<table border=\"1\" class=\"dataframe\">\n",
       "  <thead>\n",
       "    <tr style=\"text-align: right;\">\n",
       "      <th></th>\n",
       "      <th>hvfhs_license_num</th>\n",
       "      <th>PULocationID</th>\n",
       "      <th>DOLocationID</th>\n",
       "      <th>trip_miles</th>\n",
       "      <th>trip_time</th>\n",
       "      <th>tolls</th>\n",
       "      <th>congestion_surcharge</th>\n",
       "      <th>airport_fee</th>\n",
       "      <th>wav_request_flag</th>\n",
       "      <th>accessible_vehicle</th>\n",
       "      <th>pickup_month</th>\n",
       "      <th>pickup_dow</th>\n",
       "      <th>pickup_hour</th>\n",
       "      <th>mean_trip_time_by_pickup_hour</th>\n",
       "      <th>mean_trip_time_by_pickup_dow</th>\n",
       "      <th>PUBorough</th>\n",
       "      <th>DOBorough</th>\n",
       "      <th>CrossSuperborough</th>\n",
       "      <th>PUSuperborough_DOSuperborough</th>\n",
       "    </tr>\n",
       "  </thead>\n",
       "  <tbody>\n",
       "    <tr>\n",
       "      <th>0</th>\n",
       "      <td>HV0003</td>\n",
       "      <td>235</td>\n",
       "      <td>136</td>\n",
       "      <td>1.550</td>\n",
       "      <td>467</td>\n",
       "      <td>0.0</td>\n",
       "      <td>0.0</td>\n",
       "      <td>0.0</td>\n",
       "      <td>N</td>\n",
       "      <td>0</td>\n",
       "      <td>4</td>\n",
       "      <td>1</td>\n",
       "      <td>22</td>\n",
       "      <td>963.756413</td>\n",
       "      <td>995.785506</td>\n",
       "      <td>Bronx</td>\n",
       "      <td>Bronx</td>\n",
       "      <td>N</td>\n",
       "      <td>Superborough 1-Superborough 1</td>\n",
       "    </tr>\n",
       "    <tr>\n",
       "      <th>1</th>\n",
       "      <td>HV0003</td>\n",
       "      <td>235</td>\n",
       "      <td>136</td>\n",
       "      <td>0.480</td>\n",
       "      <td>213</td>\n",
       "      <td>0.0</td>\n",
       "      <td>0.0</td>\n",
       "      <td>0.0</td>\n",
       "      <td>N</td>\n",
       "      <td>0</td>\n",
       "      <td>6</td>\n",
       "      <td>1</td>\n",
       "      <td>22</td>\n",
       "      <td>963.756413</td>\n",
       "      <td>995.785506</td>\n",
       "      <td>Bronx</td>\n",
       "      <td>Bronx</td>\n",
       "      <td>N</td>\n",
       "      <td>Superborough 1-Superborough 1</td>\n",
       "    </tr>\n",
       "    <tr>\n",
       "      <th>2</th>\n",
       "      <td>HV0003</td>\n",
       "      <td>235</td>\n",
       "      <td>136</td>\n",
       "      <td>0.680</td>\n",
       "      <td>226</td>\n",
       "      <td>0.0</td>\n",
       "      <td>0.0</td>\n",
       "      <td>0.0</td>\n",
       "      <td>N</td>\n",
       "      <td>0</td>\n",
       "      <td>8</td>\n",
       "      <td>1</td>\n",
       "      <td>22</td>\n",
       "      <td>963.756413</td>\n",
       "      <td>995.785506</td>\n",
       "      <td>Bronx</td>\n",
       "      <td>Bronx</td>\n",
       "      <td>N</td>\n",
       "      <td>Superborough 1-Superborough 1</td>\n",
       "    </tr>\n",
       "    <tr>\n",
       "      <th>3</th>\n",
       "      <td>HV0003</td>\n",
       "      <td>235</td>\n",
       "      <td>136</td>\n",
       "      <td>0.980</td>\n",
       "      <td>312</td>\n",
       "      <td>0.0</td>\n",
       "      <td>0.0</td>\n",
       "      <td>0.0</td>\n",
       "      <td>N</td>\n",
       "      <td>0</td>\n",
       "      <td>2</td>\n",
       "      <td>1</td>\n",
       "      <td>22</td>\n",
       "      <td>963.756413</td>\n",
       "      <td>995.785506</td>\n",
       "      <td>Bronx</td>\n",
       "      <td>Bronx</td>\n",
       "      <td>N</td>\n",
       "      <td>Superborough 1-Superborough 1</td>\n",
       "    </tr>\n",
       "    <tr>\n",
       "      <th>4</th>\n",
       "      <td>HV0005</td>\n",
       "      <td>235</td>\n",
       "      <td>136</td>\n",
       "      <td>0.769</td>\n",
       "      <td>370</td>\n",
       "      <td>0.0</td>\n",
       "      <td>0.0</td>\n",
       "      <td>0.0</td>\n",
       "      <td>N</td>\n",
       "      <td>1</td>\n",
       "      <td>10</td>\n",
       "      <td>1</td>\n",
       "      <td>22</td>\n",
       "      <td>963.756413</td>\n",
       "      <td>995.785506</td>\n",
       "      <td>Bronx</td>\n",
       "      <td>Bronx</td>\n",
       "      <td>N</td>\n",
       "      <td>Superborough 1-Superborough 1</td>\n",
       "    </tr>\n",
       "  </tbody>\n",
       "</table>\n",
       "</div>"
      ],
      "text/plain": [
       "  hvfhs_license_num  PULocationID  DOLocationID  trip_miles  trip_time  tolls  \\\n",
       "0            HV0003           235           136       1.550        467    0.0   \n",
       "1            HV0003           235           136       0.480        213    0.0   \n",
       "2            HV0003           235           136       0.680        226    0.0   \n",
       "3            HV0003           235           136       0.980        312    0.0   \n",
       "4            HV0005           235           136       0.769        370    0.0   \n",
       "\n",
       "   congestion_surcharge  airport_fee wav_request_flag  accessible_vehicle  \\\n",
       "0                   0.0          0.0                N                   0   \n",
       "1                   0.0          0.0                N                   0   \n",
       "2                   0.0          0.0                N                   0   \n",
       "3                   0.0          0.0                N                   0   \n",
       "4                   0.0          0.0                N                   1   \n",
       "\n",
       "   pickup_month  pickup_dow  pickup_hour  mean_trip_time_by_pickup_hour  \\\n",
       "0             4           1           22                     963.756413   \n",
       "1             6           1           22                     963.756413   \n",
       "2             8           1           22                     963.756413   \n",
       "3             2           1           22                     963.756413   \n",
       "4            10           1           22                     963.756413   \n",
       "\n",
       "   mean_trip_time_by_pickup_dow PUBorough DOBorough CrossSuperborough  \\\n",
       "0                    995.785506     Bronx     Bronx                 N   \n",
       "1                    995.785506     Bronx     Bronx                 N   \n",
       "2                    995.785506     Bronx     Bronx                 N   \n",
       "3                    995.785506     Bronx     Bronx                 N   \n",
       "4                    995.785506     Bronx     Bronx                 N   \n",
       "\n",
       "   PUSuperborough_DOSuperborough  \n",
       "0  Superborough 1-Superborough 1  \n",
       "1  Superborough 1-Superborough 1  \n",
       "2  Superborough 1-Superborough 1  \n",
       "3  Superborough 1-Superborough 1  \n",
       "4  Superborough 1-Superborough 1  "
      ]
     },
     "execution_count": 61,
     "metadata": {},
     "output_type": "execute_result"
    }
   ],
   "source": [
    "df2.head()"
   ]
  },
  {
   "cell_type": "code",
   "execution_count": 62,
   "id": "27155bda-d7cd-48e9-9531-df806d95263e",
   "metadata": {},
   "outputs": [],
   "source": [
    "categories = ['hvfhs_license_num', 'PULocationID', \"DOLocationID\", 'wav_request_flag', 'accessible_vehicle', 'pickup_month',\n",
    "              'pickup_dow', 'pickup_hour', 'PUBorough', 'DOBorough', 'CrossSuperborough', 'PUSuperborough_DOSuperborough']"
   ]
  },
  {
   "cell_type": "code",
   "execution_count": 63,
   "id": "0b879b99-6815-4fc3-9634-d0c9fabb0c46",
   "metadata": {},
   "outputs": [],
   "source": [
    "df2[categories] = df2[categories].astype('category')"
   ]
  },
  {
   "cell_type": "code",
   "execution_count": 64,
   "id": "5a5c11ed-4785-494a-a684-7cb93405b97d",
   "metadata": {},
   "outputs": [
    {
     "data": {
      "text/plain": [
       "['Superborough 1-Superborough 1', 'Superborough 2-Superborough 1', 'Unknown-Superborough 1', 'Superborough 1-Superborough 2', 'Superborough 2-Superborough 2', ..., 'Unknown-Unknown', 'Unknown-Superborough 2', 'Superborough 1-Superborough 3', 'Superborough 2-Superborough 3', 'Superborough 3-Superborough 3']\n",
       "Length: 15\n",
       "Categories (15, object): ['Superborough 1-Superborough 1', 'Superborough 1-Superborough 2', 'Superborough 1-Superborough 3', 'Superborough 1-Unknown', ..., 'Superborough 3-Unknown', 'Unknown-Superborough 1', 'Unknown-Superborough 2', 'Unknown-Unknown']"
      ]
     },
     "execution_count": 64,
     "metadata": {},
     "output_type": "execute_result"
    }
   ],
   "source": [
    "df2['PUSuperborough_DOSuperborough'].unique()"
   ]
  },
  {
   "cell_type": "markdown",
   "id": "206bc5c4-8579-412f-ab76-a70c5343173c",
   "metadata": {},
   "source": [
    "## Train a Scikit Learn Dummy Regressor and evaluate model performance"
   ]
  },
  {
   "cell_type": "code",
   "execution_count": 65,
   "id": "cb6ec9bb-9785-44be-8b02-1bb35544a340",
   "metadata": {},
   "outputs": [],
   "source": [
    "from sklearn.dummy import DummyRegressor\n",
    "from sklearn.model_selection import train_test_split\n",
    "from sklearn.metrics import mean_squared_error"
   ]
  },
  {
   "cell_type": "code",
   "execution_count": 66,
   "id": "21c5884e-6136-4131-b42f-9e3c3ec6881e",
   "metadata": {},
   "outputs": [
    {
     "data": {
      "text/plain": [
       "hvfhs_license_num                category\n",
       "PULocationID                     category\n",
       "DOLocationID                     category\n",
       "trip_miles                        float64\n",
       "trip_time                           int64\n",
       "tolls                             float64\n",
       "congestion_surcharge              float64\n",
       "airport_fee                       float64\n",
       "wav_request_flag                 category\n",
       "accessible_vehicle               category\n",
       "pickup_month                     category\n",
       "pickup_dow                       category\n",
       "pickup_hour                      category\n",
       "mean_trip_time_by_pickup_hour     float64\n",
       "mean_trip_time_by_pickup_dow      float64\n",
       "PUBorough                        category\n",
       "DOBorough                        category\n",
       "CrossSuperborough                category\n",
       "PUSuperborough_DOSuperborough    category\n",
       "dtype: object"
      ]
     },
     "execution_count": 66,
     "metadata": {},
     "output_type": "execute_result"
    }
   ],
   "source": [
    "df2.dtypes"
   ]
  },
  {
   "cell_type": "code",
   "execution_count": 67,
   "id": "da2f65f7-6b4d-4be8-9be6-0eb515dc788e",
   "metadata": {},
   "outputs": [],
   "source": [
    "df_valid = df2.sample(frac=0.1)"
   ]
  },
  {
   "cell_type": "code",
   "execution_count": 68,
   "id": "7b313778-9864-472e-872e-a925ce6d7bb8",
   "metadata": {},
   "outputs": [
    {
     "data": {
      "text/html": [
       "<div>\n",
       "<style scoped>\n",
       "    .dataframe tbody tr th:only-of-type {\n",
       "        vertical-align: middle;\n",
       "    }\n",
       "\n",
       "    .dataframe tbody tr th {\n",
       "        vertical-align: top;\n",
       "    }\n",
       "\n",
       "    .dataframe thead th {\n",
       "        text-align: right;\n",
       "    }\n",
       "</style>\n",
       "<table border=\"1\" class=\"dataframe\">\n",
       "  <thead>\n",
       "    <tr style=\"text-align: right;\">\n",
       "      <th></th>\n",
       "      <th>hvfhs_license_num</th>\n",
       "      <th>PULocationID</th>\n",
       "      <th>DOLocationID</th>\n",
       "      <th>trip_miles</th>\n",
       "      <th>trip_time</th>\n",
       "      <th>tolls</th>\n",
       "      <th>congestion_surcharge</th>\n",
       "      <th>airport_fee</th>\n",
       "      <th>wav_request_flag</th>\n",
       "      <th>accessible_vehicle</th>\n",
       "      <th>pickup_month</th>\n",
       "      <th>pickup_dow</th>\n",
       "      <th>pickup_hour</th>\n",
       "      <th>mean_trip_time_by_pickup_hour</th>\n",
       "      <th>mean_trip_time_by_pickup_dow</th>\n",
       "      <th>PUBorough</th>\n",
       "      <th>DOBorough</th>\n",
       "      <th>CrossSuperborough</th>\n",
       "      <th>PUSuperborough_DOSuperborough</th>\n",
       "    </tr>\n",
       "  </thead>\n",
       "  <tbody>\n",
       "    <tr>\n",
       "      <th>0</th>\n",
       "      <td>HV0003</td>\n",
       "      <td>235</td>\n",
       "      <td>136</td>\n",
       "      <td>1.550</td>\n",
       "      <td>467</td>\n",
       "      <td>0.0</td>\n",
       "      <td>0.0</td>\n",
       "      <td>0.0</td>\n",
       "      <td>N</td>\n",
       "      <td>0</td>\n",
       "      <td>4</td>\n",
       "      <td>1</td>\n",
       "      <td>22</td>\n",
       "      <td>963.756413</td>\n",
       "      <td>995.785506</td>\n",
       "      <td>Bronx</td>\n",
       "      <td>Bronx</td>\n",
       "      <td>N</td>\n",
       "      <td>Superborough 1-Superborough 1</td>\n",
       "    </tr>\n",
       "    <tr>\n",
       "      <th>1</th>\n",
       "      <td>HV0003</td>\n",
       "      <td>235</td>\n",
       "      <td>136</td>\n",
       "      <td>0.480</td>\n",
       "      <td>213</td>\n",
       "      <td>0.0</td>\n",
       "      <td>0.0</td>\n",
       "      <td>0.0</td>\n",
       "      <td>N</td>\n",
       "      <td>0</td>\n",
       "      <td>6</td>\n",
       "      <td>1</td>\n",
       "      <td>22</td>\n",
       "      <td>963.756413</td>\n",
       "      <td>995.785506</td>\n",
       "      <td>Bronx</td>\n",
       "      <td>Bronx</td>\n",
       "      <td>N</td>\n",
       "      <td>Superborough 1-Superborough 1</td>\n",
       "    </tr>\n",
       "    <tr>\n",
       "      <th>2</th>\n",
       "      <td>HV0003</td>\n",
       "      <td>235</td>\n",
       "      <td>136</td>\n",
       "      <td>0.680</td>\n",
       "      <td>226</td>\n",
       "      <td>0.0</td>\n",
       "      <td>0.0</td>\n",
       "      <td>0.0</td>\n",
       "      <td>N</td>\n",
       "      <td>0</td>\n",
       "      <td>8</td>\n",
       "      <td>1</td>\n",
       "      <td>22</td>\n",
       "      <td>963.756413</td>\n",
       "      <td>995.785506</td>\n",
       "      <td>Bronx</td>\n",
       "      <td>Bronx</td>\n",
       "      <td>N</td>\n",
       "      <td>Superborough 1-Superborough 1</td>\n",
       "    </tr>\n",
       "    <tr>\n",
       "      <th>3</th>\n",
       "      <td>HV0003</td>\n",
       "      <td>235</td>\n",
       "      <td>136</td>\n",
       "      <td>0.980</td>\n",
       "      <td>312</td>\n",
       "      <td>0.0</td>\n",
       "      <td>0.0</td>\n",
       "      <td>0.0</td>\n",
       "      <td>N</td>\n",
       "      <td>0</td>\n",
       "      <td>2</td>\n",
       "      <td>1</td>\n",
       "      <td>22</td>\n",
       "      <td>963.756413</td>\n",
       "      <td>995.785506</td>\n",
       "      <td>Bronx</td>\n",
       "      <td>Bronx</td>\n",
       "      <td>N</td>\n",
       "      <td>Superborough 1-Superborough 1</td>\n",
       "    </tr>\n",
       "    <tr>\n",
       "      <th>4</th>\n",
       "      <td>HV0005</td>\n",
       "      <td>235</td>\n",
       "      <td>136</td>\n",
       "      <td>0.769</td>\n",
       "      <td>370</td>\n",
       "      <td>0.0</td>\n",
       "      <td>0.0</td>\n",
       "      <td>0.0</td>\n",
       "      <td>N</td>\n",
       "      <td>1</td>\n",
       "      <td>10</td>\n",
       "      <td>1</td>\n",
       "      <td>22</td>\n",
       "      <td>963.756413</td>\n",
       "      <td>995.785506</td>\n",
       "      <td>Bronx</td>\n",
       "      <td>Bronx</td>\n",
       "      <td>N</td>\n",
       "      <td>Superborough 1-Superborough 1</td>\n",
       "    </tr>\n",
       "  </tbody>\n",
       "</table>\n",
       "</div>"
      ],
      "text/plain": [
       "  hvfhs_license_num PULocationID DOLocationID  trip_miles  trip_time  tolls  \\\n",
       "0            HV0003          235          136       1.550        467    0.0   \n",
       "1            HV0003          235          136       0.480        213    0.0   \n",
       "2            HV0003          235          136       0.680        226    0.0   \n",
       "3            HV0003          235          136       0.980        312    0.0   \n",
       "4            HV0005          235          136       0.769        370    0.0   \n",
       "\n",
       "   congestion_surcharge  airport_fee wav_request_flag accessible_vehicle  \\\n",
       "0                   0.0          0.0                N                  0   \n",
       "1                   0.0          0.0                N                  0   \n",
       "2                   0.0          0.0                N                  0   \n",
       "3                   0.0          0.0                N                  0   \n",
       "4                   0.0          0.0                N                  1   \n",
       "\n",
       "  pickup_month pickup_dow pickup_hour  mean_trip_time_by_pickup_hour  \\\n",
       "0            4          1          22                     963.756413   \n",
       "1            6          1          22                     963.756413   \n",
       "2            8          1          22                     963.756413   \n",
       "3            2          1          22                     963.756413   \n",
       "4           10          1          22                     963.756413   \n",
       "\n",
       "   mean_trip_time_by_pickup_dow PUBorough DOBorough CrossSuperborough  \\\n",
       "0                    995.785506     Bronx     Bronx                 N   \n",
       "1                    995.785506     Bronx     Bronx                 N   \n",
       "2                    995.785506     Bronx     Bronx                 N   \n",
       "3                    995.785506     Bronx     Bronx                 N   \n",
       "4                    995.785506     Bronx     Bronx                 N   \n",
       "\n",
       "   PUSuperborough_DOSuperborough  \n",
       "0  Superborough 1-Superborough 1  \n",
       "1  Superborough 1-Superborough 1  \n",
       "2  Superborough 1-Superborough 1  \n",
       "3  Superborough 1-Superborough 1  \n",
       "4  Superborough 1-Superborough 1  "
      ]
     },
     "execution_count": 68,
     "metadata": {},
     "output_type": "execute_result"
    }
   ],
   "source": [
    "df2.head()"
   ]
  },
  {
   "cell_type": "code",
   "execution_count": 69,
   "id": "42315d97-9f22-4eb7-9a46-585356bb6573",
   "metadata": {},
   "outputs": [
    {
     "data": {
      "text/plain": [
       "['hvfhs_license_num',\n",
       " 'PULocationID',\n",
       " 'DOLocationID',\n",
       " 'trip_miles',\n",
       " 'trip_time',\n",
       " 'tolls',\n",
       " 'congestion_surcharge',\n",
       " 'airport_fee',\n",
       " 'wav_request_flag',\n",
       " 'accessible_vehicle',\n",
       " 'pickup_month',\n",
       " 'pickup_dow',\n",
       " 'pickup_hour',\n",
       " 'mean_trip_time_by_pickup_hour',\n",
       " 'mean_trip_time_by_pickup_dow',\n",
       " 'PUBorough',\n",
       " 'DOBorough',\n",
       " 'CrossSuperborough',\n",
       " 'PUSuperborough_DOSuperborough']"
      ]
     },
     "execution_count": 69,
     "metadata": {},
     "output_type": "execute_result"
    }
   ],
   "source": [
    "df2.columns.tolist()"
   ]
  },
  {
   "cell_type": "code",
   "execution_count": 70,
   "id": "304942d9-595d-41a1-9b2e-ce967addede5",
   "metadata": {},
   "outputs": [],
   "source": [
    "y = df2['trip_time']\n",
    "X = df2.drop(columns='trip_time')"
   ]
  },
  {
   "cell_type": "code",
   "execution_count": 71,
   "id": "4c83a3d9-aba5-45d7-9856-c7c5a0c13861",
   "metadata": {},
   "outputs": [],
   "source": [
    "X_train, X_test, y_train, y_test = train_test_split(X, y, test_size=0.2)"
   ]
  },
  {
   "cell_type": "code",
   "execution_count": 72,
   "id": "5656aaf4-279b-464d-9c06-30189b66b61d",
   "metadata": {},
   "outputs": [],
   "source": [
    "mdl = DummyRegressor(strategy=\"mean\")"
   ]
  },
  {
   "cell_type": "code",
   "execution_count": 73,
   "id": "2e9e213b-6799-434b-a231-f68cb2cb6fe2",
   "metadata": {},
   "outputs": [
    {
     "data": {
      "text/html": [
       "<style>#sk-container-id-1 {color: black;background-color: white;}#sk-container-id-1 pre{padding: 0;}#sk-container-id-1 div.sk-toggleable {background-color: white;}#sk-container-id-1 label.sk-toggleable__label {cursor: pointer;display: block;width: 100%;margin-bottom: 0;padding: 0.3em;box-sizing: border-box;text-align: center;}#sk-container-id-1 label.sk-toggleable__label-arrow:before {content: \"▸\";float: left;margin-right: 0.25em;color: #696969;}#sk-container-id-1 label.sk-toggleable__label-arrow:hover:before {color: black;}#sk-container-id-1 div.sk-estimator:hover label.sk-toggleable__label-arrow:before {color: black;}#sk-container-id-1 div.sk-toggleable__content {max-height: 0;max-width: 0;overflow: hidden;text-align: left;background-color: #f0f8ff;}#sk-container-id-1 div.sk-toggleable__content pre {margin: 0.2em;color: black;border-radius: 0.25em;background-color: #f0f8ff;}#sk-container-id-1 input.sk-toggleable__control:checked~div.sk-toggleable__content {max-height: 200px;max-width: 100%;overflow: auto;}#sk-container-id-1 input.sk-toggleable__control:checked~label.sk-toggleable__label-arrow:before {content: \"▾\";}#sk-container-id-1 div.sk-estimator input.sk-toggleable__control:checked~label.sk-toggleable__label {background-color: #d4ebff;}#sk-container-id-1 div.sk-label input.sk-toggleable__control:checked~label.sk-toggleable__label {background-color: #d4ebff;}#sk-container-id-1 input.sk-hidden--visually {border: 0;clip: rect(1px 1px 1px 1px);clip: rect(1px, 1px, 1px, 1px);height: 1px;margin: -1px;overflow: hidden;padding: 0;position: absolute;width: 1px;}#sk-container-id-1 div.sk-estimator {font-family: monospace;background-color: #f0f8ff;border: 1px dotted black;border-radius: 0.25em;box-sizing: border-box;margin-bottom: 0.5em;}#sk-container-id-1 div.sk-estimator:hover {background-color: #d4ebff;}#sk-container-id-1 div.sk-parallel-item::after {content: \"\";width: 100%;border-bottom: 1px solid gray;flex-grow: 1;}#sk-container-id-1 div.sk-label:hover label.sk-toggleable__label {background-color: #d4ebff;}#sk-container-id-1 div.sk-serial::before {content: \"\";position: absolute;border-left: 1px solid gray;box-sizing: border-box;top: 0;bottom: 0;left: 50%;z-index: 0;}#sk-container-id-1 div.sk-serial {display: flex;flex-direction: column;align-items: center;background-color: white;padding-right: 0.2em;padding-left: 0.2em;position: relative;}#sk-container-id-1 div.sk-item {position: relative;z-index: 1;}#sk-container-id-1 div.sk-parallel {display: flex;align-items: stretch;justify-content: center;background-color: white;position: relative;}#sk-container-id-1 div.sk-item::before, #sk-container-id-1 div.sk-parallel-item::before {content: \"\";position: absolute;border-left: 1px solid gray;box-sizing: border-box;top: 0;bottom: 0;left: 50%;z-index: -1;}#sk-container-id-1 div.sk-parallel-item {display: flex;flex-direction: column;z-index: 1;position: relative;background-color: white;}#sk-container-id-1 div.sk-parallel-item:first-child::after {align-self: flex-end;width: 50%;}#sk-container-id-1 div.sk-parallel-item:last-child::after {align-self: flex-start;width: 50%;}#sk-container-id-1 div.sk-parallel-item:only-child::after {width: 0;}#sk-container-id-1 div.sk-dashed-wrapped {border: 1px dashed gray;margin: 0 0.4em 0.5em 0.4em;box-sizing: border-box;padding-bottom: 0.4em;background-color: white;}#sk-container-id-1 div.sk-label label {font-family: monospace;font-weight: bold;display: inline-block;line-height: 1.2em;}#sk-container-id-1 div.sk-label-container {text-align: center;}#sk-container-id-1 div.sk-container {/* jupyter's `normalize.less` sets `[hidden] { display: none; }` but bootstrap.min.css set `[hidden] { display: none !important; }` so we also need the `!important` here to be able to override the default hidden behavior on the sphinx rendered scikit-learn.org. See: https://github.com/scikit-learn/scikit-learn/issues/21755 */display: inline-block !important;position: relative;}#sk-container-id-1 div.sk-text-repr-fallback {display: none;}</style><div id=\"sk-container-id-1\" class=\"sk-top-container\"><div class=\"sk-text-repr-fallback\"><pre>DummyRegressor()</pre><b>In a Jupyter environment, please rerun this cell to show the HTML representation or trust the notebook. <br />On GitHub, the HTML representation is unable to render, please try loading this page with nbviewer.org.</b></div><div class=\"sk-container\" hidden><div class=\"sk-item\"><div class=\"sk-estimator sk-toggleable\"><input class=\"sk-toggleable__control sk-hidden--visually\" id=\"sk-estimator-id-1\" type=\"checkbox\" checked><label for=\"sk-estimator-id-1\" class=\"sk-toggleable__label sk-toggleable__label-arrow\">DummyRegressor</label><div class=\"sk-toggleable__content\"><pre>DummyRegressor()</pre></div></div></div></div></div>"
      ],
      "text/plain": [
       "DummyRegressor()"
      ]
     },
     "execution_count": 73,
     "metadata": {},
     "output_type": "execute_result"
    }
   ],
   "source": [
    "mdl.fit(X_train, y_train)"
   ]
  },
  {
   "cell_type": "code",
   "execution_count": 74,
   "id": "9fe7cb63-834c-4c5a-a719-f00d8cb814a4",
   "metadata": {},
   "outputs": [],
   "source": [
    "y_predict = mdl.predict(X_test)"
   ]
  },
  {
   "cell_type": "code",
   "execution_count": 75,
   "id": "48cf0306-a94a-40c8-ba2a-4f4824781f77",
   "metadata": {},
   "outputs": [],
   "source": [
    "mse = mean_squared_error(y_test, y_predict, squared=False)"
   ]
  },
  {
   "cell_type": "code",
   "execution_count": 76,
   "id": "55de522b-d9d4-462d-8dba-6b50bf49af09",
   "metadata": {},
   "outputs": [
    {
     "data": {
      "text/plain": [
       "557.3169023179623"
      ]
     },
     "execution_count": 76,
     "metadata": {},
     "output_type": "execute_result"
    }
   ],
   "source": [
    "mse"
   ]
  },
  {
   "cell_type": "markdown",
   "id": "8d7831cc-840f-4189-b578-e2dcc5d85e3d",
   "metadata": {},
   "source": [
    "## Linear Regression"
   ]
  },
  {
   "cell_type": "code",
   "execution_count": 77,
   "id": "37e812bc-20bc-4aa2-b321-15062d82bc66",
   "metadata": {},
   "outputs": [],
   "source": [
    "from sklearn.preprocessing import OneHotEncoder, StandardScaler\n",
    "from sklearn.pipeline import Pipeline\n",
    "from sklearn.compose import make_column_selector as selector\n",
    "from sklearn.compose import ColumnTransformer\n",
    "from sklearn.linear_model import LinearRegression"
   ]
  },
  {
   "cell_type": "code",
   "execution_count": 78,
   "id": "c8fd50c0-a022-48a5-bd4e-77d38676c290",
   "metadata": {},
   "outputs": [
    {
     "data": {
      "text/html": [
       "<style>#sk-container-id-2 {color: black;background-color: white;}#sk-container-id-2 pre{padding: 0;}#sk-container-id-2 div.sk-toggleable {background-color: white;}#sk-container-id-2 label.sk-toggleable__label {cursor: pointer;display: block;width: 100%;margin-bottom: 0;padding: 0.3em;box-sizing: border-box;text-align: center;}#sk-container-id-2 label.sk-toggleable__label-arrow:before {content: \"▸\";float: left;margin-right: 0.25em;color: #696969;}#sk-container-id-2 label.sk-toggleable__label-arrow:hover:before {color: black;}#sk-container-id-2 div.sk-estimator:hover label.sk-toggleable__label-arrow:before {color: black;}#sk-container-id-2 div.sk-toggleable__content {max-height: 0;max-width: 0;overflow: hidden;text-align: left;background-color: #f0f8ff;}#sk-container-id-2 div.sk-toggleable__content pre {margin: 0.2em;color: black;border-radius: 0.25em;background-color: #f0f8ff;}#sk-container-id-2 input.sk-toggleable__control:checked~div.sk-toggleable__content {max-height: 200px;max-width: 100%;overflow: auto;}#sk-container-id-2 input.sk-toggleable__control:checked~label.sk-toggleable__label-arrow:before {content: \"▾\";}#sk-container-id-2 div.sk-estimator input.sk-toggleable__control:checked~label.sk-toggleable__label {background-color: #d4ebff;}#sk-container-id-2 div.sk-label input.sk-toggleable__control:checked~label.sk-toggleable__label {background-color: #d4ebff;}#sk-container-id-2 input.sk-hidden--visually {border: 0;clip: rect(1px 1px 1px 1px);clip: rect(1px, 1px, 1px, 1px);height: 1px;margin: -1px;overflow: hidden;padding: 0;position: absolute;width: 1px;}#sk-container-id-2 div.sk-estimator {font-family: monospace;background-color: #f0f8ff;border: 1px dotted black;border-radius: 0.25em;box-sizing: border-box;margin-bottom: 0.5em;}#sk-container-id-2 div.sk-estimator:hover {background-color: #d4ebff;}#sk-container-id-2 div.sk-parallel-item::after {content: \"\";width: 100%;border-bottom: 1px solid gray;flex-grow: 1;}#sk-container-id-2 div.sk-label:hover label.sk-toggleable__label {background-color: #d4ebff;}#sk-container-id-2 div.sk-serial::before {content: \"\";position: absolute;border-left: 1px solid gray;box-sizing: border-box;top: 0;bottom: 0;left: 50%;z-index: 0;}#sk-container-id-2 div.sk-serial {display: flex;flex-direction: column;align-items: center;background-color: white;padding-right: 0.2em;padding-left: 0.2em;position: relative;}#sk-container-id-2 div.sk-item {position: relative;z-index: 1;}#sk-container-id-2 div.sk-parallel {display: flex;align-items: stretch;justify-content: center;background-color: white;position: relative;}#sk-container-id-2 div.sk-item::before, #sk-container-id-2 div.sk-parallel-item::before {content: \"\";position: absolute;border-left: 1px solid gray;box-sizing: border-box;top: 0;bottom: 0;left: 50%;z-index: -1;}#sk-container-id-2 div.sk-parallel-item {display: flex;flex-direction: column;z-index: 1;position: relative;background-color: white;}#sk-container-id-2 div.sk-parallel-item:first-child::after {align-self: flex-end;width: 50%;}#sk-container-id-2 div.sk-parallel-item:last-child::after {align-self: flex-start;width: 50%;}#sk-container-id-2 div.sk-parallel-item:only-child::after {width: 0;}#sk-container-id-2 div.sk-dashed-wrapped {border: 1px dashed gray;margin: 0 0.4em 0.5em 0.4em;box-sizing: border-box;padding-bottom: 0.4em;background-color: white;}#sk-container-id-2 div.sk-label label {font-family: monospace;font-weight: bold;display: inline-block;line-height: 1.2em;}#sk-container-id-2 div.sk-label-container {text-align: center;}#sk-container-id-2 div.sk-container {/* jupyter's `normalize.less` sets `[hidden] { display: none; }` but bootstrap.min.css set `[hidden] { display: none !important; }` so we also need the `!important` here to be able to override the default hidden behavior on the sphinx rendered scikit-learn.org. See: https://github.com/scikit-learn/scikit-learn/issues/21755 */display: inline-block !important;position: relative;}#sk-container-id-2 div.sk-text-repr-fallback {display: none;}</style><div id=\"sk-container-id-2\" class=\"sk-top-container\"><div class=\"sk-text-repr-fallback\"><pre>Pipeline(steps=[(&#x27;preprocessor&#x27;,\n",
       "                 ColumnTransformer(transformers=[(&#x27;num&#x27;, StandardScaler(),\n",
       "                                                  &lt;sklearn.compose._column_transformer.make_column_selector object at 0x347e4b4f0&gt;),\n",
       "                                                 (&#x27;cat&#x27;,\n",
       "                                                  OneHotEncoder(handle_unknown=&#x27;ignore&#x27;),\n",
       "                                                  &lt;sklearn.compose._column_transformer.make_column_selector object at 0x3480ec730&gt;)])),\n",
       "                (&#x27;regressor&#x27;, LinearRegression())])</pre><b>In a Jupyter environment, please rerun this cell to show the HTML representation or trust the notebook. <br />On GitHub, the HTML representation is unable to render, please try loading this page with nbviewer.org.</b></div><div class=\"sk-container\" hidden><div class=\"sk-item sk-dashed-wrapped\"><div class=\"sk-label-container\"><div class=\"sk-label sk-toggleable\"><input class=\"sk-toggleable__control sk-hidden--visually\" id=\"sk-estimator-id-2\" type=\"checkbox\" ><label for=\"sk-estimator-id-2\" class=\"sk-toggleable__label sk-toggleable__label-arrow\">Pipeline</label><div class=\"sk-toggleable__content\"><pre>Pipeline(steps=[(&#x27;preprocessor&#x27;,\n",
       "                 ColumnTransformer(transformers=[(&#x27;num&#x27;, StandardScaler(),\n",
       "                                                  &lt;sklearn.compose._column_transformer.make_column_selector object at 0x347e4b4f0&gt;),\n",
       "                                                 (&#x27;cat&#x27;,\n",
       "                                                  OneHotEncoder(handle_unknown=&#x27;ignore&#x27;),\n",
       "                                                  &lt;sklearn.compose._column_transformer.make_column_selector object at 0x3480ec730&gt;)])),\n",
       "                (&#x27;regressor&#x27;, LinearRegression())])</pre></div></div></div><div class=\"sk-serial\"><div class=\"sk-item sk-dashed-wrapped\"><div class=\"sk-label-container\"><div class=\"sk-label sk-toggleable\"><input class=\"sk-toggleable__control sk-hidden--visually\" id=\"sk-estimator-id-3\" type=\"checkbox\" ><label for=\"sk-estimator-id-3\" class=\"sk-toggleable__label sk-toggleable__label-arrow\">preprocessor: ColumnTransformer</label><div class=\"sk-toggleable__content\"><pre>ColumnTransformer(transformers=[(&#x27;num&#x27;, StandardScaler(),\n",
       "                                 &lt;sklearn.compose._column_transformer.make_column_selector object at 0x347e4b4f0&gt;),\n",
       "                                (&#x27;cat&#x27;, OneHotEncoder(handle_unknown=&#x27;ignore&#x27;),\n",
       "                                 &lt;sklearn.compose._column_transformer.make_column_selector object at 0x3480ec730&gt;)])</pre></div></div></div><div class=\"sk-parallel\"><div class=\"sk-parallel-item\"><div class=\"sk-item\"><div class=\"sk-label-container\"><div class=\"sk-label sk-toggleable\"><input class=\"sk-toggleable__control sk-hidden--visually\" id=\"sk-estimator-id-4\" type=\"checkbox\" ><label for=\"sk-estimator-id-4\" class=\"sk-toggleable__label sk-toggleable__label-arrow\">num</label><div class=\"sk-toggleable__content\"><pre>&lt;sklearn.compose._column_transformer.make_column_selector object at 0x347e4b4f0&gt;</pre></div></div></div><div class=\"sk-serial\"><div class=\"sk-item\"><div class=\"sk-estimator sk-toggleable\"><input class=\"sk-toggleable__control sk-hidden--visually\" id=\"sk-estimator-id-5\" type=\"checkbox\" ><label for=\"sk-estimator-id-5\" class=\"sk-toggleable__label sk-toggleable__label-arrow\">StandardScaler</label><div class=\"sk-toggleable__content\"><pre>StandardScaler()</pre></div></div></div></div></div></div><div class=\"sk-parallel-item\"><div class=\"sk-item\"><div class=\"sk-label-container\"><div class=\"sk-label sk-toggleable\"><input class=\"sk-toggleable__control sk-hidden--visually\" id=\"sk-estimator-id-6\" type=\"checkbox\" ><label for=\"sk-estimator-id-6\" class=\"sk-toggleable__label sk-toggleable__label-arrow\">cat</label><div class=\"sk-toggleable__content\"><pre>&lt;sklearn.compose._column_transformer.make_column_selector object at 0x3480ec730&gt;</pre></div></div></div><div class=\"sk-serial\"><div class=\"sk-item\"><div class=\"sk-estimator sk-toggleable\"><input class=\"sk-toggleable__control sk-hidden--visually\" id=\"sk-estimator-id-7\" type=\"checkbox\" ><label for=\"sk-estimator-id-7\" class=\"sk-toggleable__label sk-toggleable__label-arrow\">OneHotEncoder</label><div class=\"sk-toggleable__content\"><pre>OneHotEncoder(handle_unknown=&#x27;ignore&#x27;)</pre></div></div></div></div></div></div></div></div><div class=\"sk-item\"><div class=\"sk-estimator sk-toggleable\"><input class=\"sk-toggleable__control sk-hidden--visually\" id=\"sk-estimator-id-8\" type=\"checkbox\" ><label for=\"sk-estimator-id-8\" class=\"sk-toggleable__label sk-toggleable__label-arrow\">LinearRegression</label><div class=\"sk-toggleable__content\"><pre>LinearRegression()</pre></div></div></div></div></div></div></div>"
      ],
      "text/plain": [
       "Pipeline(steps=[('preprocessor',\n",
       "                 ColumnTransformer(transformers=[('num', StandardScaler(),\n",
       "                                                  <sklearn.compose._column_transformer.make_column_selector object at 0x347e4b4f0>),\n",
       "                                                 ('cat',\n",
       "                                                  OneHotEncoder(handle_unknown='ignore'),\n",
       "                                                  <sklearn.compose._column_transformer.make_column_selector object at 0x3480ec730>)])),\n",
       "                ('regressor', LinearRegression())])"
      ]
     },
     "execution_count": 78,
     "metadata": {},
     "output_type": "execute_result"
    }
   ],
   "source": [
    "categorical_transformer = OneHotEncoder(handle_unknown=\"ignore\")\n",
    "numeric_transformer = StandardScaler()\n",
    "\n",
    "preprocessor = ColumnTransformer(\n",
    "    transformers=[\n",
    "        (\"num\", numeric_transformer, selector(dtype_exclude=\"category\")),\n",
    "        (\"cat\", categorical_transformer, selector(dtype_include=\"category\")),\n",
    "    ]\n",
    ")\n",
    "mdl = Pipeline(\n",
    "    steps=[(\"preprocessor\", preprocessor),\n",
    "           (\"regressor\", LinearRegression()),\n",
    "          ]\n",
    ")\n",
    "mdl.fit(X_train, y_train)"
   ]
  },
  {
   "cell_type": "code",
   "execution_count": 79,
   "id": "ad60285f-b21e-4a61-83d1-325f183d6517",
   "metadata": {},
   "outputs": [],
   "source": [
    "mse = mean_squared_error(y_test, mdl.predict(X_test), squared=False)"
   ]
  },
  {
   "cell_type": "code",
   "execution_count": 80,
   "id": "2d10b2c8-80a7-4ce2-b36a-0f4093b12087",
   "metadata": {},
   "outputs": [
    {
     "data": {
      "text/plain": [
       "324.0865163322568"
      ]
     },
     "execution_count": 80,
     "metadata": {},
     "output_type": "execute_result"
    }
   ],
   "source": [
    "mse"
   ]
  },
  {
   "cell_type": "markdown",
   "id": "63e31e82-27ba-4f43-8619-46740a48be9f",
   "metadata": {},
   "source": [
    "## XGBoost"
   ]
  },
  {
   "cell_type": "code",
   "execution_count": 81,
   "id": "3d680760-6975-4aef-9112-b2ed5aeeaf70",
   "metadata": {},
   "outputs": [],
   "source": [
    "import xgboost as xgb"
   ]
  },
  {
   "cell_type": "code",
   "execution_count": 82,
   "id": "98cf4e87-aaa8-4591-9399-311782812656",
   "metadata": {
    "scrolled": true,
    "tags": []
   },
   "outputs": [
    {
     "name": "stdout",
     "output_type": "stream",
     "text": [
      "[0]\tvalidation_0-rmse:824.42611\tvalidation_1-rmse:823.84082\n",
      "[1]\tvalidation_0-rmse:610.47341\tvalidation_1-rmse:610.37064\n",
      "[2]\tvalidation_0-rmse:469.51257\tvalidation_1-rmse:469.89004\n",
      "[3]\tvalidation_0-rmse:380.20815\tvalidation_1-rmse:381.13464\n",
      "[4]\tvalidation_0-rmse:325.89331\tvalidation_1-rmse:327.25783\n",
      "[5]\tvalidation_0-rmse:294.17899\tvalidation_1-rmse:295.91521\n",
      "[6]\tvalidation_0-rmse:275.56384\tvalidation_1-rmse:277.59310\n",
      "[7]\tvalidation_0-rmse:264.83098\tvalidation_1-rmse:267.19728\n",
      "[8]\tvalidation_0-rmse:258.43825\tvalidation_1-rmse:261.04342\n",
      "[9]\tvalidation_0-rmse:254.24850\tvalidation_1-rmse:257.03283\n",
      "[10]\tvalidation_0-rmse:251.58035\tvalidation_1-rmse:254.64102\n",
      "[11]\tvalidation_0-rmse:249.53260\tvalidation_1-rmse:252.80381\n",
      "[12]\tvalidation_0-rmse:248.05178\tvalidation_1-rmse:251.52077\n",
      "[13]\tvalidation_0-rmse:246.95875\tvalidation_1-rmse:250.58800\n",
      "[14]\tvalidation_0-rmse:245.76970\tvalidation_1-rmse:249.51511\n",
      "[15]\tvalidation_0-rmse:245.08393\tvalidation_1-rmse:248.96975\n",
      "[16]\tvalidation_0-rmse:244.36420\tvalidation_1-rmse:248.40637\n",
      "[17]\tvalidation_0-rmse:243.03538\tvalidation_1-rmse:247.28522\n",
      "[18]\tvalidation_0-rmse:241.75931\tvalidation_1-rmse:246.12204\n",
      "[19]\tvalidation_0-rmse:240.96748\tvalidation_1-rmse:245.49870\n",
      "[20]\tvalidation_0-rmse:240.50317\tvalidation_1-rmse:245.21184\n",
      "[21]\tvalidation_0-rmse:239.94404\tvalidation_1-rmse:244.86966\n",
      "[22]\tvalidation_0-rmse:239.04468\tvalidation_1-rmse:244.15645\n",
      "[23]\tvalidation_0-rmse:238.63061\tvalidation_1-rmse:243.85119\n",
      "[24]\tvalidation_0-rmse:238.22319\tvalidation_1-rmse:243.60137\n",
      "[25]\tvalidation_0-rmse:237.53352\tvalidation_1-rmse:243.04903\n",
      "[26]\tvalidation_0-rmse:236.75515\tvalidation_1-rmse:242.42546\n",
      "[27]\tvalidation_0-rmse:236.41242\tvalidation_1-rmse:242.24756\n",
      "[28]\tvalidation_0-rmse:235.91213\tvalidation_1-rmse:241.95982\n",
      "[29]\tvalidation_0-rmse:235.63912\tvalidation_1-rmse:241.80183\n",
      "[30]\tvalidation_0-rmse:235.40513\tvalidation_1-rmse:241.68100\n",
      "[31]\tvalidation_0-rmse:234.92461\tvalidation_1-rmse:241.40952\n",
      "[32]\tvalidation_0-rmse:234.61833\tvalidation_1-rmse:241.22013\n",
      "[33]\tvalidation_0-rmse:234.47189\tvalidation_1-rmse:241.17473\n",
      "[34]\tvalidation_0-rmse:234.17284\tvalidation_1-rmse:241.00908\n",
      "[35]\tvalidation_0-rmse:233.71664\tvalidation_1-rmse:240.68162\n",
      "[36]\tvalidation_0-rmse:233.44905\tvalidation_1-rmse:240.51346\n",
      "[37]\tvalidation_0-rmse:232.96786\tvalidation_1-rmse:240.27454\n",
      "[38]\tvalidation_0-rmse:232.46923\tvalidation_1-rmse:239.85458\n",
      "[39]\tvalidation_0-rmse:232.04800\tvalidation_1-rmse:239.48036\n",
      "[40]\tvalidation_0-rmse:231.87533\tvalidation_1-rmse:239.40608\n",
      "[41]\tvalidation_0-rmse:231.43130\tvalidation_1-rmse:239.13755\n",
      "[42]\tvalidation_0-rmse:231.11878\tvalidation_1-rmse:238.92129\n",
      "[43]\tvalidation_0-rmse:230.74393\tvalidation_1-rmse:238.60797\n",
      "[44]\tvalidation_0-rmse:230.51443\tvalidation_1-rmse:238.53086\n",
      "[45]\tvalidation_0-rmse:230.26723\tvalidation_1-rmse:238.43956\n",
      "[46]\tvalidation_0-rmse:230.14511\tvalidation_1-rmse:238.38082\n",
      "[47]\tvalidation_0-rmse:229.89557\tvalidation_1-rmse:238.24632\n",
      "[48]\tvalidation_0-rmse:229.58895\tvalidation_1-rmse:238.08491\n",
      "[49]\tvalidation_0-rmse:229.33310\tvalidation_1-rmse:237.89903\n",
      "[50]\tvalidation_0-rmse:228.92588\tvalidation_1-rmse:237.59059\n",
      "[51]\tvalidation_0-rmse:228.79623\tvalidation_1-rmse:237.50432\n",
      "[52]\tvalidation_0-rmse:228.59840\tvalidation_1-rmse:237.48035\n",
      "[53]\tvalidation_0-rmse:228.34027\tvalidation_1-rmse:237.37404\n",
      "[54]\tvalidation_0-rmse:228.03360\tvalidation_1-rmse:237.16110\n",
      "[55]\tvalidation_0-rmse:227.85078\tvalidation_1-rmse:237.11835\n",
      "[56]\tvalidation_0-rmse:227.69672\tvalidation_1-rmse:237.03201\n",
      "[57]\tvalidation_0-rmse:227.57811\tvalidation_1-rmse:236.96977\n",
      "[58]\tvalidation_0-rmse:227.43714\tvalidation_1-rmse:236.88626\n",
      "[59]\tvalidation_0-rmse:227.25541\tvalidation_1-rmse:236.85169\n",
      "[60]\tvalidation_0-rmse:227.01741\tvalidation_1-rmse:236.69029\n",
      "[61]\tvalidation_0-rmse:226.82808\tvalidation_1-rmse:236.63735\n",
      "[62]\tvalidation_0-rmse:226.60024\tvalidation_1-rmse:236.53811\n",
      "[63]\tvalidation_0-rmse:226.41419\tvalidation_1-rmse:236.39660\n",
      "[64]\tvalidation_0-rmse:226.26296\tvalidation_1-rmse:236.32798\n",
      "[65]\tvalidation_0-rmse:226.13394\tvalidation_1-rmse:236.25467\n",
      "[66]\tvalidation_0-rmse:225.99441\tvalidation_1-rmse:236.17891\n",
      "[67]\tvalidation_0-rmse:225.69181\tvalidation_1-rmse:236.07675\n",
      "[68]\tvalidation_0-rmse:225.56854\tvalidation_1-rmse:236.01528\n",
      "[69]\tvalidation_0-rmse:225.44403\tvalidation_1-rmse:235.96092\n",
      "[70]\tvalidation_0-rmse:225.32928\tvalidation_1-rmse:235.94995\n",
      "[71]\tvalidation_0-rmse:225.07586\tvalidation_1-rmse:235.86433\n",
      "[72]\tvalidation_0-rmse:224.98111\tvalidation_1-rmse:235.80770\n",
      "[73]\tvalidation_0-rmse:224.88356\tvalidation_1-rmse:235.79504\n",
      "[74]\tvalidation_0-rmse:224.69502\tvalidation_1-rmse:235.68605\n",
      "[75]\tvalidation_0-rmse:224.56805\tvalidation_1-rmse:235.60953\n",
      "[76]\tvalidation_0-rmse:224.45886\tvalidation_1-rmse:235.56658\n",
      "[77]\tvalidation_0-rmse:224.16987\tvalidation_1-rmse:235.38062\n",
      "[78]\tvalidation_0-rmse:224.02991\tvalidation_1-rmse:235.31490\n",
      "[79]\tvalidation_0-rmse:223.90881\tvalidation_1-rmse:235.25032\n",
      "[80]\tvalidation_0-rmse:223.67036\tvalidation_1-rmse:235.12813\n",
      "[81]\tvalidation_0-rmse:223.46802\tvalidation_1-rmse:235.05415\n",
      "[82]\tvalidation_0-rmse:223.35221\tvalidation_1-rmse:235.00891\n",
      "[83]\tvalidation_0-rmse:223.26282\tvalidation_1-rmse:234.99183\n",
      "[84]\tvalidation_0-rmse:223.08463\tvalidation_1-rmse:234.94155\n",
      "[85]\tvalidation_0-rmse:222.98403\tvalidation_1-rmse:234.89115\n",
      "[86]\tvalidation_0-rmse:222.76810\tvalidation_1-rmse:234.83639\n",
      "[87]\tvalidation_0-rmse:222.65809\tvalidation_1-rmse:234.78623\n",
      "[88]\tvalidation_0-rmse:222.54515\tvalidation_1-rmse:234.73944\n",
      "[89]\tvalidation_0-rmse:222.29534\tvalidation_1-rmse:234.64069\n",
      "[90]\tvalidation_0-rmse:222.06826\tvalidation_1-rmse:234.61809\n",
      "[91]\tvalidation_0-rmse:222.00720\tvalidation_1-rmse:234.60627\n",
      "[92]\tvalidation_0-rmse:221.86384\tvalidation_1-rmse:234.58850\n",
      "[93]\tvalidation_0-rmse:221.77674\tvalidation_1-rmse:234.56737\n",
      "[94]\tvalidation_0-rmse:221.59477\tvalidation_1-rmse:234.50324\n",
      "[95]\tvalidation_0-rmse:221.51132\tvalidation_1-rmse:234.47731\n",
      "[96]\tvalidation_0-rmse:221.43222\tvalidation_1-rmse:234.44773\n",
      "[97]\tvalidation_0-rmse:221.35525\tvalidation_1-rmse:234.42235\n",
      "[98]\tvalidation_0-rmse:221.26688\tvalidation_1-rmse:234.40184\n",
      "[99]\tvalidation_0-rmse:221.15055\tvalidation_1-rmse:234.38583\n"
     ]
    },
    {
     "data": {
      "text/html": [
       "<style>#sk-container-id-3 {color: black;background-color: white;}#sk-container-id-3 pre{padding: 0;}#sk-container-id-3 div.sk-toggleable {background-color: white;}#sk-container-id-3 label.sk-toggleable__label {cursor: pointer;display: block;width: 100%;margin-bottom: 0;padding: 0.3em;box-sizing: border-box;text-align: center;}#sk-container-id-3 label.sk-toggleable__label-arrow:before {content: \"▸\";float: left;margin-right: 0.25em;color: #696969;}#sk-container-id-3 label.sk-toggleable__label-arrow:hover:before {color: black;}#sk-container-id-3 div.sk-estimator:hover label.sk-toggleable__label-arrow:before {color: black;}#sk-container-id-3 div.sk-toggleable__content {max-height: 0;max-width: 0;overflow: hidden;text-align: left;background-color: #f0f8ff;}#sk-container-id-3 div.sk-toggleable__content pre {margin: 0.2em;color: black;border-radius: 0.25em;background-color: #f0f8ff;}#sk-container-id-3 input.sk-toggleable__control:checked~div.sk-toggleable__content {max-height: 200px;max-width: 100%;overflow: auto;}#sk-container-id-3 input.sk-toggleable__control:checked~label.sk-toggleable__label-arrow:before {content: \"▾\";}#sk-container-id-3 div.sk-estimator input.sk-toggleable__control:checked~label.sk-toggleable__label {background-color: #d4ebff;}#sk-container-id-3 div.sk-label input.sk-toggleable__control:checked~label.sk-toggleable__label {background-color: #d4ebff;}#sk-container-id-3 input.sk-hidden--visually {border: 0;clip: rect(1px 1px 1px 1px);clip: rect(1px, 1px, 1px, 1px);height: 1px;margin: -1px;overflow: hidden;padding: 0;position: absolute;width: 1px;}#sk-container-id-3 div.sk-estimator {font-family: monospace;background-color: #f0f8ff;border: 1px dotted black;border-radius: 0.25em;box-sizing: border-box;margin-bottom: 0.5em;}#sk-container-id-3 div.sk-estimator:hover {background-color: #d4ebff;}#sk-container-id-3 div.sk-parallel-item::after {content: \"\";width: 100%;border-bottom: 1px solid gray;flex-grow: 1;}#sk-container-id-3 div.sk-label:hover label.sk-toggleable__label {background-color: #d4ebff;}#sk-container-id-3 div.sk-serial::before {content: \"\";position: absolute;border-left: 1px solid gray;box-sizing: border-box;top: 0;bottom: 0;left: 50%;z-index: 0;}#sk-container-id-3 div.sk-serial {display: flex;flex-direction: column;align-items: center;background-color: white;padding-right: 0.2em;padding-left: 0.2em;position: relative;}#sk-container-id-3 div.sk-item {position: relative;z-index: 1;}#sk-container-id-3 div.sk-parallel {display: flex;align-items: stretch;justify-content: center;background-color: white;position: relative;}#sk-container-id-3 div.sk-item::before, #sk-container-id-3 div.sk-parallel-item::before {content: \"\";position: absolute;border-left: 1px solid gray;box-sizing: border-box;top: 0;bottom: 0;left: 50%;z-index: -1;}#sk-container-id-3 div.sk-parallel-item {display: flex;flex-direction: column;z-index: 1;position: relative;background-color: white;}#sk-container-id-3 div.sk-parallel-item:first-child::after {align-self: flex-end;width: 50%;}#sk-container-id-3 div.sk-parallel-item:last-child::after {align-self: flex-start;width: 50%;}#sk-container-id-3 div.sk-parallel-item:only-child::after {width: 0;}#sk-container-id-3 div.sk-dashed-wrapped {border: 1px dashed gray;margin: 0 0.4em 0.5em 0.4em;box-sizing: border-box;padding-bottom: 0.4em;background-color: white;}#sk-container-id-3 div.sk-label label {font-family: monospace;font-weight: bold;display: inline-block;line-height: 1.2em;}#sk-container-id-3 div.sk-label-container {text-align: center;}#sk-container-id-3 div.sk-container {/* jupyter's `normalize.less` sets `[hidden] { display: none; }` but bootstrap.min.css set `[hidden] { display: none !important; }` so we also need the `!important` here to be able to override the default hidden behavior on the sphinx rendered scikit-learn.org. See: https://github.com/scikit-learn/scikit-learn/issues/21755 */display: inline-block !important;position: relative;}#sk-container-id-3 div.sk-text-repr-fallback {display: none;}</style><div id=\"sk-container-id-3\" class=\"sk-top-container\"><div class=\"sk-text-repr-fallback\"><pre>XGBRegressor(base_score=0.5, booster=&#x27;gbtree&#x27;, callbacks=None,\n",
       "             colsample_bylevel=1, colsample_bynode=1, colsample_bytree=1,\n",
       "             early_stopping_rounds=None, enable_categorical=True,\n",
       "             eval_metric=None, feature_types=None, gamma=0, gpu_id=-1,\n",
       "             grow_policy=&#x27;depthwise&#x27;, importance_type=None,\n",
       "             interaction_constraints=&#x27;&#x27;, learning_rate=0.300000012, max_bin=256,\n",
       "             max_cat_threshold=64, max_cat_to_onehot=4, max_delta_step=0,\n",
       "             max_depth=6, max_leaves=0, min_child_weight=1, missing=nan,\n",
       "             monotone_constraints=&#x27;()&#x27;, n_estimators=100, n_jobs=0,\n",
       "             num_parallel_tree=1, predictor=&#x27;auto&#x27;, random_state=0, ...)</pre><b>In a Jupyter environment, please rerun this cell to show the HTML representation or trust the notebook. <br />On GitHub, the HTML representation is unable to render, please try loading this page with nbviewer.org.</b></div><div class=\"sk-container\" hidden><div class=\"sk-item\"><div class=\"sk-estimator sk-toggleable\"><input class=\"sk-toggleable__control sk-hidden--visually\" id=\"sk-estimator-id-9\" type=\"checkbox\" checked><label for=\"sk-estimator-id-9\" class=\"sk-toggleable__label sk-toggleable__label-arrow\">XGBRegressor</label><div class=\"sk-toggleable__content\"><pre>XGBRegressor(base_score=0.5, booster=&#x27;gbtree&#x27;, callbacks=None,\n",
       "             colsample_bylevel=1, colsample_bynode=1, colsample_bytree=1,\n",
       "             early_stopping_rounds=None, enable_categorical=True,\n",
       "             eval_metric=None, feature_types=None, gamma=0, gpu_id=-1,\n",
       "             grow_policy=&#x27;depthwise&#x27;, importance_type=None,\n",
       "             interaction_constraints=&#x27;&#x27;, learning_rate=0.300000012, max_bin=256,\n",
       "             max_cat_threshold=64, max_cat_to_onehot=4, max_delta_step=0,\n",
       "             max_depth=6, max_leaves=0, min_child_weight=1, missing=nan,\n",
       "             monotone_constraints=&#x27;()&#x27;, n_estimators=100, n_jobs=0,\n",
       "             num_parallel_tree=1, predictor=&#x27;auto&#x27;, random_state=0, ...)</pre></div></div></div></div></div>"
      ],
      "text/plain": [
       "XGBRegressor(base_score=0.5, booster='gbtree', callbacks=None,\n",
       "             colsample_bylevel=1, colsample_bynode=1, colsample_bytree=1,\n",
       "             early_stopping_rounds=None, enable_categorical=True,\n",
       "             eval_metric=None, feature_types=None, gamma=0, gpu_id=-1,\n",
       "             grow_policy='depthwise', importance_type=None,\n",
       "             interaction_constraints='', learning_rate=0.300000012, max_bin=256,\n",
       "             max_cat_threshold=64, max_cat_to_onehot=4, max_delta_step=0,\n",
       "             max_depth=6, max_leaves=0, min_child_weight=1, missing=nan,\n",
       "             monotone_constraints='()', n_estimators=100, n_jobs=0,\n",
       "             num_parallel_tree=1, predictor='auto', random_state=0, ...)"
      ]
     },
     "execution_count": 82,
     "metadata": {},
     "output_type": "execute_result"
    }
   ],
   "source": [
    "mdl2 = xgb.XGBRegressor(enable_categorical=True, tree_method=\"hist\")\n",
    "mdl2.fit(X_train, y_train, eval_set=[(X_train, y_train), (X_test, y_test)], )"
   ]
  },
  {
   "cell_type": "code",
   "execution_count": 83,
   "id": "f636a90d-8420-43fd-8a79-45d5c7146d35",
   "metadata": {},
   "outputs": [],
   "source": [
    "mse = mean_squared_error(y_test, mdl2.predict(X_test), squared=False)"
   ]
  },
  {
   "cell_type": "code",
   "execution_count": 84,
   "id": "44a33cb6-40f8-4ac0-9fb3-01082a326cf3",
   "metadata": {},
   "outputs": [
    {
     "data": {
      "text/plain": [
       "236.74628378299954"
      ]
     },
     "execution_count": 84,
     "metadata": {},
     "output_type": "execute_result"
    }
   ],
   "source": [
    "mse"
   ]
  },
  {
   "cell_type": "code",
   "execution_count": 85,
   "id": "7b837a62-e141-4ebc-9108-462e6e1b6375",
   "metadata": {},
   "outputs": [
    {
     "data": {
      "text/plain": [
       "{'objective': 'reg:squarederror',\n",
       " 'base_score': 0.5,\n",
       " 'booster': 'gbtree',\n",
       " 'colsample_bylevel': 1,\n",
       " 'colsample_bynode': 1,\n",
       " 'colsample_bytree': 1,\n",
       " 'eval_metric': None,\n",
       " 'gamma': 0,\n",
       " 'gpu_id': -1,\n",
       " 'grow_policy': 'depthwise',\n",
       " 'interaction_constraints': '',\n",
       " 'learning_rate': 0.300000012,\n",
       " 'max_bin': 256,\n",
       " 'max_cat_threshold': 64,\n",
       " 'max_cat_to_onehot': 4,\n",
       " 'max_delta_step': 0,\n",
       " 'max_depth': 6,\n",
       " 'max_leaves': 0,\n",
       " 'min_child_weight': 1,\n",
       " 'monotone_constraints': '()',\n",
       " 'n_jobs': 0,\n",
       " 'num_parallel_tree': 1,\n",
       " 'predictor': 'auto',\n",
       " 'random_state': 0,\n",
       " 'reg_alpha': 0,\n",
       " 'reg_lambda': 1,\n",
       " 'sampling_method': 'uniform',\n",
       " 'scale_pos_weight': 1,\n",
       " 'subsample': 1,\n",
       " 'tree_method': 'hist',\n",
       " 'validate_parameters': 1,\n",
       " 'verbosity': None}"
      ]
     },
     "execution_count": 85,
     "metadata": {},
     "output_type": "execute_result"
    }
   ],
   "source": [
    "mdl2.get_xgb_params()"
   ]
  },
  {
   "cell_type": "code",
   "execution_count": 86,
   "id": "779117ad-33c1-47a6-9149-cc4ab6595ec6",
   "metadata": {},
   "outputs": [
    {
     "data": {
      "text/plain": [
       "array([0.01458471, 0.01175255, 0.01519246, 0.825331  , 0.00610108,\n",
       "       0.0195455 , 0.0025015 , 0.0099928 , 0.00089315, 0.01118184,\n",
       "       0.02822227, 0.03099061, 0.        , 0.        , 0.        ,\n",
       "       0.00164439, 0.00112456, 0.02094151], dtype=float32)"
      ]
     },
     "execution_count": 86,
     "metadata": {},
     "output_type": "execute_result"
    }
   ],
   "source": [
    "mdl2.feature_importances_"
   ]
  },
  {
   "cell_type": "code",
   "execution_count": 87,
   "id": "1e1d16b0-92a9-4a56-8f6f-7337dbb16aef",
   "metadata": {},
   "outputs": [
    {
     "data": {
      "text/plain": [
       "array(['hvfhs_license_num', 'PULocationID', 'DOLocationID', 'trip_miles',\n",
       "       'tolls', 'congestion_surcharge', 'airport_fee', 'wav_request_flag',\n",
       "       'accessible_vehicle', 'pickup_month', 'pickup_dow', 'pickup_hour',\n",
       "       'mean_trip_time_by_pickup_hour', 'mean_trip_time_by_pickup_dow',\n",
       "       'PUBorough', 'DOBorough', 'CrossSuperborough',\n",
       "       'PUSuperborough_DOSuperborough'], dtype='<U29')"
      ]
     },
     "execution_count": 87,
     "metadata": {},
     "output_type": "execute_result"
    }
   ],
   "source": [
    "mdl2.feature_names_in_"
   ]
  },
  {
   "cell_type": "code",
   "execution_count": 88,
   "id": "56768686-4c07-47c4-919c-901eee587d91",
   "metadata": {},
   "outputs": [
    {
     "data": {
      "text/plain": [
       "([0, 1, 2, 3, 4, 5, 6, 7, 8, 9, 10, 11, 12, 13, 14, 15, 16, 17],\n",
       " [Text(0, 0, 'hvfhs_license_num'),\n",
       "  Text(1, 0, 'PULocationID'),\n",
       "  Text(2, 0, 'DOLocationID'),\n",
       "  Text(3, 0, 'trip_miles'),\n",
       "  Text(4, 0, 'tolls'),\n",
       "  Text(5, 0, 'congestion_surcharge'),\n",
       "  Text(6, 0, 'airport_fee'),\n",
       "  Text(7, 0, 'wav_request_flag'),\n",
       "  Text(8, 0, 'accessible_vehicle'),\n",
       "  Text(9, 0, 'pickup_month'),\n",
       "  Text(10, 0, 'pickup_dow'),\n",
       "  Text(11, 0, 'pickup_hour'),\n",
       "  Text(12, 0, 'mean_trip_time_by_pickup_hour'),\n",
       "  Text(13, 0, 'mean_trip_time_by_pickup_dow'),\n",
       "  Text(14, 0, 'PUBorough'),\n",
       "  Text(15, 0, 'DOBorough'),\n",
       "  Text(16, 0, 'CrossSuperborough'),\n",
       "  Text(17, 0, 'PUSuperborough_DOSuperborough')])"
      ]
     },
     "execution_count": 88,
     "metadata": {},
     "output_type": "execute_result"
    },
    {
     "data": {
      "image/png": "[encoded data removed]",
      "text/plain": [
       "<Figure size 640x480 with 1 Axes>"
      ]
     },
     "metadata": {},
     "output_type": "display_data"
    }
   ],
   "source": [
    "plt.bar(x=mdl2.feature_names_in_, height=mdl2.feature_importances_)\n",
    "plt.xticks(rotation=90)"
   ]
  },
  {
   "cell_type": "code",
   "execution_count": null,
   "id": "58f9e9c6-1edb-402e-956e-bdc0c7997f63",
   "metadata": {},
   "outputs": [],
   "source": []
  }
 ],
 "metadata": {
  "kernelspec": {
   "display_name": "Python 3 (ipykernel)",
   "language": "python",
   "name": "python3"
  },
  "language_info": {
   "codemirror_mode": {
    "name": "ipython",
    "version": 3
   },
   "file_extension": ".py",
   "mimetype": "text/x-python",
   "name": "python",
   "nbconvert_exporter": "python",
   "pygments_lexer": "ipython3",
   "version": "3.9.13"
  }
 },
 "nbformat": 4,
 "nbformat_minor": 5
}

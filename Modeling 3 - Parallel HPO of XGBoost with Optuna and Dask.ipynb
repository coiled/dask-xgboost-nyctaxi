{
 "cells": [
  {
   "cell_type": "markdown",
   "id": "0652f264-b2c3-43b2-9310-7c00e50e7cdc",
   "metadata": {},
   "source": [
    "# Parallelize HPO of XGBoost with Optuna and Dask"
   ]
  },
  {
   "cell_type": "code",
   "execution_count": 1,
   "id": "7179b003-e075-4be5-bde1-4ce90b7d726d",
   "metadata": {},
   "outputs": [],
   "source": [
    "ACCOUNT = \"dask-engineering\"  # <-- Add your Coiled account here\n",
    "FILEPATH=\"s3://coiled-datasets/prefect-dask/nyc-uber-lyft/feature_table.parquet\"  # <-- Location of feature table\n",
    "WORKER_INSTANCE_TYPE = \"m6i.xlarge\"  # <-- Dask worker instance size\n",
    "CLUSTERS = {}    # Dict for collecting clusters for shutting down when done"
   ]
  },
  {
   "cell_type": "code",
   "execution_count": 2,
   "id": "3b929987-5089-4c13-be35-c1812d65fbec",
   "metadata": {},
   "outputs": [],
   "source": [
    "from datetime import datetime\n",
    "import threading\n",
    "import joblib\n",
    "from concurrent.futures import ThreadPoolExecutor\n",
    "\n",
    "from distributed import Client, wait\n",
    "import dask.dataframe as dd\n",
    "import coiled\n",
    "\n",
    "import dask\n",
    "import numpy as np\n",
    "import pandas as pd\n",
    "import optuna\n",
    "from dask_ml.metrics import mean_squared_error\n",
    "import xgboost as xgb\n",
    "from xgboost.dask import DaskDMatrix\n",
    "\n",
    "import dask.dataframe as dd\n",
    "import matplotlib.pyplot as plt"
   ]
  },
  {
   "cell_type": "markdown",
   "id": "1dd461c3-e551-420a-a3e1-1ca2515bb613",
   "metadata": {},
   "source": [
    "### Train Model"
   ]
  },
  {
   "cell_type": "code",
   "execution_count": 3,
   "id": "ccf70461-6ab3-429b-a0a1-29f6b162894e",
   "metadata": {},
   "outputs": [],
   "source": [
    "# Here we subset data for cross-validation\n",
    "def make_cv_splits(df, num_folds):\n",
    "    frac = [1 / num_folds]*num_folds\n",
    "    splits = df.random_split(frac, shuffle=True)\n",
    "    for i in range(num_folds):\n",
    "        train = [splits[j] for j in range(num_folds) if j != i]\n",
    "        test = splits[i]\n",
    "        yield train, test"
   ]
  },
  {
   "cell_type": "code",
   "execution_count": 4,
   "id": "132568f4-ac1b-43ff-85fd-e5a5324a38a0",
   "metadata": {
    "scrolled": true,
    "tags": []
   },
   "outputs": [],
   "source": [
    "def train_model(trial_number, study_params, n_splits=5):\n",
    "    thread_id = threading.get_ident()\n",
    "    cluster_name = \"xgb-nyc-taxi-gbh-\" + str(thread_id)\n",
    "\n",
    "    cluster = CLUSTERS.get(cluster_name, None)\n",
    "    cluster = coiled.Cluster(\n",
    "        worker_vm_types=[WORKER_INSTANCE_TYPE],\n",
    "        scheduler_vm_types=[\"m6i.2xlarge\"],\n",
    "        package_sync=True,        # copy local packages,\n",
    "        name=cluster_name,\n",
    "        shutdown_on_close=False,  # reuse cluster across runs\n",
    "        show_widget=False,\n",
    "        n_workers=20,\n",
    "        use_best_zone=True,\n",
    "        account=ACCOUNT,\n",
    "        backend_options={\"region\": \"us-east-2\", \"spot\": True},\n",
    "        scheduler_options={\"idle_timeout\": \"5 minutes\"},\n",
    "        )\n",
    "\n",
    "    CLUSTERS[cluster_name] = cluster\n",
    "\n",
    "    with Client(cluster) as client:\n",
    "        with client.as_current():\n",
    "\n",
    "            # Load and pre-process the DataFrame\n",
    "            ddf = dd.read_parquet(FILEPATH)\n",
    "            categorical_vars = ddf.select_dtypes(include=\"category\").columns.tolist()\n",
    "            ddf = ddf.categorize(columns=categorical_vars)\n",
    "            float_cols = ddf.select_dtypes(include=\"float\").columns.tolist()\n",
    "            ddf[float_cols] = ddf[float_cols].astype(np.float32).persist()\n",
    "\n",
    "            val_scores = []\n",
    "\n",
    "            for train, test in make_cv_splits(ddf, n_splits):\n",
    "                train = dd.concat(train)\n",
    "\n",
    "                y_train = train['trip_time'].to_frame().persist()\n",
    "                X_train = train.drop(columns=['trip_time']).persist()\n",
    "\n",
    "                # Make the test data\n",
    "                y_test = test['trip_time'].to_frame().persist()\n",
    "                X_test = test.drop(columns='trip_time').persist()\n",
    "                dtrain = DaskDMatrix(client, X_train, y_train, enable_categorical=True)\n",
    "\n",
    "                model = xgb.dask.train(\n",
    "                    client,\n",
    "                    {'tree_method': 'hist', **study_params\n",
    "                    },\n",
    "                    dtrain,\n",
    "                    num_boost_round=4,\n",
    "                    evals=[(dtrain, \"train\")],\n",
    "                )\n",
    "                predictions = xgb.dask.predict(client, model, X_test)\n",
    "\n",
    "                score = mean_squared_error(y_test.to_dask_array(lengths=True).reshape(-1,), \n",
    "                                           predictions.to_dask_array(lengths=True), squared=False,\n",
    "                                          )\n",
    "                val_scores.append(score)\n",
    "            return np.mean(val_scores)"
   ]
  },
  {
   "cell_type": "code",
   "execution_count": 5,
   "id": "0250d23a-4d6c-4758-9200-f47a0a614bc1",
   "metadata": {},
   "outputs": [],
   "source": [
    "def objective(trial):\n",
    "    params = {\n",
    "        'n_estimators': trial.suggest_int('n_estimators', 75, 125),\n",
    "        'learning_rate': trial.suggest_float('learning_rate', 0.5, 0.7),\n",
    "        'colsample_bytree': trial.suggest_float('colsample_bytree', 0.5, 1),\n",
    "        'colsample_bynode': trial.suggest_float('colsample_bynode', 0.5, 1),\n",
    "        'colsample_bylevel': trial.suggest_float('colsample_bylevel', 0.5, 1),\n",
    "        'reg_lambda': trial.suggest_float('reg_lambda', 0, 1),\n",
    "        'max_depth': trial.suggest_int('max_depth', 1, 6),\n",
    "        'max_leaves': trial.suggest_int('max_leaves', 0, 2),\n",
    "        'max_cat_to_onehot': trial.suggest_int('max_cat_to_onehot', 1, 10),\n",
    "    }\n",
    "    rmse = train_model(\n",
    "        trial_number=trial.number,\n",
    "        study_params=params, \n",
    "    )\n",
    "    return rmse"
   ]
  },
  {
   "cell_type": "code",
   "execution_count": 6,
   "id": "f8f3b355-7e76-423f-8b4c-8e35eb1eb022",
   "metadata": {
    "scrolled": true,
    "tags": []
   },
   "outputs": [
    {
     "name": "stderr",
     "output_type": "stream",
     "text": [
      "\u001b[32m[I 2023-01-16 06:21:17,391]\u001b[0m A new study created in memory with name: parallel-nyc-travel-time-model\u001b[0m\n",
      "\u001b[32m[I 2023-01-16 06:33:11,359]\u001b[0m Trial 7 finished with value: 674.7250215758032 and parameters: {'n_estimators': 82, 'learning_rate': 0.533674597212377, 'colsample_bytree': 0.6387740231547269, 'colsample_bynode': 0.5564722607596619, 'colsample_bylevel': 0.6445900048149991, 'reg_lambda': 0.19716807285362348, 'max_depth': 3, 'max_leaves': 1, 'max_cat_to_onehot': 2}. Best is trial 7 with value: 674.7250215758032.\u001b[0m\n",
      "\u001b[32m[I 2023-01-16 06:33:20,106]\u001b[0m Trial 9 finished with value: 582.2835893961552 and parameters: {'n_estimators': 124, 'learning_rate': 0.5162423990653834, 'colsample_bytree': 0.9146667635492186, 'colsample_bynode': 0.5407675332903361, 'colsample_bylevel': 0.8897868807660241, 'reg_lambda': 0.9519093129477968, 'max_depth': 2, 'max_leaves': 2, 'max_cat_to_onehot': 1}. Best is trial 9 with value: 582.2835893961552.\u001b[0m\n",
      "\u001b[32m[I 2023-01-16 06:33:57,003]\u001b[0m Trial 3 finished with value: 499.2130770132856 and parameters: {'n_estimators': 90, 'learning_rate': 0.5546204122757314, 'colsample_bytree': 0.9124914287454022, 'colsample_bynode': 0.9943442145049888, 'colsample_bylevel': 0.5089457884266142, 'reg_lambda': 0.5293433419339768, 'max_depth': 1, 'max_leaves': 2, 'max_cat_to_onehot': 7}. Best is trial 3 with value: 499.2130770132856.\u001b[0m\n",
      "\u001b[32m[I 2023-01-16 06:33:58,464]\u001b[0m Trial 0 finished with value: 481.01585235917264 and parameters: {'n_estimators': 115, 'learning_rate': 0.5051543828084964, 'colsample_bytree': 0.6396006008892778, 'colsample_bynode': 0.8237893335819103, 'colsample_bylevel': 0.8862971791500576, 'reg_lambda': 0.8683205516624497, 'max_depth': 4, 'max_leaves': 2, 'max_cat_to_onehot': 4}. Best is trial 0 with value: 481.01585235917264.\u001b[0m\n",
      "\u001b[32m[I 2023-01-16 06:34:13,476]\u001b[0m Trial 4 finished with value: 383.1668880155253 and parameters: {'n_estimators': 77, 'learning_rate': 0.6218255191701346, 'colsample_bytree': 0.6576629806334133, 'colsample_bynode': 0.9812075086169263, 'colsample_bylevel': 0.7032281093165229, 'reg_lambda': 0.2402658573344567, 'max_depth': 3, 'max_leaves': 0, 'max_cat_to_onehot': 1}. Best is trial 4 with value: 383.1668880155253.\u001b[0m\n",
      "\u001b[32m[I 2023-01-16 06:34:29,639]\u001b[0m Trial 8 finished with value: 361.38988494646344 and parameters: {'n_estimators': 117, 'learning_rate': 0.61139878711872, 'colsample_bytree': 0.5171926896392849, 'colsample_bynode': 0.758755555877376, 'colsample_bylevel': 0.5911337422948274, 'reg_lambda': 0.6607671434049532, 'max_depth': 5, 'max_leaves': 0, 'max_cat_to_onehot': 5}. Best is trial 8 with value: 361.38988494646344.\u001b[0m\n",
      "\u001b[32m[I 2023-01-16 06:34:48,283]\u001b[0m Trial 6 finished with value: 672.9747626348653 and parameters: {'n_estimators': 83, 'learning_rate': 0.6449512863438218, 'colsample_bytree': 0.7502233859083491, 'colsample_bynode': 0.7896818440636543, 'colsample_bylevel': 0.862458621612238, 'reg_lambda': 0.3929209458845899, 'max_depth': 6, 'max_leaves': 1, 'max_cat_to_onehot': 4}. Best is trial 8 with value: 361.38988494646344.\u001b[0m\n",
      "\u001b[32m[I 2023-01-16 06:36:00,389]\u001b[0m Trial 1 finished with value: 672.8408271012757 and parameters: {'n_estimators': 83, 'learning_rate': 0.6834015582672531, 'colsample_bytree': 0.7164210548145973, 'colsample_bynode': 0.5713922335025783, 'colsample_bylevel': 0.7591142649677185, 'reg_lambda': 0.9984768866811113, 'max_depth': 1, 'max_leaves': 1, 'max_cat_to_onehot': 4}. Best is trial 8 with value: 361.38988494646344.\u001b[0m\n",
      "\u001b[32m[I 2023-01-16 06:37:16,936]\u001b[0m Trial 5 finished with value: 373.52300552620153 and parameters: {'n_estimators': 86, 'learning_rate': 0.632596580325843, 'colsample_bytree': 0.8705445208757583, 'colsample_bynode': 0.5361828080624758, 'colsample_bylevel': 0.996079434400508, 'reg_lambda': 0.405031242476372, 'max_depth': 4, 'max_leaves': 0, 'max_cat_to_onehot': 2}. Best is trial 8 with value: 361.38988494646344.\u001b[0m\n",
      "\u001b[32m[I 2023-01-16 06:37:22,938]\u001b[0m Trial 2 finished with value: 567.1753786472102 and parameters: {'n_estimators': 121, 'learning_rate': 0.6720917921939203, 'colsample_bytree': 0.786590702400749, 'colsample_bynode': 0.674309844606281, 'colsample_bylevel': 0.7556573459195735, 'reg_lambda': 0.30860784444574896, 'max_depth': 1, 'max_leaves': 0, 'max_cat_to_onehot': 5}. Best is trial 8 with value: 361.38988494646344.\u001b[0m\n",
      "\u001b[32m[I 2023-01-16 06:43:20,615]\u001b[0m Trial 11 finished with value: 672.8142589566921 and parameters: {'n_estimators': 122, 'learning_rate': 0.6970927716219509, 'colsample_bytree': 0.5113802036419866, 'colsample_bynode': 0.5498573302707439, 'colsample_bylevel': 0.8913896898761104, 'reg_lambda': 0.8831086433136177, 'max_depth': 5, 'max_leaves': 1, 'max_cat_to_onehot': 10}. Best is trial 8 with value: 361.38988494646344.\u001b[0m\n",
      "\u001b[32m[I 2023-01-16 06:44:38,527]\u001b[0m Trial 12 finished with value: 363.6435531884408 and parameters: {'n_estimators': 92, 'learning_rate': 0.5891876929909846, 'colsample_bytree': 0.9321315416480366, 'colsample_bynode': 0.7255406110632538, 'colsample_bylevel': 0.8074578879007163, 'reg_lambda': 0.6456606072985422, 'max_depth': 4, 'max_leaves': 0, 'max_cat_to_onehot': 5}. Best is trial 8 with value: 361.38988494646344.\u001b[0m\n",
      "\u001b[32m[I 2023-01-16 06:44:53,740]\u001b[0m Trial 15 finished with value: 673.0047613221875 and parameters: {'n_estimators': 118, 'learning_rate': 0.6393079908108272, 'colsample_bytree': 0.7335341846613297, 'colsample_bynode': 0.9827086246410344, 'colsample_bylevel': 0.6938155948026523, 'reg_lambda': 0.8409913255727213, 'max_depth': 3, 'max_leaves': 1, 'max_cat_to_onehot': 4}. Best is trial 8 with value: 361.38988494646344.\u001b[0m\n",
      "\u001b[32m[I 2023-01-16 06:45:15,031]\u001b[0m Trial 13 finished with value: 675.9725615930854 and parameters: {'n_estimators': 81, 'learning_rate': 0.5041673315214401, 'colsample_bytree': 0.823612196452269, 'colsample_bynode': 0.8597788905762632, 'colsample_bylevel': 0.7650858924554833, 'reg_lambda': 0.061018830466495255, 'max_depth': 3, 'max_leaves': 1, 'max_cat_to_onehot': 5}. Best is trial 8 with value: 361.38988494646344.\u001b[0m\n",
      "\u001b[32m[I 2023-01-16 06:45:18,492]\u001b[0m Trial 14 finished with value: 520.8755806728475 and parameters: {'n_estimators': 119, 'learning_rate': 0.5041666350951847, 'colsample_bytree': 0.6350323540919608, 'colsample_bynode': 0.8491190185449993, 'colsample_bylevel': 0.891570937155779, 'reg_lambda': 0.9659713007963011, 'max_depth': 5, 'max_leaves': 0, 'max_cat_to_onehot': 6}. Best is trial 8 with value: 361.38988494646344.\u001b[0m\n",
      "\u001b[32m[I 2023-01-16 06:45:59,740]\u001b[0m Trial 10 finished with value: 673.400794511583 and parameters: {'n_estimators': 101, 'learning_rate': 0.5942311073235442, 'colsample_bytree': 0.7435382774197294, 'colsample_bynode': 0.8892014187212145, 'colsample_bylevel': 0.6432761565415289, 'reg_lambda': 0.9056651915535147, 'max_depth': 4, 'max_leaves': 1, 'max_cat_to_onehot': 10}. Best is trial 8 with value: 361.38988494646344.\u001b[0m\n",
      "\u001b[32m[I 2023-01-16 06:46:14,530]\u001b[0m Trial 17 finished with value: 675.9026599747107 and parameters: {'n_estimators': 120, 'learning_rate': 0.5055284089451484, 'colsample_bytree': 0.8816306390975566, 'colsample_bynode': 0.9295894884584122, 'colsample_bylevel': 0.5294046066297207, 'reg_lambda': 0.6216626748403498, 'max_depth': 4, 'max_leaves': 1, 'max_cat_to_onehot': 9}. Best is trial 8 with value: 361.38988494646344.\u001b[0m\n",
      "\u001b[32m[I 2023-01-16 06:46:35,905]\u001b[0m Trial 16 finished with value: 355.93779885723876 and parameters: {'n_estimators': 122, 'learning_rate': 0.5052876287557319, 'colsample_bytree': 0.7560265510589704, 'colsample_bynode': 0.7847713374126041, 'colsample_bylevel': 0.9925839319603426, 'reg_lambda': 0.047551586602261664, 'max_depth': 6, 'max_leaves': 0, 'max_cat_to_onehot': 1}. Best is trial 16 with value: 355.93779885723876.\u001b[0m\n",
      "\u001b[32m[I 2023-01-16 06:48:16,578]\u001b[0m Trial 18 finished with value: 457.67899975617104 and parameters: {'n_estimators': 76, 'learning_rate': 0.6734366953251774, 'colsample_bytree': 0.8356036449890125, 'colsample_bynode': 0.735969906342183, 'colsample_bylevel': 0.549670661934462, 'reg_lambda': 0.9878408750139289, 'max_depth': 1, 'max_leaves': 2, 'max_cat_to_onehot': 2}. Best is trial 16 with value: 355.93779885723876.\u001b[0m\n",
      "\u001b[32m[I 2023-01-16 06:48:57,360]\u001b[0m Trial 19 finished with value: 531.512924534788 and parameters: {'n_estimators': 107, 'learning_rate': 0.5803192800081032, 'colsample_bytree': 0.5130061403718865, 'colsample_bynode': 0.8771522028208159, 'colsample_bylevel': 0.539039962705317, 'reg_lambda': 0.65521987715167, 'max_depth': 6, 'max_leaves': 0, 'max_cat_to_onehot': 10}. Best is trial 16 with value: 355.93779885723876.\u001b[0m\n",
      "\u001b[32m[I 2023-01-16 06:54:26,163]\u001b[0m Trial 20 finished with value: 536.8806555206008 and parameters: {'n_estimators': 105, 'learning_rate': 0.5818750072308967, 'colsample_bytree': 0.8406415989386053, 'colsample_bynode': 0.6858013105121211, 'colsample_bylevel': 0.5417290657790199, 'reg_lambda': 0.626211437384634, 'max_depth': 5, 'max_leaves': 0, 'max_cat_to_onehot': 7}. Best is trial 16 with value: 355.93779885723876.\u001b[0m\n",
      "\u001b[32m[I 2023-01-16 06:55:45,765]\u001b[0m Trial 21 finished with value: 530.8085035981006 and parameters: {'n_estimators': 102, 'learning_rate': 0.5871269239161855, 'colsample_bytree': 0.5075501414294618, 'colsample_bynode': 0.6937252348270279, 'colsample_bylevel': 0.5355552110104873, 'reg_lambda': 0.6756213507040463, 'max_depth': 6, 'max_leaves': 0, 'max_cat_to_onehot': 7}. Best is trial 16 with value: 355.93779885723876.\u001b[0m\n",
      "\u001b[32m[I 2023-01-16 06:55:45,963]\u001b[0m Trial 22 finished with value: 357.82060075213224 and parameters: {'n_estimators': 106, 'learning_rate': 0.5827548148042145, 'colsample_bytree': 0.9914646456729277, 'colsample_bynode': 0.6994063556798027, 'colsample_bylevel': 0.5388468420912298, 'reg_lambda': 0.6574515850925072, 'max_depth': 6, 'max_leaves': 0, 'max_cat_to_onehot': 7}. Best is trial 16 with value: 355.93779885723876.\u001b[0m\n",
      "\u001b[32m[I 2023-01-16 06:56:22,825]\u001b[0m Trial 23 finished with value: 357.9302040282583 and parameters: {'n_estimators': 105, 'learning_rate': 0.5820120346368125, 'colsample_bytree': 0.9851603830463865, 'colsample_bynode': 0.7058752058997041, 'colsample_bylevel': 0.5692118696281951, 'reg_lambda': 0.6521692341737858, 'max_depth': 6, 'max_leaves': 0, 'max_cat_to_onehot': 7}. Best is trial 16 with value: 355.93779885723876.\u001b[0m\n",
      "\u001b[32m[I 2023-01-16 06:56:51,247]\u001b[0m Trial 24 finished with value: 358.9697312451614 and parameters: {'n_estimators': 106, 'learning_rate': 0.5810530913281624, 'colsample_bytree': 0.9931565007899397, 'colsample_bynode': 0.6979800752599484, 'colsample_bylevel': 0.5482554881489586, 'reg_lambda': 0.6672360819168363, 'max_depth': 6, 'max_leaves': 0, 'max_cat_to_onehot': 8}. Best is trial 16 with value: 355.93779885723876.\u001b[0m\n",
      "\u001b[32m[I 2023-01-16 06:57:10,301]\u001b[0m Trial 27 finished with value: 338.6521644591279 and parameters: {'n_estimators': 111, 'learning_rate': 0.566878799494946, 'colsample_bytree': 0.9924172866975508, 'colsample_bynode': 0.6558825843681058, 'colsample_bylevel': 0.9953751731757163, 'reg_lambda': 0.7006286895357574, 'max_depth': 6, 'max_leaves': 0, 'max_cat_to_onehot': 8}. Best is trial 27 with value: 338.6521644591279.\u001b[0m\n",
      "\u001b[32m[I 2023-01-16 06:57:22,879]\u001b[0m Trial 25 finished with value: 359.3022528329285 and parameters: {'n_estimators': 106, 'learning_rate': 0.5703929467974364, 'colsample_bytree': 0.9897591078570356, 'colsample_bynode': 0.6840444186839664, 'colsample_bylevel': 0.5433987703367982, 'reg_lambda': 0.6686044928032014, 'max_depth': 6, 'max_leaves': 0, 'max_cat_to_onehot': 8}. Best is trial 27 with value: 338.6521644591279.\u001b[0m\n",
      "\u001b[32m[I 2023-01-16 06:57:34,666]\u001b[0m Trial 26 finished with value: 357.83668535937124 and parameters: {'n_estimators': 107, 'learning_rate': 0.5825877148869101, 'colsample_bytree': 0.9948145620267805, 'colsample_bynode': 0.7004944645762912, 'colsample_bylevel': 0.5737988234930805, 'reg_lambda': 0.7263285767040153, 'max_depth': 6, 'max_leaves': 0, 'max_cat_to_onehot': 7}. Best is trial 27 with value: 338.6521644591279.\u001b[0m\n",
      "\u001b[32m[I 2023-01-16 06:59:50,676]\u001b[0m Trial 29 finished with value: 355.32895967578577 and parameters: {'n_estimators': 113, 'learning_rate': 0.545199474040343, 'colsample_bytree': 0.980015929760483, 'colsample_bynode': 0.660721371336454, 'colsample_bylevel': 0.9958795622464769, 'reg_lambda': 0.0018297902106531594, 'max_depth': 5, 'max_leaves': 0, 'max_cat_to_onehot': 8}. Best is trial 27 with value: 338.6521644591279.\u001b[0m\n",
      "\u001b[32m[I 2023-01-16 07:00:00,232]\u001b[0m Trial 28 finished with value: 529.2567477262882 and parameters: {'n_estimators': 110, 'learning_rate': 0.5646964655292389, 'colsample_bytree': 0.5319818424357424, 'colsample_bynode': 0.6594388786658855, 'colsample_bylevel': 0.9829569742690195, 'reg_lambda': 0.05808342407008589, 'max_depth': 6, 'max_leaves': 0, 'max_cat_to_onehot': 8}. Best is trial 27 with value: 338.6521644591279.\u001b[0m\n",
      "\u001b[32m[I 2023-01-16 07:06:13,644]\u001b[0m Trial 30 finished with value: 338.5885102502022 and parameters: {'n_estimators': 96, 'learning_rate': 0.5526550622517897, 'colsample_bytree': 0.9951125189209209, 'colsample_bynode': 0.7450982612287529, 'colsample_bylevel': 0.9921246531011736, 'reg_lambda': 0.7498025520644904, 'max_depth': 6, 'max_leaves': 0, 'max_cat_to_onehot': 8}. Best is trial 30 with value: 338.5885102502022.\u001b[0m\n",
      "\u001b[32m[I 2023-01-16 07:06:28,757]\u001b[0m Trial 33 finished with value: 339.41227653505644 and parameters: {'n_estimators': 111, 'learning_rate': 0.5608600147173634, 'colsample_bytree': 0.9873960013194353, 'colsample_bynode': 0.6190871311180537, 'colsample_bylevel': 0.9654700536474963, 'reg_lambda': 0.7682955253721133, 'max_depth': 6, 'max_leaves': 0, 'max_cat_to_onehot': 8}. Best is trial 30 with value: 338.5885102502022.\u001b[0m\n",
      "\u001b[32m[I 2023-01-16 07:06:32,874]\u001b[0m Trial 34 finished with value: 338.48840812415267 and parameters: {'n_estimators': 112, 'learning_rate': 0.5625784466810989, 'colsample_bytree': 0.9893784257179837, 'colsample_bynode': 0.6365637848355439, 'colsample_bylevel': 0.9945763454512333, 'reg_lambda': 0.7631702566711818, 'max_depth': 6, 'max_leaves': 0, 'max_cat_to_onehot': 8}. Best is trial 34 with value: 338.48840812415267.\u001b[0m\n",
      "\u001b[32m[I 2023-01-16 07:07:49,168]\u001b[0m Trial 31 finished with value: 349.09151186655936 and parameters: {'n_estimators': 95, 'learning_rate': 0.5586900547825397, 'colsample_bytree': 0.9755491627695095, 'colsample_bynode': 0.7538973956639005, 'colsample_bylevel': 0.966635325092973, 'reg_lambda': 0.7567975362896652, 'max_depth': 5, 'max_leaves': 0, 'max_cat_to_onehot': 3}. Best is trial 34 with value: 338.48840812415267.\u001b[0m\n",
      "\u001b[32m[I 2023-01-16 07:07:53,426]\u001b[0m Trial 37 finished with value: 354.94895019654894 and parameters: {'n_estimators': 113, 'learning_rate': 0.5493743196914533, 'colsample_bytree': 0.9502257842257769, 'colsample_bynode': 0.6446223454567989, 'colsample_bylevel': 0.9830422308045547, 'reg_lambda': 0.7793608738786846, 'max_depth': 5, 'max_leaves': 0, 'max_cat_to_onehot': 9}. Best is trial 34 with value: 338.48840812415267.\u001b[0m\n",
      "\u001b[32m[I 2023-01-16 07:08:00,045]\u001b[0m Trial 36 finished with value: 354.41488551703054 and parameters: {'n_estimators': 113, 'learning_rate': 0.5506768657813714, 'colsample_bytree': 0.951860677320014, 'colsample_bynode': 0.6238937107549305, 'colsample_bylevel': 0.9746391393696189, 'reg_lambda': 0.7826388689999366, 'max_depth': 5, 'max_leaves': 0, 'max_cat_to_onehot': 8}. Best is trial 34 with value: 338.48840812415267.\u001b[0m\n",
      "\u001b[32m[I 2023-01-16 07:08:07,814]\u001b[0m Trial 32 finished with value: 359.95252254425117 and parameters: {'n_estimators': 112, 'learning_rate': 0.5623840180665639, 'colsample_bytree': 0.9728352036643586, 'colsample_bynode': 0.627479402853169, 'colsample_bylevel': 0.60519159992747, 'reg_lambda': 0.802324940935067, 'max_depth': 6, 'max_leaves': 0, 'max_cat_to_onehot': 8}. Best is trial 34 with value: 338.48840812415267.\u001b[0m\n",
      "\u001b[32m[I 2023-01-16 07:11:11,696]\u001b[0m Trial 35 finished with value: 354.69147281672616 and parameters: {'n_estimators': 111, 'learning_rate': 0.5596280743543824, 'colsample_bytree': 0.9513321038282435, 'colsample_bynode': 0.633034123973203, 'colsample_bylevel': 0.9773286314949472, 'reg_lambda': 0.7649247231399766, 'max_depth': 5, 'max_leaves': 0, 'max_cat_to_onehot': 8}. Best is trial 34 with value: 338.48840812415267.\u001b[0m\n",
      "\u001b[32m[I 2023-01-16 07:11:23,684]\u001b[0m Trial 38 finished with value: 355.29185682654855 and parameters: {'n_estimators': 112, 'learning_rate': 0.5425449298613354, 'colsample_bytree': 0.9451301392239174, 'colsample_bynode': 0.6344513059175823, 'colsample_bylevel': 0.9890680592714413, 'reg_lambda': 0.02837414069530092, 'max_depth': 5, 'max_leaves': 0, 'max_cat_to_onehot': 9}. Best is trial 34 with value: 338.48840812415267.\u001b[0m\n",
      "\u001b[32m[I 2023-01-16 07:11:29,962]\u001b[0m Trial 39 finished with value: 355.7755021513028 and parameters: {'n_estimators': 112, 'learning_rate': 0.5395369683882206, 'colsample_bytree': 0.9488835734146134, 'colsample_bynode': 0.6285331922614722, 'colsample_bylevel': 0.9524741276639864, 'reg_lambda': 0.13758700996719792, 'max_depth': 5, 'max_leaves': 0, 'max_cat_to_onehot': 9}. Best is trial 34 with value: 338.48840812415267.\u001b[0m\n",
      "\u001b[32m[I 2023-01-16 07:17:06,488]\u001b[0m Trial 40 finished with value: 355.0232408707543 and parameters: {'n_estimators': 114, 'learning_rate': 0.5415037147926224, 'colsample_bytree': 0.9507083297781463, 'colsample_bynode': 0.624976759662769, 'colsample_bylevel': 0.9336667439994655, 'reg_lambda': 0.015606338013214923, 'max_depth': 5, 'max_leaves': 0, 'max_cat_to_onehot': 9}. Best is trial 34 with value: 338.48840812415267.\u001b[0m\n",
      "\u001b[32m[I 2023-01-16 07:17:06,492]\u001b[0m Trial 41 finished with value: 355.81600569195905 and parameters: {'n_estimators': 113, 'learning_rate': 0.5440856073808941, 'colsample_bytree': 0.9494481492694747, 'colsample_bynode': 0.6142209404637902, 'colsample_bylevel': 0.9460199243584649, 'reg_lambda': 0.7722144258995172, 'max_depth': 5, 'max_leaves': 0, 'max_cat_to_onehot': 9}. Best is trial 34 with value: 338.48840812415267.\u001b[0m\n",
      "\u001b[32m[I 2023-01-16 07:18:08,361]\u001b[0m Trial 42 finished with value: 359.2961910907588 and parameters: {'n_estimators': 96, 'learning_rate': 0.5331141266170176, 'colsample_bytree': 0.9470497159716427, 'colsample_bynode': 0.6160765208329887, 'colsample_bylevel': 0.9411338317389337, 'reg_lambda': 0.7932359531520959, 'max_depth': 5, 'max_leaves': 0, 'max_cat_to_onehot': 9}. Best is trial 34 with value: 338.48840812415267.\u001b[0m\n",
      "\u001b[32m[I 2023-01-16 07:18:26,409]\u001b[0m Trial 43 finished with value: 359.7553836310535 and parameters: {'n_estimators': 113, 'learning_rate': 0.5333277901426057, 'colsample_bytree': 0.9455809304675604, 'colsample_bynode': 0.6027752061737107, 'colsample_bylevel': 0.9404225228195825, 'reg_lambda': 0.8084691460204613, 'max_depth': 5, 'max_leaves': 0, 'max_cat_to_onehot': 9}. Best is trial 34 with value: 338.48840812415267.\u001b[0m\n",
      "\u001b[32m[I 2023-01-16 07:18:32,887]\u001b[0m Trial 46 finished with value: 430.7960785236475 and parameters: {'n_estimators': 97, 'learning_rate': 0.5334998826922915, 'colsample_bytree': 0.8948599176528607, 'colsample_bynode': 0.5908407341549085, 'colsample_bylevel': 0.9273138747173153, 'reg_lambda': 0.5484411740365895, 'max_depth': 2, 'max_leaves': 0, 'max_cat_to_onehot': 9}. Best is trial 34 with value: 338.48840812415267.\u001b[0m\n",
      "\u001b[32m[I 2023-01-16 07:18:38,713]\u001b[0m Trial 44 finished with value: 359.0795071543362 and parameters: {'n_estimators': 98, 'learning_rate': 0.535244242995451, 'colsample_bytree': 0.9480015986212682, 'colsample_bynode': 0.615986128950858, 'colsample_bylevel': 0.9391744573917569, 'reg_lambda': 0.5392648906743288, 'max_depth': 5, 'max_leaves': 0, 'max_cat_to_onehot': 9}. Best is trial 34 with value: 338.48840812415267.\u001b[0m\n",
      "\u001b[32m[I 2023-01-16 07:18:41,683]\u001b[0m Trial 45 finished with value: 339.8564981208168 and parameters: {'n_estimators': 98, 'learning_rate': 0.5304726348636255, 'colsample_bytree': 0.8847207530240246, 'colsample_bynode': 0.5997398555069524, 'colsample_bylevel': 0.9283808016359877, 'reg_lambda': 0.547750727593546, 'max_depth': 6, 'max_leaves': 0, 'max_cat_to_onehot': 9}. Best is trial 34 with value: 338.48840812415267.\u001b[0m\n",
      "\u001b[32m[I 2023-01-16 07:19:49,892]\u001b[0m Trial 49 finished with value: 674.9205970979754 and parameters: {'n_estimators': 96, 'learning_rate': 0.5281251969245009, 'colsample_bytree': 0.8904082710541862, 'colsample_bynode': 0.5978010712378984, 'colsample_bylevel': 0.9330741200423147, 'reg_lambda': 0.5419041948862771, 'max_depth': 6, 'max_leaves': 1, 'max_cat_to_onehot': 6}. Best is trial 34 with value: 338.48840812415267.\u001b[0m\n",
      "\u001b[32m[I 2023-01-16 07:20:08,053]\u001b[0m Trial 48 finished with value: 674.790283187034 and parameters: {'n_estimators': 97, 'learning_rate': 0.5317714888769101, 'colsample_bytree': 0.8893150723050622, 'colsample_bynode': 0.5040433371445705, 'colsample_bylevel': 0.9351182295239102, 'reg_lambda': 0.4945138563128839, 'max_depth': 2, 'max_leaves': 1, 'max_cat_to_onehot': 6}. Best is trial 34 with value: 338.48840812415267.\u001b[0m\n",
      "\u001b[32m[I 2023-01-16 07:20:22,356]\u001b[0m Trial 47 finished with value: 674.8054628061761 and parameters: {'n_estimators': 97, 'learning_rate': 0.5313363671215668, 'colsample_bytree': 0.8840845415277299, 'colsample_bynode': 0.5874309894092035, 'colsample_bylevel': 0.9252614824855931, 'reg_lambda': 0.543578774790173, 'max_depth': 6, 'max_leaves': 1, 'max_cat_to_onehot': 9}. Best is trial 34 with value: 338.48840812415267.\u001b[0m\n"
     ]
    },
    {
     "name": "stdout",
     "output_type": "stream",
     "text": [
      "Total time:  0:59:04.965889\n"
     ]
    }
   ],
   "source": [
    "# Create a single study\n",
    "start = datetime.now()\n",
    "study = optuna.create_study(study_name=\"parallel-nyc-travel-time-model\")    \n",
    "\n",
    "with ThreadPoolExecutor(10) as executor:\n",
    "    futures = [executor.submit(study.optimize, objective, n_trials=5) for _ in range(10)]\n",
    "print(f\"Total time:  {datetime.now() - start}\")"
   ]
  },
  {
   "cell_type": "code",
   "execution_count": 7,
   "id": "a64485e2-eeb7-4eb2-8661-f8aa4a2e519e",
   "metadata": {
    "tags": []
   },
   "outputs": [],
   "source": [
    "# Tear down running clusters\n",
    "\n",
    "for c in CLUSTERS.values():\n",
    "    c.shutdown()"
   ]
  },
  {
   "cell_type": "code",
   "execution_count": 8,
   "id": "2f913de4-9988-49d9-9b23-f5a90ecb9973",
   "metadata": {
    "scrolled": true,
    "tags": []
   },
   "outputs": [
    {
     "data": {
      "text/plain": [
       "50"
      ]
     },
     "execution_count": 8,
     "metadata": {},
     "output_type": "execute_result"
    }
   ],
   "source": [
    "len(study.trials)"
   ]
  },
  {
   "cell_type": "code",
   "execution_count": 9,
   "id": "ede5a2bf-c88c-4266-9738-73cb6fcb9d8f",
   "metadata": {},
   "outputs": [
    {
     "data": {
      "text/plain": [
       "{'n_estimators': 112,\n",
       " 'learning_rate': 0.5625784466810989,\n",
       " 'colsample_bytree': 0.9893784257179837,\n",
       " 'colsample_bynode': 0.6365637848355439,\n",
       " 'colsample_bylevel': 0.9945763454512333,\n",
       " 'reg_lambda': 0.7631702566711818,\n",
       " 'max_depth': 6,\n",
       " 'max_leaves': 0,\n",
       " 'max_cat_to_onehot': 8}"
      ]
     },
     "execution_count": 9,
     "metadata": {},
     "output_type": "execute_result"
    }
   ],
   "source": [
    "study.best_params"
   ]
  },
  {
   "cell_type": "code",
   "execution_count": 10,
   "id": "22a6da34-582c-4e2d-9b58-89a5369d7536",
   "metadata": {},
   "outputs": [
    {
     "data": {
      "text/plain": [
       "338.48840812415267"
      ]
     },
     "execution_count": 10,
     "metadata": {},
     "output_type": "execute_result"
    }
   ],
   "source": [
    "study.best_value"
   ]
  },
  {
   "cell_type": "code",
   "execution_count": 11,
   "id": "3c4c41f7-afa1-44a7-ab36-d1ed15a4bd48",
   "metadata": {
    "scrolled": true,
    "tags": []
   },
   "outputs": [
    {
     "data": {
      "text/plain": [
       "['data/study_many_threads.pkl']"
      ]
     },
     "execution_count": 11,
     "metadata": {},
     "output_type": "execute_result"
    }
   ],
   "source": [
    "# Uncomment this if you want to save the results of your study to examine later.\n",
    "\n",
    "joblib.dump(study, \"data/study_many_threads.pkl\")"
   ]
  },
  {
   "cell_type": "code",
   "execution_count": 12,
   "id": "f65e308a-9569-40b1-9557-c6e16234be43",
   "metadata": {},
   "outputs": [
    {
     "name": "stderr",
     "output_type": "stream",
     "text": [
      "/var/folders/b5/f_y899x168j7cs2m7szjld5c0000gn/T/ipykernel_85650/531804582.py:1: ExperimentalWarning: plot_optimization_history is experimental (supported from v2.2.0). The interface can change in the future.\n",
      "  fig = optuna.visualization.matplotlib.plot_optimization_history(study)\n"
     ]
    },
    {
     "data": {
      "image/png": "[encoded data removed]",
      "text/plain": [
       "<Figure size 640x480 with 1 Axes>"
      ]
     },
     "metadata": {},
     "output_type": "display_data"
    }
   ],
   "source": [
    "fig = optuna.visualization.matplotlib.plot_optimization_history(study)\n",
    "fig.legend(loc=\"upper right\")\n",
    "plt.savefig(\"data/optimization_history_study_2.png\")"
   ]
  },
  {
   "cell_type": "code",
   "execution_count": null,
   "id": "ab27b350-1f49-40aa-bf63-ed8df919d602",
   "metadata": {},
   "outputs": [],
   "source": []
  }
 ],
 "metadata": {
  "kernelspec": {
   "display_name": "Python 3 (ipykernel)",
   "language": "python",
   "name": "python3"
  },
  "language_info": {
   "codemirror_mode": {
    "name": "ipython",
    "version": 3
   },
   "file_extension": ".py",
   "mimetype": "text/x-python",
   "name": "python",
   "nbconvert_exporter": "python",
   "pygments_lexer": "ipython3",
   "version": "3.10.8"
  }
 },
 "nbformat": 4,
 "nbformat_minor": 5
}

{
 "cells": [
  {
   "cell_type": "markdown",
   "id": "0652f264-b2c3-43b2-9310-7c00e50e7cdc",
   "metadata": {},
   "source": [
    "# Examine the output of the Optuna Study\n",
    "\n",
    "We can now explore the result of our HPO experiment by loading the Optuna `study`."
   ]
  },
  {
   "cell_type": "code",
   "execution_count": null,
   "id": "4acc1021-06be-4854-b07b-ef22452599cc",
   "metadata": {},
   "outputs": [],
   "source": [
    "import joblib\n",
    "import optuna\n",
    "import matplotlib.pyplot as plt"
   ]
  },
  {
   "cell_type": "code",
   "execution_count": null,
   "id": "f8f3b355-7e76-423f-8b4c-8e35eb1eb022",
   "metadata": {
    "scrolled": true,
    "tags": []
   },
   "outputs": [],
   "source": [
    "\n",
    "try:\n",
    "    study = joblib.load(\"data/study_m6i4xlarge.pkl\")\n",
    "    print(f\"Best trial until now has a rmse score of {study.best_trial.value} out of {len(study.trials)} trials.\")\n",
    "except Exception as e:\n",
    "    raise FileNotFoundError(\"Study not available\")    \n"
   ]
  },
  {
   "cell_type": "code",
   "execution_count": null,
   "id": "ede5a2bf-c88c-4266-9738-73cb6fcb9d8f",
   "metadata": {},
   "outputs": [],
   "source": [
    "optuna.visualization.plot_parallel_coordinate(study)"
   ]
  },
  {
   "cell_type": "code",
   "execution_count": null,
   "id": "f2ac98ed-7dcd-4afb-b091-05446f54b2b4",
   "metadata": {},
   "outputs": [],
   "source": [
    "optuna.visualization.plot_slice(study)"
   ]
  },
  {
   "cell_type": "code",
   "execution_count": null,
   "id": "c12c8128-2d39-4979-9b3f-90e279fd2231",
   "metadata": {},
   "outputs": [],
   "source": [
    "optuna.visualization.plot_param_importances(study)"
   ]
  },
  {
   "cell_type": "code",
   "execution_count": null,
   "id": "1838c228-91cc-4228-8d89-80bb2e54bad6",
   "metadata": {},
   "outputs": [],
   "source": [
    "optuna.visualization.plot_optimization_history(study)"
   ]
  },
  {
   "cell_type": "code",
   "execution_count": null,
   "id": "ddd462e0-3338-4692-a2f1-ee87b6d0a776",
   "metadata": {},
   "outputs": [],
   "source": [
    "fig = optuna.visualization.matplotlib.plot_optimization_history(study)\n",
    "fig.get_legend().remove()\n",
    "plt.savefig(\"data/optimization_history.png\")"
   ]
  },
  {
   "cell_type": "code",
   "execution_count": null,
   "id": "c186c82d-c3f9-48ff-a6a6-120376af77a4",
   "metadata": {},
   "outputs": [],
   "source": [
    "fig2 = optuna.visualization.matplotlib.plot_param_importances(study)\n",
    "plt.savefig(\"data/hyperparameter_importances.png\", bbox_inches=\"tight\")"
   ]
  },
  {
   "cell_type": "code",
   "execution_count": null,
   "id": "50716871-6c84-4529-b4b1-8625502468ac",
   "metadata": {},
   "outputs": [],
   "source": [
    "study.best_params"
   ]
  },
  {
   "cell_type": "code",
   "execution_count": null,
   "id": "96a416c2-bf30-441d-9b87-5e6ce8ca29f3",
   "metadata": {},
   "outputs": [],
   "source": []
  }
 ],
 "metadata": {
  "kernelspec": {
   "display_name": "Python 3 (ipykernel)",
   "language": "python",
   "name": "python3"
  },
  "language_info": {
   "codemirror_mode": {
    "name": "ipython",
    "version": 3
   },
   "file_extension": ".py",
   "mimetype": "text/x-python",
   "name": "python",
   "nbconvert_exporter": "python",
   "pygments_lexer": "ipython3",
   "version": "3.9.13"
  }
 },
 "nbformat": 4,
 "nbformat_minor": 5
}

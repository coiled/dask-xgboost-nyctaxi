{
 "cells": [
  {
   "cell_type": "markdown",
   "id": "72d36f5c-3586-43e9-bcac-742a330c719c",
   "metadata": {},
   "source": [
    "## Clean up Uber/Lyft data \n",
    "\n",
    "blatantly cribbed from Matt's video (https://www.youtube.com/watch?v=6EozEvfTcBI)\n",
    "\n",
    "### Setup the cluster"
   ]
  },
  {
   "cell_type": "code",
   "execution_count": 1,
   "id": "f5c0ef7f-de32-4d1b-bbd5-8f36f7b19e38",
   "metadata": {},
   "outputs": [
    {
     "name": "stdout",
     "output_type": "stream",
     "text": [
      "Collecting git+https://github.com/dask/distributed.git@f83025935383d13033fe0dcd4af2ee689078cb40\n",
      "Collecting git+https://github.com/dask/dask.git@0d8e12be4c2261b3457978c16aba7e893b1cf4a1\n",
      "  Cloning https://github.com/dask/dask.git (to revision 0d8e12be4c2261b3457978c16aba7e893b1cf4a1) to /private/var/folders/b5/f_y899x168j7cs2m7szjld5c0000gn/T/pip-req-build-0z792_g2\n",
      "  Cloning https://github.com/dask/distributed.git (to revision f83025935383d13033fe0dcd4af2ee689078cb40) to /private/var/folders/b5/f_y899x168j7cs2m7szjld5c0000gn/T/pip-req-build-_621il8v\n"
     ]
    },
    {
     "name": "stderr",
     "output_type": "stream",
     "text": [
      "  Running command git clone --filter=blob:none --quiet https://github.com/dask/distributed.git /private/var/folders/b5/f_y899x168j7cs2m7szjld5c0000gn/T/pip-req-build-_621il8v\n",
      "  Running command git clone --filter=blob:none --quiet https://github.com/dask/dask.git /private/var/folders/b5/f_y899x168j7cs2m7szjld5c0000gn/T/pip-req-build-0z792_g2\n",
      "  Running command git rev-parse -q --verify 'sha^f83025935383d13033fe0dcd4af2ee689078cb40'\n",
      "  Running command git fetch -q https://github.com/dask/distributed.git f83025935383d13033fe0dcd4af2ee689078cb40\n"
     ]
    },
    {
     "name": "stdout",
     "output_type": "stream",
     "text": [
      "  Resolved https://github.com/dask/distributed.git to commit f83025935383d13033fe0dcd4af2ee689078cb40\n",
      "  Installing build dependencies: started\n",
      "  Installing build dependencies: finished with status 'done'\n",
      "  Getting requirements to build wheel: started\n"
     ]
    },
    {
     "name": "stderr",
     "output_type": "stream",
     "text": [
      "  Running command git rev-parse -q --verify 'sha^0d8e12be4c2261b3457978c16aba7e893b1cf4a1'\n",
      "  Running command git fetch -q https://github.com/dask/dask.git 0d8e12be4c2261b3457978c16aba7e893b1cf4a1\n"
     ]
    },
    {
     "name": "stdout",
     "output_type": "stream",
     "text": [
      "  Getting requirements to build wheel: finished with status 'done'\n",
      "  Preparing metadata (pyproject.toml): started\n",
      "  Preparing metadata (pyproject.toml): finished with status 'done'\n",
      "Building wheels for collected packages: distributed\n",
      "  Building wheel for distributed (pyproject.toml): started\n"
     ]
    },
    {
     "name": "stderr",
     "output_type": "stream",
     "text": [
      "  Running command git checkout -q 0d8e12be4c2261b3457978c16aba7e893b1cf4a1\n"
     ]
    },
    {
     "name": "stdout",
     "output_type": "stream",
     "text": [
      "  Building wheel for distributed (pyproject.toml): finished with status 'done'\n",
      "  Created wheel for distributed: filename=distributed-2022.12.0+17.gf8302593-py3-none-any.whl size=930327 sha256=abb1ed30352433debceba3bc88253e9d39968b4cb6be16c0c1efdbf36c23a5a6\n",
      "  Stored in directory: /private/var/folders/b5/f_y899x168j7cs2m7szjld5c0000gn/T/pip-ephem-wheel-cache-q3i4nr3r/wheels/fd/af/11/58dd2291a58d74b51b5fd96dedfb871cc8bba17bef3e91f0b7\n",
      "Successfully built distributed\n",
      "  Resolved https://github.com/dask/dask.git to commit 0d8e12be4c2261b3457978c16aba7e893b1cf4a1\n",
      "  Installing build dependencies: started\n",
      "  Installing build dependencies: finished with status 'done'\n",
      "  Getting requirements to build wheel: started\n",
      "  Getting requirements to build wheel: finished with status 'done'\n",
      "  Preparing metadata (pyproject.toml): started\n",
      "  Preparing metadata (pyproject.toml): finished with status 'done'\n",
      "Building wheels for collected packages: dask\n",
      "  Building wheel for dask (pyproject.toml): started\n",
      "  Building wheel for dask (pyproject.toml): finished with status 'done'\n",
      "  Created wheel for dask: filename=dask-2022.12.0+13.g0d8e12be-py3-none-any.whl size=1142848 sha256=ee5044daecd9c6a0821eabbe497ce3a92399c83f7a2149a7799069c2659c2350\n",
      "  Stored in directory: /private/var/folders/b5/f_y899x168j7cs2m7szjld5c0000gn/T/pip-ephem-wheel-cache-fw4dtrrv/wheels/c7/85/e5/a40829d209b6d0e02f4b3b79141d47a7eb8737edc6faed4d1c\n",
      "Successfully built dask\n"
     ]
    },
    {
     "data": {
      "text/html": [
       "<pre style=\"white-space:pre;overflow-x:auto;line-height:normal;font-family:Menlo,'DejaVu Sans Mono',consolas,'Courier New',monospace\">╭─────────────────────────────────────── <span style=\"color: #008000; text-decoration-color: #008000; font-weight: bold\">Package Sync Notes</span> ───────────────────────────────────────╮\n",
       "│                  ╷                                                                               │\n",
       "│  <span style=\"font-weight: bold\"> Package        </span>│<span style=\"font-weight: bold\"> Note                                                                        </span>  │\n",
       "│ ╶────────────────┼─────────────────────────────────────────────────────────────────────────────╴ │\n",
       "│   openssl        │ Package ignored, no risk                                                      │\n",
       "│   coiled-runtime │ Package ignored, no risk                                                      │\n",
       "│   dask           │ Wheel built from                                                              │\n",
       "│                  │ git+https://github.com/dask/dask.git@0d8e12be4c2261b3457978c16aba7e893b1cf…   │\n",
       "│   distributed    │ Wheel built from                                                              │\n",
       "│                  │ git+https://github.com/dask/distributed.git@f83025935383d13033fe0dcd4af2ee…   │\n",
       "│                  ╵                                                                               │\n",
       "╰──────────────────────────────────────────────────────────────────────────────────────────────────╯\n",
       "</pre>\n"
      ],
      "text/plain": [
       "╭─────────────────────────────────────── \u001b[1;32mPackage Sync Notes\u001b[0m ───────────────────────────────────────╮\n",
       "│                  ╷                                                                               │\n",
       "│  \u001b[1m \u001b[0m\u001b[1mPackage       \u001b[0m\u001b[1m \u001b[0m│\u001b[1m \u001b[0m\u001b[1mNote                                                                       \u001b[0m\u001b[1m \u001b[0m  │\n",
       "│ ╶────────────────┼─────────────────────────────────────────────────────────────────────────────╴ │\n",
       "│   openssl        │ Package ignored, no risk                                                      │\n",
       "│   coiled-runtime │ Package ignored, no risk                                                      │\n",
       "│   dask           │ Wheel built from                                                              │\n",
       "│                  │ git+https://github.com/dask/dask.git@0d8e12be4c2261b3457978c16aba7e893b1cf…   │\n",
       "│   distributed    │ Wheel built from                                                              │\n",
       "│                  │ git+https://github.com/dask/distributed.git@f83025935383d13033fe0dcd4af2ee…   │\n",
       "│                  ╵                                                                               │\n",
       "╰──────────────────────────────────────────────────────────────────────────────────────────────────╯\n"
      ]
     },
     "metadata": {},
     "output_type": "display_data"
    },
    {
     "data": {
      "text/html": [
       "<pre style=\"white-space:pre;overflow-x:auto;line-height:normal;font-family:Menlo,'DejaVu Sans Mono',consolas,'Courier New',monospace\"></pre>\n"
      ],
      "text/plain": [
       "\u001b[?25l"
      ]
     },
     "metadata": {},
     "output_type": "display_data"
    },
    {
     "data": {
      "application/vnd.jupyter.widget-view+json": {
       "model_id": "07cfbc9d260a46bd8f52a9587f004bae",
       "version_major": 2,
       "version_minor": 0
      },
      "text/plain": [
       "Output()"
      ]
     },
     "metadata": {},
     "output_type": "display_data"
    },
    {
     "data": {
      "text/html": [
       "<pre style=\"white-space:pre;overflow-x:auto;line-height:normal;font-family:Menlo,'DejaVu Sans Mono',consolas,'Courier New',monospace\">\n",
       "</pre>\n"
      ],
      "text/plain": [
       "\n",
       "\u001b[?25h"
      ]
     },
     "metadata": {},
     "output_type": "display_data"
    },
    {
     "data": {
      "text/html": [
       "<div>\n",
       "    <div style=\"width: 24px; height: 24px; background-color: #e1e1e1; border: 3px solid #9D9D9D; border-radius: 5px; position: absolute;\"> </div>\n",
       "    <div style=\"margin-left: 48px;\">\n",
       "        <h3 style=\"margin-bottom: 0px;\">Client</h3>\n",
       "        <p style=\"color: #9D9D9D; margin-bottom: 0px;\">Client-b1916be4-7d87-11ed-82c5-1a6d039d6526</p>\n",
       "        <table style=\"width: 100%; text-align: left;\">\n",
       "\n",
       "        <tr>\n",
       "        \n",
       "            <td style=\"text-align: left;\"><strong>Connection method:</strong> Cluster object</td>\n",
       "            <td style=\"text-align: left;\"><strong>Cluster type:</strong> coiled.ClusterBeta</td>\n",
       "        \n",
       "        </tr>\n",
       "\n",
       "        \n",
       "            <tr>\n",
       "                <td style=\"text-align: left;\">\n",
       "                    <strong>Dashboard: </strong> <a href=\"http://18.207.166.9:8787\" target=\"_blank\">http://18.207.166.9:8787</a>\n",
       "                </td>\n",
       "                <td style=\"text-align: left;\"></td>\n",
       "            </tr>\n",
       "        \n",
       "\n",
       "        </table>\n",
       "\n",
       "        \n",
       "            <button style=\"margin-bottom: 12px;\" data-commandlinker-command=\"dask:populate-and-launch-layout\" data-commandlinker-args='{\"url\": \"http://18.207.166.9:8787\" }'>\n",
       "                Launch dashboard in JupyterLab\n",
       "            </button>\n",
       "        \n",
       "\n",
       "        \n",
       "            <details>\n",
       "            <summary style=\"margin-bottom: 20px;\"><h3 style=\"display: inline;\">Cluster Info</h3></summary>\n",
       "            <div class=\"jp-RenderedHTMLCommon jp-RenderedHTML jp-mod-trusted jp-OutputArea-output\">\n",
       "    <div style=\"width: 24px; height: 24px; background-color: #e1e1e1; border: 3px solid #9D9D9D; border-radius: 5px; position: absolute;\">\n",
       "    </div>\n",
       "    <div style=\"margin-left: 48px;\">\n",
       "        <h3 style=\"margin-bottom: 0px; margin-top: 0px;\">ClusterBeta</h3>\n",
       "        <p style=\"color: #9D9D9D; margin-bottom: 0px;\">dask-engineering-f39ef2fe-2</p>\n",
       "        <table style=\"width: 100%; text-align: left;\">\n",
       "            <tr>\n",
       "                <td style=\"text-align: left;\">\n",
       "                    <strong>Dashboard:</strong> <a href=\"http://18.207.166.9:8787\" target=\"_blank\">http://18.207.166.9:8787</a>\n",
       "                </td>\n",
       "                <td style=\"text-align: left;\">\n",
       "                    <strong>Workers:</strong> 0\n",
       "                </td>\n",
       "            </tr>\n",
       "            <tr>\n",
       "                <td style=\"text-align: left;\">\n",
       "                    <strong>Total threads:</strong> 0\n",
       "                </td>\n",
       "                <td style=\"text-align: left;\">\n",
       "                    <strong>Total memory:</strong> 0 B\n",
       "                </td>\n",
       "            </tr>\n",
       "            \n",
       "        </table>\n",
       "\n",
       "        <details>\n",
       "            <summary style=\"margin-bottom: 20px;\">\n",
       "                <h3 style=\"display: inline;\">Scheduler Info</h3>\n",
       "            </summary>\n",
       "\n",
       "            <div style=\"\">\n",
       "    <div>\n",
       "        <div style=\"width: 24px; height: 24px; background-color: #FFF7E5; border: 3px solid #FF6132; border-radius: 5px; position: absolute;\"> </div>\n",
       "        <div style=\"margin-left: 48px;\">\n",
       "            <h3 style=\"margin-bottom: 0px;\">Scheduler</h3>\n",
       "            <p style=\"color: #9D9D9D; margin-bottom: 0px;\">Scheduler-a14633a3-e35e-4667-b72c-c07c8bfa6cd9</p>\n",
       "            <table style=\"width: 100%; text-align: left;\">\n",
       "                <tr>\n",
       "                    <td style=\"text-align: left;\">\n",
       "                        <strong>Comm:</strong> tls://10.0.17.27:8786\n",
       "                    </td>\n",
       "                    <td style=\"text-align: left;\">\n",
       "                        <strong>Workers:</strong> 0\n",
       "                    </td>\n",
       "                </tr>\n",
       "                <tr>\n",
       "                    <td style=\"text-align: left;\">\n",
       "                        <strong>Dashboard:</strong> <a href=\"http://10.0.17.27:8787/status\" target=\"_blank\">http://10.0.17.27:8787/status</a>\n",
       "                    </td>\n",
       "                    <td style=\"text-align: left;\">\n",
       "                        <strong>Total threads:</strong> 0\n",
       "                    </td>\n",
       "                </tr>\n",
       "                <tr>\n",
       "                    <td style=\"text-align: left;\">\n",
       "                        <strong>Started:</strong> Just now\n",
       "                    </td>\n",
       "                    <td style=\"text-align: left;\">\n",
       "                        <strong>Total memory:</strong> 0 B\n",
       "                    </td>\n",
       "                </tr>\n",
       "            </table>\n",
       "        </div>\n",
       "    </div>\n",
       "\n",
       "    <details style=\"margin-left: 48px;\">\n",
       "        <summary style=\"margin-bottom: 20px;\">\n",
       "            <h3 style=\"display: inline;\">Workers</h3>\n",
       "        </summary>\n",
       "\n",
       "        \n",
       "\n",
       "    </details>\n",
       "</div>\n",
       "\n",
       "        </details>\n",
       "    </div>\n",
       "</div>\n",
       "            </details>\n",
       "        \n",
       "\n",
       "    </div>\n",
       "</div>"
      ],
      "text/plain": [
       "<Client: 'tls://10.0.17.27:8786' processes=0 threads=0, memory=0 B>"
      ]
     },
     "execution_count": 1,
     "metadata": {},
     "output_type": "execute_result"
    }
   ],
   "source": [
    "import dask.dataframe as dd\n",
    "from distributed import Client\n",
    "from coiled import Cluster\n",
    "\n",
    "import numpy as np\n",
    "import pandas as pd\n",
    "\n",
    "cluster = Cluster(\n",
    "    account=\"dask-engineering\",\n",
    "    n_workers=12,\n",
    "    package_sync=True,\n",
    "    backend_options={\"region\": \"us-east-1\"},\n",
    "    worker_memory=\"64 GiB\",\n",
    ")\n",
    "client = Client(cluster)\n",
    "client"
   ]
  },
  {
   "cell_type": "code",
   "execution_count": 2,
   "id": "43804f3f-7447-4696-b123-74a598d5fda2",
   "metadata": {},
   "outputs": [],
   "source": [
    "df = dd.read_parquet(\"s3://nyc-tlc/trip data/fhvhv_tripdata_*.parquet\") "
   ]
  },
  {
   "cell_type": "code",
   "execution_count": 3,
   "id": "1ac1de54-875a-41ae-9425-2bcb0b33c0b6",
   "metadata": {},
   "outputs": [
    {
     "data": {
      "text/plain": [
       "{'hvfhs_license_num': 'string[pyarrow]',\n",
       " 'dispatching_base_num': 'string[pyarrow]',\n",
       " 'originating_base_num': 'string[pyarrow]',\n",
       " 'PULocationID': 'int32',\n",
       " 'DOLocationID': 'int32',\n",
       " 'trip_miles': 'float32',\n",
       " 'trip_time': 'int32',\n",
       " 'base_passenger_fare': 'float32',\n",
       " 'tolls': 'float32',\n",
       " 'bcf': 'float32',\n",
       " 'sales_tax': 'float32',\n",
       " 'congestion_surcharge': 'float32',\n",
       " 'airport_fee': 'string[pyarrow]',\n",
       " 'tips': 'float32',\n",
       " 'driver_pay': 'float32',\n",
       " 'shared_request_flag': CategoricalDtype(categories=['Y', 'N'], ordered=False),\n",
       " 'shared_match_flag': CategoricalDtype(categories=['Y', 'N'], ordered=False),\n",
       " 'access_a_ride_flag': CategoricalDtype(categories=['Y', 'N'], ordered=False),\n",
       " 'wav_request_flag': CategoricalDtype(categories=['Y', 'N'], ordered=False),\n",
       " 'wav_match_flag': CategoricalDtype(categories=['Y', 'N'], ordered=False)}"
      ]
     },
     "execution_count": 3,
     "metadata": {},
     "output_type": "execute_result"
    }
   ],
   "source": [
    "yes_no = pd.CategoricalDtype(categories=[\"Y\", \"N\"])\n",
    "conversions = {}\n",
    "for column, dtype in df.dtypes.items():\n",
    "    if dtype == \"float64\":\n",
    "        conversions[column] = \"float32\"\n",
    "    if dtype == \"int64\":\n",
    "        conversions[column] = \"int32\"\n",
    "    if dtype == \"object\":\n",
    "        conversions[column] = \"string[pyarrow]\"\n",
    "    if \"flag\" in column:\n",
    "        conversions[column] = yes_no\n",
    "        \n",
    "conversions"
   ]
  },
  {
   "cell_type": "code",
   "execution_count": null,
   "id": "5f3606d6-3feb-4816-b5bd-51f1cf80ac97",
   "metadata": {},
   "outputs": [],
   "source": [
    "df = (\n",
    "    df.astype(conversions)\n",
    "      .set_index(\"request_datetime\")\n",
    "      .persist()\n",
    ")\n",
    "\n",
    "df.dtypes"
   ]
  },
  {
   "cell_type": "code",
   "execution_count": null,
   "id": "d646808d-1df8-40c9-8ab4-c206b2529087",
   "metadata": {},
   "outputs": [],
   "source": [
    "divisions = df.divisions\n",
    "def part_name(index):\n",
    "    return str(divisions[index].date()) + \".parquet\"\n",
    "    \n",
    "part_name(0)"
   ]
  },
  {
   "cell_type": "code",
   "execution_count": null,
   "id": "3255efa1-c576-433b-9495-5abf21525457",
   "metadata": {},
   "outputs": [],
   "source": [
    "df = df.repartition(freq=\"1d\").persist()\n",
    "df.to_parquet(\n",
    "    \"s3://dask-engineering-example-pipelines/xgboost-optuna/nyc-taxi-data\",\n",
    "    name_function=part_name\n",
    ")"
   ]
  },
  {
   "cell_type": "code",
   "execution_count": null,
   "id": "04ff5590-1a08-4505-bcd4-db15e310bef6",
   "metadata": {},
   "outputs": [],
   "source": [
    "format_bytes(dd.read_parquet(\n",
    "    \"s3://dask-engineering-example-pipelines/xgboost-optuna/nyc-taxi-data/*.parquet\",\n",
    "    use_nullable_dtypes=True\n",
    ").memory_usage(deep=True).compute().sum())"
   ]
  },
  {
   "cell_type": "code",
   "execution_count": null,
   "id": "138bd7e7-9a27-4848-bc39-6120fe374cdb",
   "metadata": {
    "tags": []
   },
   "outputs": [],
   "source": [
    "clean.head().dtypes"
   ]
  },
  {
   "cell_type": "code",
   "execution_count": null,
   "id": "da07dc88-8070-4ad8-abd3-b1d38fbf03a2",
   "metadata": {},
   "outputs": [],
   "source": [
    "s3://coiled-datasets/uber-lyft-tlc/"
   ]
  },
  {
   "cell_type": "code",
   "execution_count": null,
   "id": "9d0284d8-78a0-41ef-889d-da3f3b987834",
   "metadata": {},
   "outputs": [],
   "source": [
    "format_bytes(dd.read_parquet(\n",
    "    \"s3://coiled-datasets/uber-lyft-tlc/*.parquet\",\n",
    "    use_nullable_dtypes=True\n",
    ").memory_usage(deep=True).compute().sum())"
   ]
  },
  {
   "cell_type": "code",
   "execution_count": null,
   "id": "8d8fe8df-7ccd-4055-9877-94b9a913ae4c",
   "metadata": {},
   "outputs": [],
   "source": [
    "format_bytes(dd.read_parquet(\n",
    "    \"s3://coiled-datasets/uber-lyft-tlc/*.parquet\",\n",
    "    use_nullable_dtypes=True\n",
    ").astype({\n",
    "    \"hvfhs_license_num\": \"string[pyarrow]\", \n",
    "    \"dispatching_base_num\": \"string[pyarrow]\",\n",
    "    \"originating_base_num\": \"string[pyarrow]\",\n",
    "    \"airport_fee\": \"string[pyarrow]\"\n",
    "}).persist().memory_usage(deep=True).compute().sum())\n",
    "\n"
   ]
  },
  {
   "cell_type": "markdown",
   "id": "6d207a61-d243-4fe9-9b81-55d0ab5f5927",
   "metadata": {},
   "source": [
    "### airport data should probably be `float` "
   ]
  },
  {
   "cell_type": "code",
   "execution_count": null,
   "id": "30ab2834-b961-45be-b43e-5e8a88d05d71",
   "metadata": {},
   "outputs": [],
   "source": [
    "df.airport_fee.astype(float).unique().compute()"
   ]
  }
 ],
 "metadata": {
  "kernelspec": {
   "display_name": "Python 3 (ipykernel)",
   "language": "python",
   "name": "python3"
  },
  "language_info": {
   "codemirror_mode": {
    "name": "ipython",
    "version": 3
   },
   "file_extension": ".py",
   "mimetype": "text/x-python",
   "name": "python",
   "nbconvert_exporter": "python",
   "pygments_lexer": "ipython3",
   "version": "3.10.8"
  }
 },
 "nbformat": 4,
 "nbformat_minor": 5
}

{
 "cells": [
  {
   "cell_type": "code",
   "execution_count": null,
   "id": "c76e83c9-3efd-40ea-a4c4-dd8dc8fee7d5",
   "metadata": {
    "tags": []
   },
   "outputs": [],
   "source": [
    "from coiled import Cluster\n",
    "from distributed import Client\n",
    "import dask.dataframe as dd\n",
    "\n",
    "from dask_ml.model_selection import train_test_split\n",
    "import xgboost as xgb\n",
    "\n",
    "cluster = Cluster(\n",
    "   early_stopping_rounds=workers=64,\n",
    "    account=\"paul-hobson\", # or dask-engineering/\n",
    "    package_sync=True,\n",
    "    name=\"paul-ml-opt\",\n",
    "    show_widget=False,\n",
    "    worker_memory=\"16 GiB\",\n",
    "    backend_options={\"region\": \"us-east-2\", \"spot\": True, \"spot_on_demand_fallback\": True}\n",
    ")\n",
    "client = Client(cluster)\n",
    "client"
   ]
  },
  {
   "cell_type": "code",
   "execution_count": null,
   "id": "32c08120-8c41-4bc0-9f98-b4d0213321b8",
   "metadata": {},
   "outputs": [],
   "source": [
    "s3_uri = \"s3://coiled-datasets/uber-lyft-tlc/*.parquet\"\n",
    "nyc_taxi = (\n",
    "    dd.read_parquet(s3_uri, use_nullable_dtypes=True)\n",
    "        .select_dtypes(exclude=\"string\")\n",
    ")\n",
    "\n",
    "nyc_taxi[\"pickup_hour\"] = nyc_taxi[\"pickup_datetime\"].dt.hour\n",
    "\n",
    "cols = nyc_taxi.select_dtypes(include=\"datetime64[ns]\").columns.tolist()\n",
    "nyc_taxi[cols] = nyc_taxi[cols].astype(int).div(1e9).astype(int)\n",
    "nyc_taxi[\"trip_time\"] = nyc_taxi[\"dropoff_datetime\"] - nyc_taxi[\"pickup_datetime\"]\n"
   ]
  },
  {
   "cell_type": "code",
   "execution_count": null,
   "id": "4f371e25-7d0f-4830-8d5b-4cc32c49225b",
   "metadata": {
    "tags": []
   },
   "outputs": [],
   "source": [
    "nyc_taxi.shape[0].compute()"
   ]
  },
  {
   "cell_type": "code",
   "execution_count": null,
   "id": "7803b709-cdde-46b2-a6a9-ac314ca640e1",
   "metadata": {
    "tags": []
   },
   "outputs": [],
   "source": [
    "nyc_taxi.map_partitions(lambda x: x.memory_usage(deep=True).sum()).compute()"
   ]
  },
  {
   "cell_type": "code",
   "execution_count": null,
   "id": "8aab7f6b-f390-4fa6-9740-4867c51be95b",
   "metadata": {
    "tags": []
   },
   "outputs": [],
   "source": [
    "from dask.utils import format_bytes\n",
    "_.map(format_bytes)"
   ]
  },
  {
   "cell_type": "code",
   "execution_count": null,
   "id": "c40e3aa1-d9ef-404c-9145-2bea439d7fdb",
   "metadata": {},
   "outputs": [],
   "source": [
    "X_train, X_test, y_train, y_test = train_test_split(\n",
    "    nyc_taxi.drop(columns=[\"trip_time\"]),\n",
    "    nyc_taxi[\"trip_time\"]\n",
    ")"
   ]
  },
  {
   "cell_type": "code",
   "execution_count": null,
   "id": "f55c2dd3-52b8-4419-80b0-5366052ddc53",
   "metadata": {},
   "outputs": [],
   "source": [
    "dtrain = xgb.dask.DaskDMatrix(client, X_train, y_train, enable_categorical=True)\n",
    "dtest = xgb.dask.DaskDMatrix(client, X_test, y_test, enable_categorical=True)"
   ]
  },
  {
   "cell_type": "code",
   "execution_count": null,
   "id": "988bbe7d-44b0-4b28-8e12-67895a7048b6",
   "metadata": {},
   "outputs": [],
   "source": [
    "output = xgb.dask.train(\n",
    "    client,\n",
    "    {\"verbosity\": 2, \"tree_method\": \"hist\", \"objective\": \"reg:squarederror\"},\n",
    "    dtrain,\n",
    "    num_boost_round=4,\n",
    "    evals=[(dtrain, \"train\")],\n",
    "    early_stopping_rounds=1\n",
    ")"
   ]
  },
  {
   "cell_type": "code",
   "execution_count": null,
   "id": "ef114191-d516-42b0-bd81-bf469cb4828d",
   "metadata": {},
   "outputs": [],
   "source": [
    "output"
   ]
  },
  {
   "cell_type": "code",
   "execution_count": null,
   "id": "d5f2a58f-3fc4-40d6-b379-c4eacfc85124",
   "metadata": {},
   "outputs": [],
   "source": [
    "y_pred = xgb.dask.predict(client, output[\"booster\"], X_test)"
   ]
  },
  {
   "cell_type": "code",
   "execution_count": null,
   "id": "6ee05d12-80b5-400c-b304-0160ff59a505",
   "metadata": {},
   "outputs": [],
   "source": [
    "_y = y_pred.compute()"
   ]
  },
  {
   "cell_type": "code",
   "execution_count": null,
   "id": "e670339a-3d46-453d-b295-1c484adbcc14",
   "metadata": {},
   "outputs": [],
   "source": [
    "client.close()\n",
    "cluster.close()"
   ]
  },
  {
   "cell_type": "code",
   "execution_count": null,
   "id": "52505fb1-9e26-4278-9178-c4a092efaf63",
   "metadata": {},
   "outputs": [],
   "source": [
    "residuals = (y_test - y_pred)"
   ]
  },
  {
   "cell_type": "code",
   "execution_count": null,
   "id": "951d451b-f908-409b-ac9e-4f589d2e7bf1",
   "metadata": {},
   "outputs": [],
   "source": [
    "import dask.array as da\n",
    "import dask"
   ]
  },
  {
   "cell_type": "code",
   "execution_count": null,
   "id": "4d9bf829-a567-46b7-a675-d35f55349c67",
   "metadata": {},
   "outputs": [],
   "source": [
    "hist = da.histogram(\n",
    "    residuals, \n",
    "    range=[residuals.min(), residuals.max()], \n",
    "    bins=1000\n",
    ")"
   ]
  },
  {
   "cell_type": "code",
   "execution_count": null,
   "id": "28fb0fc8-9b9d-414e-974c-a7879436c1c3",
   "metadata": {},
   "outputs": [],
   "source": [
    "hist = dask.compute(hist)"
   ]
  },
  {
   "cell_type": "code",
   "execution_count": null,
   "id": "a67526f4-b91f-46db-8931-27020fc284c9",
   "metadata": {},
   "outputs": [],
   "source": [
    "client.close()\n",
    "cluster.close()"
   ]
  },
  {
   "cell_type": "code",
   "execution_count": null,
   "id": "c94b14be-f913-4962-8c01-205171b0fe1d",
   "metadata": {},
   "outputs": [],
   "source": [
    "y_train.shape[0].compute()"
   ]
  },
  {
   "cell_type": "markdown",
   "id": "d8060d1b-0032-46f5-9ef5-0aa2623c9e86",
   "metadata": {},
   "source": [
    "* early stopping\n",
    "  * integer (easy)\n",
    "  * callback (more realistic)\n",
    "* pass sequence of lengths to .to_dask_array\n",
    "*"
   ]
  }
 ],
 "metadata": {
  "kernelspec": {
   "display_name": "Python 3 (ipykernel)",
   "language": "python",
   "name": "python3"
  },
  "language_info": {
   "codemirror_mode": {
    "name": "ipython",
    "version": 3
   },
   "file_extension": ".py",
   "mimetype": "text/x-python",
   "name": "python",
   "nbconvert_exporter": "python",
   "pygments_lexer": "ipython3",
   "version": "3.10.8"
  }
 },
 "nbformat": 4,
 "nbformat_minor": 5
}

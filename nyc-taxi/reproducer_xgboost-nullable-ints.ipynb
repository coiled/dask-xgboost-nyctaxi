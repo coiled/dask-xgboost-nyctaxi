{
 "cells": [
  {
   "cell_type": "markdown",
   "id": "0652f264-b2c3-43b2-9310-7c00e50e7cdc",
   "metadata": {},
   "source": [
    "# XGBoost.Dask in many threads\n",
    "\n",
    "Sometimes we want to train many large XGBoost models in parallel.  We do so in this example with ...\n",
    "\n",
    "1.  The `xgboost.dask` project to do large training runs\n",
    "2.  Optuna to do hyper-parameter-optimization\n",
    "3.  A thread pool, to run many of these in parallel\n",
    "4.  Coiled to launch Dask clusters (but you could swap in your favorite Dask deployment technology as you like)\n",
    "\n",
    "Using `xgboost.dask` from many threads tooks a couple of small tweaks across projects.  This notebook resulted in the following PRs and issues:\n",
    "\n",
    "-  https://github.com/dask/distributed/issues/7377\n",
    "-  https://github.com/dask/dask/pull/9723\n",
    "-  https://github.com/dask/distributed/pull/7369\n",
    "-  https://github.com/dmlc/xgboost/pull/8558 (mostly cosmetic, not necessary)\n",
    "-  Also something in Coiled to allow package_sync to be thread-safe, should be released by 2022-12-07"
   ]
  },
  {
   "cell_type": "code",
   "execution_count": 1,
   "id": "3b929987-5089-4c13-be35-c1812d65fbec",
   "metadata": {},
   "outputs": [],
   "source": [
    "from distributed import LocalCluster, Client\n",
    "import dask.dataframe as dd\n",
    "\n",
    "import optuna\n",
    "from sklearn.metrics import roc_auc_score, mean_squared_error\n",
    "import xgboost as xgb\n",
    "from xgboost.dask import DaskDMatrix\n",
    "from xgboost import DMatrix\n",
    "\n",
    "from dask_ml.model_selection import train_test_split, KFold\n",
    "from dask.datasets import timeseries\n",
    "import pandas as pd"
   ]
  },
  {
   "cell_type": "code",
   "execution_count": 2,
   "id": "780815b1-fa82-43c1-93c0-572f0f6182c1",
   "metadata": {},
   "outputs": [
    {
     "name": "stdout",
     "output_type": "stream",
     "text": [
      "coiled: 0.2.55\n",
      "dask: 2022.12.0+13.g0d8e12be\n",
      "dask.distributed: 2022.12.0+17.gf8302593\n",
      "optuna: 3.0.4\n",
      "xgboost: 1.7.2\n",
      "coiled: 0.2.55\n"
     ]
    }
   ],
   "source": [
    "import dask, coiled\n",
    "print(\"coiled:\", coiled.__version__)\n",
    "print(\"dask:\", dask.__version__)\n",
    "print(\"dask.distributed:\", dask.distributed.__version__)\n",
    "print(\"optuna:\", optuna.__version__)\n",
    "print(\"xgboost:\", xgb.__version__)\n",
    "print(\"coiled:\", coiled.__version__)"
   ]
  },
  {
   "cell_type": "code",
   "execution_count": 3,
   "id": "f6f547df-10f3-4993-80db-be2cd19817fa",
   "metadata": {},
   "outputs": [],
   "source": [
    "def objective(trial):\n",
    "    params = {\n",
    "        # 'n_estimators': trial.suggest_int('n_estimators', 5, 100),\n",
    "        'learning_rate': trial.suggest_float('learning_rate', 0.01, 0.99),\n",
    "        'subsample': trial.suggest_float('subsample', 0.1, 0.9),\n",
    "        'max_depth': trial.suggest_int('max_depth', 1, 10),\n",
    "        'colsample_bytree': trial.suggest_float('colsample_bytree', 0.1, 0.9),\n",
    "        'min_child_weight': trial.suggest_int('min_child_weight', 1, 9),\n",
    "    }\n",
    "    accuracy = cv_estimate(\n",
    "        trial_number=trial.number,\n",
    "        clf_params=params, \n",
    "        n_splits=train_options[\"n_splits\"]\n",
    "    ) \n",
    "    return accuracy\n",
    "\n",
    "train_options = dict(\n",
    "    n_splits = 5 \n",
    ")"
   ]
  },
  {
   "cell_type": "markdown",
   "id": "1dd461c3-e551-420a-a3e1-1ca2515bb613",
   "metadata": {},
   "source": [
    "### Load data"
   ]
  },
  {
   "cell_type": "code",
   "execution_count": 4,
   "id": "4f8aaf1f-d88a-43e8-b12f-58107ffde524",
   "metadata": {},
   "outputs": [
    {
     "data": {
      "text/plain": [
       "id      Int32\n",
       "x     Float32\n",
       "y     Float32\n",
       "dtype: object"
      ]
     },
     "execution_count": 4,
     "metadata": {},
     "output_type": "execute_result"
    }
   ],
   "source": [
    "df = pd.DataFrame(data=[[None, None, None]], columns=['id', 'x', 'y'])\n",
    "df[['x', 'y']] = df[['x', 'y']].astype(pd.Float32Dtype())\n",
    "df.id = df.id.astype(pd.Int32Dtype())\n",
    "ddf2 = dd.from_pandas(df, npartitions=1)\n",
    "ddf2.dtypes"
   ]
  },
  {
   "cell_type": "code",
   "execution_count": 5,
   "id": "8bcd990e-179f-4e09-a8fd-6af07c0f2c16",
   "metadata": {},
   "outputs": [
    {
     "data": {
      "text/plain": [
       "id      Int32\n",
       "x     Float32\n",
       "y     Float32\n",
       "dtype: object"
      ]
     },
     "execution_count": 5,
     "metadata": {},
     "output_type": "execute_result"
    }
   ],
   "source": [
    "ddf = timeseries()\n",
    "ddf = ddf.reset_index(drop=True)\n",
    "ddf = ddf.drop(columns='name')\n",
    "ddf[['x', 'y']] = ddf[['x', 'y']].astype(pd.Float32Dtype())\n",
    "ddf.id = ddf.id.astype(pd.Int32Dtype())\n",
    "ddf = dd.concat([ddf, ddf2], axis=0)\n",
    "ddf.dtypes"
   ]
  },
  {
   "cell_type": "code",
   "execution_count": 9,
   "id": "e8574767-4b4c-4c82-a31d-448bd2d6ae71",
   "metadata": {},
   "outputs": [],
   "source": [
    "import dask.dataframe as dd\n",
    "\n",
    "def load_data():\n",
    "    ddf = timeseries()\n",
    "    ddf = ddf.reset_index(drop=True)\n",
    "    ddf = ddf.drop(columns='name')\n",
    "    ddf[['x', 'y']] = ddf[['x', 'y']].astype(pd.Float32Dtype())\n",
    "    ddf.id = ddf.id.astype(pd.Int32Dtype())\n",
    "    ddf = dd.concat([ddf, ddf2], axis=0)\n",
    "    # ddf.dtypes\n",
    "    X = ddf.drop(columns=\"y\")\n",
    "    y = ddf.y\n",
    "\n",
    "    return X.to_dask_array(), y.to_dask_array()\n",
    "    # return X.compute(), y.compute()"
   ]
  },
  {
   "cell_type": "code",
   "execution_count": 11,
   "id": "60c3ac75-2f0d-4599-be54-0a35a7837aa3",
   "metadata": {
    "collapsed": true,
    "jupyter": {
     "outputs_hidden": true
    },
    "tags": []
   },
   "outputs": [
    {
     "ename": "TypeError",
     "evalue": "Cannot interpret 'Float32Dtype()' as a data type",
     "output_type": "error",
     "traceback": [
      "\u001b[0;31m---------------------------------------------------------------------------\u001b[0m",
      "\u001b[0;31mTypeError\u001b[0m                                 Traceback (most recent call last)",
      "Cell \u001b[0;32mIn[11], line 1\u001b[0m\n\u001b[0;32m----> 1\u001b[0m A,b \u001b[38;5;241m=\u001b[39m \u001b[43mload_data\u001b[49m\u001b[43m(\u001b[49m\u001b[43m)\u001b[49m\n\u001b[1;32m      2\u001b[0m A\u001b[38;5;241m.\u001b[39mdtypes\n",
      "Cell \u001b[0;32mIn[9], line 14\u001b[0m, in \u001b[0;36mload_data\u001b[0;34m()\u001b[0m\n\u001b[1;32m     11\u001b[0m X \u001b[38;5;241m=\u001b[39m ddf\u001b[38;5;241m.\u001b[39mdrop(columns\u001b[38;5;241m=\u001b[39m\u001b[38;5;124m\"\u001b[39m\u001b[38;5;124my\u001b[39m\u001b[38;5;124m\"\u001b[39m)\n\u001b[1;32m     12\u001b[0m y \u001b[38;5;241m=\u001b[39m ddf\u001b[38;5;241m.\u001b[39my\n\u001b[0;32m---> 14\u001b[0m \u001b[38;5;28;01mreturn\u001b[39;00m X\u001b[38;5;241m.\u001b[39mto_dask_array(), \u001b[43my\u001b[49m\u001b[38;5;241;43m.\u001b[39;49m\u001b[43mto_dask_array\u001b[49m\u001b[43m(\u001b[49m\u001b[43m)\u001b[49m\n",
      "File \u001b[0;32m~/mambaforge/envs/xgboost_test/lib/python3.10/site-packages/dask/dataframe/core.py:1687\u001b[0m, in \u001b[0;36m_Frame.to_dask_array\u001b[0;34m(self, lengths, meta)\u001b[0m\n\u001b[1;32m   1684\u001b[0m \u001b[38;5;28;01mif\u001b[39;00m lengths \u001b[38;5;129;01mis\u001b[39;00m \u001b[38;5;28;01mTrue\u001b[39;00m:\n\u001b[1;32m   1685\u001b[0m     lengths \u001b[38;5;241m=\u001b[39m \u001b[38;5;28mtuple\u001b[39m(\u001b[38;5;28mself\u001b[39m\u001b[38;5;241m.\u001b[39mmap_partitions(\u001b[38;5;28mlen\u001b[39m, enforce_metadata\u001b[38;5;241m=\u001b[39m\u001b[38;5;28;01mFalse\u001b[39;00m)\u001b[38;5;241m.\u001b[39mcompute())\n\u001b[0;32m-> 1687\u001b[0m arr \u001b[38;5;241m=\u001b[39m \u001b[38;5;28;43mself\u001b[39;49m\u001b[38;5;241;43m.\u001b[39;49m\u001b[43mvalues\u001b[49m\n\u001b[1;32m   1689\u001b[0m chunks \u001b[38;5;241m=\u001b[39m \u001b[38;5;28mself\u001b[39m\u001b[38;5;241m.\u001b[39m_validate_chunks(arr, lengths)\n\u001b[1;32m   1690\u001b[0m arr\u001b[38;5;241m.\u001b[39m_chunks \u001b[38;5;241m=\u001b[39m chunks\n",
      "File \u001b[0;32m~/mambaforge/envs/xgboost_test/lib/python3.10/site-packages/dask/dataframe/core.py:3431\u001b[0m, in \u001b[0;36m_Frame.values\u001b[0;34m(self)\u001b[0m\n\u001b[1;32m   3423\u001b[0m \u001b[38;5;129m@property\u001b[39m\n\u001b[1;32m   3424\u001b[0m \u001b[38;5;28;01mdef\u001b[39;00m \u001b[38;5;21mvalues\u001b[39m(\u001b[38;5;28mself\u001b[39m):\n\u001b[1;32m   3425\u001b[0m     \u001b[38;5;124;03m\"\"\"Return a dask.array of the values of this dataframe\u001b[39;00m\n\u001b[1;32m   3426\u001b[0m \n\u001b[1;32m   3427\u001b[0m \u001b[38;5;124;03m    Warning: This creates a dask.array without precise shape information.\u001b[39;00m\n\u001b[1;32m   3428\u001b[0m \u001b[38;5;124;03m    Operations that depend on shape information, like slicing or reshaping,\u001b[39;00m\n\u001b[1;32m   3429\u001b[0m \u001b[38;5;124;03m    will not work.\u001b[39;00m\n\u001b[1;32m   3430\u001b[0m \u001b[38;5;124;03m    \"\"\"\u001b[39;00m\n\u001b[0;32m-> 3431\u001b[0m     \u001b[38;5;28;01mreturn\u001b[39;00m \u001b[38;5;28;43mself\u001b[39;49m\u001b[38;5;241;43m.\u001b[39;49m\u001b[43mmap_partitions\u001b[49m\u001b[43m(\u001b[49m\u001b[43mmethods\u001b[49m\u001b[38;5;241;43m.\u001b[39;49m\u001b[43mvalues\u001b[49m\u001b[43m)\u001b[49m\n",
      "File \u001b[0;32m~/mambaforge/envs/xgboost_test/lib/python3.10/site-packages/dask/dataframe/core.py:874\u001b[0m, in \u001b[0;36m_Frame.map_partitions\u001b[0;34m(self, func, *args, **kwargs)\u001b[0m\n\u001b[1;32m    746\u001b[0m \u001b[38;5;129m@insert_meta_param_description\u001b[39m(pad\u001b[38;5;241m=\u001b[39m\u001b[38;5;241m12\u001b[39m)\n\u001b[1;32m    747\u001b[0m \u001b[38;5;28;01mdef\u001b[39;00m \u001b[38;5;21mmap_partitions\u001b[39m(\u001b[38;5;28mself\u001b[39m, func, \u001b[38;5;241m*\u001b[39margs, \u001b[38;5;241m*\u001b[39m\u001b[38;5;241m*\u001b[39mkwargs):\n\u001b[1;32m    748\u001b[0m     \u001b[38;5;124;03m\"\"\"Apply Python function on each DataFrame partition.\u001b[39;00m\n\u001b[1;32m    749\u001b[0m \n\u001b[1;32m    750\u001b[0m \u001b[38;5;124;03m    Note that the index and divisions are assumed to remain unchanged.\u001b[39;00m\n\u001b[0;32m   (...)\u001b[0m\n\u001b[1;32m    872\u001b[0m \u001b[38;5;124;03m    None as the division.\u001b[39;00m\n\u001b[1;32m    873\u001b[0m \u001b[38;5;124;03m    \"\"\"\u001b[39;00m\n\u001b[0;32m--> 874\u001b[0m     \u001b[38;5;28;01mreturn\u001b[39;00m \u001b[43mmap_partitions\u001b[49m\u001b[43m(\u001b[49m\u001b[43mfunc\u001b[49m\u001b[43m,\u001b[49m\u001b[43m \u001b[49m\u001b[38;5;28;43mself\u001b[39;49m\u001b[43m,\u001b[49m\u001b[43m \u001b[49m\u001b[38;5;241;43m*\u001b[39;49m\u001b[43margs\u001b[49m\u001b[43m,\u001b[49m\u001b[43m \u001b[49m\u001b[38;5;241;43m*\u001b[39;49m\u001b[38;5;241;43m*\u001b[39;49m\u001b[43mkwargs\u001b[49m\u001b[43m)\u001b[49m\n",
      "File \u001b[0;32m~/mambaforge/envs/xgboost_test/lib/python3.10/site-packages/dask/dataframe/core.py:6701\u001b[0m, in \u001b[0;36mmap_partitions\u001b[0;34m(func, meta, enforce_metadata, transform_divisions, align_dataframes, *args, **kwargs)\u001b[0m\n\u001b[1;32m   6696\u001b[0m     dsk \u001b[38;5;241m=\u001b[39m partitionwise_graph(\n\u001b[1;32m   6697\u001b[0m         func, name, \u001b[38;5;241m*\u001b[39margs2, \u001b[38;5;241m*\u001b[39m\u001b[38;5;241m*\u001b[39mkwargs4, dependencies\u001b[38;5;241m=\u001b[39mdependencies\n\u001b[1;32m   6698\u001b[0m     )\n\u001b[1;32m   6700\u001b[0m graph \u001b[38;5;241m=\u001b[39m HighLevelGraph\u001b[38;5;241m.\u001b[39mfrom_collections(name, dsk, dependencies\u001b[38;5;241m=\u001b[39mdependencies)\n\u001b[0;32m-> 6701\u001b[0m \u001b[38;5;28;01mreturn\u001b[39;00m \u001b[43mnew_dd_object\u001b[49m\u001b[43m(\u001b[49m\u001b[43mgraph\u001b[49m\u001b[43m,\u001b[49m\u001b[43m \u001b[49m\u001b[43mname\u001b[49m\u001b[43m,\u001b[49m\u001b[43m \u001b[49m\u001b[43mmeta\u001b[49m\u001b[43m,\u001b[49m\u001b[43m \u001b[49m\u001b[43mdivisions\u001b[49m\u001b[43m)\u001b[49m\n",
      "File \u001b[0;32m~/mambaforge/envs/xgboost_test/lib/python3.10/site-packages/dask/dataframe/core.py:7835\u001b[0m, in \u001b[0;36mnew_dd_object\u001b[0;34m(dsk, name, meta, divisions, parent_meta)\u001b[0m\n\u001b[1;32m   7833\u001b[0m             \u001b[38;5;28;01mfor\u001b[39;00m i \u001b[38;5;129;01min\u001b[39;00m \u001b[38;5;28mrange\u001b[39m(\u001b[38;5;28mlen\u001b[39m(chunks[\u001b[38;5;241m0\u001b[39m])):\n\u001b[1;32m   7834\u001b[0m                 layer[(name, i) \u001b[38;5;241m+\u001b[39m suffix] \u001b[38;5;241m=\u001b[39m layer\u001b[38;5;241m.\u001b[39mpop((name, i))\n\u001b[0;32m-> 7835\u001b[0m     \u001b[38;5;28;01mreturn\u001b[39;00m \u001b[43mda\u001b[49m\u001b[38;5;241;43m.\u001b[39;49m\u001b[43mArray\u001b[49m\u001b[43m(\u001b[49m\u001b[43mdsk\u001b[49m\u001b[43m,\u001b[49m\u001b[43m \u001b[49m\u001b[43mname\u001b[49m\u001b[38;5;241;43m=\u001b[39;49m\u001b[43mname\u001b[49m\u001b[43m,\u001b[49m\u001b[43m \u001b[49m\u001b[43mchunks\u001b[49m\u001b[38;5;241;43m=\u001b[39;49m\u001b[43mchunks\u001b[49m\u001b[43m,\u001b[49m\u001b[43m \u001b[49m\u001b[43mdtype\u001b[49m\u001b[38;5;241;43m=\u001b[39;49m\u001b[43mmeta\u001b[49m\u001b[38;5;241;43m.\u001b[39;49m\u001b[43mdtype\u001b[49m\u001b[43m)\u001b[49m\n\u001b[1;32m   7836\u001b[0m \u001b[38;5;28;01melse\u001b[39;00m:\n\u001b[1;32m   7837\u001b[0m     \u001b[38;5;28;01mreturn\u001b[39;00m get_parallel_type(meta)(dsk, name, meta, divisions)\n",
      "File \u001b[0;32m~/mambaforge/envs/xgboost_test/lib/python3.10/site-packages/dask/array/core.py:1335\u001b[0m, in \u001b[0;36mArray.__new__\u001b[0;34m(cls, dask, name, chunks, dtype, meta, shape)\u001b[0m\n\u001b[1;32m   1333\u001b[0m \u001b[38;5;28mself\u001b[39m\u001b[38;5;241m.\u001b[39mdask \u001b[38;5;241m=\u001b[39m dask\n\u001b[1;32m   1334\u001b[0m \u001b[38;5;28mself\u001b[39m\u001b[38;5;241m.\u001b[39m_name \u001b[38;5;241m=\u001b[39m \u001b[38;5;28mstr\u001b[39m(name)\n\u001b[0;32m-> 1335\u001b[0m meta \u001b[38;5;241m=\u001b[39m \u001b[43mmeta_from_array\u001b[49m\u001b[43m(\u001b[49m\u001b[43mmeta\u001b[49m\u001b[43m,\u001b[49m\u001b[43m \u001b[49m\u001b[43mdtype\u001b[49m\u001b[38;5;241;43m=\u001b[39;49m\u001b[43mdtype\u001b[49m\u001b[43m)\u001b[49m\n\u001b[1;32m   1337\u001b[0m \u001b[38;5;28;01mif\u001b[39;00m (\n\u001b[1;32m   1338\u001b[0m     \u001b[38;5;28misinstance\u001b[39m(chunks, \u001b[38;5;28mstr\u001b[39m)\n\u001b[1;32m   1339\u001b[0m     \u001b[38;5;129;01mor\u001b[39;00m \u001b[38;5;28misinstance\u001b[39m(chunks, \u001b[38;5;28mtuple\u001b[39m)\n\u001b[1;32m   1340\u001b[0m     \u001b[38;5;129;01mand\u001b[39;00m chunks\n\u001b[1;32m   1341\u001b[0m     \u001b[38;5;129;01mand\u001b[39;00m \u001b[38;5;28many\u001b[39m(\u001b[38;5;28misinstance\u001b[39m(c, \u001b[38;5;28mstr\u001b[39m) \u001b[38;5;28;01mfor\u001b[39;00m c \u001b[38;5;129;01min\u001b[39;00m chunks)\n\u001b[1;32m   1342\u001b[0m ):\n\u001b[1;32m   1343\u001b[0m     dt \u001b[38;5;241m=\u001b[39m meta\u001b[38;5;241m.\u001b[39mdtype\n",
      "File \u001b[0;32m~/mambaforge/envs/xgboost_test/lib/python3.10/site-packages/dask/array/utils.py:57\u001b[0m, in \u001b[0;36mmeta_from_array\u001b[0;34m(x, ndim, dtype)\u001b[0m\n\u001b[1;32m     54\u001b[0m     dtype \u001b[38;5;241m=\u001b[39m x\u001b[38;5;241m.\u001b[39mdtype\n\u001b[1;32m     56\u001b[0m \u001b[38;5;28;01mif\u001b[39;00m \u001b[38;5;28misinstance\u001b[39m(x, \u001b[38;5;28mtype\u001b[39m):\n\u001b[0;32m---> 57\u001b[0m     x \u001b[38;5;241m=\u001b[39m \u001b[43mx\u001b[49m\u001b[43m(\u001b[49m\u001b[43mshape\u001b[49m\u001b[38;5;241;43m=\u001b[39;49m\u001b[43m(\u001b[49m\u001b[38;5;241;43m0\u001b[39;49m\u001b[43m,\u001b[49m\u001b[43m)\u001b[49m\u001b[43m \u001b[49m\u001b[38;5;241;43m*\u001b[39;49m\u001b[43m \u001b[49m\u001b[43m(\u001b[49m\u001b[43mndim\u001b[49m\u001b[43m \u001b[49m\u001b[38;5;129;43;01mor\u001b[39;49;00m\u001b[43m \u001b[49m\u001b[38;5;241;43m0\u001b[39;49m\u001b[43m)\u001b[49m\u001b[43m,\u001b[49m\u001b[43m \u001b[49m\u001b[43mdtype\u001b[49m\u001b[38;5;241;43m=\u001b[39;49m\u001b[43mdtype\u001b[49m\u001b[43m)\u001b[49m\n\u001b[1;32m     59\u001b[0m \u001b[38;5;28;01mif\u001b[39;00m \u001b[38;5;28misinstance\u001b[39m(x, \u001b[38;5;28mlist\u001b[39m) \u001b[38;5;129;01mor\u001b[39;00m \u001b[38;5;28misinstance\u001b[39m(x, \u001b[38;5;28mtuple\u001b[39m):\n\u001b[1;32m     60\u001b[0m     ndims \u001b[38;5;241m=\u001b[39m [\n\u001b[1;32m     61\u001b[0m         \u001b[38;5;241m0\u001b[39m\n\u001b[1;32m     62\u001b[0m         \u001b[38;5;28;01mif\u001b[39;00m \u001b[38;5;28misinstance\u001b[39m(a, numbers\u001b[38;5;241m.\u001b[39mNumber)\n\u001b[0;32m   (...)\u001b[0m\n\u001b[1;32m     66\u001b[0m         \u001b[38;5;28;01mfor\u001b[39;00m a \u001b[38;5;129;01min\u001b[39;00m x\n\u001b[1;32m     67\u001b[0m     ]\n",
      "\u001b[0;31mTypeError\u001b[0m: Cannot interpret 'Float32Dtype()' as a data type"
     ]
    }
   ],
   "source": [
    "A,b = load_data()\n",
    "A.dtypes"
   ]
  },
  {
   "cell_type": "code",
   "execution_count": 7,
   "id": "4e751d43-8904-49fd-bdf7-cdc358f62ec2",
   "metadata": {
    "tags": []
   },
   "outputs": [
    {
     "ename": "TypeError",
     "evalue": "Cannot interpret 'Float32Dtype()' as a data type",
     "output_type": "error",
     "traceback": [
      "\u001b[0;31m---------------------------------------------------------------------------\u001b[0m",
      "\u001b[0;31mTypeError\u001b[0m                                 Traceback (most recent call last)",
      "Cell \u001b[0;32mIn[7], line 1\u001b[0m\n\u001b[0;32m----> 1\u001b[0m A, b \u001b[38;5;241m=\u001b[39m \u001b[43mload_data\u001b[49m\u001b[43m(\u001b[49m\u001b[43m)\u001b[49m\n",
      "Cell \u001b[0;32mIn[6], line 14\u001b[0m, in \u001b[0;36mload_data\u001b[0;34m()\u001b[0m\n\u001b[1;32m     11\u001b[0m X \u001b[38;5;241m=\u001b[39m ddf\u001b[38;5;241m.\u001b[39mdrop(columns\u001b[38;5;241m=\u001b[39m\u001b[38;5;124m\"\u001b[39m\u001b[38;5;124my\u001b[39m\u001b[38;5;124m\"\u001b[39m)\n\u001b[1;32m     12\u001b[0m y \u001b[38;5;241m=\u001b[39m ddf\u001b[38;5;241m.\u001b[39my\n\u001b[0;32m---> 14\u001b[0m \u001b[38;5;28;01mreturn\u001b[39;00m X\u001b[38;5;241m.\u001b[39mto_dask_array(lengths\u001b[38;5;241m=\u001b[39m\u001b[38;5;28;01mTrue\u001b[39;00m), \u001b[43my\u001b[49m\u001b[38;5;241;43m.\u001b[39;49m\u001b[43mto_dask_array\u001b[49m\u001b[43m(\u001b[49m\u001b[43mlengths\u001b[49m\u001b[38;5;241;43m=\u001b[39;49m\u001b[38;5;28;43;01mTrue\u001b[39;49;00m\u001b[43m)\u001b[49m\n",
      "File \u001b[0;32m~/mambaforge/envs/xgboost_test/lib/python3.10/site-packages/dask/dataframe/core.py:1687\u001b[0m, in \u001b[0;36m_Frame.to_dask_array\u001b[0;34m(self, lengths, meta)\u001b[0m\n\u001b[1;32m   1684\u001b[0m \u001b[38;5;28;01mif\u001b[39;00m lengths \u001b[38;5;129;01mis\u001b[39;00m \u001b[38;5;28;01mTrue\u001b[39;00m:\n\u001b[1;32m   1685\u001b[0m     lengths \u001b[38;5;241m=\u001b[39m \u001b[38;5;28mtuple\u001b[39m(\u001b[38;5;28mself\u001b[39m\u001b[38;5;241m.\u001b[39mmap_partitions(\u001b[38;5;28mlen\u001b[39m, enforce_metadata\u001b[38;5;241m=\u001b[39m\u001b[38;5;28;01mFalse\u001b[39;00m)\u001b[38;5;241m.\u001b[39mcompute())\n\u001b[0;32m-> 1687\u001b[0m arr \u001b[38;5;241m=\u001b[39m \u001b[38;5;28;43mself\u001b[39;49m\u001b[38;5;241;43m.\u001b[39;49m\u001b[43mvalues\u001b[49m\n\u001b[1;32m   1689\u001b[0m chunks \u001b[38;5;241m=\u001b[39m \u001b[38;5;28mself\u001b[39m\u001b[38;5;241m.\u001b[39m_validate_chunks(arr, lengths)\n\u001b[1;32m   1690\u001b[0m arr\u001b[38;5;241m.\u001b[39m_chunks \u001b[38;5;241m=\u001b[39m chunks\n",
      "File \u001b[0;32m~/mambaforge/envs/xgboost_test/lib/python3.10/site-packages/dask/dataframe/core.py:3431\u001b[0m, in \u001b[0;36m_Frame.values\u001b[0;34m(self)\u001b[0m\n\u001b[1;32m   3423\u001b[0m \u001b[38;5;129m@property\u001b[39m\n\u001b[1;32m   3424\u001b[0m \u001b[38;5;28;01mdef\u001b[39;00m \u001b[38;5;21mvalues\u001b[39m(\u001b[38;5;28mself\u001b[39m):\n\u001b[1;32m   3425\u001b[0m     \u001b[38;5;124;03m\"\"\"Return a dask.array of the values of this dataframe\u001b[39;00m\n\u001b[1;32m   3426\u001b[0m \n\u001b[1;32m   3427\u001b[0m \u001b[38;5;124;03m    Warning: This creates a dask.array without precise shape information.\u001b[39;00m\n\u001b[1;32m   3428\u001b[0m \u001b[38;5;124;03m    Operations that depend on shape information, like slicing or reshaping,\u001b[39;00m\n\u001b[1;32m   3429\u001b[0m \u001b[38;5;124;03m    will not work.\u001b[39;00m\n\u001b[1;32m   3430\u001b[0m \u001b[38;5;124;03m    \"\"\"\u001b[39;00m\n\u001b[0;32m-> 3431\u001b[0m     \u001b[38;5;28;01mreturn\u001b[39;00m \u001b[38;5;28;43mself\u001b[39;49m\u001b[38;5;241;43m.\u001b[39;49m\u001b[43mmap_partitions\u001b[49m\u001b[43m(\u001b[49m\u001b[43mmethods\u001b[49m\u001b[38;5;241;43m.\u001b[39;49m\u001b[43mvalues\u001b[49m\u001b[43m)\u001b[49m\n",
      "File \u001b[0;32m~/mambaforge/envs/xgboost_test/lib/python3.10/site-packages/dask/dataframe/core.py:874\u001b[0m, in \u001b[0;36m_Frame.map_partitions\u001b[0;34m(self, func, *args, **kwargs)\u001b[0m\n\u001b[1;32m    746\u001b[0m \u001b[38;5;129m@insert_meta_param_description\u001b[39m(pad\u001b[38;5;241m=\u001b[39m\u001b[38;5;241m12\u001b[39m)\n\u001b[1;32m    747\u001b[0m \u001b[38;5;28;01mdef\u001b[39;00m \u001b[38;5;21mmap_partitions\u001b[39m(\u001b[38;5;28mself\u001b[39m, func, \u001b[38;5;241m*\u001b[39margs, \u001b[38;5;241m*\u001b[39m\u001b[38;5;241m*\u001b[39mkwargs):\n\u001b[1;32m    748\u001b[0m     \u001b[38;5;124;03m\"\"\"Apply Python function on each DataFrame partition.\u001b[39;00m\n\u001b[1;32m    749\u001b[0m \n\u001b[1;32m    750\u001b[0m \u001b[38;5;124;03m    Note that the index and divisions are assumed to remain unchanged.\u001b[39;00m\n\u001b[0;32m   (...)\u001b[0m\n\u001b[1;32m    872\u001b[0m \u001b[38;5;124;03m    None as the division.\u001b[39;00m\n\u001b[1;32m    873\u001b[0m \u001b[38;5;124;03m    \"\"\"\u001b[39;00m\n\u001b[0;32m--> 874\u001b[0m     \u001b[38;5;28;01mreturn\u001b[39;00m \u001b[43mmap_partitions\u001b[49m\u001b[43m(\u001b[49m\u001b[43mfunc\u001b[49m\u001b[43m,\u001b[49m\u001b[43m \u001b[49m\u001b[38;5;28;43mself\u001b[39;49m\u001b[43m,\u001b[49m\u001b[43m \u001b[49m\u001b[38;5;241;43m*\u001b[39;49m\u001b[43margs\u001b[49m\u001b[43m,\u001b[49m\u001b[43m \u001b[49m\u001b[38;5;241;43m*\u001b[39;49m\u001b[38;5;241;43m*\u001b[39;49m\u001b[43mkwargs\u001b[49m\u001b[43m)\u001b[49m\n",
      "File \u001b[0;32m~/mambaforge/envs/xgboost_test/lib/python3.10/site-packages/dask/dataframe/core.py:6701\u001b[0m, in \u001b[0;36mmap_partitions\u001b[0;34m(func, meta, enforce_metadata, transform_divisions, align_dataframes, *args, **kwargs)\u001b[0m\n\u001b[1;32m   6696\u001b[0m     dsk \u001b[38;5;241m=\u001b[39m partitionwise_graph(\n\u001b[1;32m   6697\u001b[0m         func, name, \u001b[38;5;241m*\u001b[39margs2, \u001b[38;5;241m*\u001b[39m\u001b[38;5;241m*\u001b[39mkwargs4, dependencies\u001b[38;5;241m=\u001b[39mdependencies\n\u001b[1;32m   6698\u001b[0m     )\n\u001b[1;32m   6700\u001b[0m graph \u001b[38;5;241m=\u001b[39m HighLevelGraph\u001b[38;5;241m.\u001b[39mfrom_collections(name, dsk, dependencies\u001b[38;5;241m=\u001b[39mdependencies)\n\u001b[0;32m-> 6701\u001b[0m \u001b[38;5;28;01mreturn\u001b[39;00m \u001b[43mnew_dd_object\u001b[49m\u001b[43m(\u001b[49m\u001b[43mgraph\u001b[49m\u001b[43m,\u001b[49m\u001b[43m \u001b[49m\u001b[43mname\u001b[49m\u001b[43m,\u001b[49m\u001b[43m \u001b[49m\u001b[43mmeta\u001b[49m\u001b[43m,\u001b[49m\u001b[43m \u001b[49m\u001b[43mdivisions\u001b[49m\u001b[43m)\u001b[49m\n",
      "File \u001b[0;32m~/mambaforge/envs/xgboost_test/lib/python3.10/site-packages/dask/dataframe/core.py:7835\u001b[0m, in \u001b[0;36mnew_dd_object\u001b[0;34m(dsk, name, meta, divisions, parent_meta)\u001b[0m\n\u001b[1;32m   7833\u001b[0m             \u001b[38;5;28;01mfor\u001b[39;00m i \u001b[38;5;129;01min\u001b[39;00m \u001b[38;5;28mrange\u001b[39m(\u001b[38;5;28mlen\u001b[39m(chunks[\u001b[38;5;241m0\u001b[39m])):\n\u001b[1;32m   7834\u001b[0m                 layer[(name, i) \u001b[38;5;241m+\u001b[39m suffix] \u001b[38;5;241m=\u001b[39m layer\u001b[38;5;241m.\u001b[39mpop((name, i))\n\u001b[0;32m-> 7835\u001b[0m     \u001b[38;5;28;01mreturn\u001b[39;00m \u001b[43mda\u001b[49m\u001b[38;5;241;43m.\u001b[39;49m\u001b[43mArray\u001b[49m\u001b[43m(\u001b[49m\u001b[43mdsk\u001b[49m\u001b[43m,\u001b[49m\u001b[43m \u001b[49m\u001b[43mname\u001b[49m\u001b[38;5;241;43m=\u001b[39;49m\u001b[43mname\u001b[49m\u001b[43m,\u001b[49m\u001b[43m \u001b[49m\u001b[43mchunks\u001b[49m\u001b[38;5;241;43m=\u001b[39;49m\u001b[43mchunks\u001b[49m\u001b[43m,\u001b[49m\u001b[43m \u001b[49m\u001b[43mdtype\u001b[49m\u001b[38;5;241;43m=\u001b[39;49m\u001b[43mmeta\u001b[49m\u001b[38;5;241;43m.\u001b[39;49m\u001b[43mdtype\u001b[49m\u001b[43m)\u001b[49m\n\u001b[1;32m   7836\u001b[0m \u001b[38;5;28;01melse\u001b[39;00m:\n\u001b[1;32m   7837\u001b[0m     \u001b[38;5;28;01mreturn\u001b[39;00m get_parallel_type(meta)(dsk, name, meta, divisions)\n",
      "File \u001b[0;32m~/mambaforge/envs/xgboost_test/lib/python3.10/site-packages/dask/array/core.py:1335\u001b[0m, in \u001b[0;36mArray.__new__\u001b[0;34m(cls, dask, name, chunks, dtype, meta, shape)\u001b[0m\n\u001b[1;32m   1333\u001b[0m \u001b[38;5;28mself\u001b[39m\u001b[38;5;241m.\u001b[39mdask \u001b[38;5;241m=\u001b[39m dask\n\u001b[1;32m   1334\u001b[0m \u001b[38;5;28mself\u001b[39m\u001b[38;5;241m.\u001b[39m_name \u001b[38;5;241m=\u001b[39m \u001b[38;5;28mstr\u001b[39m(name)\n\u001b[0;32m-> 1335\u001b[0m meta \u001b[38;5;241m=\u001b[39m \u001b[43mmeta_from_array\u001b[49m\u001b[43m(\u001b[49m\u001b[43mmeta\u001b[49m\u001b[43m,\u001b[49m\u001b[43m \u001b[49m\u001b[43mdtype\u001b[49m\u001b[38;5;241;43m=\u001b[39;49m\u001b[43mdtype\u001b[49m\u001b[43m)\u001b[49m\n\u001b[1;32m   1337\u001b[0m \u001b[38;5;28;01mif\u001b[39;00m (\n\u001b[1;32m   1338\u001b[0m     \u001b[38;5;28misinstance\u001b[39m(chunks, \u001b[38;5;28mstr\u001b[39m)\n\u001b[1;32m   1339\u001b[0m     \u001b[38;5;129;01mor\u001b[39;00m \u001b[38;5;28misinstance\u001b[39m(chunks, \u001b[38;5;28mtuple\u001b[39m)\n\u001b[1;32m   1340\u001b[0m     \u001b[38;5;129;01mand\u001b[39;00m chunks\n\u001b[1;32m   1341\u001b[0m     \u001b[38;5;129;01mand\u001b[39;00m \u001b[38;5;28many\u001b[39m(\u001b[38;5;28misinstance\u001b[39m(c, \u001b[38;5;28mstr\u001b[39m) \u001b[38;5;28;01mfor\u001b[39;00m c \u001b[38;5;129;01min\u001b[39;00m chunks)\n\u001b[1;32m   1342\u001b[0m ):\n\u001b[1;32m   1343\u001b[0m     dt \u001b[38;5;241m=\u001b[39m meta\u001b[38;5;241m.\u001b[39mdtype\n",
      "File \u001b[0;32m~/mambaforge/envs/xgboost_test/lib/python3.10/site-packages/dask/array/utils.py:57\u001b[0m, in \u001b[0;36mmeta_from_array\u001b[0;34m(x, ndim, dtype)\u001b[0m\n\u001b[1;32m     54\u001b[0m     dtype \u001b[38;5;241m=\u001b[39m x\u001b[38;5;241m.\u001b[39mdtype\n\u001b[1;32m     56\u001b[0m \u001b[38;5;28;01mif\u001b[39;00m \u001b[38;5;28misinstance\u001b[39m(x, \u001b[38;5;28mtype\u001b[39m):\n\u001b[0;32m---> 57\u001b[0m     x \u001b[38;5;241m=\u001b[39m \u001b[43mx\u001b[49m\u001b[43m(\u001b[49m\u001b[43mshape\u001b[49m\u001b[38;5;241;43m=\u001b[39;49m\u001b[43m(\u001b[49m\u001b[38;5;241;43m0\u001b[39;49m\u001b[43m,\u001b[49m\u001b[43m)\u001b[49m\u001b[43m \u001b[49m\u001b[38;5;241;43m*\u001b[39;49m\u001b[43m \u001b[49m\u001b[43m(\u001b[49m\u001b[43mndim\u001b[49m\u001b[43m \u001b[49m\u001b[38;5;129;43;01mor\u001b[39;49;00m\u001b[43m \u001b[49m\u001b[38;5;241;43m0\u001b[39;49m\u001b[43m)\u001b[49m\u001b[43m,\u001b[49m\u001b[43m \u001b[49m\u001b[43mdtype\u001b[49m\u001b[38;5;241;43m=\u001b[39;49m\u001b[43mdtype\u001b[49m\u001b[43m)\u001b[49m\n\u001b[1;32m     59\u001b[0m \u001b[38;5;28;01mif\u001b[39;00m \u001b[38;5;28misinstance\u001b[39m(x, \u001b[38;5;28mlist\u001b[39m) \u001b[38;5;129;01mor\u001b[39;00m \u001b[38;5;28misinstance\u001b[39m(x, \u001b[38;5;28mtuple\u001b[39m):\n\u001b[1;32m     60\u001b[0m     ndims \u001b[38;5;241m=\u001b[39m [\n\u001b[1;32m     61\u001b[0m         \u001b[38;5;241m0\u001b[39m\n\u001b[1;32m     62\u001b[0m         \u001b[38;5;28;01mif\u001b[39;00m \u001b[38;5;28misinstance\u001b[39m(a, numbers\u001b[38;5;241m.\u001b[39mNumber)\n\u001b[0;32m   (...)\u001b[0m\n\u001b[1;32m     66\u001b[0m         \u001b[38;5;28;01mfor\u001b[39;00m a \u001b[38;5;129;01min\u001b[39;00m x\n\u001b[1;32m     67\u001b[0m     ]\n",
      "\u001b[0;31mTypeError\u001b[0m: Cannot interpret 'Float32Dtype()' as a data type"
     ]
    }
   ],
   "source": [
    "A, b = load_data()"
   ]
  },
  {
   "cell_type": "code",
   "execution_count": null,
   "id": "6b1e5922-bcef-414f-80a4-d27d4d6c2f89",
   "metadata": {},
   "outputs": [],
   "source": [
    "A.compute()"
   ]
  },
  {
   "cell_type": "markdown",
   "id": "c0afd4b3-3837-4f7c-b223-7974b66594b6",
   "metadata": {},
   "source": [
    "\n",
    "## Dask Dataframe"
   ]
  },
  {
   "cell_type": "code",
   "execution_count": null,
   "id": "6743a468-e8fa-409f-80a6-72cee3fee61c",
   "metadata": {
    "scrolled": true,
    "tags": []
   },
   "outputs": [],
   "source": [
    "def load_data():\n",
    "    ddf = timeseries()\n",
    "    ddf.name = ddf.name.astype(\"category\")\n",
    "    ddf = ddf.categorize(columns=\"name\")\n",
    "\n",
    "    X = ddf.drop(columns=\"y\")\n",
    "    y = ddf.y\n",
    "    return X.to_dask_array(lengths=True), y.to_dask_array(lengths=True)\n",
    "    # return X, y\n",
    "\n",
    "train_options = dict(\n",
    "    n_splits = 5 \n",
    ")\n",
    "\n",
    "def cv_estimate(trial_number, clf_params, n_splits=5):\n",
    "    with LocalCluster() as cluster:  # for testing\n",
    "        with Client(cluster) as client:\n",
    "\n",
    "            # Load data here\n",
    "            X, y = load_data()\n",
    "            X = X.persist()\n",
    "            y = y.persist()\n",
    "\n",
    "            val_scores = 0\n",
    "\n",
    "            dtrain = DaskDMatrix(client, X, y, enable_categorical=True)\n",
    "            dtest = DaskDMatrix(client, X, y)#, enable_categorical=True)\n",
    "\n",
    "            model = xgb.dask.train(\n",
    "                client,\n",
    "                {\n",
    "                    'verbosity': 1,\n",
    "                    'tree_method': 'hist', \n",
    "                    \"objective\": \"reg:squarederror\",\n",
    "                    **clf_params\n",
    "                },\n",
    "                dtrain,\n",
    "                num_boost_round=4, \n",
    "                evals=[(dtrain, 'train')],\n",
    "            )\n",
    "            predictions = xgb.dask.predict(client, model, dtest)\n",
    "\n",
    "            actual = dask.compute(y)\n",
    "            predictions = dask.compute(predictions)\n",
    "\n",
    "            score = mean_squared_error(actual, predictions)\n",
    "            val_scores += score\n",
    "    return val_scores / n_splits\n",
    "\n",
    "\n",
    "study = optuna.create_study()\n",
    "study.optimize(objective, n_trials=1)"
   ]
  },
  {
   "cell_type": "markdown",
   "id": "ba600261-672a-447d-a515-2c5cb068637f",
   "metadata": {
    "tags": []
   },
   "source": [
    "cv_estimate(1, {}, data_kwargs)"
   ]
  },
  {
   "cell_type": "code",
   "execution_count": null,
   "id": "f489b1c5-6de0-4275-91a7-7e31b383e42f",
   "metadata": {},
   "outputs": [],
   "source": [
    "ddf.name.to_frame().to_dask_array(lengths=True)"
   ]
  },
  {
   "cell_type": "code",
   "execution_count": null,
   "id": "f18df3f5-3893-4d9c-a1df-dda2dfb21054",
   "metadata": {},
   "outputs": [],
   "source": [
    "## Pandas Version"
   ]
  },
  {
   "cell_type": "code",
   "execution_count": null,
   "id": "ca8644ee-2355-4a53-a6bd-ff0b58861315",
   "metadata": {},
   "outputs": [],
   "source": [
    "def load_data():\n",
    "    ddf = timeseries()\n",
    "    ddf.name = ddf.name.astype(\"category\")\n",
    "    ddf = ddf.categorize(columns=\"name\")\n",
    "    X = ddf.drop(columns=\"y\")\n",
    "    y = ddf.y\n",
    "    return X.compute(), y.compute()\n",
    "\n",
    "\n",
    "def cv_estimate(trial_number, clf_params, n_splits=5):\n",
    "\n",
    "    # Load data here\n",
    "    X, y = load_data()\n",
    "    val_scores = 0\n",
    "\n",
    "    dtrain = DMatrix(X, y, enable_categorical=True)\n",
    "    dtest = DMatrix(X, y, enable_categorical=True)\n",
    "\n",
    "    model = xgb.train(\n",
    "        {\n",
    "            'verbosity': 1,\n",
    "            'tree_method': 'hist', \n",
    "            \"objective\": \"reg:squarederror\",\n",
    "            **clf_params\n",
    "        },\n",
    "        dtrain,\n",
    "        num_boost_round=4, \n",
    "        evals=[(dtrain, 'train')],\n",
    "        early_stopping_rounds=1\n",
    "    )\n",
    "\n",
    "    predictions = model.predict(dtest)\n",
    "\n",
    "    score = mean_squared_error(y, predictions)\n",
    "    val_scores += score\n",
    "    return val_scores / n_splits\n",
    "\n",
    "\n",
    "# create a single study\n",
    "study = optuna.create_study()\n",
    "study.optimize(objective, n_trials=1)"
   ]
  },
  {
   "cell_type": "code",
   "execution_count": null,
   "id": "17eaa799-a1c5-4929-8ede-660db51b6916",
   "metadata": {},
   "outputs": [],
   "source": []
  },
  {
   "cell_type": "code",
   "execution_count": null,
   "id": "7010d9fd-d095-4ecd-b073-d0b3d76497e7",
   "metadata": {},
   "outputs": [],
   "source": [
    "X, y= load_data()"
   ]
  },
  {
   "cell_type": "code",
   "execution_count": null,
   "id": "3ca1efe5-caf5-463f-9197-869631b08209",
   "metadata": {},
   "outputs": [],
   "source": [
    "dask.compute(X)"
   ]
  },
  {
   "cell_type": "code",
   "execution_count": null,
   "id": "af7e5c85-026d-4065-b859-fcfbfb6a59c1",
   "metadata": {},
   "outputs": [],
   "source": [
    "dask.compute(y)"
   ]
  },
  {
   "cell_type": "code",
   "execution_count": null,
   "id": "e230a32e-fce7-42b1-8b19-ce9bad6433f1",
   "metadata": {},
   "outputs": [],
   "source": [
    "c = Client()"
   ]
  },
  {
   "cell_type": "code",
   "execution_count": null,
   "id": "47dd6165-759a-4b79-ba48-964a210d94f7",
   "metadata": {},
   "outputs": [],
   "source": [
    "x_ = DaskDMatrix(c, X, enable_categorical=True)"
   ]
  },
  {
   "cell_type": "code",
   "execution_count": null,
   "id": "90c146b1-5b92-4067-a0c7-5cd6ea05b825",
   "metadata": {
    "tags": []
   },
   "outputs": [],
   "source": [
    "dir(x_)"
   ]
  },
  {
   "cell_type": "code",
   "execution_count": null,
   "id": "e03fd6c1-ebc1-4886-ba9f-570cb0e27b98",
   "metadata": {},
   "outputs": [],
   "source": [
    "dask.compute(x_)"
   ]
  },
  {
   "cell_type": "code",
   "execution_count": null,
   "id": "6d2230cf-e529-4f69-8498-049ed9aba880",
   "metadata": {},
   "outputs": [],
   "source": []
  }
 ],
 "metadata": {
  "kernelspec": {
   "display_name": "Python 3 (ipykernel)",
   "language": "python",
   "name": "python3"
  },
  "language_info": {
   "codemirror_mode": {
    "name": "ipython",
    "version": 3
   },
   "file_extension": ".py",
   "mimetype": "text/x-python",
   "name": "python",
   "nbconvert_exporter": "python",
   "pygments_lexer": "ipython3",
   "version": "3.10.8"
  }
 },
 "nbformat": 4,
 "nbformat_minor": 5
}

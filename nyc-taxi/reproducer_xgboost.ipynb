{
 "cells": [
  {
   "cell_type": "markdown",
   "id": "0652f264-b2c3-43b2-9310-7c00e50e7cdc",
   "metadata": {},
   "source": [
    "# XGBoost.Dask in many threads\n",
    "\n",
    "Sometimes we want to train many large XGBoost models in parallel.  We do so in this example with ...\n",
    "\n",
    "1.  The `xgboost.dask` project to do large training runs\n",
    "2.  Optuna to do hyper-parameter-optimization\n",
    "3.  A thread pool, to run many of these in parallel\n",
    "4.  Coiled to launch Dask clusters (but you could swap in your favorite Dask deployment technology as you like)\n",
    "\n",
    "Using `xgboost.dask` from many threads tooks a couple of small tweaks across projects.  This notebook resulted in the following PRs and issues:\n",
    "\n",
    "-  https://github.com/dask/distributed/issues/7377\n",
    "-  https://github.com/dask/dask/pull/9723\n",
    "-  https://github.com/dask/distributed/pull/7369\n",
    "-  https://github.com/dmlc/xgboost/pull/8558 (mostly cosmetic, not necessary)\n",
    "-  Also something in Coiled to allow package_sync to be thread-safe, should be released by 2022-12-07"
   ]
  },
  {
   "cell_type": "code",
   "execution_count": 7,
   "id": "3b929987-5089-4c13-be35-c1812d65fbec",
   "metadata": {},
   "outputs": [],
   "source": [
    "from distributed import LocalCluster, Client\n",
    "import dask.dataframe as dd\n",
    "\n",
    "import optuna\n",
    "from sklearn.metrics import roc_auc_score, mean_squared_error\n",
    "import xgboost as xgb\n",
    "from xgboost.dask import DaskDMatrix\n",
    "from xgboost import DMatrix\n",
    "\n",
    "from dask_ml.model_selection import train_test_split, KFold\n",
    "from dask.datasets import timeseries"
   ]
  },
  {
   "cell_type": "code",
   "execution_count": 2,
   "id": "780815b1-fa82-43c1-93c0-572f0f6182c1",
   "metadata": {},
   "outputs": [
    {
     "name": "stdout",
     "output_type": "stream",
     "text": [
      "coiled: 0.2.55\n",
      "dask: 2022.12.0+13.g0d8e12be\n",
      "dask.distributed: 2022.12.0+17.gf8302593\n",
      "optuna: 3.0.4\n",
      "xgboost: 1.7.2\n",
      "coiled: 0.2.55\n"
     ]
    }
   ],
   "source": [
    "import dask, coiled\n",
    "print(\"coiled:\", coiled.__version__)\n",
    "print(\"dask:\", dask.__version__)\n",
    "print(\"dask.distributed:\", dask.distributed.__version__)\n",
    "print(\"optuna:\", optuna.__version__)\n",
    "print(\"xgboost:\", xgb.__version__)\n",
    "print(\"coiled:\", coiled.__version__)"
   ]
  },
  {
   "cell_type": "code",
   "execution_count": 3,
   "id": "f6f547df-10f3-4993-80db-be2cd19817fa",
   "metadata": {},
   "outputs": [],
   "source": [
    "def objective(trial):\n",
    "    params = {\n",
    "        # 'n_estimators': trial.suggest_int('n_estimators', 5, 100),\n",
    "        'learning_rate': trial.suggest_float('learning_rate', 0.01, 0.99),\n",
    "        'subsample': trial.suggest_float('subsample', 0.1, 0.9),\n",
    "        'max_depth': trial.suggest_int('max_depth', 1, 10),\n",
    "        'colsample_bytree': trial.suggest_float('colsample_bytree', 0.1, 0.9),\n",
    "        'min_child_weight': trial.suggest_int('min_child_weight', 1, 9),\n",
    "    }\n",
    "    accuracy = cv_estimate(\n",
    "        trial_number=trial.number,\n",
    "        clf_params=params, \n",
    "        n_splits=train_options[\"n_splits\"]\n",
    "    ) \n",
    "    return accuracy\n",
    "\n",
    "train_options = dict(\n",
    "    n_splits = 5 \n",
    ")"
   ]
  },
  {
   "cell_type": "markdown",
   "id": "1dd461c3-e551-420a-a3e1-1ca2515bb613",
   "metadata": {},
   "source": [
    "### Load data"
   ]
  },
  {
   "cell_type": "code",
   "execution_count": null,
   "id": "8bcd990e-179f-4e09-a8fd-6af07c0f2c16",
   "metadata": {},
   "outputs": [],
   "source": [
    "ddf = timeseries()\n",
    "ddf.head()"
   ]
  },
  {
   "cell_type": "code",
   "execution_count": 35,
   "id": "e8574767-4b4c-4c82-a31d-448bd2d6ae71",
   "metadata": {},
   "outputs": [],
   "source": [
    "import dask.dataframe as dd\n",
    "\n",
    "def load_data():\n",
    "    ddf = timeseries()\n",
    "    ddf = ddf.reset_index(drop=True)\n",
    "    ddf.name = ddf.name.astype(\"category\")\n",
    "    ddf = ddf.categorize(columns=\"name\")\n",
    "    X = ddf.drop(columns=\"y\")\n",
    "    y = ddf.y\n",
    "\n",
    "    return X.to_dask_array(lengths=True), y.to_dask_array(lengths=True)\n",
    "    # return X.compute(), y.compute()"
   ]
  },
  {
   "cell_type": "code",
   "execution_count": 37,
   "id": "4e751d43-8904-49fd-bdf7-cdc358f62ec2",
   "metadata": {
    "tags": []
   },
   "outputs": [],
   "source": [
    "A, b = load_data()"
   ]
  },
  {
   "cell_type": "code",
   "execution_count": 38,
   "id": "6b1e5922-bcef-414f-80a4-d27d4d6c2f89",
   "metadata": {},
   "outputs": [
    {
     "data": {
      "text/plain": [
       "array([['Jerry', 997, 0.5703340236376859],\n",
       "       ['Hannah', 975, -0.9435919675257181],\n",
       "       ['Zelda', 1027, -0.03062696729018244],\n",
       "       ...,\n",
       "       ['Quinn', 1000, -0.22060738702394134],\n",
       "       ['Hannah', 995, 0.9723931932620258],\n",
       "       ['Frank', 994, -0.4874377956771685]], dtype=object)"
      ]
     },
     "execution_count": 38,
     "metadata": {},
     "output_type": "execute_result"
    }
   ],
   "source": [
    "A.compute()"
   ]
  },
  {
   "cell_type": "markdown",
   "id": "c0afd4b3-3837-4f7c-b223-7974b66594b6",
   "metadata": {},
   "source": [
    "\n",
    "## Dask Dataframe"
   ]
  },
  {
   "cell_type": "code",
   "execution_count": 39,
   "id": "6743a468-e8fa-409f-80a6-72cee3fee61c",
   "metadata": {
    "scrolled": true,
    "tags": []
   },
   "outputs": [
    {
     "name": "stderr",
     "output_type": "stream",
     "text": [
      "\u001b[32m[I 2022-12-17 07:24:16,693]\u001b[0m A new study created in memory with name: no-name-6404397c-f37f-4057-a6a5-792f06714f1a\u001b[0m\n",
      "/Users/greghayes/mambaforge/envs/xgboost_test/lib/python3.10/site-packages/distributed/node.py:182: UserWarning: Port 8787 is already in use.\n",
      "Perhaps you already have a cluster running?\n",
      "Hosting the HTTP server on port 60125 instead\n",
      "  warnings.warn(\n",
      "INFO:distributed.scheduler:State start\n",
      "INFO:distributed.scheduler:  Scheduler at:     tcp://127.0.0.1:60126\n",
      "INFO:distributed.scheduler:  dashboard at:           127.0.0.1:60125\n",
      "INFO:distributed.nanny:        Start Nanny at: 'tcp://127.0.0.1:60129'\n",
      "INFO:distributed.nanny:        Start Nanny at: 'tcp://127.0.0.1:60130'\n",
      "INFO:distributed.nanny:        Start Nanny at: 'tcp://127.0.0.1:60131'\n",
      "INFO:distributed.nanny:        Start Nanny at: 'tcp://127.0.0.1:60132'\n",
      "INFO:distributed.scheduler:Register worker <WorkerState 'tcp://127.0.0.1:60137', name: 0, status: init, memory: 0, processing: 0>\n",
      "INFO:distributed.scheduler:Starting worker compute stream, tcp://127.0.0.1:60137\n",
      "INFO:distributed.core:Starting established connection to tcp://127.0.0.1:60148\n",
      "INFO:distributed.scheduler:Register worker <WorkerState 'tcp://127.0.0.1:60140', name: 2, status: init, memory: 0, processing: 0>\n",
      "INFO:distributed.scheduler:Starting worker compute stream, tcp://127.0.0.1:60140\n",
      "INFO:distributed.core:Starting established connection to tcp://127.0.0.1:60147\n",
      "INFO:distributed.scheduler:Register worker <WorkerState 'tcp://127.0.0.1:60138', name: 3, status: init, memory: 0, processing: 0>\n",
      "INFO:distributed.scheduler:Starting worker compute stream, tcp://127.0.0.1:60138\n",
      "INFO:distributed.core:Starting established connection to tcp://127.0.0.1:60145\n",
      "INFO:distributed.scheduler:Register worker <WorkerState 'tcp://127.0.0.1:60139', name: 1, status: init, memory: 0, processing: 0>\n",
      "INFO:distributed.scheduler:Starting worker compute stream, tcp://127.0.0.1:60139\n",
      "INFO:distributed.core:Starting established connection to tcp://127.0.0.1:60146\n",
      "INFO:distributed.scheduler:Receive client connection: Client-1b812cf2-7e0e-11ed-9c4a-1a6d039d6526\n",
      "INFO:distributed.core:Starting established connection to tcp://127.0.0.1:60149\n",
      "INFO:distributed.worker:Run out-of-band function '_start_tracker'\n",
      "INFO:distributed.scheduler:Receive client connection: Client-worker-1c993580-7e0e-11ed-bd7e-1a6d039d6526\n",
      "INFO:distributed.core:Starting established connection to tcp://127.0.0.1:60171\n",
      "INFO:distributed.scheduler:Receive client connection: Client-worker-1c993bc0-7e0e-11ed-bd7d-1a6d039d6526\n",
      "INFO:distributed.core:Starting established connection to tcp://127.0.0.1:60172\n",
      "INFO:distributed.scheduler:Receive client connection: Client-worker-1c994142-7e0e-11ed-bd7b-1a6d039d6526\n",
      "INFO:distributed.core:Starting established connection to tcp://127.0.0.1:60174\n",
      "INFO:distributed.scheduler:Receive client connection: Client-worker-1c99358a-7e0e-11ed-bd7c-1a6d039d6526\n",
      "INFO:distributed.core:Starting established connection to tcp://127.0.0.1:60173\n",
      "[07:24:19] task [xgboost.dask-0]:tcp://127.0.0.1:60137 got new rank 0\n",
      "[07:24:19] task [xgboost.dask-1]:tcp://127.0.0.1:60139 got new rank 1\n",
      "[07:24:19] task [xgboost.dask-2]:tcp://127.0.0.1:60140 got new rank 2\n",
      "[07:24:19] task [xgboost.dask-3]:tcp://127.0.0.1:60138 got new rank 3\n",
      "2022-12-17 07:24:19,473 - distributed.worker - WARNING - Compute Failed\n",
      "Key:       dispatched_train-302f2538-031b-4c0b-adcf-76513fde72d3\n",
      "Function:  dispatched_train\n",
      "args:      ({'verbosity': 1, 'tree_method': 'hist', 'objective': 'reg:squarederror', 'learning_rate': 0.5404274705467155, 'subsample': 0.18789667087831763, 'max_depth': 8, 'colsample_bytree': 0.570540376054424, 'min_child_weight': 3}, {'DMLC_NUM_WORKER': 4, 'DMLC_TRACKER_URI': '192.168.1.24', 'DMLC_TRACKER_PORT': 60170}, 11178678384, ['train'], [11178678384], {'feature_names': None, 'feature_types': None, 'feature_weights': None, 'missing': None, 'enable_categorical': True, 'parts': [{'data': array([['Oliver', 964, -0.9471422774119653],\n",
      "       ['Laura', 1044, 0.5426835624000286],\n",
      "       ['Xavier', 1020, 0.11741143068784399],\n",
      "       ...,\n",
      "       ['Kevin', 1014, -0.49654706252912906],\n",
      "       ['Kevin', 985, 0.28717671470223927],\n",
      "       ['Edith', 1017, -0.14904053309338194]], dtype=object), 'label': array([ 0.66601991,  0.2815293 , -0.88041534, ..., -0.63382234,\n",
      "       -0.18199041, -0.65628897])}, {'data': array([['Alice', 1025, -0.08605119197674749],\n",
      "       ['Tim', 941, -0.2748022872287781],\n",
      "       [\n",
      "kwargs:    {}\n",
      "Exception: 'ValueError(\"could not convert string to float: \\'Oliver\\'\")'\n",
      "\n",
      "2022-12-17 07:24:19,474 - distributed.worker - WARNING - Compute Failed\n",
      "Key:       dispatched_train-7e97efd0-0eb6-47b1-83fd-0cc9dff930a7\n",
      "Function:  dispatched_train\n",
      "args:      ({'verbosity': 1, 'tree_method': 'hist', 'objective': 'reg:squarederror', 'learning_rate': 0.5404274705467155, 'subsample': 0.18789667087831763, 'max_depth': 8, 'colsample_bytree': 0.570540376054424, 'min_child_weight': 3}, {'DMLC_NUM_WORKER': 4, 'DMLC_TRACKER_URI': '192.168.1.24', 'DMLC_TRACKER_PORT': 60170}, 11178678384, ['train'], [11178678384], {'feature_names': None, 'feature_types': None, 'feature_weights': None, 'missing': None, 'enable_categorical': True, 'parts': [{'data': array([['Norbert', 929, 0.5200815398659253],\n",
      "       ['Laura', 998, -0.6210651845469357],\n",
      "       ['Yvonne', 954, 0.9164929632487238],\n",
      "       ...,\n",
      "       ['Frank', 992, 0.02809929827775881],\n",
      "       ['Tim', 926, -0.7137644967267418],\n",
      "       ['Hannah', 1013, 0.07007984691912195]], dtype=object), 'label': array([-0.10672761,  0.07234353, -0.41553178, ...,  0.99709876,\n",
      "       -0.85845699, -0.28833834])}, {'data': array([['Norbert', 997, -0.9264344173632357],\n",
      "       ['Patricia', 975, -0.7236917550654267],\n",
      "       ['\n",
      "kwargs:    {}\n",
      "Exception: 'ValueError(\"could not convert string to float: \\'Norbert\\'\")'\n",
      "\n",
      "2022-12-17 07:24:19,475 - distributed.worker - WARNING - Compute Failed\n",
      "Key:       dispatched_train-6f353a69-d00f-47ca-9dab-04a55cbf4390\n",
      "Function:  dispatched_train\n",
      "args:      ({'verbosity': 1, 'tree_method': 'hist', 'objective': 'reg:squarederror', 'learning_rate': 0.5404274705467155, 'subsample': 0.18789667087831763, 'max_depth': 8, 'colsample_bytree': 0.570540376054424, 'min_child_weight': 3}, {'DMLC_NUM_WORKER': 4, 'DMLC_TRACKER_URI': '192.168.1.24', 'DMLC_TRACKER_PORT': 60170}, 11178678384, ['train'], [11178678384], {'feature_names': None, 'feature_types': None, 'feature_weights': None, 'missing': None, 'enable_categorical': True, 'parts': [{'data': array([['Charlie', 1000, -0.2718647197659565],\n",
      "       ['Kevin', 1042, 0.731422534956311],\n",
      "       ['Michael', 954, -0.4743932747038908],\n",
      "       ...,\n",
      "       ['Laura', 1000, -0.18043571382665347],\n",
      "       ['George', 1003, -0.29180382436233265],\n",
      "       ['Xavier', 985, 0.8987394375143005]], dtype=object), 'label': array([-0.58557382,  0.37038813, -0.11211183, ...,  0.17476347,\n",
      "        0.49747088,  0.96780859])}, {'data': array([['Sarah', 1087, 0.1133612537500368],\n",
      "       ['Frank', 999, -0.007315261722388833],\n",
      "    \n",
      "kwargs:    {}\n",
      "Exception: 'ValueError(\"could not convert string to float: \\'Charlie\\'\")'\n",
      "\n",
      "2022-12-17 07:24:19,476 - distributed.worker - WARNING - Compute Failed\n",
      "Key:       dispatched_train-7f911ddd-f858-4c91-b6f6-7aeac75c2050\n",
      "Function:  dispatched_train\n",
      "args:      ({'verbosity': 1, 'tree_method': 'hist', 'objective': 'reg:squarederror', 'learning_rate': 0.5404274705467155, 'subsample': 0.18789667087831763, 'max_depth': 8, 'colsample_bytree': 0.570540376054424, 'min_child_weight': 3}, {'DMLC_NUM_WORKER': 4, 'DMLC_TRACKER_URI': '192.168.1.24', 'DMLC_TRACKER_PORT': 60170}, 11178678384, ['train'], [11178678384], {'feature_names': None, 'feature_types': None, 'feature_weights': None, 'missing': None, 'enable_categorical': True, 'parts': [{'data': array([['Yvonne', 974, 0.17143118527218992],\n",
      "       ['Dan', 991, -0.8397480974667062],\n",
      "       ['Frank', 980, -0.7104432944874413],\n",
      "       ...,\n",
      "       ['Ray', 1008, 0.05126870598925248],\n",
      "       ['George', 1001, 0.2767062098680255],\n",
      "       ['Oliver', 991, 0.4324368422582294]], dtype=object), 'label': array([ 0.55068854,  0.71525724,  0.79025013, ..., -0.626896  ,\n",
      "       -0.99268386, -0.0497224 ])}, {'data': array([['Charlie', 1033, -0.7271488680250084],\n",
      "       ['George', 1020, -0.06578576590294216],\n",
      "       ['Z\n",
      "kwargs:    {}\n",
      "Exception: 'ValueError(\"could not convert string to float: \\'Yvonne\\'\")'\n",
      "\n",
      "INFO:distributed.scheduler:Remove client Client-1b812cf2-7e0e-11ed-9c4a-1a6d039d6526\n",
      "INFO:distributed.core:Received 'close-stream' from tcp://127.0.0.1:60149; closing.\n",
      "INFO:distributed.scheduler:Remove client Client-1b812cf2-7e0e-11ed-9c4a-1a6d039d6526\n",
      "INFO:distributed.batched:Batched Comm Closed <TCP (closed) Scheduler->Client local=tcp://127.0.0.1:60126 remote=tcp://127.0.0.1:60149>\n",
      "Traceback (most recent call last):\n",
      "  File \"/Users/greghayes/mambaforge/envs/xgboost_test/lib/python3.10/site-packages/distributed/batched.py\", line 115, in _background_send\n",
      "    nbytes = yield coro\n",
      "  File \"/Users/greghayes/mambaforge/envs/xgboost_test/lib/python3.10/site-packages/tornado/gen.py\", line 762, in run\n",
      "    value = future.result()\n",
      "  File \"/Users/greghayes/mambaforge/envs/xgboost_test/lib/python3.10/site-packages/distributed/comm/tcp.py\", line 269, in write\n",
      "    raise CommClosedError()\n",
      "distributed.comm.core.CommClosedError\n",
      "INFO:distributed.scheduler:Close client connection: Client-1b812cf2-7e0e-11ed-9c4a-1a6d039d6526\n",
      "INFO:distributed.nanny:Closing Nanny at 'tcp://127.0.0.1:60129'. Reason: nanny-close\n",
      "INFO:distributed.nanny:Nanny asking worker to close. Reason: nanny-close\n",
      "INFO:distributed.nanny:Closing Nanny at 'tcp://127.0.0.1:60130'. Reason: nanny-close\n",
      "INFO:distributed.nanny:Nanny asking worker to close. Reason: nanny-close\n",
      "INFO:distributed.nanny:Closing Nanny at 'tcp://127.0.0.1:60131'. Reason: nanny-close\n",
      "INFO:distributed.nanny:Nanny asking worker to close. Reason: nanny-close\n",
      "INFO:distributed.nanny:Closing Nanny at 'tcp://127.0.0.1:60132'. Reason: nanny-close\n",
      "INFO:distributed.nanny:Nanny asking worker to close. Reason: nanny-close\n",
      "INFO:distributed.scheduler:Remove client Client-worker-1c994142-7e0e-11ed-bd7b-1a6d039d6526\n",
      "INFO:distributed.core:Received 'close-stream' from tcp://127.0.0.1:60174; closing.\n",
      "INFO:distributed.scheduler:Remove client Client-worker-1c99358a-7e0e-11ed-bd7c-1a6d039d6526\n",
      "INFO:distributed.core:Received 'close-stream' from tcp://127.0.0.1:60173; closing.\n",
      "INFO:distributed.scheduler:Remove client Client-worker-1c993bc0-7e0e-11ed-bd7d-1a6d039d6526\n",
      "INFO:distributed.core:Received 'close-stream' from tcp://127.0.0.1:60172; closing.\n",
      "INFO:distributed.scheduler:Remove client Client-worker-1c994142-7e0e-11ed-bd7b-1a6d039d6526\n",
      "INFO:distributed.scheduler:Remove client Client-worker-1c99358a-7e0e-11ed-bd7c-1a6d039d6526\n",
      "INFO:distributed.scheduler:Remove client Client-worker-1c993bc0-7e0e-11ed-bd7d-1a6d039d6526\n",
      "INFO:distributed.scheduler:Remove client Client-worker-1c993580-7e0e-11ed-bd7e-1a6d039d6526\n",
      "INFO:distributed.core:Received 'close-stream' from tcp://127.0.0.1:60171; closing.\n",
      "INFO:distributed.scheduler:Remove client Client-worker-1c993580-7e0e-11ed-bd7e-1a6d039d6526\n",
      "INFO:distributed.core:Received 'close-stream' from tcp://127.0.0.1:60148; closing.\n",
      "INFO:distributed.core:Received 'close-stream' from tcp://127.0.0.1:60146; closing.\n",
      "INFO:distributed.scheduler:Close client connection: Client-worker-1c994142-7e0e-11ed-bd7b-1a6d039d6526\n",
      "INFO:distributed.scheduler:Close client connection: Client-worker-1c99358a-7e0e-11ed-bd7c-1a6d039d6526\n",
      "INFO:distributed.scheduler:Close client connection: Client-worker-1c993bc0-7e0e-11ed-bd7d-1a6d039d6526\n",
      "INFO:distributed.scheduler:Remove worker <WorkerState 'tcp://127.0.0.1:60137', name: 0, status: closing, memory: 0, processing: 0>\n",
      "INFO:distributed.core:Removing comms to tcp://127.0.0.1:60137\n",
      "INFO:distributed.scheduler:Remove worker <WorkerState 'tcp://127.0.0.1:60139', name: 1, status: closing, memory: 0, processing: 0>\n",
      "INFO:distributed.core:Removing comms to tcp://127.0.0.1:60139\n",
      "INFO:distributed.core:Received 'close-stream' from tcp://127.0.0.1:60147; closing.\n",
      "INFO:distributed.scheduler:Close client connection: Client-worker-1c993580-7e0e-11ed-bd7e-1a6d039d6526\n",
      "INFO:distributed.scheduler:Remove worker <WorkerState 'tcp://127.0.0.1:60140', name: 2, status: closing, memory: 0, processing: 0>\n",
      "INFO:distributed.core:Removing comms to tcp://127.0.0.1:60140\n",
      "INFO:distributed.core:Received 'close-stream' from tcp://127.0.0.1:60145; closing.\n",
      "INFO:distributed.scheduler:Remove worker <WorkerState 'tcp://127.0.0.1:60138', name: 3, status: closing, memory: 0, processing: 0>\n",
      "INFO:distributed.core:Removing comms to tcp://127.0.0.1:60138\n",
      "INFO:distributed.scheduler:Lost all workers\n",
      "INFO:distributed.scheduler:Scheduler closing...\n",
      "INFO:distributed.scheduler:Scheduler closing all comms\n",
      "\u001b[33m[W 2022-12-17 07:24:19,803]\u001b[0m Trial 0 failed because of the following error: ValueError(\"could not convert string to float: 'Oliver'\")\u001b[0m\n",
      "Traceback (most recent call last):\n",
      "  File \"/Users/greghayes/mambaforge/envs/xgboost_test/lib/python3.10/site-packages/optuna/study/_optimize.py\", line 196, in _run_trial\n",
      "    value_or_values = func(trial)\n",
      "  File \"/var/folders/b5/f_y899x168j7cs2m7szjld5c0000gn/T/ipykernel_89162/2506305437.py\", line 10, in objective\n",
      "    accuracy = cv_estimate(\n",
      "  File \"/var/folders/b5/f_y899x168j7cs2m7szjld5c0000gn/T/ipykernel_89162/365949501.py\", line 29, in cv_estimate\n",
      "    model = xgb.dask.train(\n",
      "  File \"/Users/greghayes/mambaforge/envs/xgboost_test/lib/python3.10/site-packages/xgboost/core.py\", line 620, in inner_f\n",
      "    return func(**kwargs)\n",
      "  File \"/Users/greghayes/mambaforge/envs/xgboost_test/lib/python3.10/site-packages/xgboost/dask.py\", line 1057, in train\n",
      "    return client.sync(\n",
      "  File \"/Users/greghayes/mambaforge/envs/xgboost_test/lib/python3.10/site-packages/distributed/utils.py\", line 339, in sync\n",
      "    return sync(\n",
      "  File \"/Users/greghayes/mambaforge/envs/xgboost_test/lib/python3.10/site-packages/distributed/utils.py\", line 406, in sync\n",
      "    raise exc.with_traceback(tb)\n",
      "  File \"/Users/greghayes/mambaforge/envs/xgboost_test/lib/python3.10/site-packages/distributed/utils.py\", line 379, in f\n",
      "    result = yield future\n",
      "  File \"/Users/greghayes/mambaforge/envs/xgboost_test/lib/python3.10/site-packages/tornado/gen.py\", line 762, in run\n",
      "    value = future.result()\n",
      "  File \"/Users/greghayes/mambaforge/envs/xgboost_test/lib/python3.10/site-packages/xgboost/dask.py\", line 993, in _train_async\n",
      "    results = await map_worker_partitions(\n",
      "  File \"/Users/greghayes/mambaforge/envs/xgboost_test/lib/python3.10/site-packages/xgboost/dask.py\", line 529, in map_worker_partitions\n",
      "    results = await client.gather(futures)\n",
      "  File \"/Users/greghayes/mambaforge/envs/xgboost_test/lib/python3.10/site-packages/distributed/client.py\", line 2157, in _gather\n",
      "    raise exception.with_traceback(traceback)\n",
      "  File \"/Users/greghayes/mambaforge/envs/xgboost_test/lib/python3.10/site-packages/xgboost/dask.py\", line 940, in dispatched_train\n",
      "    Xy = _dmatrix_from_list_of_parts(**train_ref, nthread=n_threads)\n",
      "  File \"/Users/greghayes/mambaforge/envs/xgboost_test/lib/python3.10/site-packages/xgboost/dask.py\", line 812, in _dmatrix_from_list_of_parts\n",
      "    return _create_dmatrix(**kwargs)\n",
      "  File \"/Users/greghayes/mambaforge/envs/xgboost_test/lib/python3.10/site-packages/xgboost/dask.py\", line 797, in _create_dmatrix\n",
      "    dmatrix = DMatrix(\n",
      "  File \"/Users/greghayes/mambaforge/envs/xgboost_test/lib/python3.10/site-packages/xgboost/core.py\", line 620, in inner_f\n",
      "    return func(**kwargs)\n",
      "  File \"/Users/greghayes/mambaforge/envs/xgboost_test/lib/python3.10/site-packages/xgboost/core.py\", line 743, in __init__\n",
      "    handle, feature_names, feature_types = dispatch_data_backend(\n",
      "  File \"/Users/greghayes/mambaforge/envs/xgboost_test/lib/python3.10/site-packages/xgboost/data.py\", line 949, in dispatch_data_backend\n",
      "    return _from_numpy_array(data, missing, threads, feature_names, feature_types)\n",
      "  File \"/Users/greghayes/mambaforge/envs/xgboost_test/lib/python3.10/site-packages/xgboost/data.py\", line 193, in _from_numpy_array\n",
      "    data, _ = _ensure_np_dtype(data, data.dtype)\n",
      "  File \"/Users/greghayes/mambaforge/envs/xgboost_test/lib/python3.10/site-packages/xgboost/data.py\", line 160, in _ensure_np_dtype\n",
      "    data = data.astype(np.float32, copy=False)\n",
      "ValueError: could not convert string to float: 'Oliver'\n"
     ]
    },
    {
     "ename": "ValueError",
     "evalue": "could not convert string to float: 'Oliver'",
     "output_type": "error",
     "traceback": [
      "\u001b[0;31m---------------------------------------------------------------------------\u001b[0m",
      "\u001b[0;31mValueError\u001b[0m                                Traceback (most recent call last)",
      "Cell \u001b[0;32mIn[39], line 56\u001b[0m\n\u001b[1;32m     52\u001b[0m     \u001b[38;5;28;01mreturn\u001b[39;00m val_scores \u001b[38;5;241m/\u001b[39m n_splits\n\u001b[1;32m     55\u001b[0m study \u001b[38;5;241m=\u001b[39m optuna\u001b[38;5;241m.\u001b[39mcreate_study()\n\u001b[0;32m---> 56\u001b[0m \u001b[43mstudy\u001b[49m\u001b[38;5;241;43m.\u001b[39;49m\u001b[43moptimize\u001b[49m\u001b[43m(\u001b[49m\u001b[43mobjective\u001b[49m\u001b[43m,\u001b[49m\u001b[43m \u001b[49m\u001b[43mn_trials\u001b[49m\u001b[38;5;241;43m=\u001b[39;49m\u001b[38;5;241;43m1\u001b[39;49m\u001b[43m)\u001b[49m\n",
      "File \u001b[0;32m~/mambaforge/envs/xgboost_test/lib/python3.10/site-packages/optuna/study/study.py:419\u001b[0m, in \u001b[0;36mStudy.optimize\u001b[0;34m(self, func, n_trials, timeout, n_jobs, catch, callbacks, gc_after_trial, show_progress_bar)\u001b[0m\n\u001b[1;32m    315\u001b[0m \u001b[38;5;28;01mdef\u001b[39;00m \u001b[38;5;21moptimize\u001b[39m(\n\u001b[1;32m    316\u001b[0m     \u001b[38;5;28mself\u001b[39m,\n\u001b[1;32m    317\u001b[0m     func: ObjectiveFuncType,\n\u001b[0;32m   (...)\u001b[0m\n\u001b[1;32m    324\u001b[0m     show_progress_bar: \u001b[38;5;28mbool\u001b[39m \u001b[38;5;241m=\u001b[39m \u001b[38;5;28;01mFalse\u001b[39;00m,\n\u001b[1;32m    325\u001b[0m ) \u001b[38;5;241m-\u001b[39m\u001b[38;5;241m>\u001b[39m \u001b[38;5;28;01mNone\u001b[39;00m:\n\u001b[1;32m    326\u001b[0m     \u001b[38;5;124;03m\"\"\"Optimize an objective function.\u001b[39;00m\n\u001b[1;32m    327\u001b[0m \n\u001b[1;32m    328\u001b[0m \u001b[38;5;124;03m    Optimization is done by choosing a suitable set of hyperparameter values from a given\u001b[39;00m\n\u001b[0;32m   (...)\u001b[0m\n\u001b[1;32m    416\u001b[0m \u001b[38;5;124;03m            If nested invocation of this method occurs.\u001b[39;00m\n\u001b[1;32m    417\u001b[0m \u001b[38;5;124;03m    \"\"\"\u001b[39;00m\n\u001b[0;32m--> 419\u001b[0m     \u001b[43m_optimize\u001b[49m\u001b[43m(\u001b[49m\n\u001b[1;32m    420\u001b[0m \u001b[43m        \u001b[49m\u001b[43mstudy\u001b[49m\u001b[38;5;241;43m=\u001b[39;49m\u001b[38;5;28;43mself\u001b[39;49m\u001b[43m,\u001b[49m\n\u001b[1;32m    421\u001b[0m \u001b[43m        \u001b[49m\u001b[43mfunc\u001b[49m\u001b[38;5;241;43m=\u001b[39;49m\u001b[43mfunc\u001b[49m\u001b[43m,\u001b[49m\n\u001b[1;32m    422\u001b[0m \u001b[43m        \u001b[49m\u001b[43mn_trials\u001b[49m\u001b[38;5;241;43m=\u001b[39;49m\u001b[43mn_trials\u001b[49m\u001b[43m,\u001b[49m\n\u001b[1;32m    423\u001b[0m \u001b[43m        \u001b[49m\u001b[43mtimeout\u001b[49m\u001b[38;5;241;43m=\u001b[39;49m\u001b[43mtimeout\u001b[49m\u001b[43m,\u001b[49m\n\u001b[1;32m    424\u001b[0m \u001b[43m        \u001b[49m\u001b[43mn_jobs\u001b[49m\u001b[38;5;241;43m=\u001b[39;49m\u001b[43mn_jobs\u001b[49m\u001b[43m,\u001b[49m\n\u001b[1;32m    425\u001b[0m \u001b[43m        \u001b[49m\u001b[43mcatch\u001b[49m\u001b[38;5;241;43m=\u001b[39;49m\u001b[43mcatch\u001b[49m\u001b[43m,\u001b[49m\n\u001b[1;32m    426\u001b[0m \u001b[43m        \u001b[49m\u001b[43mcallbacks\u001b[49m\u001b[38;5;241;43m=\u001b[39;49m\u001b[43mcallbacks\u001b[49m\u001b[43m,\u001b[49m\n\u001b[1;32m    427\u001b[0m \u001b[43m        \u001b[49m\u001b[43mgc_after_trial\u001b[49m\u001b[38;5;241;43m=\u001b[39;49m\u001b[43mgc_after_trial\u001b[49m\u001b[43m,\u001b[49m\n\u001b[1;32m    428\u001b[0m \u001b[43m        \u001b[49m\u001b[43mshow_progress_bar\u001b[49m\u001b[38;5;241;43m=\u001b[39;49m\u001b[43mshow_progress_bar\u001b[49m\u001b[43m,\u001b[49m\n\u001b[1;32m    429\u001b[0m \u001b[43m    \u001b[49m\u001b[43m)\u001b[49m\n",
      "File \u001b[0;32m~/mambaforge/envs/xgboost_test/lib/python3.10/site-packages/optuna/study/_optimize.py:66\u001b[0m, in \u001b[0;36m_optimize\u001b[0;34m(study, func, n_trials, timeout, n_jobs, catch, callbacks, gc_after_trial, show_progress_bar)\u001b[0m\n\u001b[1;32m     64\u001b[0m \u001b[38;5;28;01mtry\u001b[39;00m:\n\u001b[1;32m     65\u001b[0m     \u001b[38;5;28;01mif\u001b[39;00m n_jobs \u001b[38;5;241m==\u001b[39m \u001b[38;5;241m1\u001b[39m:\n\u001b[0;32m---> 66\u001b[0m         \u001b[43m_optimize_sequential\u001b[49m\u001b[43m(\u001b[49m\n\u001b[1;32m     67\u001b[0m \u001b[43m            \u001b[49m\u001b[43mstudy\u001b[49m\u001b[43m,\u001b[49m\n\u001b[1;32m     68\u001b[0m \u001b[43m            \u001b[49m\u001b[43mfunc\u001b[49m\u001b[43m,\u001b[49m\n\u001b[1;32m     69\u001b[0m \u001b[43m            \u001b[49m\u001b[43mn_trials\u001b[49m\u001b[43m,\u001b[49m\n\u001b[1;32m     70\u001b[0m \u001b[43m            \u001b[49m\u001b[43mtimeout\u001b[49m\u001b[43m,\u001b[49m\n\u001b[1;32m     71\u001b[0m \u001b[43m            \u001b[49m\u001b[43mcatch\u001b[49m\u001b[43m,\u001b[49m\n\u001b[1;32m     72\u001b[0m \u001b[43m            \u001b[49m\u001b[43mcallbacks\u001b[49m\u001b[43m,\u001b[49m\n\u001b[1;32m     73\u001b[0m \u001b[43m            \u001b[49m\u001b[43mgc_after_trial\u001b[49m\u001b[43m,\u001b[49m\n\u001b[1;32m     74\u001b[0m \u001b[43m            \u001b[49m\u001b[43mreseed_sampler_rng\u001b[49m\u001b[38;5;241;43m=\u001b[39;49m\u001b[38;5;28;43;01mFalse\u001b[39;49;00m\u001b[43m,\u001b[49m\n\u001b[1;32m     75\u001b[0m \u001b[43m            \u001b[49m\u001b[43mtime_start\u001b[49m\u001b[38;5;241;43m=\u001b[39;49m\u001b[38;5;28;43;01mNone\u001b[39;49;00m\u001b[43m,\u001b[49m\n\u001b[1;32m     76\u001b[0m \u001b[43m            \u001b[49m\u001b[43mprogress_bar\u001b[49m\u001b[38;5;241;43m=\u001b[39;49m\u001b[43mprogress_bar\u001b[49m\u001b[43m,\u001b[49m\n\u001b[1;32m     77\u001b[0m \u001b[43m        \u001b[49m\u001b[43m)\u001b[49m\n\u001b[1;32m     78\u001b[0m     \u001b[38;5;28;01melse\u001b[39;00m:\n\u001b[1;32m     79\u001b[0m         \u001b[38;5;28;01mif\u001b[39;00m n_jobs \u001b[38;5;241m==\u001b[39m \u001b[38;5;241m-\u001b[39m\u001b[38;5;241m1\u001b[39m:\n",
      "File \u001b[0;32m~/mambaforge/envs/xgboost_test/lib/python3.10/site-packages/optuna/study/_optimize.py:160\u001b[0m, in \u001b[0;36m_optimize_sequential\u001b[0;34m(study, func, n_trials, timeout, catch, callbacks, gc_after_trial, reseed_sampler_rng, time_start, progress_bar)\u001b[0m\n\u001b[1;32m    157\u001b[0m         \u001b[38;5;28;01mbreak\u001b[39;00m\n\u001b[1;32m    159\u001b[0m \u001b[38;5;28;01mtry\u001b[39;00m:\n\u001b[0;32m--> 160\u001b[0m     frozen_trial \u001b[38;5;241m=\u001b[39m \u001b[43m_run_trial\u001b[49m\u001b[43m(\u001b[49m\u001b[43mstudy\u001b[49m\u001b[43m,\u001b[49m\u001b[43m \u001b[49m\u001b[43mfunc\u001b[49m\u001b[43m,\u001b[49m\u001b[43m \u001b[49m\u001b[43mcatch\u001b[49m\u001b[43m)\u001b[49m\n\u001b[1;32m    161\u001b[0m \u001b[38;5;28;01mfinally\u001b[39;00m:\n\u001b[1;32m    162\u001b[0m     \u001b[38;5;66;03m# The following line mitigates memory problems that can be occurred in some\u001b[39;00m\n\u001b[1;32m    163\u001b[0m     \u001b[38;5;66;03m# environments (e.g., services that use computing containers such as CircleCI).\u001b[39;00m\n\u001b[1;32m    164\u001b[0m     \u001b[38;5;66;03m# Please refer to the following PR for further details:\u001b[39;00m\n\u001b[1;32m    165\u001b[0m     \u001b[38;5;66;03m# https://github.com/optuna/optuna/pull/325.\u001b[39;00m\n\u001b[1;32m    166\u001b[0m     \u001b[38;5;28;01mif\u001b[39;00m gc_after_trial:\n",
      "File \u001b[0;32m~/mambaforge/envs/xgboost_test/lib/python3.10/site-packages/optuna/study/_optimize.py:234\u001b[0m, in \u001b[0;36m_run_trial\u001b[0;34m(study, func, catch)\u001b[0m\n\u001b[1;32m    227\u001b[0m         \u001b[38;5;28;01massert\u001b[39;00m \u001b[38;5;28;01mFalse\u001b[39;00m, \u001b[38;5;124m\"\u001b[39m\u001b[38;5;124mShould not reach.\u001b[39m\u001b[38;5;124m\"\u001b[39m\n\u001b[1;32m    229\u001b[0m \u001b[38;5;28;01mif\u001b[39;00m (\n\u001b[1;32m    230\u001b[0m     frozen_trial\u001b[38;5;241m.\u001b[39mstate \u001b[38;5;241m==\u001b[39m TrialState\u001b[38;5;241m.\u001b[39mFAIL\n\u001b[1;32m    231\u001b[0m     \u001b[38;5;129;01mand\u001b[39;00m func_err \u001b[38;5;129;01mis\u001b[39;00m \u001b[38;5;129;01mnot\u001b[39;00m \u001b[38;5;28;01mNone\u001b[39;00m\n\u001b[1;32m    232\u001b[0m     \u001b[38;5;129;01mand\u001b[39;00m \u001b[38;5;129;01mnot\u001b[39;00m \u001b[38;5;28misinstance\u001b[39m(func_err, catch)\n\u001b[1;32m    233\u001b[0m ):\n\u001b[0;32m--> 234\u001b[0m     \u001b[38;5;28;01mraise\u001b[39;00m func_err\n\u001b[1;32m    235\u001b[0m \u001b[38;5;28;01mreturn\u001b[39;00m frozen_trial\n",
      "File \u001b[0;32m~/mambaforge/envs/xgboost_test/lib/python3.10/site-packages/optuna/study/_optimize.py:196\u001b[0m, in \u001b[0;36m_run_trial\u001b[0;34m(study, func, catch)\u001b[0m\n\u001b[1;32m    194\u001b[0m \u001b[38;5;28;01mwith\u001b[39;00m get_heartbeat_thread(trial\u001b[38;5;241m.\u001b[39m_trial_id, study\u001b[38;5;241m.\u001b[39m_storage):\n\u001b[1;32m    195\u001b[0m     \u001b[38;5;28;01mtry\u001b[39;00m:\n\u001b[0;32m--> 196\u001b[0m         value_or_values \u001b[38;5;241m=\u001b[39m \u001b[43mfunc\u001b[49m\u001b[43m(\u001b[49m\u001b[43mtrial\u001b[49m\u001b[43m)\u001b[49m\n\u001b[1;32m    197\u001b[0m     \u001b[38;5;28;01mexcept\u001b[39;00m exceptions\u001b[38;5;241m.\u001b[39mTrialPruned \u001b[38;5;28;01mas\u001b[39;00m e:\n\u001b[1;32m    198\u001b[0m         \u001b[38;5;66;03m# TODO(mamu): Handle multi-objective cases.\u001b[39;00m\n\u001b[1;32m    199\u001b[0m         state \u001b[38;5;241m=\u001b[39m TrialState\u001b[38;5;241m.\u001b[39mPRUNED\n",
      "Cell \u001b[0;32mIn[3], line 10\u001b[0m, in \u001b[0;36mobjective\u001b[0;34m(trial)\u001b[0m\n\u001b[1;32m      1\u001b[0m \u001b[38;5;28;01mdef\u001b[39;00m \u001b[38;5;21mobjective\u001b[39m(trial):\n\u001b[1;32m      2\u001b[0m     params \u001b[38;5;241m=\u001b[39m {\n\u001b[1;32m      3\u001b[0m         \u001b[38;5;66;03m# 'n_estimators': trial.suggest_int('n_estimators', 5, 100),\u001b[39;00m\n\u001b[1;32m      4\u001b[0m         \u001b[38;5;124m'\u001b[39m\u001b[38;5;124mlearning_rate\u001b[39m\u001b[38;5;124m'\u001b[39m: trial\u001b[38;5;241m.\u001b[39msuggest_float(\u001b[38;5;124m'\u001b[39m\u001b[38;5;124mlearning_rate\u001b[39m\u001b[38;5;124m'\u001b[39m, \u001b[38;5;241m0.01\u001b[39m, \u001b[38;5;241m0.99\u001b[39m),\n\u001b[0;32m   (...)\u001b[0m\n\u001b[1;32m      8\u001b[0m         \u001b[38;5;124m'\u001b[39m\u001b[38;5;124mmin_child_weight\u001b[39m\u001b[38;5;124m'\u001b[39m: trial\u001b[38;5;241m.\u001b[39msuggest_int(\u001b[38;5;124m'\u001b[39m\u001b[38;5;124mmin_child_weight\u001b[39m\u001b[38;5;124m'\u001b[39m, \u001b[38;5;241m1\u001b[39m, \u001b[38;5;241m9\u001b[39m),\n\u001b[1;32m      9\u001b[0m     }\n\u001b[0;32m---> 10\u001b[0m     accuracy \u001b[38;5;241m=\u001b[39m \u001b[43mcv_estimate\u001b[49m\u001b[43m(\u001b[49m\n\u001b[1;32m     11\u001b[0m \u001b[43m        \u001b[49m\u001b[43mtrial_number\u001b[49m\u001b[38;5;241;43m=\u001b[39;49m\u001b[43mtrial\u001b[49m\u001b[38;5;241;43m.\u001b[39;49m\u001b[43mnumber\u001b[49m\u001b[43m,\u001b[49m\n\u001b[1;32m     12\u001b[0m \u001b[43m        \u001b[49m\u001b[43mclf_params\u001b[49m\u001b[38;5;241;43m=\u001b[39;49m\u001b[43mparams\u001b[49m\u001b[43m,\u001b[49m\u001b[43m \u001b[49m\n\u001b[1;32m     13\u001b[0m \u001b[43m        \u001b[49m\u001b[43mn_splits\u001b[49m\u001b[38;5;241;43m=\u001b[39;49m\u001b[43mtrain_options\u001b[49m\u001b[43m[\u001b[49m\u001b[38;5;124;43m\"\u001b[39;49m\u001b[38;5;124;43mn_splits\u001b[39;49m\u001b[38;5;124;43m\"\u001b[39;49m\u001b[43m]\u001b[49m\n\u001b[1;32m     14\u001b[0m \u001b[43m    \u001b[49m\u001b[43m)\u001b[49m \n\u001b[1;32m     15\u001b[0m     \u001b[38;5;28;01mreturn\u001b[39;00m accuracy\n",
      "Cell \u001b[0;32mIn[39], line 29\u001b[0m, in \u001b[0;36mcv_estimate\u001b[0;34m(trial_number, clf_params, n_splits)\u001b[0m\n\u001b[1;32m     26\u001b[0m dtrain \u001b[38;5;241m=\u001b[39m DaskDMatrix(client, X, y, enable_categorical\u001b[38;5;241m=\u001b[39m\u001b[38;5;28;01mTrue\u001b[39;00m)\n\u001b[1;32m     27\u001b[0m dtest \u001b[38;5;241m=\u001b[39m DaskDMatrix(client, X, y)\u001b[38;5;66;03m#, enable_categorical=True)\u001b[39;00m\n\u001b[0;32m---> 29\u001b[0m model \u001b[38;5;241m=\u001b[39m \u001b[43mxgb\u001b[49m\u001b[38;5;241;43m.\u001b[39;49m\u001b[43mdask\u001b[49m\u001b[38;5;241;43m.\u001b[39;49m\u001b[43mtrain\u001b[49m\u001b[43m(\u001b[49m\n\u001b[1;32m     30\u001b[0m \u001b[43m    \u001b[49m\u001b[43mclient\u001b[49m\u001b[43m,\u001b[49m\n\u001b[1;32m     31\u001b[0m \u001b[43m    \u001b[49m\u001b[43m{\u001b[49m\n\u001b[1;32m     32\u001b[0m \u001b[43m        \u001b[49m\u001b[38;5;124;43m'\u001b[39;49m\u001b[38;5;124;43mverbosity\u001b[39;49m\u001b[38;5;124;43m'\u001b[39;49m\u001b[43m:\u001b[49m\u001b[43m \u001b[49m\u001b[38;5;241;43m1\u001b[39;49m\u001b[43m,\u001b[49m\n\u001b[1;32m     33\u001b[0m \u001b[43m        \u001b[49m\u001b[38;5;124;43m'\u001b[39;49m\u001b[38;5;124;43mtree_method\u001b[39;49m\u001b[38;5;124;43m'\u001b[39;49m\u001b[43m:\u001b[49m\u001b[43m \u001b[49m\u001b[38;5;124;43m'\u001b[39;49m\u001b[38;5;124;43mhist\u001b[39;49m\u001b[38;5;124;43m'\u001b[39;49m\u001b[43m,\u001b[49m\u001b[43m \u001b[49m\n\u001b[1;32m     34\u001b[0m \u001b[43m        \u001b[49m\u001b[38;5;124;43m\"\u001b[39;49m\u001b[38;5;124;43mobjective\u001b[39;49m\u001b[38;5;124;43m\"\u001b[39;49m\u001b[43m:\u001b[49m\u001b[43m \u001b[49m\u001b[38;5;124;43m\"\u001b[39;49m\u001b[38;5;124;43mreg:squarederror\u001b[39;49m\u001b[38;5;124;43m\"\u001b[39;49m\u001b[43m,\u001b[49m\n\u001b[1;32m     35\u001b[0m \u001b[43m        \u001b[49m\u001b[38;5;241;43m*\u001b[39;49m\u001b[38;5;241;43m*\u001b[39;49m\u001b[43mclf_params\u001b[49m\n\u001b[1;32m     36\u001b[0m \u001b[43m    \u001b[49m\u001b[43m}\u001b[49m\u001b[43m,\u001b[49m\n\u001b[1;32m     37\u001b[0m \u001b[43m    \u001b[49m\u001b[43mdtrain\u001b[49m\u001b[43m,\u001b[49m\n\u001b[1;32m     38\u001b[0m \u001b[43m    \u001b[49m\u001b[43mnum_boost_round\u001b[49m\u001b[38;5;241;43m=\u001b[39;49m\u001b[38;5;241;43m4\u001b[39;49m\u001b[43m,\u001b[49m\u001b[43m \u001b[49m\n\u001b[1;32m     39\u001b[0m \u001b[43m    \u001b[49m\u001b[43mevals\u001b[49m\u001b[38;5;241;43m=\u001b[39;49m\u001b[43m[\u001b[49m\u001b[43m(\u001b[49m\u001b[43mdtrain\u001b[49m\u001b[43m,\u001b[49m\u001b[43m \u001b[49m\u001b[38;5;124;43m'\u001b[39;49m\u001b[38;5;124;43mtrain\u001b[39;49m\u001b[38;5;124;43m'\u001b[39;49m\u001b[43m)\u001b[49m\u001b[43m]\u001b[49m\u001b[43m,\u001b[49m\n\u001b[1;32m     40\u001b[0m \u001b[43m\u001b[49m\u001b[43m)\u001b[49m\n\u001b[1;32m     41\u001b[0m \u001b[38;5;28mprint\u001b[39m(\u001b[38;5;28mtype\u001b[39m(model))\n\u001b[1;32m     42\u001b[0m predictions \u001b[38;5;241m=\u001b[39m xgb\u001b[38;5;241m.\u001b[39mdask\u001b[38;5;241m.\u001b[39mpredict(client, model, dtest)\n",
      "File \u001b[0;32m~/mambaforge/envs/xgboost_test/lib/python3.10/site-packages/xgboost/core.py:620\u001b[0m, in \u001b[0;36mrequire_keyword_args.<locals>.throw_if.<locals>.inner_f\u001b[0;34m(*args, **kwargs)\u001b[0m\n\u001b[1;32m    618\u001b[0m \u001b[38;5;28;01mfor\u001b[39;00m k, arg \u001b[38;5;129;01min\u001b[39;00m \u001b[38;5;28mzip\u001b[39m(sig\u001b[38;5;241m.\u001b[39mparameters, args):\n\u001b[1;32m    619\u001b[0m     kwargs[k] \u001b[38;5;241m=\u001b[39m arg\n\u001b[0;32m--> 620\u001b[0m \u001b[38;5;28;01mreturn\u001b[39;00m \u001b[43mfunc\u001b[49m\u001b[43m(\u001b[49m\u001b[38;5;241;43m*\u001b[39;49m\u001b[38;5;241;43m*\u001b[39;49m\u001b[43mkwargs\u001b[49m\u001b[43m)\u001b[49m\n",
      "File \u001b[0;32m~/mambaforge/envs/xgboost_test/lib/python3.10/site-packages/xgboost/dask.py:1057\u001b[0m, in \u001b[0;36mtrain\u001b[0;34m(client, params, dtrain, num_boost_round, evals, obj, feval, early_stopping_rounds, xgb_model, verbose_eval, callbacks, custom_metric)\u001b[0m\n\u001b[1;32m   1055\u001b[0m client \u001b[38;5;241m=\u001b[39m _xgb_get_client(client)\n\u001b[1;32m   1056\u001b[0m args \u001b[38;5;241m=\u001b[39m \u001b[38;5;28mlocals\u001b[39m()\n\u001b[0;32m-> 1057\u001b[0m \u001b[38;5;28;01mreturn\u001b[39;00m \u001b[43mclient\u001b[49m\u001b[38;5;241;43m.\u001b[39;49m\u001b[43msync\u001b[49m\u001b[43m(\u001b[49m\n\u001b[1;32m   1058\u001b[0m \u001b[43m    \u001b[49m\u001b[43m_train_async\u001b[49m\u001b[43m,\u001b[49m\n\u001b[1;32m   1059\u001b[0m \u001b[43m    \u001b[49m\u001b[43mglobal_config\u001b[49m\u001b[38;5;241;43m=\u001b[39;49m\u001b[43mconfig\u001b[49m\u001b[38;5;241;43m.\u001b[39;49m\u001b[43mget_config\u001b[49m\u001b[43m(\u001b[49m\u001b[43m)\u001b[49m\u001b[43m,\u001b[49m\n\u001b[1;32m   1060\u001b[0m \u001b[43m    \u001b[49m\u001b[43mdconfig\u001b[49m\u001b[38;5;241;43m=\u001b[39;49m\u001b[43m_get_dask_config\u001b[49m\u001b[43m(\u001b[49m\u001b[43m)\u001b[49m\u001b[43m,\u001b[49m\n\u001b[1;32m   1061\u001b[0m \u001b[43m    \u001b[49m\u001b[38;5;241;43m*\u001b[39;49m\u001b[38;5;241;43m*\u001b[39;49m\u001b[43margs\u001b[49m\u001b[43m,\u001b[49m\n\u001b[1;32m   1062\u001b[0m \u001b[43m\u001b[49m\u001b[43m)\u001b[49m\n",
      "File \u001b[0;32m~/mambaforge/envs/xgboost_test/lib/python3.10/site-packages/distributed/utils.py:339\u001b[0m, in \u001b[0;36mSyncMethodMixin.sync\u001b[0;34m(self, func, asynchronous, callback_timeout, *args, **kwargs)\u001b[0m\n\u001b[1;32m    337\u001b[0m     \u001b[38;5;28;01mreturn\u001b[39;00m future\n\u001b[1;32m    338\u001b[0m \u001b[38;5;28;01melse\u001b[39;00m:\n\u001b[0;32m--> 339\u001b[0m     \u001b[38;5;28;01mreturn\u001b[39;00m \u001b[43msync\u001b[49m\u001b[43m(\u001b[49m\n\u001b[1;32m    340\u001b[0m \u001b[43m        \u001b[49m\u001b[38;5;28;43mself\u001b[39;49m\u001b[38;5;241;43m.\u001b[39;49m\u001b[43mloop\u001b[49m\u001b[43m,\u001b[49m\u001b[43m \u001b[49m\u001b[43mfunc\u001b[49m\u001b[43m,\u001b[49m\u001b[43m \u001b[49m\u001b[38;5;241;43m*\u001b[39;49m\u001b[43margs\u001b[49m\u001b[43m,\u001b[49m\u001b[43m \u001b[49m\u001b[43mcallback_timeout\u001b[49m\u001b[38;5;241;43m=\u001b[39;49m\u001b[43mcallback_timeout\u001b[49m\u001b[43m,\u001b[49m\u001b[43m \u001b[49m\u001b[38;5;241;43m*\u001b[39;49m\u001b[38;5;241;43m*\u001b[39;49m\u001b[43mkwargs\u001b[49m\n\u001b[1;32m    341\u001b[0m \u001b[43m    \u001b[49m\u001b[43m)\u001b[49m\n",
      "File \u001b[0;32m~/mambaforge/envs/xgboost_test/lib/python3.10/site-packages/distributed/utils.py:406\u001b[0m, in \u001b[0;36msync\u001b[0;34m(loop, func, callback_timeout, *args, **kwargs)\u001b[0m\n\u001b[1;32m    404\u001b[0m \u001b[38;5;28;01mif\u001b[39;00m error:\n\u001b[1;32m    405\u001b[0m     typ, exc, tb \u001b[38;5;241m=\u001b[39m error\n\u001b[0;32m--> 406\u001b[0m     \u001b[38;5;28;01mraise\u001b[39;00m exc\u001b[38;5;241m.\u001b[39mwith_traceback(tb)\n\u001b[1;32m    407\u001b[0m \u001b[38;5;28;01melse\u001b[39;00m:\n\u001b[1;32m    408\u001b[0m     \u001b[38;5;28;01mreturn\u001b[39;00m result\n",
      "File \u001b[0;32m~/mambaforge/envs/xgboost_test/lib/python3.10/site-packages/distributed/utils.py:379\u001b[0m, in \u001b[0;36msync.<locals>.f\u001b[0;34m()\u001b[0m\n\u001b[1;32m    377\u001b[0m         future \u001b[38;5;241m=\u001b[39m asyncio\u001b[38;5;241m.\u001b[39mwait_for(future, callback_timeout)\n\u001b[1;32m    378\u001b[0m     future \u001b[38;5;241m=\u001b[39m asyncio\u001b[38;5;241m.\u001b[39mensure_future(future)\n\u001b[0;32m--> 379\u001b[0m     result \u001b[38;5;241m=\u001b[39m \u001b[38;5;28;01myield\u001b[39;00m future\n\u001b[1;32m    380\u001b[0m \u001b[38;5;28;01mexcept\u001b[39;00m \u001b[38;5;167;01mException\u001b[39;00m:\n\u001b[1;32m    381\u001b[0m     error \u001b[38;5;241m=\u001b[39m sys\u001b[38;5;241m.\u001b[39mexc_info()\n",
      "File \u001b[0;32m~/mambaforge/envs/xgboost_test/lib/python3.10/site-packages/tornado/gen.py:762\u001b[0m, in \u001b[0;36mRunner.run\u001b[0;34m(self)\u001b[0m\n\u001b[1;32m    759\u001b[0m exc_info \u001b[38;5;241m=\u001b[39m \u001b[38;5;28;01mNone\u001b[39;00m\n\u001b[1;32m    761\u001b[0m \u001b[38;5;28;01mtry\u001b[39;00m:\n\u001b[0;32m--> 762\u001b[0m     value \u001b[38;5;241m=\u001b[39m \u001b[43mfuture\u001b[49m\u001b[38;5;241;43m.\u001b[39;49m\u001b[43mresult\u001b[49m\u001b[43m(\u001b[49m\u001b[43m)\u001b[49m\n\u001b[1;32m    763\u001b[0m \u001b[38;5;28;01mexcept\u001b[39;00m \u001b[38;5;167;01mException\u001b[39;00m:\n\u001b[1;32m    764\u001b[0m     exc_info \u001b[38;5;241m=\u001b[39m sys\u001b[38;5;241m.\u001b[39mexc_info()\n",
      "File \u001b[0;32m~/mambaforge/envs/xgboost_test/lib/python3.10/site-packages/xgboost/dask.py:993\u001b[0m, in \u001b[0;36m_train_async\u001b[0;34m(client, global_config, dconfig, params, dtrain, num_boost_round, evals, obj, feval, early_stopping_rounds, verbose_eval, xgb_model, callbacks, custom_metric)\u001b[0m\n\u001b[1;32m    990\u001b[0m     evals_name \u001b[38;5;241m=\u001b[39m []\n\u001b[1;32m    991\u001b[0m     evals_id \u001b[38;5;241m=\u001b[39m []\n\u001b[0;32m--> 993\u001b[0m results \u001b[38;5;241m=\u001b[39m \u001b[38;5;28;01mawait\u001b[39;00m map_worker_partitions(\n\u001b[1;32m    994\u001b[0m     client,\n\u001b[1;32m    995\u001b[0m     dispatched_train,\n\u001b[1;32m    996\u001b[0m     \u001b[38;5;66;03m# extra function parameters\u001b[39;00m\n\u001b[1;32m    997\u001b[0m     params,\n\u001b[1;32m    998\u001b[0m     _rabit_args,\n\u001b[1;32m    999\u001b[0m     \u001b[38;5;28mid\u001b[39m(dtrain),\n\u001b[1;32m   1000\u001b[0m     evals_name,\n\u001b[1;32m   1001\u001b[0m     evals_id,\n\u001b[1;32m   1002\u001b[0m     \u001b[38;5;241m*\u001b[39m([dtrain] \u001b[38;5;241m+\u001b[39m evals_data),\n\u001b[1;32m   1003\u001b[0m     \u001b[38;5;66;03m# workers to be used for training\u001b[39;00m\n\u001b[1;32m   1004\u001b[0m     workers\u001b[38;5;241m=\u001b[39mworkers,\n\u001b[1;32m   1005\u001b[0m )\n\u001b[1;32m   1006\u001b[0m \u001b[38;5;28;01mreturn\u001b[39;00m \u001b[38;5;28mlist\u001b[39m(\u001b[38;5;28mfilter\u001b[39m(\u001b[38;5;28;01mlambda\u001b[39;00m ret: ret \u001b[38;5;129;01mis\u001b[39;00m \u001b[38;5;129;01mnot\u001b[39;00m \u001b[38;5;28;01mNone\u001b[39;00m, results))[\u001b[38;5;241m0\u001b[39m]\n",
      "File \u001b[0;32m~/mambaforge/envs/xgboost_test/lib/python3.10/site-packages/xgboost/dask.py:529\u001b[0m, in \u001b[0;36mmap_worker_partitions\u001b[0;34m(client, func, workers, *refs)\u001b[0m\n\u001b[1;32m    525\u001b[0m     fut \u001b[38;5;241m=\u001b[39m client\u001b[38;5;241m.\u001b[39msubmit(\n\u001b[1;32m    526\u001b[0m         func, \u001b[38;5;241m*\u001b[39margs, pure\u001b[38;5;241m=\u001b[39m\u001b[38;5;28;01mFalse\u001b[39;00m, workers\u001b[38;5;241m=\u001b[39m[addr], allow_other_workers\u001b[38;5;241m=\u001b[39m\u001b[38;5;28;01mFalse\u001b[39;00m\n\u001b[1;32m    527\u001b[0m     )\n\u001b[1;32m    528\u001b[0m     futures\u001b[38;5;241m.\u001b[39mappend(fut)\n\u001b[0;32m--> 529\u001b[0m results \u001b[38;5;241m=\u001b[39m \u001b[38;5;28;01mawait\u001b[39;00m client\u001b[38;5;241m.\u001b[39mgather(futures)\n\u001b[1;32m    530\u001b[0m \u001b[38;5;28;01mreturn\u001b[39;00m results\n",
      "File \u001b[0;32m~/mambaforge/envs/xgboost_test/lib/python3.10/site-packages/distributed/client.py:2157\u001b[0m, in \u001b[0;36mClient._gather\u001b[0;34m(self, futures, errors, direct, local_worker)\u001b[0m\n\u001b[1;32m   2155\u001b[0m         exc \u001b[38;5;241m=\u001b[39m CancelledError(key)\n\u001b[1;32m   2156\u001b[0m     \u001b[38;5;28;01melse\u001b[39;00m:\n\u001b[0;32m-> 2157\u001b[0m         \u001b[38;5;28;01mraise\u001b[39;00m exception\u001b[38;5;241m.\u001b[39mwith_traceback(traceback)\n\u001b[1;32m   2158\u001b[0m     \u001b[38;5;28;01mraise\u001b[39;00m exc\n\u001b[1;32m   2159\u001b[0m \u001b[38;5;28;01mif\u001b[39;00m errors \u001b[38;5;241m==\u001b[39m \u001b[38;5;124m\"\u001b[39m\u001b[38;5;124mskip\u001b[39m\u001b[38;5;124m\"\u001b[39m:\n",
      "File \u001b[0;32m~/mambaforge/envs/xgboost_test/lib/python3.10/site-packages/xgboost/dask.py:940\u001b[0m, in \u001b[0;36mdispatched_train\u001b[0;34m()\u001b[0m\n\u001b[1;32m    938\u001b[0m local_history: TrainingCallback\u001b[38;5;241m.\u001b[39mEvalsLog \u001b[38;5;241m=\u001b[39m {}\n\u001b[1;32m    939\u001b[0m \u001b[38;5;28;01mwith\u001b[39;00m CommunicatorContext(\u001b[38;5;241m*\u001b[39m\u001b[38;5;241m*\u001b[39mrabit_args), config\u001b[38;5;241m.\u001b[39mconfig_context(\u001b[38;5;241m*\u001b[39m\u001b[38;5;241m*\u001b[39mglobal_config):\n\u001b[0;32m--> 940\u001b[0m     Xy \u001b[38;5;241m=\u001b[39m _dmatrix_from_list_of_parts(\u001b[38;5;241m*\u001b[39m\u001b[38;5;241m*\u001b[39mtrain_ref, nthread\u001b[38;5;241m=\u001b[39mn_threads)\n\u001b[1;32m    941\u001b[0m     evals: List[Tuple[DMatrix, \u001b[38;5;28mstr\u001b[39m]] \u001b[38;5;241m=\u001b[39m []\n\u001b[1;32m    942\u001b[0m     \u001b[38;5;28;01mfor\u001b[39;00m i, ref \u001b[38;5;129;01min\u001b[39;00m \u001b[38;5;28menumerate\u001b[39m(refs):\n",
      "File \u001b[0;32m~/mambaforge/envs/xgboost_test/lib/python3.10/site-packages/xgboost/dask.py:812\u001b[0m, in \u001b[0;36m_dmatrix_from_list_of_parts\u001b[0;34m()\u001b[0m\n\u001b[1;32m    810\u001b[0m \u001b[38;5;28;01mif\u001b[39;00m is_quantile:\n\u001b[1;32m    811\u001b[0m     \u001b[38;5;28;01mreturn\u001b[39;00m _create_quantile_dmatrix(\u001b[38;5;241m*\u001b[39m\u001b[38;5;241m*\u001b[39mkwargs)\n\u001b[0;32m--> 812\u001b[0m \u001b[38;5;28;01mreturn\u001b[39;00m _create_dmatrix(\u001b[38;5;241m*\u001b[39m\u001b[38;5;241m*\u001b[39mkwargs)\n",
      "File \u001b[0;32m~/mambaforge/envs/xgboost_test/lib/python3.10/site-packages/xgboost/dask.py:797\u001b[0m, in \u001b[0;36m_create_dmatrix\u001b[0;34m()\u001b[0m\n\u001b[1;32m    794\u001b[0m     v \u001b[38;5;241m=\u001b[39m concat_or_none(value)\n\u001b[1;32m    795\u001b[0m     concated_dict[key] \u001b[38;5;241m=\u001b[39m v\n\u001b[0;32m--> 797\u001b[0m dmatrix \u001b[38;5;241m=\u001b[39m DMatrix(\n\u001b[1;32m    798\u001b[0m     \u001b[38;5;241m*\u001b[39m\u001b[38;5;241m*\u001b[39mconcated_dict,\n\u001b[1;32m    799\u001b[0m     missing\u001b[38;5;241m=\u001b[39mmissing,\n\u001b[1;32m    800\u001b[0m     feature_names\u001b[38;5;241m=\u001b[39mfeature_names,\n\u001b[1;32m    801\u001b[0m     feature_types\u001b[38;5;241m=\u001b[39mfeature_types,\n\u001b[1;32m    802\u001b[0m     nthread\u001b[38;5;241m=\u001b[39mnthread,\n\u001b[1;32m    803\u001b[0m     enable_categorical\u001b[38;5;241m=\u001b[39menable_categorical,\n\u001b[1;32m    804\u001b[0m     feature_weights\u001b[38;5;241m=\u001b[39mfeature_weights,\n\u001b[1;32m    805\u001b[0m )\n\u001b[1;32m    806\u001b[0m \u001b[38;5;28;01mreturn\u001b[39;00m dmatrix\n",
      "File \u001b[0;32m~/mambaforge/envs/xgboost_test/lib/python3.10/site-packages/xgboost/core.py:620\u001b[0m, in \u001b[0;36minner_f\u001b[0;34m()\u001b[0m\n\u001b[1;32m    618\u001b[0m \u001b[38;5;28;01mfor\u001b[39;00m k, arg \u001b[38;5;129;01min\u001b[39;00m \u001b[38;5;28mzip\u001b[39m(sig\u001b[38;5;241m.\u001b[39mparameters, args):\n\u001b[1;32m    619\u001b[0m     kwargs[k] \u001b[38;5;241m=\u001b[39m arg\n\u001b[0;32m--> 620\u001b[0m \u001b[38;5;28;01mreturn\u001b[39;00m func(\u001b[38;5;241m*\u001b[39m\u001b[38;5;241m*\u001b[39mkwargs)\n",
      "File \u001b[0;32m~/mambaforge/envs/xgboost_test/lib/python3.10/site-packages/xgboost/core.py:743\u001b[0m, in \u001b[0;36m__init__\u001b[0;34m()\u001b[0m\n\u001b[1;32m    740\u001b[0m     \u001b[38;5;28;01massert\u001b[39;00m \u001b[38;5;28mself\u001b[39m\u001b[38;5;241m.\u001b[39mhandle \u001b[38;5;129;01mis\u001b[39;00m \u001b[38;5;129;01mnot\u001b[39;00m \u001b[38;5;28;01mNone\u001b[39;00m\n\u001b[1;32m    741\u001b[0m     \u001b[38;5;28;01mreturn\u001b[39;00m\n\u001b[0;32m--> 743\u001b[0m handle, feature_names, feature_types \u001b[38;5;241m=\u001b[39m dispatch_data_backend(\n\u001b[1;32m    744\u001b[0m     data,\n\u001b[1;32m    745\u001b[0m     missing\u001b[38;5;241m=\u001b[39m\u001b[38;5;28mself\u001b[39m\u001b[38;5;241m.\u001b[39mmissing,\n\u001b[1;32m    746\u001b[0m     threads\u001b[38;5;241m=\u001b[39m\u001b[38;5;28mself\u001b[39m\u001b[38;5;241m.\u001b[39mnthread,\n\u001b[1;32m    747\u001b[0m     feature_names\u001b[38;5;241m=\u001b[39mfeature_names,\n\u001b[1;32m    748\u001b[0m     feature_types\u001b[38;5;241m=\u001b[39mfeature_types,\n\u001b[1;32m    749\u001b[0m     enable_categorical\u001b[38;5;241m=\u001b[39menable_categorical,\n\u001b[1;32m    750\u001b[0m )\n\u001b[1;32m    751\u001b[0m \u001b[38;5;28;01massert\u001b[39;00m handle \u001b[38;5;129;01mis\u001b[39;00m \u001b[38;5;129;01mnot\u001b[39;00m \u001b[38;5;28;01mNone\u001b[39;00m\n\u001b[1;32m    752\u001b[0m \u001b[38;5;28mself\u001b[39m\u001b[38;5;241m.\u001b[39mhandle \u001b[38;5;241m=\u001b[39m handle\n",
      "File \u001b[0;32m~/mambaforge/envs/xgboost_test/lib/python3.10/site-packages/xgboost/data.py:949\u001b[0m, in \u001b[0;36mdispatch_data_backend\u001b[0;34m()\u001b[0m\n\u001b[1;32m    945\u001b[0m     \u001b[38;5;28;01mreturn\u001b[39;00m _from_scipy_csr(\n\u001b[1;32m    946\u001b[0m         data\u001b[38;5;241m.\u001b[39mtocsr(), missing, threads, feature_names, feature_types\n\u001b[1;32m    947\u001b[0m     )\n\u001b[1;32m    948\u001b[0m \u001b[38;5;28;01mif\u001b[39;00m _is_numpy_array(data):\n\u001b[0;32m--> 949\u001b[0m     \u001b[38;5;28;01mreturn\u001b[39;00m _from_numpy_array(data, missing, threads, feature_names, feature_types)\n\u001b[1;32m    950\u001b[0m \u001b[38;5;28;01mif\u001b[39;00m _is_uri(data):\n\u001b[1;32m    951\u001b[0m     \u001b[38;5;28;01mreturn\u001b[39;00m _from_uri(data, missing, feature_names, feature_types)\n",
      "File \u001b[0;32m~/mambaforge/envs/xgboost_test/lib/python3.10/site-packages/xgboost/data.py:193\u001b[0m, in \u001b[0;36m_from_numpy_array\u001b[0;34m()\u001b[0m\n\u001b[1;32m    189\u001b[0m \u001b[38;5;28;01mif\u001b[39;00m \u001b[38;5;28mlen\u001b[39m(data\u001b[38;5;241m.\u001b[39mshape) \u001b[38;5;241m!=\u001b[39m \u001b[38;5;241m2\u001b[39m:\n\u001b[1;32m    190\u001b[0m     \u001b[38;5;28;01mraise\u001b[39;00m \u001b[38;5;167;01mValueError\u001b[39;00m(\n\u001b[1;32m    191\u001b[0m         \u001b[38;5;124m\"\u001b[39m\u001b[38;5;124mExpecting 2 dimensional numpy.ndarray, got: \u001b[39m\u001b[38;5;124m\"\u001b[39m, data\u001b[38;5;241m.\u001b[39mshape\n\u001b[1;32m    192\u001b[0m     )\n\u001b[0;32m--> 193\u001b[0m data, _ \u001b[38;5;241m=\u001b[39m _ensure_np_dtype(data, data\u001b[38;5;241m.\u001b[39mdtype)\n\u001b[1;32m    194\u001b[0m handle \u001b[38;5;241m=\u001b[39m ctypes\u001b[38;5;241m.\u001b[39mc_void_p()\n\u001b[1;32m    195\u001b[0m args \u001b[38;5;241m=\u001b[39m {\n\u001b[1;32m    196\u001b[0m     \u001b[38;5;124m\"\u001b[39m\u001b[38;5;124mmissing\u001b[39m\u001b[38;5;124m\"\u001b[39m: \u001b[38;5;28mfloat\u001b[39m(missing),\n\u001b[1;32m    197\u001b[0m     \u001b[38;5;124m\"\u001b[39m\u001b[38;5;124mnthread\u001b[39m\u001b[38;5;124m\"\u001b[39m: \u001b[38;5;28mint\u001b[39m(nthread),\n\u001b[1;32m    198\u001b[0m }\n",
      "File \u001b[0;32m~/mambaforge/envs/xgboost_test/lib/python3.10/site-packages/xgboost/data.py:160\u001b[0m, in \u001b[0;36m_ensure_np_dtype\u001b[0;34m()\u001b[0m\n\u001b[1;32m    155\u001b[0m \u001b[38;5;28;01mdef\u001b[39;00m \u001b[38;5;21m_ensure_np_dtype\u001b[39m(\n\u001b[1;32m    156\u001b[0m     data: DataType,\n\u001b[1;32m    157\u001b[0m     dtype: Optional[NumpyDType]\n\u001b[1;32m    158\u001b[0m ) \u001b[38;5;241m-\u001b[39m\u001b[38;5;241m>\u001b[39m Tuple[np\u001b[38;5;241m.\u001b[39mndarray, Optional[NumpyDType]]:\n\u001b[1;32m    159\u001b[0m     \u001b[38;5;28;01mif\u001b[39;00m data\u001b[38;5;241m.\u001b[39mdtype\u001b[38;5;241m.\u001b[39mhasobject \u001b[38;5;129;01mor\u001b[39;00m data\u001b[38;5;241m.\u001b[39mdtype \u001b[38;5;129;01min\u001b[39;00m [np\u001b[38;5;241m.\u001b[39mfloat16, np\u001b[38;5;241m.\u001b[39mbool_]:\n\u001b[0;32m--> 160\u001b[0m         data \u001b[38;5;241m=\u001b[39m data\u001b[38;5;241m.\u001b[39mastype(np\u001b[38;5;241m.\u001b[39mfloat32, copy\u001b[38;5;241m=\u001b[39m\u001b[38;5;28;01mFalse\u001b[39;00m)\n\u001b[1;32m    161\u001b[0m         dtype \u001b[38;5;241m=\u001b[39m np\u001b[38;5;241m.\u001b[39mfloat32\n\u001b[1;32m    162\u001b[0m     \u001b[38;5;28;01mreturn\u001b[39;00m data, dtype\n",
      "\u001b[0;31mValueError\u001b[0m: could not convert string to float: 'Oliver'"
     ]
    }
   ],
   "source": [
    "def load_data():\n",
    "    ddf = timeseries()\n",
    "    ddf.name = ddf.name.astype(\"category\")\n",
    "    ddf = ddf.categorize(columns=\"name\")\n",
    "\n",
    "    X = ddf.drop(columns=\"y\")\n",
    "    y = ddf.y\n",
    "    return X.to_dask_array(lengths=True), y.to_dask_array(lengths=True)\n",
    "    # return X, y\n",
    "\n",
    "train_options = dict(\n",
    "    n_splits = 5 \n",
    ")\n",
    "\n",
    "def cv_estimate(trial_number, clf_params, n_splits=5):\n",
    "    with LocalCluster() as cluster:  # for testing\n",
    "        with Client(cluster) as client:\n",
    "\n",
    "            # Load data here\n",
    "            X, y = load_data()\n",
    "            X = X.persist()\n",
    "            y = y.persist()\n",
    "\n",
    "            val_scores = 0\n",
    "\n",
    "            dtrain = DaskDMatrix(client, X, y, enable_categorical=True)\n",
    "            dtest = DaskDMatrix(client, X, y)#, enable_categorical=True)\n",
    "\n",
    "            model = xgb.dask.train(\n",
    "                client,\n",
    "                {\n",
    "                    'verbosity': 1,\n",
    "                    'tree_method': 'hist', \n",
    "                    \"objective\": \"reg:squarederror\",\n",
    "                    **clf_params\n",
    "                },\n",
    "                dtrain,\n",
    "                num_boost_round=4, \n",
    "                evals=[(dtrain, 'train')],\n",
    "            )\n",
    "            predictions = xgb.dask.predict(client, model, dtest)\n",
    "\n",
    "            actual = dask.compute(y)\n",
    "            predictions = dask.compute(predictions)\n",
    "\n",
    "            score = mean_squared_error(actual, predictions)\n",
    "            val_scores += score\n",
    "    return val_scores / n_splits\n",
    "\n",
    "\n",
    "study = optuna.create_study()\n",
    "study.optimize(objective, n_trials=1)"
   ]
  },
  {
   "cell_type": "markdown",
   "id": "ba600261-672a-447d-a515-2c5cb068637f",
   "metadata": {
    "tags": []
   },
   "source": [
    "cv_estimate(1, {}, data_kwargs)"
   ]
  },
  {
   "cell_type": "code",
   "execution_count": null,
   "id": "f489b1c5-6de0-4275-91a7-7e31b383e42f",
   "metadata": {},
   "outputs": [],
   "source": [
    "ddf.name.to_frame().to_dask_array(lengths=True)"
   ]
  },
  {
   "cell_type": "code",
   "execution_count": 4,
   "id": "f18df3f5-3893-4d9c-a1df-dda2dfb21054",
   "metadata": {},
   "outputs": [],
   "source": [
    "## Pandas Version"
   ]
  },
  {
   "cell_type": "code",
   "execution_count": 5,
   "id": "ca8644ee-2355-4a53-a6bd-ff0b58861315",
   "metadata": {},
   "outputs": [
    {
     "name": "stderr",
     "output_type": "stream",
     "text": [
      "\u001b[32m[I 2022-12-17 07:02:13,081]\u001b[0m A new study created in memory with name: no-name-16ec0b47-4bf1-40a0-8bef-a09ed7f385b8\u001b[0m\n"
     ]
    },
    {
     "name": "stdout",
     "output_type": "stream",
     "text": [
      "[0]\ttrain-rmse:0.57769\n",
      "[1]\ttrain-rmse:0.57753\n"
     ]
    },
    {
     "name": "stderr",
     "output_type": "stream",
     "text": [
      "\u001b[32m[I 2022-12-17 07:02:14,591]\u001b[0m Trial 0 finished with value: 0.06672154306662705 and parameters: {'learning_rate': 0.9739727695409763, 'subsample': 0.15840055436977452, 'max_depth': 6, 'colsample_bytree': 0.47696236144894666, 'min_child_weight': 5}. Best is trial 0 with value: 0.06672154306662705.\u001b[0m\n"
     ]
    }
   ],
   "source": [
    "def load_data():\n",
    "    ddf = timeseries()\n",
    "    ddf.name = ddf.name.astype(\"category\")\n",
    "    ddf = ddf.categorize(columns=\"name\")\n",
    "    X = ddf.drop(columns=\"y\")\n",
    "    y = ddf.y\n",
    "    return X.compute(), y.compute()\n",
    "\n",
    "\n",
    "def cv_estimate(trial_number, clf_params, n_splits=5):\n",
    "\n",
    "    # Load data here\n",
    "    X, y = load_data()\n",
    "    val_scores = 0\n",
    "\n",
    "    dtrain = DMatrix(X, y, enable_categorical=True)\n",
    "    dtest = DMatrix(X, y, enable_categorical=True)\n",
    "\n",
    "    model = xgb.train(\n",
    "        {\n",
    "            'verbosity': 1,\n",
    "            'tree_method': 'hist', \n",
    "            \"objective\": \"reg:squarederror\",\n",
    "            **clf_params\n",
    "        },\n",
    "        dtrain,\n",
    "        num_boost_round=4, \n",
    "        evals=[(dtrain, 'train')],\n",
    "        early_stopping_rounds=1\n",
    "    )\n",
    "\n",
    "    predictions = model.predict(dtest)\n",
    "\n",
    "    score = mean_squared_error(y, predictions)\n",
    "    val_scores += score\n",
    "    return val_scores / n_splits\n",
    "\n",
    "\n",
    "# create a single study\n",
    "study = optuna.create_study()\n",
    "study.optimize(objective, n_trials=1)"
   ]
  },
  {
   "cell_type": "code",
   "execution_count": null,
   "id": "17eaa799-a1c5-4929-8ede-660db51b6916",
   "metadata": {},
   "outputs": [],
   "source": []
  },
  {
   "cell_type": "code",
   "execution_count": 20,
   "id": "7010d9fd-d095-4ecd-b073-d0b3d76497e7",
   "metadata": {},
   "outputs": [],
   "source": [
    "X, y= load_data()"
   ]
  },
  {
   "cell_type": "code",
   "execution_count": 11,
   "id": "3ca1efe5-caf5-463f-9197-869631b08209",
   "metadata": {},
   "outputs": [
    {
     "data": {
      "text/plain": [
       "(                        name    id         x\n",
       " timestamp                                   \n",
       " 2000-01-01 00:00:00    Kevin   962 -0.022696\n",
       " 2000-01-01 00:00:01    Laura  1049  0.455030\n",
       " 2000-01-01 00:00:02    Kevin   986  0.340772\n",
       " 2000-01-01 00:00:03  Michael   977 -0.537244\n",
       " 2000-01-01 00:00:04    Quinn   978  0.512202\n",
       " ...                      ...   ...       ...\n",
       " 2000-01-30 23:59:55  Charlie  1003  0.969770\n",
       " 2000-01-30 23:59:56    Alice  1025 -0.224312\n",
       " 2000-01-30 23:59:57   Oliver  1013 -0.003289\n",
       " 2000-01-30 23:59:58  Charlie  1020  0.729158\n",
       " 2000-01-30 23:59:59   Oliver   988  0.868284\n",
       " \n",
       " [2592000 rows x 3 columns],)"
      ]
     },
     "execution_count": 11,
     "metadata": {},
     "output_type": "execute_result"
    }
   ],
   "source": [
    "dask.compute(X)"
   ]
  },
  {
   "cell_type": "code",
   "execution_count": 12,
   "id": "af7e5c85-026d-4065-b859-fcfbfb6a59c1",
   "metadata": {},
   "outputs": [
    {
     "data": {
      "text/plain": [
       "(timestamp\n",
       " 2000-01-01 00:00:00   -0.979115\n",
       " 2000-01-01 00:00:01   -0.654596\n",
       " 2000-01-01 00:00:02    0.180137\n",
       " 2000-01-01 00:00:03    0.432194\n",
       " 2000-01-01 00:00:04    0.614216\n",
       "                          ...   \n",
       " 2000-01-30 23:59:55   -0.735426\n",
       " 2000-01-30 23:59:56   -0.366024\n",
       " 2000-01-30 23:59:57    0.715517\n",
       " 2000-01-30 23:59:58    0.870851\n",
       " 2000-01-30 23:59:59   -0.693440\n",
       " Freq: S, Name: y, Length: 2592000, dtype: float64,)"
      ]
     },
     "execution_count": 12,
     "metadata": {},
     "output_type": "execute_result"
    }
   ],
   "source": [
    "dask.compute(y)"
   ]
  },
  {
   "cell_type": "code",
   "execution_count": 19,
   "id": "e230a32e-fce7-42b1-8b19-ce9bad6433f1",
   "metadata": {},
   "outputs": [
    {
     "name": "stderr",
     "output_type": "stream",
     "text": [
      "INFO:distributed.scheduler:State start\n",
      "INFO:distributed.scheduler:  Scheduler at:     tcp://127.0.0.1:59017\n",
      "INFO:distributed.scheduler:  dashboard at:            127.0.0.1:8787\n",
      "INFO:distributed.nanny:        Start Nanny at: 'tcp://127.0.0.1:59020'\n",
      "INFO:distributed.nanny:        Start Nanny at: 'tcp://127.0.0.1:59021'\n",
      "INFO:distributed.nanny:        Start Nanny at: 'tcp://127.0.0.1:59022'\n",
      "INFO:distributed.nanny:        Start Nanny at: 'tcp://127.0.0.1:59023'\n",
      "INFO:distributed.scheduler:Register worker <WorkerState 'tcp://127.0.0.1:59029', name: 0, status: init, memory: 0, processing: 0>\n",
      "INFO:distributed.scheduler:Starting worker compute stream, tcp://127.0.0.1:59029\n",
      "INFO:distributed.core:Starting established connection to tcp://127.0.0.1:59034\n",
      "INFO:distributed.scheduler:Register worker <WorkerState 'tcp://127.0.0.1:59028', name: 1, status: init, memory: 0, processing: 0>\n",
      "INFO:distributed.scheduler:Starting worker compute stream, tcp://127.0.0.1:59028\n",
      "INFO:distributed.core:Starting established connection to tcp://127.0.0.1:59035\n",
      "INFO:distributed.scheduler:Register worker <WorkerState 'tcp://127.0.0.1:59031', name: 2, status: init, memory: 0, processing: 0>\n",
      "INFO:distributed.scheduler:Starting worker compute stream, tcp://127.0.0.1:59031\n",
      "INFO:distributed.core:Starting established connection to tcp://127.0.0.1:59039\n",
      "INFO:distributed.scheduler:Register worker <WorkerState 'tcp://127.0.0.1:59030', name: 3, status: init, memory: 0, processing: 0>\n",
      "INFO:distributed.scheduler:Starting worker compute stream, tcp://127.0.0.1:59030\n",
      "INFO:distributed.core:Starting established connection to tcp://127.0.0.1:59038\n",
      "INFO:distributed.scheduler:Receive client connection: Client-193d82c6-7e0c-11ed-9c4a-1a6d039d6526\n",
      "INFO:distributed.core:Starting established connection to tcp://127.0.0.1:59040\n"
     ]
    }
   ],
   "source": [
    "c = Client()"
   ]
  },
  {
   "cell_type": "code",
   "execution_count": 22,
   "id": "47dd6165-759a-4b79-ba48-964a210d94f7",
   "metadata": {},
   "outputs": [],
   "source": [
    "x_ = DaskDMatrix(c, X, enable_categorical=True)"
   ]
  },
  {
   "cell_type": "code",
   "execution_count": 23,
   "id": "90c146b1-5b92-4067-a0c7-5cd6ea05b825",
   "metadata": {
    "collapsed": true,
    "jupyter": {
     "outputs_hidden": true
    },
    "tags": []
   },
   "outputs": [
    {
     "data": {
      "text/plain": [
       "['__await__',\n",
       " '__class__',\n",
       " '__delattr__',\n",
       " '__dict__',\n",
       " '__dir__',\n",
       " '__doc__',\n",
       " '__eq__',\n",
       " '__format__',\n",
       " '__ge__',\n",
       " '__getattribute__',\n",
       " '__gt__',\n",
       " '__hash__',\n",
       " '__init__',\n",
       " '__init_subclass__',\n",
       " '__le__',\n",
       " '__lt__',\n",
       " '__module__',\n",
       " '__ne__',\n",
       " '__new__',\n",
       " '__reduce__',\n",
       " '__reduce_ex__',\n",
       " '__repr__',\n",
       " '__setattr__',\n",
       " '__sizeof__',\n",
       " '__str__',\n",
       " '__subclasshook__',\n",
       " '__weakref__',\n",
       " '_create_fn_args',\n",
       " '_init',\n",
       " '_map_local_data',\n",
       " '_n_cols',\n",
       " 'enable_categorical',\n",
       " 'feature_names',\n",
       " 'feature_types',\n",
       " 'feature_weights',\n",
       " 'is_quantile',\n",
       " 'missing',\n",
       " 'num_col',\n",
       " 'partition_order',\n",
       " 'worker_map']"
      ]
     },
     "execution_count": 23,
     "metadata": {},
     "output_type": "execute_result"
    }
   ],
   "source": [
    "dir(x_)"
   ]
  },
  {
   "cell_type": "code",
   "execution_count": 24,
   "id": "e03fd6c1-ebc1-4886-ba9f-570cb0e27b98",
   "metadata": {},
   "outputs": [
    {
     "data": {
      "text/plain": [
       "(<xgboost.dask.DaskDMatrix at 0x2985cb2b0>,)"
      ]
     },
     "execution_count": 24,
     "metadata": {},
     "output_type": "execute_result"
    }
   ],
   "source": [
    "dask.compute(x_)"
   ]
  },
  {
   "cell_type": "code",
   "execution_count": null,
   "id": "6d2230cf-e529-4f69-8498-049ed9aba880",
   "metadata": {},
   "outputs": [],
   "source": []
  }
 ],
 "metadata": {
  "kernelspec": {
   "display_name": "Python 3 (ipykernel)",
   "language": "python",
   "name": "python3"
  },
  "language_info": {
   "codemirror_mode": {
    "name": "ipython",
    "version": 3
   },
   "file_extension": ".py",
   "mimetype": "text/x-python",
   "name": "python",
   "nbconvert_exporter": "python",
   "pygments_lexer": "ipython3",
   "version": "3.10.8"
  }
 },
 "nbformat": 4,
 "nbformat_minor": 5
}

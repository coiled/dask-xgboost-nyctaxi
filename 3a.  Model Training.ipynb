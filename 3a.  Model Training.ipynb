{
 "cells": [
  {
   "cell_type": "markdown",
   "id": "0652f264-b2c3-43b2-9310-7c00e50e7cdc",
   "metadata": {},
   "source": [
    "# Parallelize HPO of XGBoost with Optuna and Dask"
   ]
  },
  {
   "cell_type": "code",
   "execution_count": 1,
   "id": "7179b003-e075-4be5-bde1-4ce90b7d726d",
   "metadata": {},
   "outputs": [],
   "source": [
    "FILEPATH=\"s3://prefect-dask-examples/nyc-uber-lyft/feature_table_fixed_upper_bound.parquet\"\n",
    "WORKER_INSTANCE_TYPE = \"m6i.4xlarge\"\n",
    "# CLUSTERS = {}    # Dict for shutting down clusters when we're done.\n",
    "# NUM_THREADS = 4  # Number of threads to use\n",
    "# NUM_FUTURES = 4  # Number of Futures to create"
   ]
  },
  {
   "cell_type": "code",
   "execution_count": 2,
   "id": "3b929987-5089-4c13-be35-c1812d65fbec",
   "metadata": {},
   "outputs": [],
   "source": [
    "import datetime\n",
    "import joblib\n",
    "\n",
    "from distributed import Client, wait\n",
    "import dask.dataframe as dd\n",
    "import coiled\n",
    "\n",
    "import dask\n",
    "import numpy as np\n",
    "import pandas as pd\n",
    "import optuna\n",
    "from dask_ml.metrics import mean_squared_error as lazy_mse\n",
    "import xgboost as xgb\n",
    "from xgboost.dask import DaskDMatrix\n",
    "\n",
    "import dask.dataframe as dd\n",
    "from xgboost.core import XGBoostError"
   ]
  },
  {
   "cell_type": "code",
   "execution_count": 3,
   "id": "780815b1-fa82-43c1-93c0-572f0f6182c1",
   "metadata": {},
   "outputs": [
    {
     "name": "stdout",
     "output_type": "stream",
     "text": [
      "coiled: 0.2.59\n",
      "dask: 2022.12.1\n",
      "dask.distributed: 2022.12.1\n",
      "optuna: 3.1.0b0\n",
      "xgboost: 1.7.3\n",
      "coiled: 0.2.59\n"
     ]
    }
   ],
   "source": [
    "print(\"coiled:\", coiled.__version__)\n",
    "print(\"dask:\", dask.__version__)\n",
    "print(\"dask.distributed:\", dask.distributed.__version__)\n",
    "print(\"optuna:\", optuna.__version__)\n",
    "print(\"xgboost:\", xgb.__version__)\n",
    "print(\"coiled:\", coiled.__version__)"
   ]
  },
  {
   "cell_type": "markdown",
   "id": "1dd461c3-e551-420a-a3e1-1ca2515bb613",
   "metadata": {},
   "source": [
    "### Train Model"
   ]
  },
  {
   "cell_type": "code",
   "execution_count": 4,
   "id": "ccf70461-6ab3-429b-a0a1-29f6b162894e",
   "metadata": {},
   "outputs": [],
   "source": [
    "# Here we subset data for cross-validation\n",
    "def _make_cv(df, num_folds):\n",
    "    frac = [1 / num_folds]*num_folds\n",
    "    splits = df.random_split(frac, shuffle=True)\n",
    "    for i in range(num_folds):\n",
    "        train = [splits[j] for j in range(num_folds) if j != i]\n",
    "        test = splits[i]\n",
    "        yield train, test"
   ]
  },
  {
   "cell_type": "code",
   "execution_count": 5,
   "id": "132568f4-ac1b-43ff-85fd-e5a5324a38a0",
   "metadata": {
    "scrolled": true,
    "tags": []
   },
   "outputs": [],
   "source": [
    "def train_model(trial_number, study_params, n_splits=5):\n",
    "\n",
    "    cluster = coiled.Cluster(\n",
    "        worker_vm_types=[WORKER_INSTANCE_TYPE],\n",
    "        scheduler_vm_types=[\"m6i.2xlarge\"],\n",
    "        package_sync=True, # copy local packages\n",
    "        shutdown_on_close=True,\n",
    "        show_widget=False,\n",
    "        n_workers=10,\n",
    "        use_best_zone=True,\n",
    "        account=\"dask-engineering\",\n",
    "        backend_options={\"region\": \"us-east-2\", \"spot\": True},\n",
    "        scheduler_options={\"idle_timeout\": \"10 minutes\"},\n",
    "        )\n",
    "\n",
    "    print(\"starting run\")\n",
    "    with Client(cluster) as client:\n",
    "        # Load and pre-process the DataFrame\n",
    "        ddf = dd.read_parquet(FILEPATH)\n",
    "        categorical_vars = ddf.select_dtypes(include=\"category\").columns.tolist()\n",
    "        ddf = ddf.categorize(columns=categorical_vars)\n",
    "        float_cols = ddf.select_dtypes(include=\"float\").columns.tolist()\n",
    "        ddf[float_cols] = ddf[float_cols].astype(np.float32).persist()  # Under the hood, XGBoost converts floats to `float32`\n",
    "\n",
    "        val_scores = []\n",
    "\n",
    "        for i, (train, test) in enumerate(_make_cv(ddf, n_splits)):\n",
    "            print(f\"Starting training run {i}\")\n",
    "            start = datetime.datetime.now()\n",
    "            train = dd.concat(train)\n",
    "\n",
    "            try:\n",
    "                assert all(train[c].cat.known for c in categorical_vars)\n",
    "                assert all(test[c].cat.known for c in categorical_vars)\n",
    "            except Exception as e:\n",
    "                cluster.shutdown()\n",
    "                raise RuntimeError(f\"Categorical_vars are not known\")\n",
    "\n",
    "            y_train = train['trip_time'].to_frame().persist()\n",
    "            X_train = train.drop(columns=['trip_time']).persist()\n",
    "\n",
    "            # Make the training data\n",
    "            y_test = test['trip_time'].to_frame().persist()\n",
    "            X_test = test.drop(columns='trip_time').persist()\n",
    "\n",
    "            try:\n",
    "                print(\"Make dtrain\")\n",
    "                dtrain = DaskDMatrix(client, X_train, y_train, enable_categorical=True)\n",
    "\n",
    "                print(\"Training model\")\n",
    "                model = xgb.dask.train(\n",
    "                    client,\n",
    "                    {\n",
    "                        'verbosity': 1,\n",
    "                        'tree_method': 'hist', \n",
    "                        \"objective\": \"reg:squarederror\",\n",
    "                        **study_params\n",
    "                    },\n",
    "                    dtrain,\n",
    "                    num_boost_round=4,\n",
    "                    evals=[(dtrain, \"train\")],\n",
    "                )\n",
    "\n",
    "                print(\"Make predictions\")\n",
    "                # It's faster to run the prediction directly on X_test DataFrame\n",
    "                # We also need to confirm that predictions on dtest when it\n",
    "                # contains categoricals performs as expected\n",
    "                predictions = xgb.dask.predict(client, model, X_test)\n",
    "\n",
    "                print(\"Score the model\")\n",
    "                score = lazy_mse(y_test.to_dask_array(lengths=True).reshape(-1,), \n",
    "                                 predictions.to_dask_array(lengths=True), squared=False,\n",
    "                                )\n",
    "                wait(score)  # Explicitly waiting avoids https://github.com/dask/distributed/issues/4612\n",
    "                print(f\"rmse_score:  {score}\")\n",
    "                val_scores.append(score)\n",
    "                print(f\"val_scores:  {val_scores}\")\n",
    "                print(f\"Finished training run in:  {datetime.datetime.now() - start} seconds\")\n",
    "\n",
    "            except XGBoostError as e:\n",
    "                print(f\"Trial {i} failed with {e}\")\n",
    "\n",
    "        return np.mean(val_scores)"
   ]
  },
  {
   "cell_type": "code",
   "execution_count": 6,
   "id": "0250d23a-4d6c-4758-9200-f47a0a614bc1",
   "metadata": {},
   "outputs": [],
   "source": [
    "def objective(trial):\n",
    "    params = {\n",
    "        'n_estimators': trial.suggest_int('n_estimators', 50, 125),\n",
    "        'learning_rate': trial.suggest_float('learning_rate', 0.1, 0.9),\n",
    "        'subsample': trial.suggest_float('subsample', 0.1, 1),\n",
    "        'max_depth': trial.suggest_int('max_depth', 3, 9),\n",
    "        'colsample_bytree': trial.suggest_float('colsample_bytree', 0, 1),\n",
    "        'min_child_weight': trial.suggest_int('min_child_weight', 1, 3),\n",
    "        'colsample_bynode': trial.suggest_float('colsample_bynode', 0, 1),\n",
    "        'colsample_bylevel': trial.suggest_float('colsample_bylevel', 0, 1),\n",
    "        'reg_alpha': trial.suggest_float('reg_alpha', 0, 0.5),\n",
    "        'reg_lambda': trial.suggest_float('reg_lambda', 0, 1),\n",
    "    }\n",
    "    rmse = train_model(\n",
    "        trial_number=trial.number,\n",
    "        study_params=params, \n",
    "        n_splits=5,\n",
    "    )\n",
    "    print(f\"final mse:  {rmse}\")\n",
    "    return rmse"
   ]
  },
  {
   "cell_type": "code",
   "execution_count": null,
   "id": "f8f3b355-7e76-423f-8b4c-8e35eb1eb022",
   "metadata": {
    "scrolled": true,
    "tags": []
   },
   "outputs": [
    {
     "name": "stderr",
     "output_type": "stream",
     "text": [
      "\u001b[32m[I 2023-01-09 15:06:15,846]\u001b[0m A new study created in memory with name: nyc-travel-time-model-m6i4xlarge\u001b[0m\n"
     ]
    },
    {
     "name": "stdout",
     "output_type": "stream",
     "text": [
      "starting run\n",
      "Starting training run 0\n",
      "Make dtrain\n",
      "Training model\n",
      "Make predictions\n",
      "Score the model\n",
      "rmse_score:  444.9999263332771\n",
      "val_scores:  [444.9999263332771]\n",
      "Finished training run in:  0:01:32.673216 seconds\n",
      "Starting training run 1\n",
      "Make dtrain\n",
      "Training model\n",
      "Make predictions\n",
      "Score the model\n",
      "rmse_score:  493.27415542637414\n",
      "val_scores:  [444.9999263332771, 493.27415542637414]\n",
      "Finished training run in:  0:01:25.247185 seconds\n",
      "Starting training run 2\n",
      "Make dtrain\n",
      "Training model\n",
      "Make predictions\n",
      "Score the model\n",
      "rmse_score:  478.4477107284105\n",
      "val_scores:  [444.9999263332771, 493.27415542637414, 478.4477107284105]\n",
      "Finished training run in:  0:01:30.373519 seconds\n",
      "Starting training run 3\n",
      "Make dtrain\n",
      "Training model\n",
      "Make predictions\n",
      "Score the model\n",
      "rmse_score:  445.3277982614692\n",
      "val_scores:  [444.9999263332771, 493.27415542637414, 478.4477107284105, 445.3277982614692]\n",
      "Finished training run in:  0:01:28.547654 seconds\n",
      "Starting training run 4\n",
      "Make dtrain\n",
      "Training model\n",
      "Make predictions\n",
      "Score the model\n",
      "rmse_score:  423.51798810932996\n",
      "val_scores:  [444.9999263332771, 493.27415542637414, 478.4477107284105, 445.3277982614692, 423.51798810932996]\n",
      "Finished training run in:  0:01:28.663290 seconds\n"
     ]
    },
    {
     "name": "stderr",
     "output_type": "stream",
     "text": [
      "\u001b[32m[I 2023-01-09 15:15:08,397]\u001b[0m Trial 0 finished with value: 457.1135157717722 and parameters: {'n_estimators': 63, 'learning_rate': 0.8258905741822139, 'subsample': 0.10166860006551871, 'max_depth': 7, 'colsample_bytree': 0.80904052803992, 'min_child_weight': 3, 'colsample_bynode': 0.1942027179183018, 'colsample_bylevel': 0.48159179640514105, 'reg_alpha': 0.023606899234248635, 'reg_lambda': 0.17415625715242555}. Best is trial 0 with value: 457.1135157717722.\u001b[0m\n"
     ]
    },
    {
     "name": "stdout",
     "output_type": "stream",
     "text": [
      "final mse:  457.1135157717722\n",
      "starting run\n",
      "Starting training run 0\n",
      "Make dtrain\n",
      "Training model\n",
      "Make predictions\n",
      "Score the model\n",
      "rmse_score:  631.8728207323597\n",
      "val_scores:  [631.8728207323597]\n",
      "Finished training run in:  0:01:21.469385 seconds\n",
      "Starting training run 1\n",
      "Make dtrain\n",
      "Training model\n",
      "Make predictions\n",
      "Score the model\n",
      "rmse_score:  631.791727744905\n",
      "val_scores:  [631.8728207323597, 631.791727744905]\n",
      "Finished training run in:  0:01:24.012921 seconds\n",
      "Starting training run 2\n",
      "Make dtrain\n",
      "Training model\n",
      "Make predictions\n",
      "Score the model\n",
      "rmse_score:  631.7969643619515\n",
      "val_scores:  [631.8728207323597, 631.791727744905, 631.7969643619515]\n",
      "Finished training run in:  0:01:25.089265 seconds\n",
      "Starting training run 3\n",
      "Make dtrain\n",
      "Training model\n",
      "Make predictions\n",
      "Score the model\n",
      "rmse_score:  631.7980520375294\n",
      "val_scores:  [631.8728207323597, 631.791727744905, 631.7969643619515, 631.7980520375294]\n",
      "Finished training run in:  0:01:22.687379 seconds\n",
      "Starting training run 4\n",
      "Make dtrain\n",
      "Training model\n",
      "Make predictions\n",
      "Score the model\n"
     ]
    }
   ],
   "source": [
    "# Create a single study and run 5 trials\n",
    "\n",
    "study = optuna.create_study(study_name=\"nyc-travel-time-model-m6i4xlarge\")    \n",
    "study.optimize(objective, n_trials=5)"
   ]
  },
  {
   "cell_type": "code",
   "execution_count": 9,
   "id": "2f913de4-9988-49d9-9b23-f5a90ecb9973",
   "metadata": {
    "scrolled": true,
    "tags": []
   },
   "outputs": [
    {
     "data": {
      "text/plain": [
       "4"
      ]
     },
     "execution_count": 9,
     "metadata": {},
     "output_type": "execute_result"
    }
   ],
   "source": [
    "len(study.trials)"
   ]
  },
  {
   "cell_type": "code",
   "execution_count": 10,
   "id": "ede5a2bf-c88c-4266-9738-73cb6fcb9d8f",
   "metadata": {},
   "outputs": [
    {
     "data": {
      "text/plain": [
       "{'n_estimators': 67,\n",
       " 'learning_rate': 0.31678535703204,\n",
       " 'subsample': 0.30019617918399855,\n",
       " 'max_depth': 5,\n",
       " 'colsample_bytree': 0.8257536161869092,\n",
       " 'min_child_weight': 1,\n",
       " 'colsample_bynode': 0.4380011259355694,\n",
       " 'colsample_bylevel': 0.09039924240088493,\n",
       " 'reg_alpha': 0.2606665648782066,\n",
       " 'reg_lambda': 0.33684573169250664}"
      ]
     },
     "execution_count": 10,
     "metadata": {},
     "output_type": "execute_result"
    }
   ],
   "source": [
    "study.best_params"
   ]
  },
  {
   "cell_type": "code",
   "execution_count": 11,
   "id": "22a6da34-582c-4e2d-9b58-89a5369d7536",
   "metadata": {},
   "outputs": [
    {
     "data": {
      "text/plain": [
       "510.8644979342265"
      ]
     },
     "execution_count": 11,
     "metadata": {},
     "output_type": "execute_result"
    }
   ],
   "source": [
    "study.best_value"
   ]
  },
  {
   "cell_type": "code",
   "execution_count": 12,
   "id": "e4928342-4749-4e29-bb65-ccabd8190a78",
   "metadata": {},
   "outputs": [
    {
     "data": {
      "text/plain": [
       "FrozenTrial(number=2, state=TrialState.COMPLETE, values=[510.8644979342265], datetime_start=datetime.datetime(2023, 1, 9, 14, 43, 41, 27093), datetime_complete=datetime.datetime(2023, 1, 9, 14, 53, 57, 916054), params={'n_estimators': 67, 'learning_rate': 0.31678535703204, 'subsample': 0.30019617918399855, 'max_depth': 5, 'colsample_bytree': 0.8257536161869092, 'min_child_weight': 1, 'colsample_bynode': 0.4380011259355694, 'colsample_bylevel': 0.09039924240088493, 'reg_alpha': 0.2606665648782066, 'reg_lambda': 0.33684573169250664}, user_attrs={}, system_attrs={}, intermediate_values={}, distributions={'n_estimators': IntDistribution(high=125, log=False, low=50, step=1), 'learning_rate': FloatDistribution(high=0.9, log=False, low=0.1, step=None), 'subsample': FloatDistribution(high=1.0, log=False, low=0.1, step=None), 'max_depth': IntDistribution(high=9, log=False, low=3, step=1), 'colsample_bytree': FloatDistribution(high=1.0, log=False, low=0.0, step=None), 'min_child_weight': IntDistribution(high=3, log=False, low=1, step=1), 'colsample_bynode': FloatDistribution(high=1.0, log=False, low=0.0, step=None), 'colsample_bylevel': FloatDistribution(high=1.0, log=False, low=0.0, step=None), 'reg_alpha': FloatDistribution(high=0.5, log=False, low=0.0, step=None), 'reg_lambda': FloatDistribution(high=1.0, log=False, low=0.0, step=None)}, trial_id=2, value=None)"
      ]
     },
     "execution_count": 12,
     "metadata": {},
     "output_type": "execute_result"
    }
   ],
   "source": [
    "study.best_trial"
   ]
  },
  {
   "cell_type": "code",
   "execution_count": null,
   "id": "3c4c41f7-afa1-44a7-ab36-d1ed15a4bd48",
   "metadata": {
    "scrolled": true,
    "tags": []
   },
   "outputs": [],
   "source": [
    "# Uncomment this if you want to save the results of your study to examine later.\n",
    "\n",
    "#joblib.dump(study, \"data/study_m6i4xlarge.pkl\")"
   ]
  },
  {
   "cell_type": "code",
   "execution_count": null,
   "id": "f65e308a-9569-40b1-9557-c6e16234be43",
   "metadata": {},
   "outputs": [],
   "source": []
  }
 ],
 "metadata": {
  "kernelspec": {
   "display_name": "Python 3 (ipykernel)",
   "language": "python",
   "name": "python3"
  },
  "language_info": {
   "codemirror_mode": {
    "name": "ipython",
    "version": 3
   },
   "file_extension": ".py",
   "mimetype": "text/x-python",
   "name": "python",
   "nbconvert_exporter": "python",
   "pygments_lexer": "ipython3",
   "version": "3.10.8"
  }
 },
 "nbformat": 4,
 "nbformat_minor": 5
}
